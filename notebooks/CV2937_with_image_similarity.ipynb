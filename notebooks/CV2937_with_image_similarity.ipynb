{
  "cells": [
    {
      "cell_type": "code",
      "execution_count": null,
      "metadata": {
        "id": "Ej-kIjP5d_zw"
      },
      "outputs": [],
      "source": [
        "# %pip install -U lightgbm==3.3.2"
      ]
    },
    {
      "cell_type": "code",
      "execution_count": 1,
      "metadata": {
        "colab": {
          "base_uri": "https://localhost:8080/"
        },
        "id": "gboISq82XUN1",
        "outputId": "216d88a1-9fcd-42d6-fd90-11d7a81dd697"
      },
      "outputs": [
        {
          "output_type": "stream",
          "name": "stdout",
          "text": [
            "Drive already mounted at /content/gdrive; to attempt to forcibly remount, call drive.mount(\"/content/gdrive\", force_remount=True).\n"
          ]
        }
      ],
      "source": [
        "import sys\n",
        "from google.colab import drive\n",
        "drive.mount('/content/gdrive')\n",
        "sys.path.append('/content/gdrive/MyDrive/H-M-Fashion-RecSys')\n",
        "import os\n",
        "os.chdir('/content/gdrive/MyDrive/H-M-Fashion-RecSys/notebooks')\n",
        "\n",
        "import pandas as pd\n",
        "from pandas.api.types import CategoricalDtype\n",
        "import numpy as np\n",
        "import seaborn as sns\n",
        "import matplotlib.pyplot as plt\n",
        "import lightgbm as lgb\n",
        "\n",
        "import pickle\n",
        "from tqdm import tqdm\n",
        "import gc\n",
        "from pathlib import Path"
      ]
    },
    {
      "cell_type": "code",
      "execution_count": 2,
      "metadata": {
        "id": "F6WO2VtEXefj"
      },
      "outputs": [],
      "source": [
        "import warnings\n",
        "import sys\n",
        "from IPython.core.interactiveshell import InteractiveShell\n",
        "\n",
        "warnings.filterwarnings(\"ignore\")\n",
        "sys.path.append(\"../\") # path to the `src`` folder\n",
        "InteractiveShell.ast_node_interactivity = \"all\"\n",
        "tqdm.pandas()"
      ]
    },
    {
      "cell_type": "code",
      "execution_count": 3,
      "metadata": {
        "colab": {
          "base_uri": "https://localhost:8080/"
        },
        "id": "lYx_9MR8jU_H",
        "outputId": "ee93fb51-e956-43a9-a209-9084fd1ebec5"
      },
      "outputs": [
        {
          "output_type": "stream",
          "name": "stdout",
          "text": [
            "Requirement already satisfied: implicit in /usr/local/lib/python3.7/dist-packages (0.5.2)\n",
            "Requirement already satisfied: numpy in /usr/local/lib/python3.7/dist-packages (from implicit) (1.21.6)\n",
            "Requirement already satisfied: tqdm>=4.27 in /usr/local/lib/python3.7/dist-packages (from implicit) (4.64.0)\n",
            "Requirement already satisfied: scipy>=0.16 in /usr/local/lib/python3.7/dist-packages (from implicit) (1.4.1)\n"
          ]
        }
      ],
      "source": [
        "from src.data import DataHelper\n",
        "from src.data.metrics import map_at_k, hr_at_k, recall_at_k\n",
        "!pip install implicit\n",
        "from src.retrieval.rules import (\n",
        "    OrderHistory,\n",
        "    OrderHistoryDecay,\n",
        "    ItemPair,\n",
        "\n",
        "    UserGroupTimeHistory,\n",
        "    UserGroupSaleTrend,\n",
        "\n",
        "    TimeHistory,\n",
        "    TimeHistoryDecay,\n",
        "    SaleTrend,\n",
        "\n",
        "    OutOfStock,\n",
        ")\n",
        "from src.retrieval.collector import RuleCollector\n",
        "\n",
        "from src.features import cum_sale, week_sale, repurchase_ratio, purchased_before, popularity\n",
        "\n",
        "from src.utils import calc_valid_date, merge_week_data, reduce_mem_usage\n"
      ]
    },
    {
      "cell_type": "code",
      "execution_count": 4,
      "metadata": {
        "id": "Z-CFUw31jU_I"
      },
      "outputs": [],
      "source": [
        "data_dir = Path(\"../src/data/\")"
      ]
    },
    {
      "cell_type": "code",
      "execution_count": 5,
      "metadata": {
        "id": "dSViCvT0jU_I"
      },
      "outputs": [],
      "source": [
        "TRAIN_WEEK_NUM = 4\n",
        "WEEK_NUM = TRAIN_WEEK_NUM + 2\n",
        "VERSION_NAME = \"pivot\"# \"v1\""
      ]
    },
    {
      "cell_type": "code",
      "execution_count": 6,
      "metadata": {
        "id": "1xrCLLx_jU_J"
      },
      "outputs": [],
      "source": [
        "import os\n",
        "if not os.path.exists(data_dir/\"interim\"/VERSION_NAME):\n",
        "    os.mkdir(data_dir/\"interim\"/VERSION_NAME)"
      ]
    },
    {
      "cell_type": "code",
      "execution_count": 7,
      "metadata": {
        "id": "sqmmz2UQjU_K"
      },
      "outputs": [],
      "source": [
        "TEST = False # * Set as `False` when do local experiments to save time"
      ]
    },
    {
      "cell_type": "markdown",
      "metadata": {
        "id": "c_rKhR7wjU_K"
      },
      "source": [
        "Pepare data: encoding ids and preprocessing"
      ]
    },
    {
      "cell_type": "code",
      "execution_count": 8,
      "metadata": {
        "id": "2BPv2lcWGGQJ"
      },
      "outputs": [],
      "source": [
        "dh = DataHelper(data_dir)"
      ]
    },
    {
      "cell_type": "code",
      "execution_count": 9,
      "metadata": {
        "id": "V2U87tpPjU_N"
      },
      "outputs": [],
      "source": [
        "#data = dh.preprocess_data(save=True, name=\"encoded_full\") # * run only once, processed data will be saved"
      ]
    },
    {
      "cell_type": "code",
      "execution_count": 10,
      "metadata": {
        "id": "i3ngtb7NUGbH"
      },
      "outputs": [],
      "source": [
        "data = dh.load_data(name=\"encoded_full\")"
      ]
    },
    {
      "cell_type": "code",
      "execution_count": 11,
      "metadata": {
        "id": "dTP6SeS3jU_N"
      },
      "outputs": [],
      "source": [
        "uid2idx = pickle.load(open(data_dir/\"index_id_map/user_id2index.pkl\", \"rb\"))\n",
        "submission = pd.read_csv(data_dir/\"raw\"/'sample_submission.csv')\n",
        "submission['customer_id'] = submission['customer_id'].map(uid2idx)"
      ]
    },
    {
      "cell_type": "markdown",
      "metadata": {
        "id": "LX4M190s4pxo"
      },
      "source": [
        "## Retrieval\n"
      ]
    },
    {
      "cell_type": "markdown",
      "metadata": {
        "id": "gOOlv9UTjU_O"
      },
      "source": [
        "Generate candidates for each week"
      ]
    },
    {
      "cell_type": "code",
      "execution_count": null,
      "metadata": {
        "id": "gSHImr5SjU_O"
      },
      "outputs": [],
      "source": [
        "listBin = [-1, 19, 29, 39, 49, 59, 69, 119]\n",
        "data['user']['age_bins'] = pd.cut(data['user']['age'], listBin)"
      ]
    },
    {
      "cell_type": "code",
      "execution_count": null,
      "metadata": {
        "id": "mJWzmIjKjU_O"
      },
      "outputs": [],
      "source": [
        "data['user']['age_bucket'] = pd.cut(data['user']['age'].fillna(22), [15, 24, 35, 50, 100], labels=[0, 1, 2, 3])"
      ]
    },
    {
      "cell_type": "code",
      "execution_count": null,
      "metadata": {
        "colab": {
          "base_uri": "https://localhost:8080/"
        },
        "id": "3RmL3cpzjU_P",
        "outputId": "bb173b38-1c21-4546-cf6b-31bd5466e0d2",
        "scrolled": true
      },
      "outputs": [
        {
          "name": "stdout",
          "output_type": "stream",
          "text": [
            "Week 1: [2020-09-16, 2020-09-23)\n"
          ]
        },
        {
          "name": "stderr",
          "output_type": "stream",
          "text": [
            "Retrieve items by rules:   6%|▋         | 1/16 [00:19<04:55, 19.68s/it]"
          ]
        },
        {
          "name": "stdout",
          "output_type": "stream",
          "text": [
            "Positive rate: 0.03038\n"
          ]
        },
        {
          "name": "stderr",
          "output_type": "stream",
          "text": [
            "\rRetrieve items by rules:  12%|█▎        | 2/16 [00:39<04:35, 19.65s/it]"
          ]
        },
        {
          "name": "stdout",
          "output_type": "stream",
          "text": [
            "Positive rate: 0.02859\n"
          ]
        },
        {
          "name": "stderr",
          "output_type": "stream",
          "text": [
            "\rRetrieve items by rules:  19%|█▉        | 3/16 [01:29<07:17, 33.69s/it]"
          ]
        },
        {
          "name": "stdout",
          "output_type": "stream",
          "text": [
            "Positive rate: 0.01413\n",
            "Positive rate: 0.01295\n"
          ]
        },
        {
          "name": "stderr",
          "output_type": "stream",
          "text": [
            "\rRetrieve items by rules:  25%|██▌       | 4/16 [02:22<08:12, 41.04s/it]"
          ]
        },
        {
          "name": "stdout",
          "output_type": "stream",
          "text": [
            "Positive rate: 0.01519\n"
          ]
        },
        {
          "name": "stderr",
          "output_type": "stream",
          "text": [
            "\rRetrieve items by rules:  31%|███▏      | 5/16 [02:39<05:57, 32.54s/it]"
          ]
        },
        {
          "name": "stdout",
          "output_type": "stream",
          "text": [
            "Positive rate: 0.01472\n"
          ]
        },
        {
          "name": "stderr",
          "output_type": "stream",
          "text": [
            "\rRetrieve items by rules:  38%|███▊      | 6/16 [02:58<04:40, 28.01s/it]"
          ]
        },
        {
          "name": "stdout",
          "output_type": "stream",
          "text": [
            "Positive rate: 0.00908\n"
          ]
        },
        {
          "name": "stderr",
          "output_type": "stream",
          "text": [
            "\rRetrieve items by rules:  44%|████▍     | 7/16 [03:29<04:21, 29.05s/it]"
          ]
        },
        {
          "name": "stdout",
          "output_type": "stream",
          "text": [
            "Positive rate: 0.00853\n"
          ]
        },
        {
          "name": "stderr",
          "output_type": "stream",
          "text": [
            "\rRetrieve items by rules:  50%|█████     | 8/16 [04:11<04:23, 32.95s/it]"
          ]
        },
        {
          "name": "stdout",
          "output_type": "stream",
          "text": [
            "TOP35.0 Positive rate: 0.00501\n"
          ]
        },
        {
          "name": "stderr",
          "output_type": "stream",
          "text": [
            "\rRetrieve items by rules:  56%|█████▋    | 9/16 [04:17<02:51, 24.57s/it]"
          ]
        },
        {
          "name": "stdout",
          "output_type": "stream",
          "text": [
            "TOP38.5 Positive rate: 0.00508\n"
          ]
        },
        {
          "name": "stderr",
          "output_type": "stream",
          "text": [
            "\rRetrieve items by rules:  62%|██████▎   | 10/16 [04:22<01:52, 18.68s/it]"
          ]
        },
        {
          "name": "stdout",
          "output_type": "stream",
          "text": [
            "TOP3.0 Positive rate: 0.00542\n"
          ]
        },
        {
          "name": "stderr",
          "output_type": "stream",
          "text": [
            "\rRetrieve items by rules:  69%|██████▉   | 11/16 [04:35<01:23, 16.73s/it]"
          ]
        },
        {
          "name": "stdout",
          "output_type": "stream",
          "text": [
            "TOP25.0 Positive rate: 0.00503\n"
          ]
        },
        {
          "name": "stderr",
          "output_type": "stream",
          "text": [
            "\rRetrieve items by rules:  75%|███████▌  | 12/16 [04:40<00:53, 13.26s/it]"
          ]
        },
        {
          "name": "stdout",
          "output_type": "stream",
          "text": [
            "TOP30.0 Positive rate: 0.00505\n"
          ]
        },
        {
          "name": "stderr",
          "output_type": "stream",
          "text": [
            "\rRetrieve items by rules:  81%|████████▏ | 13/16 [04:45<00:32, 10.78s/it]"
          ]
        },
        {
          "name": "stdout",
          "output_type": "stream",
          "text": [
            "TOP31.0 Positive rate: 0.00503\n"
          ]
        },
        {
          "name": "stderr",
          "output_type": "stream",
          "text": [
            "\rRetrieve items by rules:  88%|████████▊ | 14/16 [05:15<00:33, 16.65s/it]"
          ]
        },
        {
          "name": "stdout",
          "output_type": "stream",
          "text": [
            "TOP24.0 Positive rate: 0.00506\n"
          ]
        },
        {
          "name": "stderr",
          "output_type": "stream",
          "text": [
            "\rRetrieve items by rules:  94%|█████████▍| 15/16 [05:47<00:21, 21.07s/it]"
          ]
        },
        {
          "name": "stdout",
          "output_type": "stream",
          "text": [
            "TOP4.0 Positive rate: 0.00568\n"
          ]
        },
        {
          "name": "stderr",
          "output_type": "stream",
          "text": [
            "Retrieve items by rules: 100%|██████████| 16/16 [05:58<00:00, 22.43s/it]\n"
          ]
        },
        {
          "name": "stdout",
          "output_type": "stream",
          "text": [
            "Week 2: [2020-09-09, 2020-09-16)\n"
          ]
        },
        {
          "name": "stderr",
          "output_type": "stream",
          "text": [
            "Retrieve items by rules:   6%|▋         | 1/16 [00:20<05:02, 20.15s/it]"
          ]
        },
        {
          "name": "stdout",
          "output_type": "stream",
          "text": [
            "Positive rate: 0.03008\n"
          ]
        },
        {
          "name": "stderr",
          "output_type": "stream",
          "text": [
            "\rRetrieve items by rules:  12%|█▎        | 2/16 [00:40<04:46, 20.49s/it]"
          ]
        },
        {
          "name": "stdout",
          "output_type": "stream",
          "text": [
            "Positive rate: 0.02825\n"
          ]
        },
        {
          "name": "stderr",
          "output_type": "stream",
          "text": [
            "\rRetrieve items by rules:  19%|█▉        | 3/16 [01:36<07:56, 36.65s/it]"
          ]
        },
        {
          "name": "stdout",
          "output_type": "stream",
          "text": [
            "Positive rate: 0.01354\n"
          ]
        },
        {
          "name": "stderr",
          "output_type": "stream",
          "text": [
            "\rRetrieve items by rules:  25%|██▌       | 4/16 [02:30<08:41, 43.45s/it]"
          ]
        },
        {
          "name": "stdout",
          "output_type": "stream",
          "text": [
            "Positive rate: 0.01244\n",
            "Positive rate: 0.01435\n"
          ]
        },
        {
          "name": "stderr",
          "output_type": "stream",
          "text": [
            "\rRetrieve items by rules:  31%|███▏      | 5/16 [02:48<06:16, 34.26s/it]"
          ]
        },
        {
          "name": "stdout",
          "output_type": "stream",
          "text": [
            "Positive rate: 0.01376\n"
          ]
        },
        {
          "name": "stderr",
          "output_type": "stream",
          "text": [
            "\rRetrieve items by rules:  38%|███▊      | 6/16 [03:08<04:53, 29.40s/it]"
          ]
        },
        {
          "name": "stdout",
          "output_type": "stream",
          "text": [
            "Positive rate: 0.00886\n"
          ]
        },
        {
          "name": "stderr",
          "output_type": "stream",
          "text": [
            "\rRetrieve items by rules:  44%|████▍     | 7/16 [03:42<04:37, 30.88s/it]"
          ]
        },
        {
          "name": "stdout",
          "output_type": "stream",
          "text": [
            "Positive rate: 0.00830\n"
          ]
        },
        {
          "name": "stderr",
          "output_type": "stream",
          "text": [
            "\rRetrieve items by rules:  50%|█████     | 8/16 [04:29<04:48, 36.11s/it]"
          ]
        },
        {
          "name": "stdout",
          "output_type": "stream",
          "text": [
            "TOP21.0 Positive rate: 0.00501\n"
          ]
        },
        {
          "name": "stderr",
          "output_type": "stream",
          "text": [
            "\rRetrieve items by rules:  56%|█████▋    | 9/16 [04:36<03:08, 26.97s/it]"
          ]
        },
        {
          "name": "stdout",
          "output_type": "stream",
          "text": [
            "TOP11.0 Positive rate: 0.00515\n"
          ]
        },
        {
          "name": "stderr",
          "output_type": "stream",
          "text": [
            "Retrieve items by rules:  69%|██████▉   | 11/16 [04:54<01:29, 17.94s/it]"
          ]
        },
        {
          "name": "stdout",
          "output_type": "stream",
          "text": [
            "skip\n",
            "TOP13.0 Positive rate: 0.00502\n"
          ]
        },
        {
          "name": "stderr",
          "output_type": "stream",
          "text": [
            "\rRetrieve items by rules:  75%|███████▌  | 12/16 [05:00<00:56, 14.18s/it]"
          ]
        },
        {
          "name": "stdout",
          "output_type": "stream",
          "text": [
            "TOP6.0 Positive rate: 0.00544\n"
          ]
        },
        {
          "name": "stderr",
          "output_type": "stream",
          "text": [
            "\rRetrieve items by rules:  81%|████████▏ | 13/16 [05:06<00:34, 11.61s/it]"
          ]
        },
        {
          "name": "stdout",
          "output_type": "stream",
          "text": [
            "TOP11.0 Positive rate: 0.00500\n"
          ]
        },
        {
          "name": "stderr",
          "output_type": "stream",
          "text": [
            "\rRetrieve items by rules:  88%|████████▊ | 14/16 [05:35<00:33, 16.84s/it]"
          ]
        },
        {
          "name": "stdout",
          "output_type": "stream",
          "text": [
            "TOP11.0 Positive rate: 0.00517\n"
          ]
        },
        {
          "name": "stderr",
          "output_type": "stream",
          "text": [
            "Retrieve items by rules: 100%|██████████| 16/16 [06:12<00:00, 23.29s/it]"
          ]
        },
        {
          "name": "stdout",
          "output_type": "stream",
          "text": [
            "skip\n"
          ]
        },
        {
          "name": "stderr",
          "output_type": "stream",
          "text": [
            "\n"
          ]
        },
        {
          "name": "stdout",
          "output_type": "stream",
          "text": [
            "Week 3: [2020-09-02, 2020-09-09)\n"
          ]
        },
        {
          "name": "stderr",
          "output_type": "stream",
          "text": [
            "Retrieve items by rules:   6%|▋         | 1/16 [00:19<04:52, 19.51s/it]"
          ]
        },
        {
          "name": "stdout",
          "output_type": "stream",
          "text": [
            "Positive rate: 0.02822\n"
          ]
        },
        {
          "name": "stderr",
          "output_type": "stream",
          "text": [
            "\rRetrieve items by rules:  12%|█▎        | 2/16 [00:39<04:35, 19.68s/it]"
          ]
        },
        {
          "name": "stdout",
          "output_type": "stream",
          "text": [
            "Positive rate: 0.02679\n"
          ]
        },
        {
          "name": "stderr",
          "output_type": "stream",
          "text": [
            "\rRetrieve items by rules:  19%|█▉        | 3/16 [01:31<07:31, 34.73s/it]"
          ]
        },
        {
          "name": "stdout",
          "output_type": "stream",
          "text": [
            "Positive rate: 0.01321\n"
          ]
        },
        {
          "name": "stderr",
          "output_type": "stream",
          "text": [
            "\rRetrieve items by rules:  25%|██▌       | 4/16 [02:25<08:23, 41.99s/it]"
          ]
        },
        {
          "name": "stdout",
          "output_type": "stream",
          "text": [
            "Positive rate: 0.01237\n",
            "Positive rate: 0.01490\n"
          ]
        },
        {
          "name": "stderr",
          "output_type": "stream",
          "text": [
            "\rRetrieve items by rules:  31%|███▏      | 5/16 [02:43<06:09, 33.56s/it]"
          ]
        },
        {
          "name": "stdout",
          "output_type": "stream",
          "text": [
            "Positive rate: 0.01435\n"
          ]
        },
        {
          "name": "stderr",
          "output_type": "stream",
          "text": [
            "\rRetrieve items by rules:  38%|███▊      | 6/16 [03:04<04:51, 29.15s/it]"
          ]
        },
        {
          "name": "stdout",
          "output_type": "stream",
          "text": [
            "Positive rate: 0.00910\n"
          ]
        },
        {
          "name": "stderr",
          "output_type": "stream",
          "text": [
            "\rRetrieve items by rules:  44%|████▍     | 7/16 [03:48<05:06, 34.08s/it]"
          ]
        },
        {
          "name": "stdout",
          "output_type": "stream",
          "text": [
            "Positive rate: 0.00873\n"
          ]
        },
        {
          "name": "stderr",
          "output_type": "stream",
          "text": [
            "\rRetrieve items by rules:  50%|█████     | 8/16 [04:46<05:33, 41.73s/it]"
          ]
        },
        {
          "name": "stdout",
          "output_type": "stream",
          "text": [
            "TOP31.0 Positive rate: 0.00502\n"
          ]
        },
        {
          "name": "stderr",
          "output_type": "stream",
          "text": [
            "\rRetrieve items by rules:  56%|█████▋    | 9/16 [04:53<03:35, 30.82s/it]"
          ]
        },
        {
          "name": "stdout",
          "output_type": "stream",
          "text": [
            "TOP29.5 Positive rate: 0.00505\n"
          ]
        },
        {
          "name": "stderr",
          "output_type": "stream",
          "text": [
            "Retrieve items by rules:  69%|██████▉   | 11/16 [05:12<01:40, 20.07s/it]"
          ]
        },
        {
          "name": "stdout",
          "output_type": "stream",
          "text": [
            "skip\n",
            "TOP20.0 Positive rate: 0.00501\n"
          ]
        },
        {
          "name": "stderr",
          "output_type": "stream",
          "text": [
            "\rRetrieve items by rules:  75%|███████▌  | 12/16 [05:18<01:02, 15.72s/it]"
          ]
        },
        {
          "name": "stdout",
          "output_type": "stream",
          "text": [
            "TOP17.0 Positive rate: 0.00519\n"
          ]
        },
        {
          "name": "stderr",
          "output_type": "stream",
          "text": [
            "\rRetrieve items by rules:  81%|████████▏ | 13/16 [05:24<00:38, 12.73s/it]"
          ]
        },
        {
          "name": "stdout",
          "output_type": "stream",
          "text": [
            "TOP17.0 Positive rate: 0.00515\n"
          ]
        },
        {
          "name": "stderr",
          "output_type": "stream",
          "text": [
            "\rRetrieve items by rules:  88%|████████▊ | 14/16 [05:53<00:35, 17.85s/it]"
          ]
        },
        {
          "name": "stdout",
          "output_type": "stream",
          "text": [
            "TOP18.0 Positive rate: 0.00522\n"
          ]
        },
        {
          "name": "stderr",
          "output_type": "stream",
          "text": [
            "Retrieve items by rules: 100%|██████████| 16/16 [06:32<00:00, 24.56s/it]"
          ]
        },
        {
          "name": "stdout",
          "output_type": "stream",
          "text": [
            "skip\n"
          ]
        },
        {
          "name": "stderr",
          "output_type": "stream",
          "text": [
            "\n"
          ]
        },
        {
          "name": "stdout",
          "output_type": "stream",
          "text": [
            "Week 4: [2020-08-26, 2020-09-02)\n"
          ]
        },
        {
          "name": "stderr",
          "output_type": "stream",
          "text": [
            "Retrieve items by rules:   6%|▋         | 1/16 [00:19<04:56, 19.79s/it]"
          ]
        },
        {
          "name": "stdout",
          "output_type": "stream",
          "text": [
            "Positive rate: 0.02406\n"
          ]
        },
        {
          "name": "stderr",
          "output_type": "stream",
          "text": [
            "\rRetrieve items by rules:  12%|█▎        | 2/16 [00:40<04:40, 20.04s/it]"
          ]
        },
        {
          "name": "stdout",
          "output_type": "stream",
          "text": [
            "Positive rate: 0.02268\n"
          ]
        },
        {
          "name": "stderr",
          "output_type": "stream",
          "text": [
            "\rRetrieve items by rules:  19%|█▉        | 3/16 [01:34<07:42, 35.56s/it]"
          ]
        },
        {
          "name": "stdout",
          "output_type": "stream",
          "text": [
            "Positive rate: 0.01182\n"
          ]
        },
        {
          "name": "stderr",
          "output_type": "stream",
          "text": [
            "\rRetrieve items by rules:  25%|██▌       | 4/16 [02:27<08:31, 42.65s/it]"
          ]
        },
        {
          "name": "stdout",
          "output_type": "stream",
          "text": [
            "Positive rate: 0.01123\n",
            "Positive rate: 0.01353\n"
          ]
        },
        {
          "name": "stderr",
          "output_type": "stream",
          "text": [
            "\rRetrieve items by rules:  31%|███▏      | 5/16 [02:46<06:13, 33.93s/it]"
          ]
        },
        {
          "name": "stdout",
          "output_type": "stream",
          "text": [
            "Positive rate: 0.01306\n"
          ]
        },
        {
          "name": "stderr",
          "output_type": "stream",
          "text": [
            "\rRetrieve items by rules:  38%|███▊      | 6/16 [03:06<04:54, 29.46s/it]"
          ]
        },
        {
          "name": "stdout",
          "output_type": "stream",
          "text": [
            "Positive rate: 0.00876\n"
          ]
        },
        {
          "name": "stderr",
          "output_type": "stream",
          "text": [
            "\rRetrieve items by rules:  44%|████▍     | 7/16 [03:49<05:05, 33.94s/it]"
          ]
        },
        {
          "name": "stdout",
          "output_type": "stream",
          "text": [
            "Positive rate: 0.00836\n"
          ]
        },
        {
          "name": "stderr",
          "output_type": "stream",
          "text": [
            "\rRetrieve items by rules:  50%|█████     | 8/16 [04:46<05:30, 41.26s/it]"
          ]
        },
        {
          "name": "stdout",
          "output_type": "stream",
          "text": [
            "TOP26.0 Positive rate: 0.00514\n"
          ]
        },
        {
          "name": "stderr",
          "output_type": "stream",
          "text": [
            "\rRetrieve items by rules:  56%|█████▋    | 9/16 [04:54<03:34, 30.59s/it]"
          ]
        },
        {
          "name": "stdout",
          "output_type": "stream",
          "text": [
            "TOP27.5 Positive rate: 0.00505\n"
          ]
        },
        {
          "name": "stderr",
          "output_type": "stream",
          "text": [
            "Retrieve items by rules:  69%|██████▉   | 11/16 [05:12<01:39, 19.87s/it]"
          ]
        },
        {
          "name": "stdout",
          "output_type": "stream",
          "text": [
            "skip\n",
            "TOP26.0 Positive rate: 0.00503\n"
          ]
        },
        {
          "name": "stderr",
          "output_type": "stream",
          "text": [
            "\rRetrieve items by rules:  75%|███████▌  | 12/16 [05:18<01:02, 15.53s/it]"
          ]
        },
        {
          "name": "stdout",
          "output_type": "stream",
          "text": [
            "TOP26.0 Positive rate: 0.00508\n"
          ]
        },
        {
          "name": "stderr",
          "output_type": "stream",
          "text": [
            "\rRetrieve items by rules:  81%|████████▏ | 13/16 [05:24<00:37, 12.55s/it]"
          ]
        },
        {
          "name": "stdout",
          "output_type": "stream",
          "text": [
            "TOP19.0 Positive rate: 0.00500\n"
          ]
        },
        {
          "name": "stderr",
          "output_type": "stream",
          "text": [
            "\rRetrieve items by rules:  88%|████████▊ | 14/16 [05:53<00:35, 17.62s/it]"
          ]
        },
        {
          "name": "stdout",
          "output_type": "stream",
          "text": [
            "TOP14.0 Positive rate: 0.00502\n"
          ]
        },
        {
          "name": "stderr",
          "output_type": "stream",
          "text": [
            "Retrieve items by rules: 100%|██████████| 16/16 [06:31<00:00, 24.47s/it]"
          ]
        },
        {
          "name": "stdout",
          "output_type": "stream",
          "text": [
            "skip\n"
          ]
        },
        {
          "name": "stderr",
          "output_type": "stream",
          "text": [
            "\n"
          ]
        },
        {
          "name": "stdout",
          "output_type": "stream",
          "text": [
            "Week 5: [2020-08-19, 2020-08-26)\n"
          ]
        },
        {
          "name": "stderr",
          "output_type": "stream",
          "text": [
            "Retrieve items by rules:   6%|▋         | 1/16 [00:18<04:41, 18.75s/it]"
          ]
        },
        {
          "name": "stdout",
          "output_type": "stream",
          "text": [
            "Positive rate: 0.02329\n"
          ]
        },
        {
          "name": "stderr",
          "output_type": "stream",
          "text": [
            "\rRetrieve items by rules:  12%|█▎        | 2/16 [00:38<04:31, 19.41s/it]"
          ]
        },
        {
          "name": "stdout",
          "output_type": "stream",
          "text": [
            "Positive rate: 0.02211\n"
          ]
        },
        {
          "name": "stderr",
          "output_type": "stream",
          "text": [
            "\rRetrieve items by rules:  19%|█▉        | 3/16 [01:31<07:33, 34.91s/it]"
          ]
        },
        {
          "name": "stdout",
          "output_type": "stream",
          "text": [
            "Positive rate: 0.01187\n"
          ]
        },
        {
          "name": "stderr",
          "output_type": "stream",
          "text": [
            "\rRetrieve items by rules:  25%|██▌       | 4/16 [02:25<08:29, 42.45s/it]"
          ]
        },
        {
          "name": "stdout",
          "output_type": "stream",
          "text": [
            "Positive rate: 0.01101\n",
            "Positive rate: 0.01325\n"
          ]
        },
        {
          "name": "stderr",
          "output_type": "stream",
          "text": [
            "\rRetrieve items by rules:  31%|███▏      | 5/16 [02:44<06:11, 33.76s/it]"
          ]
        },
        {
          "name": "stdout",
          "output_type": "stream",
          "text": [
            "Positive rate: 0.01269\n"
          ]
        },
        {
          "name": "stderr",
          "output_type": "stream",
          "text": [
            "\rRetrieve items by rules:  38%|███▊      | 6/16 [03:05<04:54, 29.43s/it]"
          ]
        },
        {
          "name": "stdout",
          "output_type": "stream",
          "text": [
            "Positive rate: 0.00869\n"
          ]
        },
        {
          "name": "stderr",
          "output_type": "stream",
          "text": [
            "\rRetrieve items by rules:  44%|████▍     | 7/16 [03:47<05:01, 33.52s/it]"
          ]
        },
        {
          "name": "stdout",
          "output_type": "stream",
          "text": [
            "Positive rate: 0.00826\n"
          ]
        },
        {
          "name": "stderr",
          "output_type": "stream",
          "text": [
            "\rRetrieve items by rules:  50%|█████     | 8/16 [04:55<05:55, 44.46s/it]"
          ]
        },
        {
          "name": "stdout",
          "output_type": "stream",
          "text": [
            "TOP15.5 Positive rate: 0.00506\n"
          ]
        },
        {
          "name": "stderr",
          "output_type": "stream",
          "text": [
            "\rRetrieve items by rules:  56%|█████▋    | 9/16 [05:00<03:44, 32.14s/it]"
          ]
        },
        {
          "name": "stdout",
          "output_type": "stream",
          "text": [
            "TOP22.0 Positive rate: 0.00502\n"
          ]
        },
        {
          "name": "stderr",
          "output_type": "stream",
          "text": [
            "Retrieve items by rules:  69%|██████▉   | 11/16 [05:16<01:40, 20.05s/it]"
          ]
        },
        {
          "name": "stdout",
          "output_type": "stream",
          "text": [
            "skip\n",
            "TOP6.0 Positive rate: 0.00517\n"
          ]
        },
        {
          "name": "stderr",
          "output_type": "stream",
          "text": [
            "\rRetrieve items by rules:  75%|███████▌  | 12/16 [05:21<01:00, 15.19s/it]"
          ]
        },
        {
          "name": "stdout",
          "output_type": "stream",
          "text": [
            "TOP11.0 Positive rate: 0.00502\n"
          ]
        },
        {
          "name": "stderr",
          "output_type": "stream",
          "text": [
            "\rRetrieve items by rules:  81%|████████▏ | 13/16 [05:25<00:36, 12.03s/it]"
          ]
        },
        {
          "name": "stdout",
          "output_type": "stream",
          "text": [
            "TOP6.0 Positive rate: 0.00513\n"
          ]
        },
        {
          "name": "stderr",
          "output_type": "stream",
          "text": [
            "\rRetrieve items by rules:  88%|████████▊ | 14/16 [05:54<00:33, 16.95s/it]"
          ]
        },
        {
          "name": "stdout",
          "output_type": "stream",
          "text": [
            "TOP10.0 Positive rate: 0.00505\n"
          ]
        },
        {
          "name": "stderr",
          "output_type": "stream",
          "text": [
            "Retrieve items by rules: 100%|██████████| 16/16 [06:29<00:00, 24.35s/it]"
          ]
        },
        {
          "name": "stdout",
          "output_type": "stream",
          "text": [
            "skip\n"
          ]
        },
        {
          "name": "stderr",
          "output_type": "stream",
          "text": [
            "\n"
          ]
        }
      ],
      "source": [
        "# * WEEK_NUM = 0: test\n",
        "# * WEEK_NUM = 1: valid\n",
        "# * WEEK_NUM > 1: train\n",
        "\n",
        "for week in range(1, WEEK_NUM):\n",
        "    # * use sliding window to generate candidates\n",
        "    if week == 0 and not TEST:\n",
        "        continue\n",
        "    trans = data[\"inter\"]\n",
        "\n",
        "    start_date, end_date = calc_valid_date(week)\n",
        "    print(f\"Week {week}: [{start_date}, {end_date})\")\n",
        "    \n",
        "    last_week_start = pd.to_datetime(start_date) - pd.Timedelta(days=7)\n",
        "    last_week_start = last_week_start.strftime(\"%Y-%m-%d\")\n",
        "    \n",
        "    last_3day_start = pd.to_datetime(start_date) - pd.Timedelta(days=3)\n",
        "    last_3day_start = last_3day_start.strftime(\"%Y-%m-%d\")\n",
        "\n",
        "    train, valid = dh.split_data(trans, start_date, end_date)\n",
        "\n",
        "    last_week = train.loc[train.t_dat >= last_week_start]\n",
        "    last_week = last_week.merge(data['user'][['customer_id','age_bins']], on='customer_id', how='left')\n",
        "    \n",
        "    last_3days = train.loc[train.t_dat >= last_3day_start]\n",
        "    last_3days = last_3days.merge(data['user'][['customer_id','age_bins']], on='customer_id', how='left')\n",
        "    \n",
        "    train = train.merge(data['user'][['customer_id','age_bins']], on='customer_id', how='left')\n",
        "\n",
        "    if week != 0:\n",
        "        customer_list = valid[\"customer_id\"].values\n",
        "    else:\n",
        "        customer_list = submission['customer_id'].values\n",
        "\n",
        "    # * ========================== Retrieval Strategies ==========================\n",
        "\n",
        "    candidates = RuleCollector().collect(\n",
        "        week_num = week,\n",
        "        trans_df = trans,\n",
        "        customer_list=customer_list,\n",
        "        rules=[\n",
        "            OrderHistory(train, 3),\n",
        "            OrderHistory(train, 7),\n",
        "            OrderHistoryDecay(train, 3, n=50),\n",
        "            OrderHistoryDecay(train, 7, n=50),\n",
        "            ItemPair(OrderHistory(train, 3).retrieve(), name='1'),\n",
        "            ItemPair(OrderHistory(train, 7).retrieve(), name='2'),\n",
        "            ItemPair(OrderHistoryDecay(train, 3, n=50).retrieve(), name='3'),\n",
        "            ItemPair(OrderHistoryDecay(train, 7, n=50).retrieve(), name='4'),\n",
        "            UserGroupTimeHistory(data, customer_list, last_week, ['age_bins'], n=50, name='1'),\n",
        "            UserGroupTimeHistory(data, customer_list, last_3days, ['age_bins'], n=50, name='2'),\n",
        "            UserGroupSaleTrend(data, customer_list, train, ['age_bins'], 7, n=50),\n",
        "            TimeHistory(customer_list, last_week, n=50, name='1'),\n",
        "            TimeHistory(customer_list, last_3days, n=50, name='2'),\n",
        "            TimeHistoryDecay(customer_list, train, 3, n=50),\n",
        "            TimeHistoryDecay(customer_list, train, 7, n=50),\n",
        "            SaleTrend(customer_list, train, 7, n=50),\n",
        "        ],\n",
        "        filters=[OutOfStock(trans)],\n",
        "        min_pos_rate=0.005,\n",
        "        compress=False,\n",
        "    )\n",
        "    \n",
        "    candidates = (\n",
        "        pd.pivot_table(\n",
        "            candidates,\n",
        "            values=\"score\",\n",
        "            index=[\"customer_id\", \"article_id\"],\n",
        "            columns=[\"method\"],\n",
        "            aggfunc=np.sum,\n",
        "        )\n",
        "        .reset_index()\n",
        "        # .fillna(0)\n",
        "    )\n",
        "\n",
        "    candidates.to_parquet(data_dir/\"interim\"/VERSION_NAME/f\"week{week}_candidate.pqt\")\n",
        "    if WEEK_NUM != 0:\n",
        "        valid.to_parquet(data_dir/\"interim\"/VERSION_NAME/f\"week{week}_label.pqt\")"
      ]
    },
    {
      "cell_type": "code",
      "execution_count": null,
      "metadata": {
        "id": "DXcBFcwqjU_Q"
      },
      "outputs": [],
      "source": [
        "# # * use the threshold in week 1 to generate candidates for test data, see the log in the upper cell \n",
        "\n",
        "# for week in range(1):\n",
        "#     if week == 0 and not TEST:\n",
        "#         continue\n",
        "#     trans = data[\"inter\"]\n",
        "\n",
        "#     start_date, end_date = calc_valid_date(week)\n",
        "#     print(f\"Week {week}: [{start_date}, {end_date})\")\n",
        "    \n",
        "#     last_5week_start = pd.to_datetime(start_date) - 5*pd.Timedelta(days=7)\n",
        "#     last_5week_start = last_5week_start.strftime(\"%Y-%m-%d\")\n",
        "    \n",
        "#     last_week_start = pd.to_datetime(start_date) - pd.Timedelta(days=7)\n",
        "#     last_week_start = last_week_start.strftime(\"%Y-%m-%d\")\n",
        "    \n",
        "#     last_3day_start = pd.to_datetime(start_date) - pd.Timedelta(days=3)\n",
        "#     last_3day_start = last_3day_start.strftime(\"%Y-%m-%d\")\n",
        "\n",
        "#     train, valid = dh.split_data(trans, start_date, end_date)\n",
        "    \n",
        "#     last_5week = train.loc[train.t_dat >= last_5week_start]\n",
        "#     last_5week = last_5week.merge(data['user'][['customer_id','age_bins']], on='customer_id', how='left')\n",
        "\n",
        "#     last_week = train.loc[train.t_dat >= last_week_start]\n",
        "#     last_week = last_week.merge(data['user'][['customer_id','age_bins']], on='customer_id', how='left')\n",
        "    \n",
        "#     last_3days = train.loc[train.t_dat >= last_3day_start]\n",
        "#     last_3days = last_3days.merge(data['user'][['customer_id','age_bins']], on='customer_id', how='left')\n",
        "    \n",
        "#     train = train.merge(data['user'][['customer_id','age_bins']], on='customer_id', how='left')\n",
        "#     last_5week = last_5week.merge(data['user'][['customer_id','age_bins']], on='customer_id', how='left')\n",
        "\n",
        "#     if week != 0:\n",
        "#         customer_list = valid[\"customer_id\"].values\n",
        "#     else:\n",
        "#         customer_list = submission['customer_id'].values\n",
        "\n",
        "#     # * ========================== Retrieval Strategies ==========================\n",
        "\n",
        "#     candidates = RuleCollector().collect(\n",
        "#         valid = valid,\n",
        "#         customer_list=customer_list,\n",
        "#         rules=[\n",
        "#             OrderHistory(train, 3),\n",
        "#             OrderHistory(train, 7),\n",
        "#             OrderHistoryDecay(train, 3, n=50),\n",
        "#             OrderHistoryDecay(train, 7, n=50),\n",
        "#             ItemPair(OrderHistory(train, 3).retrieve(), name='1'),\n",
        "#             ItemPair(OrderHistory(train, 7).retrieve(), name='2'),\n",
        "#             ItemPair(OrderHistoryDecay(train, 3, n=50).retrieve(), name='3'),\n",
        "#             ItemPair(OrderHistoryDecay(train, 7, n=50).retrieve(), name='4'),\n",
        "#             UserGroupTimeHistory(data, customer_list, last_week, ['age_bins'], n=35, name='1'),\n",
        "#             UserGroupTimeHistory(data, customer_list, last_3days, ['age_bins'], n=38.5, name='2'),\n",
        "#             UserGroupSaleTrend(data, customer_list, train, ['age_bins'], 7, n=3),\n",
        "#             TimeHistory(customer_list, last_week, n=25, name='1'),\n",
        "#             TimeHistory(customer_list, last_3days, n=30, name='2'),\n",
        "#             TimeHistoryDecay(customer_list, train, 3, n=31),\n",
        "#             TimeHistoryDecay(customer_list, train, 7, n=24),\n",
        "#             SaleTrend(customer_list, train, 7, n=4),\n",
        "#         ],\n",
        "#         filters=[OutOfStock(trans)],\n",
        "#         min_pos_rate=0.005,\n",
        "#         compress=False,\n",
        "#     )\n",
        "    \n",
        "#     candidates = (\n",
        "#         pd.pivot_table(\n",
        "#             candidates,\n",
        "#             values=\"score\",\n",
        "#             index=[\"customer_id\", \"article_id\"],\n",
        "#             columns=[\"method\"],\n",
        "#             aggfunc=np.sum,\n",
        "#         )\n",
        "#         .reset_index()\n",
        "#         # .fillna(0)\n",
        "#     )\n",
        "\n",
        "#     candidates.to_parquet(data_dir/\"interim\"/VERSION_NAME/f\"week{week}_candidate.pqt\")\n",
        "#     if WEEK_NUM != 0:\n",
        "#         valid.to_parquet(data_dir/\"interim\"/VERSION_NAME/f\"week{week}_label.pqt\")"
      ]
    },
    {
      "cell_type": "code",
      "execution_count": null,
      "metadata": {
        "colab": {
          "base_uri": "https://localhost:8080/"
        },
        "id": "cNNTd0PSjU_Q",
        "outputId": "242e4d3b-09bf-4ebb-a5f8-aa2586689eb2"
      },
      "outputs": [
        {
          "data": {
            "text/plain": [
              "150"
            ]
          },
          "execution_count": 19,
          "metadata": {},
          "output_type": "execute_result"
        }
      ],
      "source": [
        "del train, valid, last_week, customer_list, candidates\n",
        "gc.collect()"
      ]
    },
    {
      "cell_type": "markdown",
      "metadata": {
        "id": "TBIrKxhRGGQR"
      },
      "source": [
        "## Feature engineering\n"
      ]
    },
    {
      "cell_type": "code",
      "execution_count": null,
      "metadata": {
        "id": "9pF-sOMSGGQP"
      },
      "outputs": [],
      "source": [
        "user = data[\"user\"]\n",
        "item = data[\"item\"]\n",
        "inter = data[\"inter\"]"
      ]
    },
    {
      "cell_type": "code",
      "execution_count": null,
      "metadata": {
        "id": "heKIAtoRdtIk"
      },
      "outputs": [],
      "source": [
        "# merge `product_code`\n",
        "inter = inter.merge(item[[\"article_id\", \"product_code\"]], on=\"article_id\", how=\"left\")\n",
        "# calculate week number\n",
        "inter['week'] = (pd.to_datetime('2020-09-29') - pd.to_datetime(inter['t_dat'])).dt.days // 7"
      ]
    },
    {
      "cell_type": "code",
      "execution_count": null,
      "metadata": {
        "id": "NgfZ9z69GGQR"
      },
      "outputs": [],
      "source": [
        "inter = inter.sort_values([\"customer_id\", \"t_dat\"]).reset_index(drop=True)"
      ]
    },
    {
      "cell_type": "code",
      "execution_count": null,
      "metadata": {
        "colab": {
          "base_uri": "https://localhost:8080/",
          "height": 206
        },
        "id": "lYMvuPlfjU_S",
        "outputId": "cfc1456b-a92a-40c0-98ec-70ef5f50ae5d",
        "scrolled": true
      },
      "outputs": [
        {
          "data": {
            "text/html": [
              "\n",
              "  <div id=\"df-2b742ddb-c50f-4c02-b681-308ea4600c08\">\n",
              "    <div class=\"colab-df-container\">\n",
              "      <div>\n",
              "<style scoped>\n",
              "    .dataframe tbody tr th:only-of-type {\n",
              "        vertical-align: middle;\n",
              "    }\n",
              "\n",
              "    .dataframe tbody tr th {\n",
              "        vertical-align: top;\n",
              "    }\n",
              "\n",
              "    .dataframe thead th {\n",
              "        text-align: right;\n",
              "    }\n",
              "</style>\n",
              "<table border=\"1\" class=\"dataframe\">\n",
              "  <thead>\n",
              "    <tr style=\"text-align: right;\">\n",
              "      <th></th>\n",
              "      <th>t_dat</th>\n",
              "      <th>customer_id</th>\n",
              "      <th>article_id</th>\n",
              "      <th>price</th>\n",
              "      <th>sales_channel_id</th>\n",
              "      <th>product_code</th>\n",
              "      <th>week</th>\n",
              "    </tr>\n",
              "  </thead>\n",
              "  <tbody>\n",
              "    <tr>\n",
              "      <th>0</th>\n",
              "      <td>2018-12-27</td>\n",
              "      <td>1</td>\n",
              "      <td>29517</td>\n",
              "      <td>0.044051</td>\n",
              "      <td>1</td>\n",
              "      <td>11547</td>\n",
              "      <td>91</td>\n",
              "    </tr>\n",
              "    <tr>\n",
              "      <th>1</th>\n",
              "      <td>2018-12-27</td>\n",
              "      <td>1</td>\n",
              "      <td>100</td>\n",
              "      <td>0.035576</td>\n",
              "      <td>1</td>\n",
              "      <td>37</td>\n",
              "      <td>91</td>\n",
              "    </tr>\n",
              "    <tr>\n",
              "      <th>2</th>\n",
              "      <td>2018-12-27</td>\n",
              "      <td>1</td>\n",
              "      <td>30328</td>\n",
              "      <td>0.030492</td>\n",
              "      <td>1</td>\n",
              "      <td>11823</td>\n",
              "      <td>91</td>\n",
              "    </tr>\n",
              "    <tr>\n",
              "      <th>3</th>\n",
              "      <td>2019-05-02</td>\n",
              "      <td>1</td>\n",
              "      <td>50725</td>\n",
              "      <td>0.010153</td>\n",
              "      <td>2</td>\n",
              "      <td>20579</td>\n",
              "      <td>73</td>\n",
              "    </tr>\n",
              "    <tr>\n",
              "      <th>4</th>\n",
              "      <td>2019-05-25</td>\n",
              "      <td>1</td>\n",
              "      <td>16004</td>\n",
              "      <td>0.050831</td>\n",
              "      <td>2</td>\n",
              "      <td>5599</td>\n",
              "      <td>70</td>\n",
              "    </tr>\n",
              "  </tbody>\n",
              "</table>\n",
              "</div>\n",
              "      <button class=\"colab-df-convert\" onclick=\"convertToInteractive('df-2b742ddb-c50f-4c02-b681-308ea4600c08')\"\n",
              "              title=\"Convert this dataframe to an interactive table.\"\n",
              "              style=\"display:none;\">\n",
              "        \n",
              "  <svg xmlns=\"http://www.w3.org/2000/svg\" height=\"24px\"viewBox=\"0 0 24 24\"\n",
              "       width=\"24px\">\n",
              "    <path d=\"M0 0h24v24H0V0z\" fill=\"none\"/>\n",
              "    <path d=\"M18.56 5.44l.94 2.06.94-2.06 2.06-.94-2.06-.94-.94-2.06-.94 2.06-2.06.94zm-11 1L8.5 8.5l.94-2.06 2.06-.94-2.06-.94L8.5 2.5l-.94 2.06-2.06.94zm10 10l.94 2.06.94-2.06 2.06-.94-2.06-.94-.94-2.06-.94 2.06-2.06.94z\"/><path d=\"M17.41 7.96l-1.37-1.37c-.4-.4-.92-.59-1.43-.59-.52 0-1.04.2-1.43.59L10.3 9.45l-7.72 7.72c-.78.78-.78 2.05 0 2.83L4 21.41c.39.39.9.59 1.41.59.51 0 1.02-.2 1.41-.59l7.78-7.78 2.81-2.81c.8-.78.8-2.07 0-2.86zM5.41 20L4 18.59l7.72-7.72 1.47 1.35L5.41 20z\"/>\n",
              "  </svg>\n",
              "      </button>\n",
              "      \n",
              "  <style>\n",
              "    .colab-df-container {\n",
              "      display:flex;\n",
              "      flex-wrap:wrap;\n",
              "      gap: 12px;\n",
              "    }\n",
              "\n",
              "    .colab-df-convert {\n",
              "      background-color: #E8F0FE;\n",
              "      border: none;\n",
              "      border-radius: 50%;\n",
              "      cursor: pointer;\n",
              "      display: none;\n",
              "      fill: #1967D2;\n",
              "      height: 32px;\n",
              "      padding: 0 0 0 0;\n",
              "      width: 32px;\n",
              "    }\n",
              "\n",
              "    .colab-df-convert:hover {\n",
              "      background-color: #E2EBFA;\n",
              "      box-shadow: 0px 1px 2px rgba(60, 64, 67, 0.3), 0px 1px 3px 1px rgba(60, 64, 67, 0.15);\n",
              "      fill: #174EA6;\n",
              "    }\n",
              "\n",
              "    [theme=dark] .colab-df-convert {\n",
              "      background-color: #3B4455;\n",
              "      fill: #D2E3FC;\n",
              "    }\n",
              "\n",
              "    [theme=dark] .colab-df-convert:hover {\n",
              "      background-color: #434B5C;\n",
              "      box-shadow: 0px 1px 3px 1px rgba(0, 0, 0, 0.15);\n",
              "      filter: drop-shadow(0px 1px 2px rgba(0, 0, 0, 0.3));\n",
              "      fill: #FFFFFF;\n",
              "    }\n",
              "  </style>\n",
              "\n",
              "      <script>\n",
              "        const buttonEl =\n",
              "          document.querySelector('#df-2b742ddb-c50f-4c02-b681-308ea4600c08 button.colab-df-convert');\n",
              "        buttonEl.style.display =\n",
              "          google.colab.kernel.accessAllowed ? 'block' : 'none';\n",
              "\n",
              "        async function convertToInteractive(key) {\n",
              "          const element = document.querySelector('#df-2b742ddb-c50f-4c02-b681-308ea4600c08');\n",
              "          const dataTable =\n",
              "            await google.colab.kernel.invokeFunction('convertToInteractive',\n",
              "                                                     [key], {});\n",
              "          if (!dataTable) return;\n",
              "\n",
              "          const docLinkHtml = 'Like what you see? Visit the ' +\n",
              "            '<a target=\"_blank\" href=https://colab.research.google.com/notebooks/data_table.ipynb>data table notebook</a>'\n",
              "            + ' to learn more about interactive tables.';\n",
              "          element.innerHTML = '';\n",
              "          dataTable['output_type'] = 'display_data';\n",
              "          await google.colab.output.renderOutput(dataTable, element);\n",
              "          const docLink = document.createElement('div');\n",
              "          docLink.innerHTML = docLinkHtml;\n",
              "          element.appendChild(docLink);\n",
              "        }\n",
              "      </script>\n",
              "    </div>\n",
              "  </div>\n",
              "  "
            ],
            "text/plain": [
              "        t_dat  customer_id  article_id     price  sales_channel_id  \\\n",
              "0  2018-12-27            1       29517  0.044051                 1   \n",
              "1  2018-12-27            1         100  0.035576                 1   \n",
              "2  2018-12-27            1       30328  0.030492                 1   \n",
              "3  2019-05-02            1       50725  0.010153                 2   \n",
              "4  2019-05-25            1       16004  0.050831                 2   \n",
              "\n",
              "   product_code  week  \n",
              "0         11547    91  \n",
              "1            37    91  \n",
              "2         11823    91  \n",
              "3         20579    73  \n",
              "4          5599    70  "
            ]
          },
          "execution_count": 23,
          "metadata": {},
          "output_type": "execute_result"
        }
      ],
      "source": [
        "inter.head()"
      ]
    },
    {
      "cell_type": "code",
      "execution_count": null,
      "metadata": {
        "colab": {
          "base_uri": "https://localhost:8080/"
        },
        "id": "krS1OT4JGGQR",
        "outputId": "075a81de-ce08-43cd-96b2-f579e010f735"
      },
      "outputs": [
        {
          "data": {
            "text/plain": [
              "(31788324, 7)"
            ]
          },
          "execution_count": 24,
          "metadata": {},
          "output_type": "execute_result"
        }
      ],
      "source": [
        "inter.shape"
      ]
    },
    {
      "cell_type": "code",
      "execution_count": null,
      "metadata": {
        "id": "ujKbES8U-OIt"
      },
      "outputs": [],
      "source": [
        "# tmp_inter = trans[[\"week\", \"customer_id\", *groupby_cols]]\n",
        "# if unique:\n",
        "#     tmp_inter = tmp_inter.drop_duplicates([\"customer_id\", *groupby_cols])\n",
        "\n",
        "# df = tmp_inter.groupby([\"week\", *groupby_cols]).size().reset_index(name=\"_SALE\")\n",
        "# df[\"week\"] -= step\n",
        "# # df[\"_SALE\"] = df.groupby(groupby_cols)[\"_SALE\"].cumsum()\n",
        "# # df[\"_SALE\"] = df.groupby(groupby_cols)[\"_SALE\"].shift(1)\n",
        "# # df[\"_SALE\"] = df[\"_SALE\"].fillna(0)\n",
        "\n",
        "# tmp_inter = trans[[\"week\", \"customer_id\", *groupby_cols]].merge(\n",
        "#     df, on=[\"week\", *groupby_cols], how=\"left\"\n",
        "# )\n",
        "# tmp_inter[\"_SALE\"] = tmp_inter[\"_SALE\"].fillna(0).astype(\"int\")"
      ]
    },
    {
      "cell_type": "code",
      "execution_count": null,
      "metadata": {
        "id": "54yXJVP9-Yzc"
      },
      "outputs": [],
      "source": [
        "tmp_inter"
      ]
    },
    {
      "cell_type": "markdown",
      "metadata": {
        "id": "Zig6naahjU_S"
      },
      "source": [
        "Week Sale"
      ]
    },
    {
      "cell_type": "code",
      "execution_count": null,
      "metadata": {
        "colab": {
          "background_save": true
        },
        "id": "IXXxyMmndtIm",
        "outputId": "569ea0f0-d7c9-4dc0-aa62-b82973696bda"
      },
      "outputs": [
        {
          "name": "stderr",
          "output_type": "stream",
          "text": [
            "100%|██████████| 6/6 [01:47<00:00, 17.99s/it]\n"
          ]
        }
      ],
      "source": [
        "inter[\"i_sale\"] = week_sale(inter, [\"article_id\"])\n",
        "inter[\"p_sale\"] = week_sale(inter, [\"product_code\"])\n",
        "inter[\"i_sale_uni\"] = week_sale(inter, [\"article_id\"], True)\n",
        "inter[\"p_sale_uni\"] = week_sale(inter, [\"product_code\"], True)\n",
        "inter[\"lw_i_sale\"] = week_sale(inter, [\"article_id\"], step=1) # * last week sale\n",
        "inter[\"lw_p_sale\"] = week_sale(inter, [\"product_code\"], step=1)\n",
        "inter[\"lw_i_sale_uni\"] = week_sale(inter, [\"article_id\"], True, step=1)\n",
        "inter[\"lw_p_sale_uni\"] = week_sale(inter, [\"product_code\"], True, step=1)\n",
        "\n",
        "inter[\"i_sale_ratio\"] = inter[\"i_sale\"] / (inter[\"p_sale\"] + 1e-6)\n",
        "inter[\"i_sale_uni_ratio\"] = inter[\"i_sale_uni\"] / (inter[\"p_sale_uni\"] + 1e-6)\n",
        "inter[\"lw_i_sale_ratio\"] = inter[\"lw_i_sale\"] / (inter[\"lw_p_sale\"] + 1e-6)\n",
        "inter[\"lw_i_sale_uni_ratio\"] = inter[\"lw_i_sale_uni\"] / (inter[\"lw_p_sale_uni\"] + 1e-6)\n",
        "\n",
        "inter[\"i_uni_ratio\"] = inter[\"i_sale\"] / (inter[\"i_sale_uni\"] + 1e-6)\n",
        "inter[\"p_uni_ratio\"] = inter[\"p_sale\"] / (inter[\"p_sale_uni\"] + 1e-6)\n",
        "inter[\"lw_i_uni_ratio\"] = inter[\"lw_i_sale\"] / (inter[\"lw_i_sale_uni\"] + 1e-6)\n",
        "inter[\"lw_p_uni_ratio\"] = inter[\"lw_p_sale\"] / (inter[\"lw_p_sale_uni\"] + 1e-6)\n",
        "\n",
        "inter[\"i_sale_trend\"] = (inter[\"i_sale\"] - inter[\"lw_i_sale\"]) / (inter[\"lw_i_sale\"] + 1e-6)\n",
        "inter[\"p_sale_trend\"] = (inter[\"p_sale\"] - inter[\"lw_p_sale\"]) / (inter[\"lw_p_sale\"] + 1e-6)\n",
        "\n",
        "item_feats = [\n",
        "    \"product_type_no\",\n",
        "    \"product_group_name\",\n",
        "    \"graphical_appearance_no\",\n",
        "    \"colour_group_code\",\n",
        "    \"perceived_colour_value_id\",\n",
        "    \"perceived_colour_master_id\",\n",
        "]\n",
        "inter = inter.merge(item[[\"article_id\", *item_feats]], on=\"article_id\", how=\"left\")\n",
        "\n",
        "for f in tqdm(item_feats):\n",
        "    inter[f\"{f}_sale\"] = week_sale(inter, [f], f\"{f}_sale\")\n",
        "    inter[f\"lw_{f}_sale\"] = week_sale(inter, [f], f\"{f}_sale\", step=1)\n",
        "    inter[f\"{f}_sale_trend\"] = (inter[f\"{f}_sale\"] - inter[f\"lw_{f}_sale\"]) / (inter[f\"lw_{f}_sale\"] + 1e-6)\n",
        "\n",
        "inter = inter.drop(columns=item_feats)"
      ]
    },
    {
      "cell_type": "markdown",
      "metadata": {
        "id": "ZGPR40ALjU_S"
      },
      "source": [
        "Repurchase Ratio"
      ]
    },
    {
      "cell_type": "code",
      "execution_count": null,
      "metadata": {
        "colab": {
          "background_save": true
        },
        "id": "pnZzbv2JNUB1"
      },
      "outputs": [],
      "source": [
        "inter['i_repurchase_ratio'] = repurchase_ratio(inter, ['article_id'])\n",
        "inter['p_repurchase_ratio'] = repurchase_ratio(inter, ['product_code'])"
      ]
    },
    {
      "cell_type": "markdown",
      "metadata": {
        "id": "lDyBux_5YCGA"
      },
      "source": [
        "Popularity"
      ]
    },
    {
      "cell_type": "code",
      "execution_count": null,
      "metadata": {
        "colab": {
          "background_save": true
        },
        "id": "rraUMmulYB1b"
      },
      "outputs": [],
      "source": [
        "inter['i_pop'] = popularity(inter, 'article_id', week_num=WEEK_NUM)\n",
        "inter['p_pop'] = popularity(inter, 'product_code', week_num=WEEK_NUM)"
      ]
    },
    {
      "cell_type": "markdown",
      "metadata": {
        "id": "k6Tdg724jU_T"
      },
      "source": [
        "Already Bought Item"
      ]
    },
    {
      "cell_type": "code",
      "execution_count": null,
      "metadata": {
        "id": "VmBm3Ka3GGQS"
      },
      "outputs": [],
      "source": [
        "# inter[\"purchased_item\"] = purchased_before(inter, [\"article_id\"])\n",
        "# inter[\"purchased_pro\"] = purchased_before(inter, [\"product_code\"])"
      ]
    },
    {
      "cell_type": "markdown",
      "metadata": {
        "id": "fY7lefJsjU_T"
      },
      "source": [
        "Save data"
      ]
    },
    {
      "cell_type": "code",
      "execution_count": null,
      "metadata": {
        "colab": {
          "base_uri": "https://localhost:8080/"
        },
        "id": "uB53JEZoGGQS",
        "outputId": "848623b5-31c0-4f82-e2f6-9603c6fea364"
      },
      "outputs": [
        {
          "data": {
            "text/plain": [
              "(31788324, 36)"
            ]
          },
          "execution_count": 28,
          "metadata": {},
          "output_type": "execute_result"
        }
      ],
      "source": [
        "inter.shape"
      ]
    },
    {
      "cell_type": "code",
      "execution_count": null,
      "metadata": {
        "colab": {
          "background_save": true
        },
        "id": "dv55insCdtIo"
      },
      "outputs": [],
      "source": [
        "#inter.to_parquet(data_dir / \"interim/processed_inter.pqt\")\n",
        "inter.to_parquet(data_dir / \"interim/processed_inter_new.pqt\")"
      ]
    },
    {
      "cell_type": "markdown",
      "metadata": {
        "id": "jywhBCAGGGQS"
      },
      "source": [
        "## Merge Features\n"
      ]
    },
    {
      "cell_type": "code",
      "execution_count": null,
      "metadata": {
        "id": "cxSNgWvVuv2A"
      },
      "outputs": [],
      "source": [
        "# inter = pd.read_parquet(data_dir / \"interim/processed_inter.pqt\")\n",
        "# inter = pd.read_parquet(data_dir / \"interim/processed_inter_v2.pqt\")"
      ]
    },
    {
      "cell_type": "code",
      "execution_count": null,
      "metadata": {
        "colab": {
          "background_save": true
        },
        "id": "cSSNmcKtjU_U"
      },
      "outputs": [],
      "source": [
        "data[\"inter\"] = pd.read_parquet(data_dir / \"interim/processed_inter_new.pqt\")\n",
        "data['inter'], _ = reduce_mem_usage(data['inter'])"
      ]
    },
    {
      "cell_type": "markdown",
      "metadata": {
        "id": "-1f8QAaVjU_U"
      },
      "source": [
        "Merge features"
      ]
    },
    {
      "cell_type": "code",
      "execution_count": null,
      "metadata": {
        "colab": {
          "background_save": true
        },
        "id": "ax941Dg7jU_V",
        "scrolled": true,
        "outputId": "405f1f44-b8a6-4e12-c587-99372cc92401"
      },
      "outputs": [
        {
          "name": "stderr",
          "output_type": "stream",
          "text": [
            "100%|██████████| 6/6 [03:29<00:00, 34.94s/it]\n"
          ]
        }
      ],
      "source": [
        "for i in tqdm(range(WEEK_NUM)):\n",
        "    if i == 0 and not TEST:\n",
        "        continue\n",
        "        \n",
        "    candidate = pd.read_parquet(data_dir/\"interim\"/VERSION_NAME/f\"week{i}_candidate.pqt\")\n",
        "    # * merge features\n",
        "    candidate = merge_week_data(data, i, candidate)\n",
        "    # * merge DSSM user and item embeddings\n",
        "    #candidate[\"dssm_similarity\"] = calc_embd_similarity(candidate, dssm_user_embd, dssm_item_embd)\n",
        "    # * merge YouTubeDNN user and item embeddings\n",
        "    #candidate[\"yt_similarity\"] = calc_embd_similarity(candidate, yt_user_embd, yt_item_embd)\n",
        "\n",
        "    candidate.to_parquet(data_dir/\"processed\"/VERSION_NAME/f\"week{i}_candidate.pqt\")"
      ]
    },
    {
      "cell_type": "code",
      "execution_count": null,
      "metadata": {
        "colab": {
          "base_uri": "https://localhost:8080/"
        },
        "id": "NMlEUXgHjU_T",
        "outputId": "f94d51dd-42a5-4842-8c90-dd5486aeb6d8"
      },
      "outputs": [
        {
          "name": "stderr",
          "output_type": "stream",
          "text": [
            "100%|██████████| 6/6 [05:42<00:00, 57.07s/it]\n"
          ]
        }
      ],
      "source": [
        "candidates = {}\n",
        "for i in tqdm(range(WEEK_NUM)):\n",
        "    if i == 0 and not TEST:\n",
        "        continue\n",
        "    tmp_candidate = pd.read_parquet(data_dir/\"interim\"/VERSION_NAME/f\"week{i}_candidate.pqt\")\n",
        "    tmp_candidate = merge_week_data(data, i, tmp_candidate)\n",
        "    #tmp_candidate = merge_new_groupings(data[\"inter\"], i, tmp_candidate)\n",
        "    #tmp_candidate = tmp_candidate.drop(['t_dat_y', 'week_y'], axis=1)\n",
        "    #tmp_candidate = tmp_candidate.rename(columns={'t_dat_x':'t_dat', 'week_x':'week'})\n",
        "    tmp_candidate.to_parquet(data_dir/\"interim\"/VERSION_NAME/f\"week{i}_candidate_full.pqt\")"
      ]
    },
    {
      "cell_type": "code",
      "execution_count": null,
      "metadata": {
        "colab": {
          "base_uri": "https://localhost:8080/"
        },
        "id": "X5qTLTZNjU_U",
        "outputId": "a676db88-996f-4ffc-ebac-318dc06bde38"
      },
      "outputs": [
        {
          "name": "stderr",
          "output_type": "stream",
          "text": [
            "\r  0%|          | 0/6 [00:00<?, ?it/s]"
          ]
        }
      ],
      "source": [
        "for i in tqdm(range(WEEK_NUM)):\n",
        "    if i in candidates:\n",
        "        candidates[i] = merge_week_data(data, i, candidates[i])"
      ]
    },
    {
      "cell_type": "markdown",
      "metadata": {
        "id": "vpSRNOJPjU_U"
      },
      "source": [
        "Merge user and item embeddings"
      ]
    },
    {
      "cell_type": "code",
      "execution_count": 12,
      "metadata": {
        "id": "y4vBcZxqGdJN",
        "colab": {
          "base_uri": "https://localhost:8080/",
          "height": 168
        },
        "outputId": "fb1b2c79-1aa3-4b3a-aadd-91c3ac290f5a"
      },
      "outputs": [
        {
          "output_type": "error",
          "ename": "NameError",
          "evalue": "ignored",
          "traceback": [
            "\u001b[0;31m---------------------------------------------------------------------------\u001b[0m",
            "\u001b[0;31mNameError\u001b[0m                                 Traceback (most recent call last)",
            "\u001b[0;32m<ipython-input-12-82676aaad108>\u001b[0m in \u001b[0;36m<module>\u001b[0;34m()\u001b[0m\n\u001b[0;32m----> 1\u001b[0;31m \u001b[0mitem2image\u001b[0m \u001b[0;34m=\u001b[0m \u001b[0mnp\u001b[0m\u001b[0;34m.\u001b[0m\u001b[0marray\u001b[0m\u001b[0;34m(\u001b[0m\u001b[0mtorch\u001b[0m\u001b[0;34m.\u001b[0m\u001b[0mload\u001b[0m\u001b[0;34m(\u001b[0m\u001b[0;34mf'{path}/image_embed.pt'\u001b[0m\u001b[0;34m)\u001b[0m\u001b[0;34m)\u001b[0m\u001b[0;34m\u001b[0m\u001b[0;34m\u001b[0m\u001b[0m\n\u001b[0m",
            "\u001b[0;31mNameError\u001b[0m: name 'torch' is not defined"
          ]
        }
      ],
      "source": [
        "item2image = np.array(torch.load(f'{path}/image_embed.pt'))"
      ]
    },
    {
      "cell_type": "code",
      "execution_count": null,
      "metadata": {
        "id": "EJ_Rbo8PFmpW"
      },
      "outputs": [],
      "source": [
        "from sklearn.metrics import pairwise\n",
        "def cal_similairty(itemid1, itemid2):\n",
        "  img_sim = pairwise.euclidean_distances(item2image[itemid1].reshape(1,-1), item2image[itemid2].reshape(1,-1))\n",
        "  return img_sim[0]\n",
        "\n",
        "def generate_similarity(train_df, usr2hist_purchase, memo):\n",
        "  '''\n",
        "  Given the history purchase of the user, calculate the similarity between the candidates and all the previous purchase of this user\n",
        "  ==============\n",
        "  input: \n",
        "  transaction - df,\n",
        "  history purchase of users - series\n",
        "  memo: dict\n",
        "  output:\n",
        "  dataframe with similarity statistics\n",
        "  '''\n",
        "  sim_max, sim_min, sim_std, sim_mean, sim_sum = [], [], [], [], []\n",
        "\n",
        "  for usr_no, itm_no in tqdm(zip(train_df['customer_id'], train_df['article_id'])):\n",
        "    if usr_no in usr2hist_purchase.index:\n",
        "      sim_lst = np.zeros(len(usr2hist_purchase[usr_no]))\n",
        "      for loc, hist_itm_no in enumerate(usr2hist_purchase[usr_no]):\n",
        "        if (int(itm_no), hist_itm_no) in memo.keys():\n",
        "          # if have already recorded, just take\n",
        "          img_sim = memo[(int(itm_no), hist_itm_no)]\n",
        "        elif  (hist_itm_no, int(itm_no)) in memo.keys():\n",
        "          img_sim = memo[(hist_itm_no, int(itm_no))]\n",
        "        else:\n",
        "          img_sim = cal_similairty(int(itm_no), hist_itm_no)\n",
        "          memo[(int(itm_no), hist_itm_no)] = img_sim # record the similarity\n",
        "\n",
        "        sim_lst[loc] = img_sim\n",
        "    else:\n",
        "      sim_lst = np.array([0])\n",
        "    sim_max.append(np.max(sim_lst))\n",
        "    sim_min.append(np.min(sim_lst))\n",
        "    sim_mean.append(np.mean(sim_lst))\n",
        "    sim_std.append(np.std(sim_lst))\n",
        "    sim_sum.append(np.sum(sim_lst))\n",
        "\n",
        "  train_df['sim_max_img'] = sim_max\n",
        "  train_df['sim_min_img'] = sim_min\n",
        "  train_df['sim_mean_img'] = sim_mean\n",
        "  train_df['sim_std_img'] = sim_std\n",
        "  train_df['sim_sum_img'] = sim_sum\n",
        "\n",
        "  return train_df"
      ]
    },
    {
      "cell_type": "code",
      "execution_count": null,
      "metadata": {
        "colab": {
          "base_uri": "https://localhost:8080/"
        },
        "id": "eKMjwPTSE8qM",
        "outputId": "fc47546d-4743-4912-b5f0-ffae41503a73"
      },
      "outputs": [
        {
          "name": "stderr",
          "output_type": "stream",
          "text": [
            "5066978it [31:24, 2689.31it/s]\n",
            "3388732it [25:01, 2257.32it/s]\n",
            "4624924it [29:33, 2607.82it/s]\n",
            "5110910it [30:53, 2757.14it/s]\n",
            "3166365it [22:56, 2300.21it/s]\n"
          ]
        },
        {
          "data": {
            "text/plain": [
              "0"
            ]
          },
          "execution_count": 85,
          "metadata": {},
          "output_type": "execute_result"
        }
      ],
      "source": [
        "#similarity features\n",
        "cur_tran = data['inter']\n",
        "for i in range(WEEK_NUM):\n",
        "    if i not in candidates:\n",
        "        continue\n",
        "    tmp = candidates[i]\n",
        "    recent_transc = cur_tran[cur_tran.t_dat <= cur_tran.t_dat.max()-datetime.timedelta(7*(i)] \n",
        "    usr2hist_purchase = recent_transc.sort_values(['t_dat'],ascending=False).groupby(['customer_id']).head(7).groupby(['customer_id'])['article_id'].apply(set)\n",
        "    recent_transc = recent_transc[recent_transc.t_dat > recent_transc.t_dat.max()-datetime.timedelta(42)]\n",
        "    memo = {}\n",
        "    tmp = generate_similarity(tmp, usr2hist_purchase, memo)\n",
        "    candidates[i] = tmp\n",
        "\n",
        "del tmp, recent_transc, memo\n",
        "gc.collect()"
      ]
    },
    {
      "cell_type": "markdown",
      "metadata": {
        "id": "yl9BN0uCjU_V"
      },
      "source": [
        "Save results"
      ]
    },
    {
      "cell_type": "code",
      "execution_count": null,
      "metadata": {
        "colab": {
          "base_uri": "https://localhost:8080/"
        },
        "id": "GJh5ByW6dtIq",
        "outputId": "8334b7a5-670d-4934-f866-6dd3bc466959"
      },
      "outputs": [
        {
          "name": "stderr",
          "output_type": "stream",
          "text": [
            "100%|██████████| 5/5 [00:35<00:00,  7.01s/it]\n"
          ]
        }
      ],
      "source": [
        "for i in tqdm(candidates.keys()):\n",
        "    candidates[i].to_parquet(data_dir/\"interim\"/VERSION_NAME/f\"week{i}_candidate_full_2.pqt\")"
      ]
    },
    {
      "cell_type": "markdown",
      "metadata": {
        "id": "7Zml-cxryoU_"
      },
      "source": [
        "## Ranking\n"
      ]
    },
    {
      "cell_type": "code",
      "execution_count": 23,
      "metadata": {
        "id": "Rr-hIFxYjU_V",
        "colab": {
          "base_uri": "https://localhost:8080/"
        },
        "outputId": "68c92ce0-27bf-4b17-e880-fe803d39f241"
      },
      "outputs": [
        {
          "output_type": "stream",
          "name": "stderr",
          "text": [
            "100%|██████████| 5/5 [00:09<00:00,  1.87s/it]\n"
          ]
        }
      ],
      "source": [
        "candidates = {}\n",
        "candidates_full = {}\n",
        "labels = {}\n",
        "for i in tqdm(range(1, WEEK_NUM)):\n",
        "    candidates[i] = pd.read_parquet(data_dir/\"processed\"/VERSION_NAME/f\"week{i}_candidate.pqt\")\n",
        "    # candidates_full[i] = pd.read_parquet(data_dir/\"interim\"/VERSION_NAME/f\"week{i}_candidate_full_2.pqt\")\n",
        "    # candidates[i]['sim_max_img'] = candidates_full[i]['sim_max_img']\n",
        "    # candidates[i]['sim_min_img'] = candidates_full[i]['sim_min_img'] \n",
        "    # candidates[i]['sim_mean_img'] = candidates_full[i]['sim_mean_img'] \n",
        "    # candidates[i]['sim_std_img'] = candidates_full[i]['sim_std_img'] \n",
        "    # candidates[i]['sim_sum_img'] = candidates_full[i]['sim_sum_img'] \n",
        "    labels[i] = pd.read_parquet(data_dir/\"processed\"/VERSION_NAME/f\"week{i}_label.pqt\")   \n",
        "del  candidates_full"
      ]
    },
    {
      "cell_type": "code",
      "execution_count": 44,
      "metadata": {
        "id": "xWqYwCbsdtIr"
      },
      "outputs": [],
      "source": [
        "feats = [\n",
        "    x\n",
        "    for x in candidates[1].columns\n",
        "    if x\n",
        "    not in [\n",
        "        \"label\",\n",
        "        \"sales_channel_id\",\n",
        "        \"t_dat\",\n",
        "        \"week\",\n",
        "        # \"WeekSaleTrend_item\",\n",
        "        # \"WeekSaleTrend_pro\",\n",
        "        # \"ThreeDaySaleTrend_item\",\n",
        "        # \"ThreeDaySaleTrend_pro\",\n",
        "        # \"Item_Popularity\",\n",
        "        # \"Pro_Popularity\",\n",
        "        # 'sim_min_img',\n",
        "        # 'sim_max_img',\n",
        "        # 'sim_mean_img',\n",
        "        # 'sim_sum_img',\n",
        "        # 'sim_std_img',\n",
        "    ]\n",
        "]\n",
        "cat_features = [\n",
        "    \"customer_id\",\n",
        "    \"article_id\",\n",
        "    \"product_code\",\n",
        "    \"FN\",\n",
        "    \"Active\",\n",
        "    \"club_member_status\",\n",
        "    \"fashion_news_frequency\",\n",
        "    \"age\",\n",
        "    \"product_type_no\",\n",
        "    \"product_group_name\",\n",
        "    \"graphical_appearance_no\",\n",
        "    \"colour_group_code\",\n",
        "    \"perceived_colour_value_id\",\n",
        "    \"perceived_colour_master_id\",\n",
        "\n",
        "    \"user_gender\",\n",
        "    \"article_gender\",\n",
        "    \"season_type\"\n",
        "]\n"
      ]
    },
    {
      "cell_type": "code",
      "execution_count": 25,
      "metadata": {
        "colab": {
          "base_uri": "https://localhost:8080/"
        },
        "id": "ypTW4qegdtIr",
        "outputId": "31dd09b1-16d7-47a4-c8e6-2529ec4d4ee5"
      },
      "outputs": [
        {
          "output_type": "stream",
          "name": "stderr",
          "text": [
            "100%|██████████| 17/17 [00:00<00:00, 21.91it/s]\n"
          ]
        }
      ],
      "source": [
        "# * Convert categorical featues as `CategoricalDtype`\n",
        "cate_dict = {}        \n",
        "for feat in tqdm(cat_features):\n",
        "    if feat in data['user'].columns:\n",
        "        value_set = set(data['user'][feat].unique())\n",
        "    elif feat in data['item'].columns:\n",
        "        value_set = set(data['item'][feat].unique())\n",
        "    else:\n",
        "        value_set = set(data['inter'][feat].unique())\n",
        "    cate_dict[feat] = CategoricalDtype(categories=value_set)"
      ]
    },
    {
      "cell_type": "code",
      "source": [
        "for i in tqdm(range(1,WEEK_NUM)):\n",
        "    for feat in cat_features:\n",
        "        candidates[i][feat] = candidates[i][feat].astype(cate_dict[feat])"
      ],
      "metadata": {
        "colab": {
          "base_uri": "https://localhost:8080/"
        },
        "id": "6ff4ALeqfdxe",
        "outputId": "b2c31bc8-f4bf-4f18-9999-7f214642ad27"
      },
      "execution_count": 26,
      "outputs": [
        {
          "output_type": "stream",
          "name": "stderr",
          "text": [
            "100%|██████████| 5/5 [00:16<00:00,  3.22s/it]\n"
          ]
        }
      ]
    },
    {
      "cell_type": "markdown",
      "metadata": {
        "id": "3RojtbK9GGQU"
      },
      "source": [
        "### Train\n"
      ]
    },
    {
      "cell_type": "code",
      "execution_count": 27,
      "metadata": {
        "id": "j8c46ul0jU_X"
      },
      "outputs": [],
      "source": [
        "params = {\n",
        "    \"objective\": \"lambdarank\",#\"\",\n",
        "    \"boosting_type\": \"gbdt\",\n",
        "    \"metric\": \"map\",#\"map\",\n",
        "    \"max_depth\": 8,\n",
        "    \"num_leaves\": 128,\n",
        "    \"learning_rate\": 0.03,\n",
        "\n",
        "    \"verbose\": -1,\n",
        "    \"eval_at\": 12,\n",
        "    'seed':42\n",
        "    # 'device':'gpu'\n",
        "}"
      ]
    },
    {
      "cell_type": "code",
      "execution_count": 28,
      "metadata": {
        "id": "PDttjG9-dtIs"
      },
      "outputs": [],
      "source": [
        "# * some rules are skipped for some weeks, we need to concat them together\n",
        "# * to merge the columns\n",
        "full_data = pd.concat([candidates[i] for i in range(1, WEEK_NUM)], ignore_index=True)"
      ]
    },
    {
      "cell_type": "code",
      "execution_count": 29,
      "metadata": {
        "id": "-zFLJfbHjU_X"
      },
      "outputs": [],
      "source": [
        "rule_feats = ['ItemPairRetrieve_1', 'ItemPairRetrieve_2',\n",
        "       'ItemPairRetrieve_3', 'ItemPairRetrieve_4', 'OrderHistoryDecay_1',\n",
        "       'OrderHistoryDecay_2', 'OrderHistory_1', 'OrderHistory_2',\n",
        "       'SaleTrend_1', 'TimeHistoryDecay_1', 'TimeHistoryDecay_2',\n",
        "       'TimeHistory_1', 'TimeHistory_2', 'UGSaleTrend_1', 'UGTimeHistory_1',\n",
        "       'UGTimeHistory_2']\n",
        "# for rule in tqdm(rule_feats):\n",
        "#     mask = full_data[rule].isna()\n",
        "#     full_data.loc[mask, rule] = 0\n",
        "#     full_data.loc[~mask, rule] = 1\n",
        "# full_data['full_score'] = full_data[rule_feats].mean(axis=1)\n",
        "# full_data['rank'] = full_data.groupby(['week','customer_id'])['full_score'].rank(ascending=False)\n",
        "# feats += ['full_score', 'rank']"
      ]
    },
    {
      "cell_type": "code",
      "execution_count": 46,
      "metadata": {
        "id": "YRjuI16pjU_Z"
      },
      "outputs": [],
      "source": [
        "def train_model(full_data, valid_week_num, train_week_num=4):\n",
        "    print(\"Validating week:\", valid_week_num)\n",
        "    train = full_data[\n",
        "        (valid_week_num < full_data[\"week\"])\n",
        "        & (full_data[\"week\"] <= valid_week_num + train_week_num)\n",
        "    ]\n",
        "    valid = full_data[full_data[\"week\"] == valid_week_num]\n",
        "    train = train.sort_values(by=[\"week\", \"customer_id\"], ascending=True).reset_index(\n",
        "        drop=True\n",
        "    )\n",
        "    valid = valid.sort_values(by=[\"customer_id\"], ascending=True).reset_index(drop=True)\n",
        "    print(\"Train positive rate:\", train.label.mean())  # 0.9946384702188372 4-week\n",
        "\n",
        "    train_group = train[[\"customer_id\", \"article_id\", \"week\"]]\n",
        "    train_group = train_group.astype(\n",
        "        \"int\"\n",
        "    )  # * convert to int to avoid `0` in groupby count result\n",
        "    train_group = (\n",
        "        train_group.groupby([\"week\", \"customer_id\"])[\"article_id\"].count().values\n",
        "    )\n",
        "\n",
        "    valid_group = valid[[\"customer_id\", \"article_id\"]]\n",
        "    valid_group = valid_group.astype(\n",
        "        \"int\"\n",
        "    )  # * convert to int to avoid `0` in groupby count result\n",
        "    valid_group = valid_group.groupby([\"customer_id\"])[\"article_id\"].count().values\n",
        "\n",
        "    train_set = lgb.Dataset(\n",
        "        data=train[feats],\n",
        "        label=train[\"label\"],\n",
        "        group=train_group,\n",
        "        feature_name=feats,\n",
        "        categorical_feature=cat_features,\n",
        "        params=params,\n",
        "    )\n",
        "\n",
        "    valid_set = lgb.Dataset(\n",
        "        data=valid[feats],\n",
        "        label=valid[\"label\"],\n",
        "        group=valid_group,\n",
        "        feature_name=feats,\n",
        "        categorical_feature=cat_features,\n",
        "        params=params,\n",
        "    )\n",
        "\n",
        "    ranker = lgb.train(\n",
        "        params,\n",
        "        train_set,\n",
        "        num_boost_round=300,\n",
        "        valid_sets=[valid_set],\n",
        "        early_stopping_rounds=30,\n",
        "        verbose_eval=10,\n",
        "    )\n",
        "    ranker.save_model(\n",
        "        f\"../src/data/lgb_ranker_{valid_week_num}.model\",\n",
        "        num_iteration=ranker.best_iteration,\n",
        "    )\n",
        "    return ranker"
      ]
    },
    {
      "cell_type": "code",
      "source": [
        "def train_binary_model(full_data, valid_week_num, train_week_num=4):\n",
        "    print(\"Validating week:\", valid_week_num)\n",
        "    train = full_data[\n",
        "        (valid_week_num < full_data[\"week\"])\n",
        "        & (full_data[\"week\"] <= valid_week_num + train_week_num)\n",
        "    ]\n",
        "    valid = full_data[full_data[\"week\"] == valid_week_num]\n",
        "\n",
        "    print(\"Train positive rate:\", train.label.mean())  # 0.9946384702188372 4-week\n",
        "\n",
        "\n",
        "    train_set = lgb.Dataset(\n",
        "        data=train[feats],\n",
        "        label=train[\"label\"],\n",
        "        feature_name=feats,\n",
        "        categorical_feature=cat_features,\n",
        "        params=params,\n",
        "    )\n",
        "\n",
        "    valid_set = lgb.Dataset(\n",
        "        data=valid[feats],\n",
        "        label=valid[\"label\"],\n",
        "        feature_name=feats,\n",
        "        categorical_feature=cat_features,\n",
        "        params=params,\n",
        "    )\n",
        "\n",
        "    ranker = lgb.train(\n",
        "        params,\n",
        "        train_set,\n",
        "        num_boost_round=300,\n",
        "        valid_sets=[valid_set],\n",
        "        early_stopping_rounds=30,\n",
        "        verbose_eval=10,\n",
        "    )\n",
        "    ranker.save_model(\n",
        "        f\"../src/data/lgb_ranker_{valid_week_num}.model\",\n",
        "        num_iteration=ranker.best_iteration,\n",
        "    )\n",
        "    return ranker"
      ],
      "metadata": {
        "id": "JpdD7OTeftyE"
      },
      "execution_count": 31,
      "outputs": []
    },
    {
      "cell_type": "markdown",
      "source": [
        "baseline"
      ],
      "metadata": {
        "id": "_7BdmSHmtzJS"
      }
    },
    {
      "cell_type": "code",
      "source": [
        "# ranker = train_model(full_data, 1, 4) # 0.82846 4-week 0.853142\n",
        "ranker = train_model(full_data, 1, 4)\n",
        "# 0.703171 -> 0.709413"
      ],
      "metadata": {
        "colab": {
          "base_uri": "https://localhost:8080/"
        },
        "id": "y1EWoeSDt0_r",
        "outputId": "bcd9a42e-93d8-403f-e4ec-4a3002c6d54e"
      },
      "execution_count": 47,
      "outputs": [
        {
          "output_type": "stream",
          "name": "stdout",
          "text": [
            "Validating week: 1\n",
            "Train positive rate: 0.005362918422285184\n",
            "Training until validation scores don't improve for 30 rounds.\n",
            "[10]\tvalid_0's map@12: 0.797104\n",
            "[20]\tvalid_0's map@12: 0.796872\n",
            "[30]\tvalid_0's map@12: 0.796614\n",
            "Early stopping, best iteration is:\n",
            "[3]\tvalid_0's map@12: 0.79732\n"
          ]
        }
      ]
    },
    {
      "cell_type": "code",
      "source": [
        "feat_importance = pd.DataFrame(\n",
        "    {\"feature\": feats, \"importance\": ranker.feature_importance()}\n",
        ").sort_values(by=\"importance\", ascending=False)\n",
        "plt.figure(figsize=(8, 18))\n",
        "sns.barplot(y=\"feature\", x=\"importance\", data=feat_importance)"
      ],
      "metadata": {
        "colab": {
          "base_uri": "https://localhost:8080/",
          "height": 1000
        },
        "id": "zTsO56mouaAU",
        "outputId": "62620cfe-fd53-47c0-c0fd-02e01f5f382e"
      },
      "execution_count": 48,
      "outputs": [
        {
          "output_type": "execute_result",
          "data": {
            "text/plain": [
              "<Figure size 576x1296 with 0 Axes>"
            ]
          },
          "metadata": {},
          "execution_count": 48
        },
        {
          "output_type": "execute_result",
          "data": {
            "text/plain": [
              "<matplotlib.axes._subplots.AxesSubplot at 0x7f7f004ecc50>"
            ]
          },
          "metadata": {},
          "execution_count": 48
        },
        {
          "output_type": "display_data",
          "data": {
            "text/plain": [
              "<Figure size 576x1296 with 1 Axes>"
            ],
            "image/png": "[encoded data removed]"
          },
          "metadata": {
            "needs_background": "light"
          }
        }
      ]
    },
    {
      "cell_type": "markdown",
      "source": [
        "similarity"
      ],
      "metadata": {
        "id": "TG1-3IJutxgg"
      }
    },
    {
      "cell_type": "code",
      "source": [
        "# ranker = train_model(full_data, 1, 4) # 0.82846 4-week 0.853142\n",
        "ranker = train_model(full_data, 1, 4)\n",
        "# 0.703171 -> 0.709413"
      ],
      "metadata": {
        "colab": {
          "base_uri": "https://localhost:8080/"
        },
        "id": "FaCMuCOsfwxY",
        "outputId": "9eff5336-dbd3-4aa8-9d15-8b66abd7ad7e"
      },
      "execution_count": 37,
      "outputs": [
        {
          "output_type": "stream",
          "name": "stdout",
          "text": [
            "Validating week: 1\n",
            "Train positive rate: 0.005362918422285184\n",
            "Training until validation scores don't improve for 30 rounds.\n",
            "[10]\tvalid_0's map@12: 0.797582\n",
            "[20]\tvalid_0's map@12: 0.797597\n",
            "[30]\tvalid_0's map@12: 0.797907\n",
            "[40]\tvalid_0's map@12: 0.798096\n",
            "[50]\tvalid_0's map@12: 0.798493\n",
            "[60]\tvalid_0's map@12: 0.798776\n",
            "[70]\tvalid_0's map@12: 0.798948\n",
            "[80]\tvalid_0's map@12: 0.798989\n",
            "[90]\tvalid_0's map@12: 0.799075\n",
            "[100]\tvalid_0's map@12: 0.79918\n",
            "[110]\tvalid_0's map@12: 0.799192\n",
            "[120]\tvalid_0's map@12: 0.799187\n",
            "[130]\tvalid_0's map@12: 0.799287\n",
            "[140]\tvalid_0's map@12: 0.799325\n",
            "[150]\tvalid_0's map@12: 0.799313\n",
            "[160]\tvalid_0's map@12: 0.799403\n",
            "[170]\tvalid_0's map@12: 0.79944\n",
            "[180]\tvalid_0's map@12: 0.799454\n",
            "[190]\tvalid_0's map@12: 0.799549\n",
            "[200]\tvalid_0's map@12: 0.799596\n",
            "[210]\tvalid_0's map@12: 0.799581\n",
            "[220]\tvalid_0's map@12: 0.799566\n",
            "[230]\tvalid_0's map@12: 0.799581\n",
            "[240]\tvalid_0's map@12: 0.799666\n",
            "[250]\tvalid_0's map@12: 0.799645\n",
            "[260]\tvalid_0's map@12: 0.799687\n",
            "[270]\tvalid_0's map@12: 0.799701\n",
            "[280]\tvalid_0's map@12: 0.799668\n",
            "Early stopping, best iteration is:\n",
            "[256]\tvalid_0's map@12: 0.799717\n"
          ]
        }
      ]
    },
    {
      "cell_type": "code",
      "source": [
        "feat_importance = pd.DataFrame(\n",
        "    {\"feature\": feats, \"importance\": ranker.feature_importance()}\n",
        ").sort_values(by=\"importance\", ascending=False)\n",
        "plt.figure(figsize=(8, 18))\n",
        "sns.barplot(y=\"feature\", x=\"importance\", data=feat_importance)"
      ],
      "metadata": {
        "colab": {
          "base_uri": "https://localhost:8080/",
          "height": 1000
        },
        "id": "M8w1FKrugDFd",
        "outputId": "79ffcf87-8904-4675-dd95-29f13b236244"
      },
      "execution_count": 38,
      "outputs": [
        {
          "output_type": "execute_result",
          "data": {
            "text/plain": [
              "<Figure size 576x1296 with 0 Axes>"
            ]
          },
          "metadata": {},
          "execution_count": 38
        },
        {
          "output_type": "execute_result",
          "data": {
            "text/plain": [
              "<matplotlib.axes._subplots.AxesSubplot at 0x7f855a995dd0>"
            ]
          },
          "metadata": {},
          "execution_count": 38
        },
        {
          "output_type": "display_data",
          "data": {
            "text/plain": [
              "<Figure size 576x1296 with 1 Axes>"
            ],
            "image/png": "[encoded data removed]"
          },
          "metadata": {
            "needs_background": "light"
          }
        }
      ]
    },
    {
      "cell_type": "markdown",
      "metadata": {
        "id": "KbFdGrYRdtIt"
      },
      "source": [
        "### Inference"
      ]
    },
    {
      "cell_type": "code",
      "execution_count": null,
      "metadata": {
        "id": "hl3DPTaBGGQV"
      },
      "outputs": [],
      "source": [
        "ranker = lgb.Booster(model_file=\"../src/data/interim/lgb_ranker_with_sim.model\")"
      ]
    },
    {
      "cell_type": "markdown",
      "metadata": {
        "id": "lLWs-Z5CGGQV"
      },
      "source": [
        "### Validate"
      ]
    },
    {
      "cell_type": "code",
      "execution_count": 39,
      "metadata": {
        "id": "SSpgfI0mdtIv"
      },
      "outputs": [],
      "source": [
        "val_candidates = full_data[full_data[\"week\"] == 1].reset_index(drop=True)"
      ]
    },
    {
      "cell_type": "code",
      "source": [
        "def predict(ranker, candidates, batch_size = 5_000_000):\n",
        "    probs = np.zeros(candidates.shape[0])\n",
        "    for batch in range(0, candidates.shape[0], batch_size):\n",
        "        outputs = ranker.predict(candidates.loc[batch : batch + batch_size - 1, feats])\n",
        "        probs[batch : batch + batch_size] = outputs\n",
        "    candidates[\"prob\"] = probs\n",
        "    pred_lgb = candidates[['customer_id','article_id','prob']]\n",
        "    pred_lgb = pred_lgb.sort_values(by=[\"customer_id\",\"prob\"], ascending=False).reset_index(drop=True)\n",
        "    pred_lgb.rename(columns={'article_id':'prediction'}, inplace=True)\n",
        "    pred_lgb = pred_lgb.drop_duplicates(['customer_id', 'prediction'], keep='first')\n",
        "    pred_lgb['customer_id'] = pred_lgb['customer_id'].astype(int)\n",
        "    pred_lgb = pred_lgb.groupby(\"customer_id\")[\"prediction\"].progress_apply(list).reset_index()\n",
        "    return pred_lgb"
      ],
      "metadata": {
        "id": "SoOaEsS7gKS9"
      },
      "execution_count": 40,
      "outputs": []
    },
    {
      "cell_type": "code",
      "execution_count": 49,
      "metadata": {
        "colab": {
          "base_uri": "https://localhost:8080/"
        },
        "id": "ylrFuWBvdtIv",
        "outputId": "57cc9e35-7eb8-4d0b-8b35-029e7c34e02f"
      },
      "outputs": [
        {
          "output_type": "stream",
          "name": "stderr",
          "text": [
            "100%|██████████| 80093/80093 [00:06<00:00, 13058.95it/s]\n"
          ]
        }
      ],
      "source": [
        "pred = predict(ranker, val_candidates)"
      ]
    },
    {
      "cell_type": "code",
      "execution_count": 50,
      "metadata": {
        "id": "G1Qh3k2aGGQW"
      },
      "outputs": [],
      "source": [
        "label = labels[1]\n",
        "label = pd.merge(label, pred, on=\"customer_id\", how=\"left\")"
      ]
    },
    {
      "cell_type": "markdown",
      "source": [
        "baseline"
      ],
      "metadata": {
        "id": "UMTyer4-unHk"
      }
    },
    {
      "cell_type": "code",
      "source": [
        "map_at_k(label[\"article_id\"], label[\"prediction\"], k=12)\n"
      ],
      "metadata": {
        "colab": {
          "base_uri": "https://localhost:8080/"
        },
        "id": "DOdQeJgyuoqt",
        "outputId": "fb4395db-d743-4a4a-a563-899de72b2c6f"
      },
      "execution_count": 51,
      "outputs": [
        {
          "output_type": "execute_result",
          "data": {
            "text/plain": [
              "0.027645591265924453"
            ]
          },
          "metadata": {},
          "execution_count": 51
        }
      ]
    },
    {
      "cell_type": "markdown",
      "source": [
        "similarity"
      ],
      "metadata": {
        "id": "mKQEeE-ctMM6"
      }
    },
    {
      "cell_type": "code",
      "execution_count": 43,
      "metadata": {
        "colab": {
          "base_uri": "https://localhost:8080/"
        },
        "id": "XrFnQ2evGGQW",
        "outputId": "067d1e02-7320-4851-8ac3-09ef6e4b3694"
      },
      "outputs": [
        {
          "output_type": "execute_result",
          "data": {
            "text/plain": [
              "0.029375463664053445"
            ]
          },
          "metadata": {},
          "execution_count": 43
        }
      ],
      "source": [
        "map_at_k(label[\"article_id\"], label[\"prediction\"], k=12)\n",
        "\n",
        "# 0.02820525160663368 1-week add normalization\n",
        "# 0.028936597823123886 4-week 0.0274\n",
        "# 0.029111989281461418 4-week drop full-negative customer\n",
        "# 0.029165419468984943 3-week 0.0270\n",
        "# 0.028297597743100006 6 week 0.0250\n",
        "\n",
        "# 0.02863472423766257 4 week\n",
        "# 0.02882844782917304 4 week\n",
        "# 0.028909064246733205 4 week\n",
        "# 0.029366338019601947 4 week"
      ]
    },
    {
      "cell_type": "markdown",
      "metadata": {
        "id": "ZnIixtoT4AY8"
      },
      "source": [
        "baseline:0.0286\n",
        "with image similarity:0.0277"
      ]
    },
    {
      "cell_type": "markdown",
      "metadata": {
        "id": "jFlIej0GjU_c"
      },
      "source": [
        "### Test"
      ]
    },
    {
      "cell_type": "code",
      "execution_count": null,
      "metadata": {
        "id": "ddTD4xqIjU_c",
        "scrolled": true
      },
      "outputs": [],
      "source": [
        "full_data = pd.concat(candidates[i] for i in range(1, WEEK_NUM))\n",
        "train_ag = full_data\n",
        "\n",
        "del full_data"
      ]
    },
    {
      "cell_type": "code",
      "execution_count": null,
      "metadata": {
        "id": "cwi2WZgujU_d"
      },
      "outputs": [],
      "source": [
        "train_ag = train_ag.sort_values(by=['week', 'customer_id'],ascending=True).reset_index(drop=True)\n",
        "\n",
        "train_ag_group = train_ag[[\"customer_id\", \"article_id\", \"week\"]]\n",
        "train_ag_group = train_ag_group.astype(\"int\")\n",
        "train_ag_group = train_ag_group.groupby([\"week\",\"customer_id\"])['article_id'].count().values"
      ]
    },
    {
      "cell_type": "code",
      "execution_count": null,
      "metadata": {
        "id": "x7FdboECjU_d",
        "outputId": "92b1310e-a7d2-495d-8a23-843c4b8406d5"
      },
      "outputs": [
        {
          "name": "stdout",
          "output_type": "stream",
          "text": [
            "[10]\ttraining's map@12: 0.819237\n",
            "[20]\ttraining's map@12: 0.820026\n",
            "[30]\ttraining's map@12: 0.820287\n",
            "[40]\ttraining's map@12: 0.820511\n",
            "[50]\ttraining's map@12: 0.820685\n",
            "[60]\ttraining's map@12: 0.820875\n",
            "[70]\ttraining's map@12: 0.821112\n",
            "[80]\ttraining's map@12: 0.821273\n",
            "[90]\ttraining's map@12: 0.821479\n",
            "[100]\ttraining's map@12: 0.821656\n",
            "[110]\ttraining's map@12: 0.821777\n",
            "[120]\ttraining's map@12: 0.821992\n"
          ]
        }
      ],
      "source": [
        "params = {\n",
        "    \"objective\": \"lambdarank\",\n",
        "    \"boosting_type\": \"gbdt\",\n",
        "    \"metric\": \"map\",\n",
        "    \"max_depth\": 8,\n",
        "    \"num_leaves\": 128,\n",
        "    \"learning_rate\": 0.01,\n",
        "    \"verbose\": -1,\n",
        "    \"eval_at\": 12,\n",
        "}\n",
        "\n",
        "train_ag_set = lgb.Dataset(\n",
        "    data=train_ag[feats],\n",
        "    label=train_ag[\"label\"],\n",
        "    group=train_ag_group,\n",
        "    feature_name=feats,\n",
        "    categorical_feature=cat_features,\n",
        "    params=params,\n",
        ")\n",
        "\n",
        "ranker_ag = lgb.train(\n",
        "    params,\n",
        "    train_ag_set,\n",
        "    num_boost_round=121,\n",
        "    valid_sets=[train_ag_set],\n",
        "    verbose_eval=10\n",
        ")"
      ]
    },
    {
      "cell_type": "code",
      "execution_count": null,
      "metadata": {
        "id": "BEXggv6DjU_d",
        "outputId": "89b0a8ff-2871-4117-ed78-7cf8ed450dd2"
      },
      "outputs": [
        {
          "data": {
            "text/plain": [
              "<Figure size 576x864 with 0 Axes>"
            ]
          },
          "execution_count": 128,
          "metadata": {},
          "output_type": "execute_result"
        },
        {
          "data": {
            "text/plain": [
              "<AxesSubplot:xlabel='importance', ylabel='feature'>"
            ]
          },
          "execution_count": 128,
          "metadata": {},
          "output_type": "execute_result"
        },
        {
          "data": {
            "image/png": "[encoded data removed]",
            "text/plain": [
              "<Figure size 576x864 with 1 Axes>"
            ]
          },
          "metadata": {},
          "output_type": "display_data"
        }
      ],
      "source": [
        "feat_importance = pd.DataFrame(\n",
        "    {\"feature\": feats, \"importance\": ranker_ag.feature_importance()}\n",
        ").sort_values(by=\"importance\", ascending=False)\n",
        "plt.figure(figsize=(8, 12))\n",
        "sns.barplot(y=\"feature\", x=\"importance\", data=feat_importance)"
      ]
    },
    {
      "cell_type": "code",
      "execution_count": null,
      "metadata": {
        "id": "InYbPXR8jU_d",
        "outputId": "a786d1dc-39e2-4c69-819a-de23a52588e7"
      },
      "outputs": [
        {
          "data": {
            "text/plain": [
              "<lightgbm.basic.Booster at 0x7f0ba86a23c8>"
            ]
          },
          "execution_count": 129,
          "metadata": {},
          "output_type": "execute_result"
        }
      ],
      "source": [
        "ranker_ag.save_model(data_dir / \"interim/lgb_ranker_ag.model\")"
      ]
    },
    {
      "cell_type": "code",
      "execution_count": null,
      "metadata": {
        "id": "Eh-H0m5zjU_d"
      },
      "outputs": [],
      "source": [
        "ranker_ag = lgb.Booster(model_file=data_dir / \"interim/lgb_ranker_ag.model\")"
      ]
    },
    {
      "cell_type": "code",
      "execution_count": null,
      "metadata": {
        "id": "1inpy64TjU_d"
      },
      "outputs": [],
      "source": [
        "test_candidates = candidates[0].reset_index(drop=True)"
      ]
    },
    {
      "cell_type": "code",
      "execution_count": null,
      "metadata": {
        "id": "JIPLOxUsjU_d",
        "outputId": "42c83383-03bf-4033-9839-a296918b45e5"
      },
      "outputs": [
        {
          "data": {
            "text/plain": [
              "Index(['customer_id', 'article_id', 'ItemPairRetrieve1', 'ItemPairRetrieve2',\n",
              "       'ItemPairRetrieve3', 'ItemPairRetrieve4', 'OrderHistoryDecay_3_top50',\n",
              "       'OrderHistoryDecay_7_top50', 'OrderHistory_3', 'OrderHistory_7',\n",
              "       'SaleTrend_7_top4', 'TimeHistoryDecay_3_top31',\n",
              "       'TimeHistoryDecay_7_top24', 'TimeHistory_25_1', 'TimeHistory_30_2',\n",
              "       'UGSaleTrend_7_top3', 'UGTimeHistory_age_bins_351',\n",
              "       'UGTimeHistory_age_bins_38.52', 't_dat', 'price', 'sales_channel_id',\n",
              "       'product_code', 'week', 'item_sale', 'pro_sale', 'item_sale_uni',\n",
              "       'pro_sale_uni', 'item_sale_ratio', 'item_sale_uni_ratio',\n",
              "       'product_type_no_sale', 'product_group_name_sale',\n",
              "       'graphical_appearance_no_sale', 'colour_group_code_sale',\n",
              "       'perceived_colour_value_id_sale', 'perceived_colour_master_id_sale',\n",
              "       'i_repurchase_ratio', 'p_repurchase_ratio', 'purchased_item',\n",
              "       'purchased_pro', 'FN', 'Active', 'club_member_status',\n",
              "       'fashion_news_frequency', 'age', 'product_type_no',\n",
              "       'product_group_name', 'graphical_appearance_no', 'colour_group_code',\n",
              "       'perceived_colour_value_id', 'perceived_colour_master_id',\n",
              "       'dssm_similarity', 'yt_similarity', 'age_bucket',\n",
              "       'item_sale_by_channel', 'pro_sale_by_channel',\n",
              "       'item_sale_uni_by_channel', 'pro_sale_uni_by_channel',\n",
              "       'item_sale_ratio_by_channel', 'item_sale_uni_ratio_by_channel',\n",
              "       'item_sale_by_age', 'pro_sale_by_age', 'item_sale_uni_by_age',\n",
              "       'pro_sale_uni_by_age', 'item_sale_ratio_by_age',\n",
              "       'item_sale_uni_ratio_by_age', 'colour_group_name_cat_cat_code',\n",
              "       'department_no', 'ct', 'year', 'month', 'is_month_end',\n",
              "       'is_month_start'],\n",
              "      dtype='object')"
            ]
          },
          "execution_count": 132,
          "metadata": {},
          "output_type": "execute_result"
        }
      ],
      "source": [
        "test_candidates.columns"
      ]
    },
    {
      "cell_type": "code",
      "execution_count": null,
      "metadata": {
        "id": "kpnF7Y0fjU_e"
      },
      "outputs": [],
      "source": [
        "# As the threshold is set mannually when generating candidates for test set, we need to change the name of the columns\n",
        "test_candidates.rename(columns = {\n",
        "    'SaleTrend_7_top4':'SaleTrend_7_top50', \n",
        "    'TimeHistoryDecay_3_top31':'TimeHistoryDecay_3_top50',\n",
        "    'TimeHistoryDecay_7_top24':'TimeHistoryDecay_7_top50',\n",
        "    'TimeHistory_25_1':'TimeHistory_50_1', \n",
        "    'TimeHistory_30_2':'TimeHistory_50_2', \n",
        "    'UGSaleTrend_3_top2':'UGSaleTrend_7_top50', \n",
        "    'UGTimeHistory_age_bins_351':'UGTimeHistory_age_bins_501',\n",
        "    'UGTimeHistory_age_bins_38.52':'UGTimeHistory_age_bins_502'\n",
        "},inplace=True)"
      ]
    },
    {
      "cell_type": "code",
      "execution_count": null,
      "metadata": {
        "colab": {
          "base_uri": "https://localhost:8080/"
        },
        "id": "1dg1Gg3KjU_e",
        "outputId": "493c337e-062a-4fda-f209-4eae217902e9"
      },
      "outputs": [
        {
          "name": "stderr",
          "output_type": "stream",
          "text": [
            "100%|██████████| 20/20 [03:36<00:00, 10.82s/it]\n"
          ]
        }
      ],
      "source": [
        "probs = np.zeros(test_candidates.shape[0])\n",
        "batch_size = 5_000_000\n",
        "for batch in tqdm(range(0, test_candidates.shape[0], batch_size)):\n",
        "    outputs = ranker_ag.predict(test_candidates.loc[batch : batch + batch_size - 1, feats])\n",
        "    probs[batch : batch + batch_size] = outputs"
      ]
    },
    {
      "cell_type": "code",
      "execution_count": null,
      "metadata": {
        "id": "dVLVkEqRjU_e"
      },
      "outputs": [],
      "source": [
        "test_candidates[\"prob\"] = probs"
      ]
    },
    {
      "cell_type": "code",
      "execution_count": null,
      "metadata": {
        "id": "F97-dJjHjU_e"
      },
      "outputs": [],
      "source": [
        "pred_lgb = test_candidates[['customer_id','article_id','prob']]\n",
        "pred_lgb = pred_lgb.sort_values(by=[\"customer_id\",\"prob\"], ascending=False).reset_index(drop=True)\n",
        "pred_lgb.rename(columns={'article_id':'prediction'}, inplace=True)"
      ]
    },
    {
      "cell_type": "code",
      "execution_count": null,
      "metadata": {
        "id": "ITNlftc0jU_e"
      },
      "outputs": [],
      "source": [
        "idx2uid = pickle.load(open(data_dir/\"index_id_map/user_index2id.pkl\", \"rb\"))\n",
        "idx2iid = pickle.load(open(data_dir/\"index_id_map/item_index2id.pkl\", \"rb\"))"
      ]
    },
    {
      "cell_type": "code",
      "execution_count": null,
      "metadata": {
        "id": "0WOf0afkjU_e",
        "outputId": "bb933d41-177d-4d5b-d8c9-069c0f2586e7"
      },
      "outputs": [
        {
          "name": "stderr",
          "output_type": "stream",
          "text": [
            "  0%|          | 77317/99187505 [00:00<10:28, 157713.98it/s]\n",
            "100%|██████████| 1371980/1371980 [03:04<00:00, 7447.03it/s]\n",
            "100%|██████████| 1371980/1371980 [00:02<00:00, 497061.66it/s]\n"
          ]
        }
      ],
      "source": [
        "pred_lgb['prediction'] = pred_lgb['prediction'].map(idx2iid).progress_apply(lambda x:'0'+str(x))\n",
        "pred_lgb = pred_lgb.groupby('customer_id')['prediction'].progress_apply(list).reset_index()\n",
        "pred_lgb['prediction'] = pred_lgb['prediction'].progress_apply(lambda x: ' '.join(x[:12]))"
      ]
    },
    {
      "cell_type": "code",
      "execution_count": null,
      "metadata": {
        "id": "mF_-h4aujU_e"
      },
      "outputs": [],
      "source": [
        "uid2idx = pickle.load(open(data_dir/\"index_id_map/user_id2index.pkl\", \"rb\"))\n",
        "submission = pd.read_csv(data_dir/\"raw\"/'sample_submission.csv')\n",
        "submission['customer_id'] = submission['customer_id'].map(uid2idx)"
      ]
    },
    {
      "cell_type": "code",
      "execution_count": null,
      "metadata": {
        "id": "ww4B0Mx2jU_f"
      },
      "outputs": [],
      "source": [
        "del submission['prediction']\n",
        "submission = submission.merge(pred_lgb, on='customer_id', how='left')\n",
        "submission['customer_id'] = submission['customer_id'].map(idx2uid)"
      ]
    },
    {
      "cell_type": "code",
      "execution_count": null,
      "metadata": {
        "id": "8WUkUOPKjU_f"
      },
      "outputs": [],
      "source": [
        "submission.to_csv('submission.csv.gz', index=False)"
      ]
    },
    {
      "cell_type": "code",
      "execution_count": null,
      "metadata": {
        "id": "gkb6y9FajU_f",
        "outputId": "2516ab53-a58e-49e6-e2f6-1de7cc40b9f9"
      },
      "outputs": [
        {
          "data": {
            "text/html": [
              "<div>\n",
              "<style scoped>\n",
              "    .dataframe tbody tr th:only-of-type {\n",
              "        vertical-align: middle;\n",
              "    }\n",
              "\n",
              "    .dataframe tbody tr th {\n",
              "        vertical-align: top;\n",
              "    }\n",
              "\n",
              "    .dataframe thead th {\n",
              "        text-align: right;\n",
              "    }\n",
              "</style>\n",
              "<table border=\"1\" class=\"dataframe\">\n",
              "  <thead>\n",
              "    <tr style=\"text-align: right;\">\n",
              "      <th></th>\n",
              "      <th>customer_id</th>\n",
              "      <th>prediction</th>\n",
              "    </tr>\n",
              "  </thead>\n",
              "  <tbody>\n",
              "    <tr>\n",
              "      <th>0</th>\n",
              "      <td>00000dbacae5abe5e23885899a1fa44253a17956c6d1c3...</td>\n",
              "      <td>0779781015 0568601043 0858856005 0918522001 09...</td>\n",
              "    </tr>\n",
              "    <tr>\n",
              "      <th>1</th>\n",
              "      <td>0000423b00ade91418cceaf3b26c6af3dd342b51fd051e...</td>\n",
              "      <td>0918522001 0924243001 0918292001 0924243002 09...</td>\n",
              "    </tr>\n",
              "    <tr>\n",
              "      <th>2</th>\n",
              "      <td>000058a12d5b43e67d225668fa1f8d618c13dc232df0ca...</td>\n",
              "      <td>0794321007 0805000001 0918522001 0924243001 09...</td>\n",
              "    </tr>\n",
              "    <tr>\n",
              "      <th>3</th>\n",
              "      <td>00005ca1c9ed5f5146b52ac8639a40ca9d57aeff4d1bd2...</td>\n",
              "      <td>0930380001 0918522001 0924243001 0924243002 09...</td>\n",
              "    </tr>\n",
              "    <tr>\n",
              "      <th>4</th>\n",
              "      <td>00006413d8573cd20ed7128e53b7b13819fe5cfc2d801f...</td>\n",
              "      <td>0896152001 0791587001 0927530006 0730683050 08...</td>\n",
              "    </tr>\n",
              "  </tbody>\n",
              "</table>\n",
              "</div>"
            ],
            "text/plain": [
              "                                         customer_id  \\\n",
              "0  00000dbacae5abe5e23885899a1fa44253a17956c6d1c3...   \n",
              "1  0000423b00ade91418cceaf3b26c6af3dd342b51fd051e...   \n",
              "2  000058a12d5b43e67d225668fa1f8d618c13dc232df0ca...   \n",
              "3  00005ca1c9ed5f5146b52ac8639a40ca9d57aeff4d1bd2...   \n",
              "4  00006413d8573cd20ed7128e53b7b13819fe5cfc2d801f...   \n",
              "\n",
              "                                          prediction  \n",
              "0  0779781015 0568601043 0858856005 0918522001 09...  \n",
              "1  0918522001 0924243001 0918292001 0924243002 09...  \n",
              "2  0794321007 0805000001 0918522001 0924243001 09...  \n",
              "3  0930380001 0918522001 0924243001 0924243002 09...  \n",
              "4  0896152001 0791587001 0927530006 0730683050 08...  "
            ]
          },
          "execution_count": 142,
          "metadata": {},
          "output_type": "execute_result"
        }
      ],
      "source": [
        "submission.head()"
      ]
    },
    {
      "cell_type": "markdown",
      "metadata": {
        "id": "9LaETwFrjU_f"
      },
      "source": [
        "### Submit"
      ]
    },
    {
      "cell_type": "code",
      "execution_count": null,
      "metadata": {
        "id": "ZMWMuE5jjU_f"
      },
      "outputs": [],
      "source": [
        "submit_msg = \"\"\"\n",
        "0.029366338019601947 4-week\n",
        "---\n",
        "OrderHistory(train, 3),\n",
        "OrderHistory(train, 7),\n",
        "OrderHistoryDecay(train, 3, n=50),\n",
        "OrderHistoryDecay(train, 7, n=50),\n",
        "ItemPair(OrderHistory(train, 3).retrieve(), name='1'),\n",
        "ItemPair(OrderHistory(train, 7).retrieve(), name='2'),\n",
        "ItemPair(OrderHistoryDecay(train, 3, n=50).retrieve(), name='3'),\n",
        "ItemPair(OrderHistoryDecay(train, 7, n=50).retrieve(), name='4'),\n",
        "UserGroupTimeHistory(data, customer_list, last_week, ['age_bins'], n=50 if week!=0 else 15, name='1'),\n",
        "UserGroupTimeHistory(data, customer_list, last_3days, ['age_bins'], n=50 if week!=0 else 20.5, name='2'),\n",
        "UserGroupSaleTrend(data, customer_list, train, ['age_bins'], 7, n=50 if week!=0 else 2),\n",
        "TimeHistory(customer_list, last_week, n=50 if week!=0 else 9, name='1'),\n",
        "TimeHistory(customer_list, last_3days, n=50 if week!=0 else 16, name='2'),\n",
        "TimeHistoryDecay(customer_list, train, 3, n=50 if week!=0 else 12),\n",
        "TimeHistoryDecay(customer_list, train, 7, n=50 if week!=0 else 8),\n",
        "SaleTrend(customer_list, train, 7, n=50 if week!=0 else 2)\n",
        "---\n",
        "min_pos_rate = 0.005 & cluster articles, groupings on channel & age, age bucket, month, year, \n",
        "month start, end, sales channel, removed age\n",
        "pivot\n",
        "\"\"\""
      ]
    },
    {
      "cell_type": "code",
      "execution_count": null,
      "metadata": {
        "id": "vWzNkxaWjU_f",
        "outputId": "1fd07193-1dba-48ec-957c-2322d4b757ab"
      },
      "outputs": [
        {
          "data": {
            "text/plain": [
              "\"\\n0.029366338019601947 4-week\\n---\\nOrderHistory(train, 3),\\nOrderHistory(train, 7),\\nOrderHistoryDecay(train, 3, n=50),\\nOrderHistoryDecay(train, 7, n=50),\\nItemPair(OrderHistory(train, 3).retrieve(), name='1'),\\nItemPair(OrderHistory(train, 7).retrieve(), name='2'),\\nItemPair(OrderHistoryDecay(train, 3, n=50).retrieve(), name='3'),\\nItemPair(OrderHistoryDecay(train, 7, n=50).retrieve(), name='4'),\\nUserGroupTimeHistory(data, customer_list, last_week, ['age_bins'], n=50 if week!=0 else 15, name='1'),\\nUserGroupTimeHistory(data, customer_list, last_3days, ['age_bins'], n=50 if week!=0 else 20.5, name='2'),\\nUserGroupSaleTrend(data, customer_list, train, ['age_bins'], 7, n=50 if week!=0 else 2),\\nTimeHistory(customer_list, last_week, n=50 if week!=0 else 9, name='1'),\\nTimeHistory(customer_list, last_3days, n=50 if week!=0 else 16, name='2'),\\nTimeHistoryDecay(customer_list, train, 3, n=50 if week!=0 else 12),\\nTimeHistoryDecay(customer_list, train, 7, n=50 if week!=0 else 8),\\nSaleTrend(customer_list, train, 7, n=50 if week!=0 else 2)\\n---\\nmin_pos_rate = 0.005 & cluster articles, groupings on channel & age, age bucket, month, year, \\nmonth start, end, sales channel, removed age\\npivot\\n\""
            ]
          },
          "execution_count": 144,
          "metadata": {},
          "output_type": "execute_result"
        }
      ],
      "source": [
        "submit_msg"
      ]
    },
    {
      "cell_type": "code",
      "execution_count": null,
      "metadata": {
        "id": "PklHOUAfjU_f",
        "outputId": "ba07df4c-68dc-48d5-fcbc-1f055f078971"
      },
      "outputs": [
        {
          "name": "stdout",
          "output_type": "stream",
          "text": [
            "Warning: Looks like you're using an outdated API Version, please consider updating (server 1.5.12 / client 1.5.6)\n",
            "100%|######################################| 66.2M/66.2M [00:03<00:00, 19.3MB/s]\n",
            "Successfully submitted to H&M Personalized Fashion Recommendations"
          ]
        }
      ],
      "source": [
        "! kaggle competitions submit -c h-and-m-personalized-fashion-recommendations -f \"submission.csv.gz\" -m '\\n0.029111989281461418 4-week drop full negative user\\n---\\nOrderHistory(train, 3),\\nOrderHistory(train, 7),\\nOrderHistoryDecay(train, 3, n=50),\\nOrderHistoryDecay(train, 7, n=50),\\nItemPair(OrderHistory(train, 3).retrieve(), name='1'),\\nItemPair(OrderHistory(train, 7).retrieve(), name='2'),\\nItemPair(OrderHistoryDecay(train, 3, n=50).retrieve(), name='3'),\\nItemPair(OrderHistoryDecay(train, 7, n=50).retrieve(), name='4'),\\nUserGroupTimeHistory(data, customer_list, last_week, ['age_bins'], n=50 if week!=0 else 15, name='1'),\\nUserGroupTimeHistory(data, customer_list, last_3days, ['age_bins'], n=50 if week!=0 else 20.5, name='2'),\\nUserGroupSaleTrend(data, customer_list, train, ['age_bins'], 7, n=50 if week!=0 else 2),\\nTimeHistory(customer_list, last_week, n=50 if week!=0 else 9, name='1'),\\nTimeHistory(customer_list, last_3days, n=50 if week!=0 else 16, name='2'),\\nTimeHistoryDecay(customer_list, train, 3, n=50 if week!=0 else 12),\\nTimeHistoryDecay(customer_list, train, 7, n=50 if week!=0 else 8),\\nSaleTrend(customer_list, train, 7, n=50 if week!=0 else 2)\\n---\\nmin_pos_rate = 0.006\\npivot\\n'\n"
      ]
    },
    {
      "cell_type": "code",
      "execution_count": null,
      "metadata": {
        "id": "RkRnISYDjU_f"
      },
      "outputs": [],
      "source": [
        ""
      ]
    }
  ],
  "metadata": {
    "accelerator": "GPU",
    "colab": {
      "collapsed_sections": [],
      "machine_shape": "hm",
      "name": "CV2937 with image similarity.ipynb",
      "provenance": []
    },
    "kernelspec": {
      "display_name": "Python 3",
      "language": "python",
      "name": "python3"
    },
    "language_info": {
      "codemirror_mode": {
        "name": "ipython",
        "version": 3
      },
      "file_extension": ".py",
      "mimetype": "text/x-python",
      "name": "python",
      "nbconvert_exporter": "python",
      "pygments_lexer": "ipython3",
      "version": "3.6.13"
    }
  },
  "nbformat": 4,
  "nbformat_minor": 0
}