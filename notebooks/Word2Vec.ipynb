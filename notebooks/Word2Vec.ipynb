{
  "cells": [
    {
      "cell_type": "code",
      "execution_count": null,
      "metadata": {
        "colab": {
          "base_uri": "https://localhost:8080/"
        },
        "id": "wu0YB-gRFBf7",
        "outputId": "be3689fb-4d29-409e-c615-d0d009d1126d"
      },
      "outputs": [
        {
          "name": "stdout",
          "output_type": "stream",
          "text": [
            "Requirement already satisfied: implicit in /usr/local/lib/python3.7/dist-packages (0.5.2)\n",
            "Requirement already satisfied: tqdm>=4.27 in /usr/local/lib/python3.7/dist-packages (from implicit) (4.64.0)\n",
            "Requirement already satisfied: scipy>=0.16 in /usr/local/lib/python3.7/dist-packages (from implicit) (1.4.1)\n",
            "Requirement already satisfied: numpy in /usr/local/lib/python3.7/dist-packages (from implicit) (1.21.6)\n"
          ]
        }
      ],
      "source": [
        "# %pip install implicit"
      ]
    },
    {
      "cell_type": "code",
      "execution_count": 8,
      "metadata": {},
      "outputs": [
        {
          "name": "stdout",
          "output_type": "stream",
          "text": [
            "Collecting gensim\n",
            "  Downloading gensim-4.2.0-cp38-cp38-win_amd64.whl (24.0 MB)\n",
            "Collecting Cython==0.29.28\n",
            "  Downloading Cython-0.29.28-py2.py3-none-any.whl (983 kB)\n",
            "Collecting smart-open>=1.8.1\n",
            "  Downloading smart_open-6.0.0-py3-none-any.whl (58 kB)\n",
            "Requirement already satisfied: scipy>=0.18.1 in d:\\coding\\anaconda\\envs\\recsys\\lib\\site-packages (from gensim) (1.8.0)\n",
            "Requirement already satisfied: numpy>=1.17.0 in d:\\coding\\anaconda\\envs\\recsys\\lib\\site-packages (from gensim) (1.22.2)\n",
            "Installing collected packages: smart-open, Cython, gensim\n",
            "Successfully installed Cython-0.29.28 gensim-4.2.0 smart-open-6.0.0\n",
            "Note: you may need to restart the kernel to use updated packages.\n"
          ]
        }
      ],
      "source": [
        "# %pip install -U gensim"
      ]
    },
    {
      "cell_type": "code",
      "execution_count": null,
      "metadata": {
        "colab": {
          "base_uri": "https://localhost:8080/"
        },
        "id": "IBVbPcrFEzqF",
        "outputId": "d4df1f7b-b393-46f6-f768-75d8facd50a6"
      },
      "outputs": [
        {
          "name": "stdout",
          "output_type": "stream",
          "text": [
            "Drive already mounted at /content/drive; to attempt to forcibly remount, call drive.mount(\"/content/drive\", force_remount=True).\n"
          ]
        }
      ],
      "source": [
        "# from google.colab import drive\n",
        "# drive.mount('/content/drive')"
      ]
    },
    {
      "cell_type": "code",
      "execution_count": 1,
      "metadata": {
        "id": "gboISq82XUN1"
      },
      "outputs": [],
      "source": [
        "import pandas as pd\n",
        "import numpy as np\n",
        "\n",
        "import pickle\n",
        "from tqdm import tqdm\n",
        "import gc\n",
        "from pathlib import Path\n",
        "\n",
        "import warnings\n",
        "import sys\n",
        "from IPython.core.interactiveshell import InteractiveShell\n",
        "\n",
        "warnings.filterwarnings(\"ignore\")\n",
        "sys.path.append(\"../\") # path to the `src`` folder\n",
        "InteractiveShell.ast_node_interactivity = \"all\"\n",
        "tqdm.pandas()"
      ]
    },
    {
      "cell_type": "code",
      "execution_count": 10,
      "metadata": {},
      "outputs": [],
      "source": [
        "from gensim.models import Word2Vec\n",
        "# from gensim.models import KeyedVectors"
      ]
    },
    {
      "cell_type": "code",
      "execution_count": 2,
      "metadata": {
        "id": "_iSrpD4NXcSq"
      },
      "outputs": [],
      "source": [
        "from src.data import DataHelper\n",
        "import pickle"
      ]
    },
    {
      "cell_type": "code",
      "execution_count": 4,
      "metadata": {
        "id": "Rdt7FKjA6ovy"
      },
      "outputs": [],
      "source": [
        "data_dir = Path(\"../data/\")\n",
        "model_dir = Path(\"../models/\")"
      ]
    },
    {
      "cell_type": "code",
      "execution_count": 5,
      "metadata": {
        "id": "k2v6_A2pXfTQ"
      },
      "outputs": [],
      "source": [
        "dh = DataHelper(data_dir)\n",
        "# data = dh.preprocess_data(save=True, name=\"encoded_full\") # * run only once, processed data will be saved\n",
        "data = dh.load_data(name=\"encoded_full\")"
      ]
    },
    {
      "cell_type": "markdown",
      "metadata": {
        "id": "3RojtbK9GGQU"
      },
      "source": [
        "### Train\n"
      ]
    },
    {
      "cell_type": "code",
      "execution_count": 6,
      "metadata": {
        "id": "JZMt_s4P5mo3"
      },
      "outputs": [],
      "source": [
        "inter = pd.read_parquet(data_dir / \"processed/processed_inter.pqt\")\n",
        "data[\"inter\"] = inter"
      ]
    },
    {
      "cell_type": "code",
      "execution_count": 7,
      "metadata": {
        "id": "_obyQP1gia3-"
      },
      "outputs": [],
      "source": [
        "inter['t_dat'] = pd.to_datetime(inter['t_dat'])\n",
        "last_week_start = pd.to_datetime(\"2020-08-19\")\n",
        "inter = inter.loc[(inter.t_dat < last_week_start)]"
      ]
    },
    {
      "cell_type": "code",
      "execution_count": 13,
      "metadata": {},
      "outputs": [],
      "source": [
        "feedid_seq_list = inter.groupby(['customer_id']).article_id.apply(lambda x: [str(id) for id in x] ).values\n",
        "model_sg = Word2Vec(feedid_seq_list,  vector_size=64, window=32, min_count=1, sg=0, sample=1e-3, negative=15, workers=32, seed=1, epochs=10)\n",
        "model_sg.save(open(model_dir/'articleid_model_cbow.model','wb'))"
      ]
    },
    {
      "cell_type": "code",
      "execution_count": 14,
      "metadata": {
        "id": "yXaLEP_ClQqT"
      },
      "outputs": [],
      "source": [
        "model_sg = pickle.load(open(model_dir/'articleid_model_cbow.model','rb'))"
      ]
    },
    {
      "cell_type": "code",
      "execution_count": null,
      "metadata": {},
      "outputs": [],
      "source": [
        "# * Customer Embedding\n",
        "feedid_seq_list = inter.groupby(['customer_id']).article_id.apply(lambda x: [str(id) for id in x] ).reset_index()"
      ]
    },
    {
      "cell_type": "code",
      "execution_count": 17,
      "metadata": {
        "colab": {
          "base_uri": "https://localhost:8080/"
        },
        "id": "VKXtLXe6iVxU",
        "outputId": "f9a8af15-08c5-4a6b-c6c1-d7c1bb4f4224"
      },
      "outputs": [
        {
          "name": "stderr",
          "output_type": "stream",
          "text": [
            "100%|██████████| 1356709/1356709 [01:52<00:00, 12049.90it/s]\n"
          ]
        }
      ],
      "source": [
        "full_users = data['user']['customer_id'].values\n",
        "customer_embedding = np.ones((len(full_users)+1, 64))/64\n",
        "\n",
        "for uid, items in tqdm(feedid_seq_list.values):\n",
        "    if len(items)>1:\n",
        "        vec = np.mean(list(map(lambda x: model_sg.wv[x], items)), axis=0)\n",
        "    else:\n",
        "        vec = model_sg.wv[items[0]]\n",
        "    customer_embedding[uid] = vec/np.sqrt(np.sum(vec**2))"
      ]
    },
    {
      "cell_type": "code",
      "execution_count": 18,
      "metadata": {
        "colab": {
          "base_uri": "https://localhost:8080/"
        },
        "id": "7doE4ofzkaSF",
        "outputId": "3788aca5-735d-4d08-f6f6-6e9a0dd0525f"
      },
      "outputs": [
        {
          "data": {
            "text/plain": [
              "1264"
            ]
          },
          "execution_count": 18,
          "metadata": {},
          "output_type": "execute_result"
        }
      ],
      "source": [
        "del full_users, feedid_seq_list, inter\n",
        "gc.collect()"
      ]
    },
    {
      "cell_type": "code",
      "execution_count": 19,
      "metadata": {
        "id": "FiX3b0mjjb6C"
      },
      "outputs": [],
      "source": [
        "customer_embedding.dump(data_dir/'external'/'w2v_user_embd.npy')"
      ]
    },
    {
      "cell_type": "code",
      "execution_count": 20,
      "metadata": {
        "id": "MKmO5MdAoWfB"
      },
      "outputs": [
        {
          "name": "stderr",
          "output_type": "stream",
          "text": [
            "100%|██████████| 105542/105542 [00:01<00:00, 53860.10it/s]\n"
          ]
        }
      ],
      "source": [
        "# * Article Embedding\n",
        "full_items = data['item']['article_id'].values\n",
        "article_embedding = np.ones((len(full_items)+1, 64))/64\n",
        "for item in tqdm(full_items):\n",
        "    try:\n",
        "        vec = model_sg.wv[str(item)]\n",
        "    except:\n",
        "        vec = article_embedding[item]\n",
        "    article_embedding[item,:] = vec/np.sqrt(np.sum(vec**2))"
      ]
    },
    {
      "cell_type": "code",
      "execution_count": 21,
      "metadata": {
        "id": "bqT8Y0TFpjA1"
      },
      "outputs": [],
      "source": [
        "article_embedding.dump(data_dir/'external'/'w2v_item_embd.npy')"
      ]
    }
  ],
  "metadata": {
    "accelerator": "GPU",
    "colab": {
      "collapsed_sections": [],
      "machine_shape": "hm",
      "name": "Word2Vec.ipynb",
      "provenance": []
    },
    "kernelspec": {
      "display_name": "Python 3 (ipykernel)",
      "language": "python",
      "name": "python3"
    },
    "language_info": {
      "codemirror_mode": {
        "name": "ipython",
        "version": 3
      },
      "file_extension": ".py",
      "mimetype": "text/x-python",
      "name": "python",
      "nbconvert_exporter": "python",
      "pygments_lexer": "ipython3",
      "version": "3.8.12"
    }
  },
  "nbformat": 4,
  "nbformat_minor": 0
}
