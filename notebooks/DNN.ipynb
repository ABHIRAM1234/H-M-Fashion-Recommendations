{
  "cells": [
    {
      "cell_type": "code",
      "source": [
        "# ! git clone https://github.com/Wp-Zhang/HandyRec.git"
      ],
      "metadata": {
        "id": "lpEWg9Oq0bbO"
      },
      "execution_count": 1,
      "outputs": []
    },
    {
      "cell_type": "code",
      "source": [
        "%pip install tensorflow_addons"
      ],
      "metadata": {
        "colab": {
          "base_uri": "https://localhost:8080/"
        },
        "id": "vt9B5f7NRIda",
        "outputId": "25eda428-39d8-4b20-88a8-447fc4bda554"
      },
      "execution_count": 2,
      "outputs": [
        {
          "output_type": "stream",
          "name": "stdout",
          "text": [
            "Requirement already satisfied: tensorflow_addons in /usr/local/lib/python3.7/dist-packages (0.16.1)\n",
            "Requirement already satisfied: typeguard>=2.7 in /usr/local/lib/python3.7/dist-packages (from tensorflow_addons) (2.7.1)\n"
          ]
        }
      ]
    },
    {
      "cell_type": "code",
      "execution_count": 3,
      "metadata": {
        "colab": {
          "base_uri": "https://localhost:8080/"
        },
        "id": "kEw9Y3BMiZkY",
        "outputId": "fee9df63-4e19-4932-8c46-d84efd7ea586"
      },
      "outputs": [
        {
          "output_type": "stream",
          "name": "stdout",
          "text": [
            "Drive already mounted at /content/drive; to attempt to forcibly remount, call drive.mount(\"/content/drive\", force_remount=True).\n"
          ]
        }
      ],
      "source": [
        "from google.colab import drive\n",
        "drive.mount('/content/drive')"
      ]
    },
    {
      "cell_type": "code",
      "execution_count": 4,
      "metadata": {
        "id": "_EiplKjw4dok"
      },
      "outputs": [],
      "source": [
        "import sys\n",
        "sys.path.append(\"/content/drive/MyDrive/HM-new/\")\n",
        "# sys.path.append(\"./HandyRec/\")"
      ]
    },
    {
      "cell_type": "code",
      "execution_count": 5,
      "metadata": {
        "id": "kXPJ-c7F4fja"
      },
      "outputs": [],
      "source": [
        "import tensorflow as tf\n",
        "from tensorflow.keras import Model\n",
        "from tensorflow.keras.layers import Embedding, Input, Dense, Dropout, BatchNormalization, Concatenate, Activation\n",
        "from tensorflow.keras.losses import binary_crossentropy\n",
        "from tensorflow.keras.utils import plot_model\n",
        "from sklearn.preprocessing import MinMaxScaler\n",
        "import numpy as np\n",
        "import pandas as pd\n",
        "import gc"
      ]
    },
    {
      "cell_type": "code",
      "source": [
        "import tensorflow_addons as tfa"
      ],
      "metadata": {
        "id": "_UiH-5IQRMQa"
      },
      "execution_count": 6,
      "outputs": []
    },
    {
      "cell_type": "code",
      "execution_count": 7,
      "metadata": {
        "id": "pmu45C0u0Y8q"
      },
      "outputs": [],
      "source": [
        "# from handyrec.layers.core import DNN\n",
        "# from handyrec.layers.utils import concat\n",
        "# from handyrec.features import DenseFeature, SparseFeature, FeatureGroup, FeaturePool"
      ]
    },
    {
      "cell_type": "code",
      "execution_count": 8,
      "metadata": {
        "id": "dXrnVUXj7tT3"
      },
      "outputs": [],
      "source": [
        "from src.data import DataHelper\n",
        "from src.data.metrics import map_at_k, recall_at_k"
      ]
    },
    {
      "cell_type": "code",
      "source": [
        "import os\n",
        "from sklearn.feature_extraction.text import TfidfVectorizer\n",
        "from sklearn.decomposition import TruncatedSVD"
      ],
      "metadata": {
        "id": "v9Qx0k0ZKRup"
      },
      "execution_count": 9,
      "outputs": []
    },
    {
      "cell_type": "code",
      "execution_count": 10,
      "metadata": {
        "id": "tJxGhYB45S5V"
      },
      "outputs": [],
      "source": [
        "from pathlib import Path\n",
        "from tqdm import tqdm\n",
        "\n",
        "import warnings\n",
        "warnings.filterwarnings('ignore')"
      ]
    },
    {
      "cell_type": "code",
      "execution_count": 11,
      "metadata": {
        "id": "Qm-qODKs_dbC"
      },
      "outputs": [],
      "source": [
        "# tf.compat.v1.disable_eager_execution()"
      ]
    },
    {
      "cell_type": "code",
      "execution_count": 12,
      "metadata": {
        "id": "5mjYRXj54tY1"
      },
      "outputs": [],
      "source": [
        "RANK_EMBEDDING_DIM = 64\n",
        "BATCH_SIZE = 2**12\n",
        "NEPOCH = 20"
      ]
    },
    {
      "cell_type": "code",
      "execution_count": 13,
      "metadata": {
        "id": "ImqKrQio47V1"
      },
      "outputs": [],
      "source": [
        "TRAIN_WEEK_NUM = 4\n",
        "WEEK_NUM = TRAIN_WEEK_NUM + 2\n",
        "\n",
        "VERSION_NAME = \"pivot\"\n",
        "TEST = False # * Set as `False` when do local experiments to save time"
      ]
    },
    {
      "cell_type": "code",
      "execution_count": 14,
      "metadata": {
        "id": "MS0MEj1z5Rxs"
      },
      "outputs": [],
      "source": [
        "data_dir = Path(\"/content/drive/MyDrive/HM-new/data/\")\n",
        "model_dir = Path(\"/content/drive/MyDrive/HM-new/models/\")"
      ]
    },
    {
      "cell_type": "code",
      "execution_count": 15,
      "metadata": {
        "id": "tbasc4Yn7vjP"
      },
      "outputs": [],
      "source": [
        "dh = DataHelper(data_dir)\n",
        "data = dh.load_data(name=\"encoded_full\")"
      ]
    },
    {
      "cell_type": "code",
      "source": [
        "inter = data['inter']\n",
        "inter = inter.loc[(inter.t_dat <= \"2020-08-19\")]"
      ],
      "metadata": {
        "id": "Dvqsn-x2NSVR"
      },
      "execution_count": 16,
      "outputs": []
    },
    {
      "cell_type": "markdown",
      "source": [
        "## Calculate & Load Embeddings"
      ],
      "metadata": {
        "id": "ZvLo7j94F0l6"
      }
    },
    {
      "cell_type": "code",
      "source": [
        "# article description - TFIDF - SVD\n",
        "if not os.path.exists(data_dir/'external/tfidf_item_embd.npy'):\n",
        "    articles = pd.read_csv(data_dir/'raw/articles.csv')\n",
        "\n",
        "    corpus = articles[[col for col in articles.columns if 'name' in col] + ['detail_desc']].T.apply(lambda x: ' '.join(map(str,x))).T\n",
        "\n",
        "    vectorizer = TfidfVectorizer(min_df=3)\n",
        "    X = vectorizer.fit_transform(corpus)\n",
        "    svd = TruncatedSVD(n_components=256, random_state=0)\n",
        "    tfidf_item = svd.fit_transform(X)\n",
        "    tfidf_item = np.concatenate([np.ones((1,256)), tfidf_item], axis=0)\n",
        "    tfidf_item.dump(data_dir/'external/tfidf_item_embd.npy')\n",
        "else:\n",
        "    tfidf_item = np.load(data_dir/'external/tfidf_item_embd.npy', allow_pickle=True)"
      ],
      "metadata": {
        "id": "p-dWWWZ8F5Pk"
      },
      "execution_count": 17,
      "outputs": []
    },
    {
      "cell_type": "code",
      "source": [
        "# article_id - customer_id TFIDF + SVD\n",
        "if not os.path.exists(data_dir/'external/tfidf_item_embd2.npy'):\n",
        "    corpus = inter.groupby('article_id').customer_id.apply(lambda x: ' '.join(map(str, x)))\n",
        "    article_ids = np.array(list(corpus.index))\n",
        "\n",
        "    vectorizer = TfidfVectorizer(min_df=3)\n",
        "    X = vectorizer.fit_transform(corpus)\n",
        "    svd = TruncatedSVD(n_components=128, random_state=0)\n",
        "    X_svd = svd.fit_transform(X)\n",
        "\n",
        "    item_num = data['item']['article_id'].nunique()\n",
        "    tfidf_item2 = np.ones((item_num+1, 128)) / 128\n",
        "    for i,iid in enumerate(article_ids):\n",
        "        tfidf_item2[iid,:] = X_svd[i,:]\n",
        "\n",
        "    tfidf_item2.dump(data_dir/'external/tfidf_item_embd2.npy')\n",
        "else:\n",
        "    tfidf_item2 = np.load(data_dir/'external/tfidf_item_embd2.npy', allow_pickle=True)"
      ],
      "metadata": {
        "id": "-36br0IjNpM7"
      },
      "execution_count": 18,
      "outputs": []
    },
    {
      "cell_type": "code",
      "source": [
        "# customer_id - product_code TFIDF + SVD\n",
        "if not os.path.exists(data_dir/'external/tfidf_user_embd.npy'):\n",
        "    inter = inter.merge(data['item'][['article_id','product_code']], on=['article_id'], how='left')\n",
        "    corpus = inter.groupby('customer_id').product_code.apply(lambda x: ' '.join(map(str, x)))\n",
        "    customer_ids = np.array(list(corpus.index))\n",
        "\n",
        "    vectorizer = TfidfVectorizer(min_df=3)\n",
        "    X = vectorizer.fit_transform(corpus)\n",
        "    svd = TruncatedSVD(n_components=128, random_state=0)\n",
        "    X_svd = svd.fit_transform(X)\n",
        "\n",
        "    user_num = data['user']['customer_id'].nunique()\n",
        "    tfidf_user = np.ones((user_num+1, 128)) / 128\n",
        "    for i,uid in enumerate(customer_ids):\n",
        "        tfidf_user[uid,:] = X_svd[i,:]\n",
        "\n",
        "    tfidf_user.dump(data_dir/'external/tfidf_user_embd.npy')\n",
        "else:\n",
        "    tfidf_user = np.load(data_dir/'external/tfidf_user_embd.npy', allow_pickle=True)"
      ],
      "metadata": {
        "id": "QF8DZs-wMkUl"
      },
      "execution_count": 19,
      "outputs": []
    },
    {
      "cell_type": "code",
      "source": [
        "# * Load pre-trained embeddings\n",
        "w2v_user_embd = np.load(data_dir/'external'/'w2v_user_embd.npy', allow_pickle=True)\n",
        "w2v_item_embd = np.load(data_dir/'external'/'w2v_item_embd.npy', allow_pickle=True)\n",
        "w2v_product_embd = np.load(data_dir/'external'/'w2v_product_embd.npy', allow_pickle=True)\n",
        "image_item_embd = np.load(data_dir/'external'/'image_embd.npy', allow_pickle=True)\n",
        "w2v_sg_user_embd = np.load(data_dir/'external'/'w2v_skipgram_user_embd.npy', allow_pickle=True)\n",
        "w2v_sg_item_embd = np.load(data_dir/'external'/'w2v_skipgram_item_embd.npy', allow_pickle=True)\n",
        "w2v_sg_product_embd = np.load(data_dir/'external'/'w2v_skipgram_product_embd.npy', allow_pickle=True)"
      ],
      "metadata": {
        "id": "M32FeEH_PS1w"
      },
      "execution_count": 20,
      "outputs": []
    },
    {
      "cell_type": "markdown",
      "metadata": {
        "id": "UiszC35_47or"
      },
      "source": [
        "## Load Candidates & Prepare Data"
      ]
    },
    {
      "cell_type": "code",
      "execution_count": 21,
      "metadata": {
        "colab": {
          "base_uri": "https://localhost:8080/"
        },
        "id": "g7KbLtnk4z0z",
        "outputId": "e8f3f458-fdba-470b-bc0b-2f6adbadfce9"
      },
      "outputs": [
        {
          "output_type": "stream",
          "name": "stderr",
          "text": [
            "100%|██████████| 5/5 [00:09<00:00,  1.83s/it]\n"
          ]
        }
      ],
      "source": [
        "candidates = {}\n",
        "labels = {}\n",
        "for i in tqdm(range(1, WEEK_NUM)):\n",
        "    candidates[i] = pd.read_parquet(data_dir/\"processed\"/VERSION_NAME/f\"week{i}_candidate.pqt\")\n",
        "    labels[i] = pd.read_parquet(data_dir/\"processed\"/VERSION_NAME/f\"week{i}_label.pqt\")    "
      ]
    },
    {
      "cell_type": "code",
      "execution_count": 22,
      "metadata": {
        "id": "TkNhkfuq5EPw"
      },
      "outputs": [],
      "source": [
        "feats = [\n",
        "    x\n",
        "    for x in candidates[1].columns\n",
        "    if x\n",
        "    not in [\n",
        "        \"label\",\n",
        "        \"sales_channel_id\",\n",
        "        \"t_dat\",\n",
        "        \"week\",\n",
        "    ]\n",
        "]\n",
        "cat_features = [\n",
        "    # \"product_type_no\",\n",
        "    # \"product_group_name\",\n",
        "    # \"graphical_appearance_no\",\n",
        "    # \"colour_group_code\",\n",
        "    # \"perceived_colour_value_id\",\n",
        "    # \"perceived_colour_master_id\",\n",
        "    # \"FN\",\n",
        "    # \"Active\",\n",
        "    # \"club_member_status\",\n",
        "    # \"fashion_news_frequency\",\n",
        "    # \"user_gender\",\n",
        "    # \"article_gender\",\n",
        "    # \"season_type\",\n",
        "    # \"age\",\n",
        "]\n",
        "ids = [\"customer_id\", \"article_id\", \"product_code\"]\n",
        "dense_feats = [x for x in feats if x not in cat_features + ids]\n",
        "# feats = ids + cat_features + dense_feats"
      ]
    },
    {
      "cell_type": "code",
      "execution_count": 23,
      "metadata": {
        "id": "bYWW99nD556M"
      },
      "outputs": [],
      "source": [
        "full_data = pd.concat([candidates[i] for i in range(1,WEEK_NUM)], ignore_index=True)\n",
        "train = full_data[full_data['week']>1]\n",
        "valid = full_data[full_data['week']==1]"
      ]
    },
    {
      "cell_type": "code",
      "source": [
        "del candidates\n",
        "gc.collect()"
      ],
      "metadata": {
        "colab": {
          "base_uri": "https://localhost:8080/"
        },
        "id": "pVcq5-t7zreT",
        "outputId": "1141ea2b-556c-4253-820f-1fc05ae08d85"
      },
      "execution_count": 24,
      "outputs": [
        {
          "output_type": "execute_result",
          "data": {
            "text/plain": [
              "50"
            ]
          },
          "metadata": {},
          "execution_count": 24
        }
      ]
    },
    {
      "cell_type": "code",
      "execution_count": 25,
      "metadata": {
        "id": "pRJNcFdr9-45"
      },
      "outputs": [],
      "source": [
        "# Standardize\n",
        "# for feat in dense_feats:\n",
        "    # mask = train[feat].notnull()\n",
        "    # value = train.loc[mask, feat].mean()\n",
        "    # train[feat] = train[feat].fillna(value)\n",
        "    # valid[feat] = valid[feat].fillna(value)\n",
        "    # scaler = MinMaxScaler().fit(train[feat].values.reshape(-1,1))\n",
        "    # train[feat] = scaler.transform(train[feat].values.reshape(-1,1))\n",
        "    # valid[feat] = scaler.transform(valid[feat].values.reshape(-1,1))"
      ]
    },
    {
      "cell_type": "code",
      "execution_count": 26,
      "metadata": {
        "id": "t8-Ohirc6SWH"
      },
      "outputs": [],
      "source": [
        "feat_dim = {}\n",
        "for feat in cat_features + ids:\n",
        "    if feat in data['user'].columns:\n",
        "        feat_dim[feat] = int(data['user'][feat].max()) + 1\n",
        "    elif feat in data['item'].columns:\n",
        "        feat_dim[feat] = int(data['item'][feat].max()) + 1\n",
        "    else:\n",
        "        feat_dim[feat] = int(full_data[feat].max()) + 1"
      ]
    },
    {
      "cell_type": "code",
      "execution_count": 27,
      "metadata": {
        "colab": {
          "base_uri": "https://localhost:8080/"
        },
        "id": "F9cISY640Y8x",
        "outputId": "3bd1cf5f-7ba2-4334-d1c9-4ed6ee9b00fc"
      },
      "outputs": [
        {
          "output_type": "execute_result",
          "data": {
            "text/plain": [
              "150"
            ]
          },
          "metadata": {},
          "execution_count": 27
        }
      ],
      "source": [
        "del full_data\n",
        "gc.collect()"
      ]
    },
    {
      "cell_type": "code",
      "source": [
        "X_train1 = train[['customer_id', 'article_id', 'product_code']].values.astype('int32')\n",
        "X_train2 = np.zeros((X_train1.shape[0], len(feats[3:])), dtype='float32')\n",
        "for i,f in tqdm(enumerate(feats[3:])):\n",
        "    X_train2[:, i] = np.nan_to_num(train[f].values).astype('float32')\n",
        "    del train[f]\n",
        "y_train = train['label'].values"
      ],
      "metadata": {
        "colab": {
          "base_uri": "https://localhost:8080/"
        },
        "id": "AqVs0eQC0FRY",
        "outputId": "40560abb-9a3d-40e6-8e94-a0112aac9b76"
      },
      "execution_count": 28,
      "outputs": [
        {
          "output_type": "stream",
          "name": "stderr",
          "text": [
            "95it [00:18,  5.07it/s]\n"
          ]
        }
      ]
    },
    {
      "cell_type": "code",
      "source": [
        "X_test1 = valid[['customer_id', 'article_id', 'product_code']].values.astype('int32')\n",
        "X_test2 = np.zeros((X_test1.shape[0], len(feats[3:])), dtype='float32')\n",
        "for i,f in tqdm(enumerate(feats[3:])):\n",
        "    X_test2[:, i] = np.nan_to_num(valid[f].values).astype('float32')\n",
        "    del valid[f]\n",
        "y_test = valid['label'].values"
      ],
      "metadata": {
        "colab": {
          "base_uri": "https://localhost:8080/"
        },
        "id": "54XxZ1OP0Scb",
        "outputId": "f796b4d6-f81a-4d4b-d889-cbf6e4401f8b"
      },
      "execution_count": 29,
      "outputs": [
        {
          "output_type": "stream",
          "name": "stderr",
          "text": [
            "95it [00:05, 16.94it/s]\n"
          ]
        }
      ]
    },
    {
      "cell_type": "markdown",
      "metadata": {
        "id": "VxUVZlxJ0Y8y"
      },
      "source": [
        "## Train Model"
      ]
    },
    {
      "cell_type": "code",
      "source": [
        "customer_embd_layer_1 = Embedding(\n",
        "    feat_dim[\"customer_id\"], 64, weights=[w2v_sg_user_embd], trainable=False\n",
        ")\n",
        "customer_embd_layer_2 = Embedding(\n",
        "    feat_dim[\"customer_id\"], 64, weights=[w2v_user_embd], trainable=False\n",
        ")\n",
        "customer_embd_layer_3 = Embedding(\n",
        "    feat_dim[\"customer_id\"], 128, weights=[tfidf_user], trainable=False\n",
        ")"
      ],
      "metadata": {
        "id": "B1ZH721w5pSG"
      },
      "execution_count": 30,
      "outputs": []
    },
    {
      "cell_type": "code",
      "source": [
        "article_embd_layer_1 = Embedding(\n",
        "    feat_dim[\"article_id\"], 64, weights=[w2v_sg_item_embd], trainable=False\n",
        ")\n",
        "\n",
        "article_embd_layer_2 = Embedding(\n",
        "    feat_dim[\"article_id\"], 64, weights=[w2v_item_embd], trainable=False\n",
        ")\n",
        "\n",
        "article_embd_layer_3 = Embedding(\n",
        "    feat_dim[\"article_id\"], 256, weights=[tfidf_item], trainable=False\n",
        ")\n",
        "\n",
        "article_embd_layer_4 = Embedding(\n",
        "    feat_dim[\"article_id\"], 128, weights=[tfidf_item2], trainable=False\n",
        ")\n",
        "\n",
        "article_embd_layer_5 = Embedding(\n",
        "    feat_dim[\"article_id\"], 512, weights=[image_item_embd], trainable=False\n",
        ")"
      ],
      "metadata": {
        "id": "1S2eMLNp5H5x"
      },
      "execution_count": 31,
      "outputs": []
    },
    {
      "cell_type": "code",
      "source": [
        "product_embd_layer_1 = Embedding(\n",
        "    feat_dim[\"product_code\"], 64, weights=[w2v_sg_product_embd], trainable=False\n",
        ")\n",
        "product_embd_layer_2 = Embedding(\n",
        "    feat_dim[\"product_code\"], 64, weights=[w2v_product_embd], trainable=False\n",
        ")"
      ],
      "metadata": {
        "id": "bfru5_xrg8qh"
      },
      "execution_count": 32,
      "outputs": []
    },
    {
      "cell_type": "code",
      "source": [
        "class FM(tf.keras.layers.Layer):\n",
        "    \"\"\"Factorization Machine\"\"\"\n",
        "\n",
        "    def __init__(self, **kwargs):\n",
        "        self.linear = None\n",
        "        self.w_0 = None\n",
        "\n",
        "        super().__init__(**kwargs)\n",
        "\n",
        "    def build(self, input_shape):\n",
        "        super().build(input_shape)\n",
        "        self.linear = Dense(1, use_bias=False)\n",
        "        self.w_0 = self.add_weight(\n",
        "            shape=(1,),\n",
        "            initializer=tf.keras.initializers.Zeros,\n",
        "            dtype=tf.float32,\n",
        "            trainable=True,\n",
        "            name=\"W_0\",\n",
        "        )\n",
        "\n",
        "    def call(self, inputs, mask=None, *args, **kwargs):\n",
        "        # * inputs: (batch_size, num_of_fields, embedding_dim)\n",
        "        # * part2: (batch_size, 1)\n",
        "        part2 = tf.reduce_sum(self.linear(inputs), axis=1, keepdims=False)\n",
        "\n",
        "        # * square_sum: (batch_size, embedding_dim)\n",
        "        # * sum_square: (batch_size, embedding_dim)\n",
        "        square_sum = tf.square(tf.reduce_sum(inputs, axis=1, keepdims=False))\n",
        "        sum_square = tf.reduce_sum(inputs * inputs, axis=1, keepdims=False)\n",
        "        \n",
        "        # * part3: (batch_size, 1)\n",
        "        part3 = square_sum - sum_square\n",
        "        part3 = 0.5 * tf.reduce_sum(part3, axis=1, keepdims=True)\n",
        "        return tf.nn.bias_add(part2 + part3, self.w_0)\n",
        "\n",
        "    def compute_output_shape(self, input_shape):\n",
        "        return (None, 1)"
      ],
      "metadata": {
        "id": "n_oDxhjt7rR6"
      },
      "execution_count": 33,
      "outputs": []
    },
    {
      "cell_type": "code",
      "source": [
        "inputs1 = Input(shape=X_train1.shape[1:], dtype=tf.int64)\n",
        "inputs2 = Input(shape=X_train2.shape[1:], dtype=tf.float32)\n",
        "input1 = tf.cast(inputs1, dtype=tf.int64)\n",
        "\n",
        "x_c_id1 = customer_embd_layer_1(input1[:,0])\n",
        "x_c_id2 = customer_embd_layer_2(input1[:,0])\n",
        "x_c_id3 = customer_embd_layer_3(input1[:,0])\n",
        "\n",
        "x_a_id1 = article_embd_layer_1(input1[:,1])\n",
        "x_a_id2 = article_embd_layer_2(input1[:,1])\n",
        "x_a_id3 = article_embd_layer_3(input1[:,1])\n",
        "x_a_id3 = Dense(128)(x_a_id3)\n",
        "x_a_id4 = article_embd_layer_4(input1[:,1])\n",
        "x_a_id5 = article_embd_layer_5(input1[:,1])\n",
        "x_a_id5 = Dense(128)(x_a_id5)\n",
        "\n",
        "x_p_id1 = product_embd_layer_1(input1[:,2])\n",
        "x_p_id2 = product_embd_layer_2(input1[:,2])\n",
        "\n",
        "\n",
        "x_id = Concatenate(axis=-1)([\n",
        "    x_c_id1, x_c_id2,\n",
        "    x_a_id1, x_a_id2, x_a_id3, x_a_id4, x_a_id5,\n",
        "    x_p_id1, x_p_id2,\n",
        "])\n",
        "\n",
        "x0 = Concatenate(axis=-1)([x_id, BatchNormalization()(inputs2)])\n",
        "# x = Dropout(0.2)(x0)\n",
        "# x = Dense(1024, activation='swish')(x)\n",
        "x = Dropout(0.2)(x0)\n",
        "x = Dense(512, activation='swish')(x)\n",
        "x = Dropout(0.2)(x)\n",
        "x = Dense(256, activation='swish')(x)\n",
        "\n",
        "x = Concatenate(axis=-1)([x, x0])\n",
        "x = Dropout(0.2)(x)\n",
        "\n",
        "output = Dense(1, activation='sigmoid')(x)\n",
        "\n",
        "# x_c_id2_expand = tf.expand_dims(x_c_id2, axis=1)\n",
        "# x_a_id2_expand = tf.expand_dims(x_a_id2, axis=1)\n",
        "# x_p_id2_expand = tf.expand_dims(x_p_id2, axis=1)\n",
        "# fm_output = FM()(Concatenate(axis=1)([x_c_id2_expand, x_a_id2_expand, x_p_id2_expand]))\n",
        "# output = output + fm_output\n",
        "# output = Activation('sigmoid')(output)\n",
        "\n",
        "model = tf.keras.Model(inputs=[inputs1, inputs2], outputs=[output])\n",
        "model.summary()\n",
        "    \n",
        "model.compile(\n",
        "    tfa.optimizers.AdamW(learning_rate=0.001, weight_decay=1e-4),\n",
        "    loss = 'binary_crossentropy',\n",
        "    metrics=['AUC']\n",
        ")"
      ],
      "metadata": {
        "id": "psg5LLL94URR",
        "colab": {
          "base_uri": "https://localhost:8080/"
        },
        "outputId": "a0721025-3eaf-45c5-802c-f60aa7b45721"
      },
      "execution_count": 34,
      "outputs": [
        {
          "output_type": "stream",
          "name": "stdout",
          "text": [
            "Model: \"model\"\n",
            "__________________________________________________________________________________________________\n",
            " Layer (type)                   Output Shape         Param #     Connected to                     \n",
            "==================================================================================================\n",
            " input_1 (InputLayer)           [(None, 3)]          0           []                               \n",
            "                                                                                                  \n",
            " tf.cast (TFOpLambda)           (None, 3)            0           ['input_1[0][0]']                \n",
            "                                                                                                  \n",
            " tf.__operators__.getitem_5 (Sl  (None,)             0           ['tf.cast[0][0]']                \n",
            " icingOpLambda)                                                                                   \n",
            "                                                                                                  \n",
            " tf.__operators__.getitem_7 (Sl  (None,)             0           ['tf.cast[0][0]']                \n",
            " icingOpLambda)                                                                                   \n",
            "                                                                                                  \n",
            " tf.__operators__.getitem (Slic  (None,)             0           ['tf.cast[0][0]']                \n",
            " ingOpLambda)                                                                                     \n",
            "                                                                                                  \n",
            " tf.__operators__.getitem_1 (Sl  (None,)             0           ['tf.cast[0][0]']                \n",
            " icingOpLambda)                                                                                   \n",
            "                                                                                                  \n",
            " tf.__operators__.getitem_3 (Sl  (None,)             0           ['tf.cast[0][0]']                \n",
            " icingOpLambda)                                                                                   \n",
            "                                                                                                  \n",
            " tf.__operators__.getitem_4 (Sl  (None,)             0           ['tf.cast[0][0]']                \n",
            " icingOpLambda)                                                                                   \n",
            "                                                                                                  \n",
            " embedding_5 (Embedding)        (None, 256)          27019008    ['tf.__operators__.getitem_5[0][0\n",
            "                                                                 ]']                              \n",
            "                                                                                                  \n",
            " tf.__operators__.getitem_6 (Sl  (None,)             0           ['tf.cast[0][0]']                \n",
            " icingOpLambda)                                                                                   \n",
            "                                                                                                  \n",
            " embedding_7 (Embedding)        (None, 512)          54038016    ['tf.__operators__.getitem_7[0][0\n",
            "                                                                 ]']                              \n",
            "                                                                                                  \n",
            " tf.__operators__.getitem_8 (Sl  (None,)             0           ['tf.cast[0][0]']                \n",
            " icingOpLambda)                                                                                   \n",
            "                                                                                                  \n",
            " tf.__operators__.getitem_9 (Sl  (None,)             0           ['tf.cast[0][0]']                \n",
            " icingOpLambda)                                                                                   \n",
            "                                                                                                  \n",
            " embedding (Embedding)          (None, 64)           87806784    ['tf.__operators__.getitem[0][0]'\n",
            "                                                                 ]                                \n",
            "                                                                                                  \n",
            " embedding_1 (Embedding)        (None, 64)           87806784    ['tf.__operators__.getitem_1[0][0\n",
            "                                                                 ]']                              \n",
            "                                                                                                  \n",
            " embedding_3 (Embedding)        (None, 64)           6754752     ['tf.__operators__.getitem_3[0][0\n",
            "                                                                 ]']                              \n",
            "                                                                                                  \n",
            " embedding_4 (Embedding)        (None, 64)           6754752     ['tf.__operators__.getitem_4[0][0\n",
            "                                                                 ]']                              \n",
            "                                                                                                  \n",
            " dense (Dense)                  (None, 128)          32896       ['embedding_5[0][0]']            \n",
            "                                                                                                  \n",
            " embedding_6 (Embedding)        (None, 128)          13509504    ['tf.__operators__.getitem_6[0][0\n",
            "                                                                 ]']                              \n",
            "                                                                                                  \n",
            " dense_1 (Dense)                (None, 128)          65664       ['embedding_7[0][0]']            \n",
            "                                                                                                  \n",
            " embedding_8 (Embedding)        (None, 64)           3022400     ['tf.__operators__.getitem_8[0][0\n",
            "                                                                 ]']                              \n",
            "                                                                                                  \n",
            " embedding_9 (Embedding)        (None, 64)           3022400     ['tf.__operators__.getitem_9[0][0\n",
            "                                                                 ]']                              \n",
            "                                                                                                  \n",
            " input_2 (InputLayer)           [(None, 95)]         0           []                               \n",
            "                                                                                                  \n",
            " concatenate (Concatenate)      (None, 768)          0           ['embedding[0][0]',              \n",
            "                                                                  'embedding_1[0][0]',            \n",
            "                                                                  'embedding_3[0][0]',            \n",
            "                                                                  'embedding_4[0][0]',            \n",
            "                                                                  'dense[0][0]',                  \n",
            "                                                                  'embedding_6[0][0]',            \n",
            "                                                                  'dense_1[0][0]',                \n",
            "                                                                  'embedding_8[0][0]',            \n",
            "                                                                  'embedding_9[0][0]']            \n",
            "                                                                                                  \n",
            " batch_normalization (BatchNorm  (None, 95)          380         ['input_2[0][0]']                \n",
            " alization)                                                                                       \n",
            "                                                                                                  \n",
            " concatenate_1 (Concatenate)    (None, 863)          0           ['concatenate[0][0]',            \n",
            "                                                                  'batch_normalization[0][0]']    \n",
            "                                                                                                  \n",
            " dropout (Dropout)              (None, 863)          0           ['concatenate_1[0][0]']          \n",
            "                                                                                                  \n",
            " dense_2 (Dense)                (None, 512)          442368      ['dropout[0][0]']                \n",
            "                                                                                                  \n",
            " dropout_1 (Dropout)            (None, 512)          0           ['dense_2[0][0]']                \n",
            "                                                                                                  \n",
            " dense_3 (Dense)                (None, 256)          131328      ['dropout_1[0][0]']              \n",
            "                                                                                                  \n",
            " concatenate_2 (Concatenate)    (None, 1119)         0           ['dense_3[0][0]',                \n",
            "                                                                  'concatenate_1[0][0]']          \n",
            "                                                                                                  \n",
            " dropout_2 (Dropout)            (None, 1119)         0           ['concatenate_2[0][0]']          \n",
            "                                                                                                  \n",
            " dense_4 (Dense)                (None, 1)            1120        ['dropout_2[0][0]']              \n",
            "                                                                                                  \n",
            "==================================================================================================\n",
            "Total params: 290,408,156\n",
            "Trainable params: 673,566\n",
            "Non-trainable params: 289,734,590\n",
            "__________________________________________________________________________________________________\n"
          ]
        }
      ]
    },
    {
      "cell_type": "code",
      "source": [
        "early_stop = tf.keras.callbacks.EarlyStopping(monitor='val_auc', patience=10, mode='max')\n",
        "checkpoint = tf.keras.callbacks.ModelCheckpoint(\n",
        "    filepath=model_dir/'model_nn.h5',\n",
        "    save_weights_only=True,\n",
        "    monitor='val_auc',\n",
        "    mode='max',\n",
        "    save_best_only=True)\n",
        "\n",
        "history = model.fit(\n",
        "    [X_train1, X_train2], y_train.astype(int), \n",
        "    shuffle=True,\n",
        "    batch_size=2048,\n",
        "    validation_data=([X_test1, X_test2], y_test.astype(int)),\n",
        "    epochs=30,\n",
        "    callbacks=[checkpoint, early_stop]\n",
        ")\n",
        "# 0.7114\n",
        "# 0.7294\n",
        "# 0.7382\n",
        "# 0.7565"
      ],
      "metadata": {
        "colab": {
          "base_uri": "https://localhost:8080/"
        },
        "id": "K6Um4beR62FC",
        "outputId": "ce410c77-52bf-44e8-8b3a-2d1a90153838"
      },
      "execution_count": 35,
      "outputs": [
        {
          "output_type": "stream",
          "name": "stdout",
          "text": [
            "Epoch 1/30\n",
            "4769/4769 [==============================] - 45s 9ms/step - loss: 0.0378 - auc: 0.7034 - val_loss: 0.3501 - val_auc: 0.5389\n",
            "Epoch 2/30\n",
            "4769/4769 [==============================] - 42s 9ms/step - loss: 0.0368 - auc: 0.7294 - val_loss: 0.0792 - val_auc: 0.6252\n",
            "Epoch 3/30\n",
            "4769/4769 [==============================] - 42s 9ms/step - loss: 0.0367 - auc: 0.7348 - val_loss: 0.0416 - val_auc: 0.6670\n",
            "Epoch 4/30\n",
            "4769/4769 [==============================] - 41s 9ms/step - loss: 0.0366 - auc: 0.7383 - val_loss: 0.0423 - val_auc: 0.6828\n",
            "Epoch 5/30\n",
            "4769/4769 [==============================] - 42s 9ms/step - loss: 0.0366 - auc: 0.7398 - val_loss: 0.0505 - val_auc: 0.7140\n",
            "Epoch 6/30\n",
            "4769/4769 [==============================] - 41s 9ms/step - loss: 0.0366 - auc: 0.7403 - val_loss: 0.0421 - val_auc: 0.7314\n",
            "Epoch 7/30\n",
            "4769/4769 [==============================] - 35s 7ms/step - loss: 0.0365 - auc: 0.7403 - val_loss: 0.0548 - val_auc: 0.7125\n",
            "Epoch 8/30\n",
            "4769/4769 [==============================] - 34s 7ms/step - loss: 0.0365 - auc: 0.7403 - val_loss: 0.0460 - val_auc: 0.7304\n",
            "Epoch 9/30\n",
            "4769/4769 [==============================] - 40s 8ms/step - loss: 0.0365 - auc: 0.7415 - val_loss: 0.0482 - val_auc: 0.7396\n",
            "Epoch 10/30\n",
            "4769/4769 [==============================] - 41s 9ms/step - loss: 0.0365 - auc: 0.7419 - val_loss: 0.0412 - val_auc: 0.7439\n",
            "Epoch 11/30\n",
            "4769/4769 [==============================] - 35s 7ms/step - loss: 0.0365 - auc: 0.7416 - val_loss: 0.0630 - val_auc: 0.7238\n",
            "Epoch 12/30\n",
            "4769/4769 [==============================] - 34s 7ms/step - loss: 0.0365 - auc: 0.7416 - val_loss: 0.0551 - val_auc: 0.7410\n",
            "Epoch 13/30\n",
            "4769/4769 [==============================] - 34s 7ms/step - loss: 0.0365 - auc: 0.7431 - val_loss: 0.0615 - val_auc: 0.7315\n",
            "Epoch 14/30\n",
            "4769/4769 [==============================] - 34s 7ms/step - loss: 0.0365 - auc: 0.7428 - val_loss: 0.0428 - val_auc: 0.7223\n",
            "Epoch 15/30\n",
            "4769/4769 [==============================] - 34s 7ms/step - loss: 0.0365 - auc: 0.7432 - val_loss: 0.0490 - val_auc: 0.7137\n",
            "Epoch 16/30\n",
            "4769/4769 [==============================] - 34s 7ms/step - loss: 0.0365 - auc: 0.7430 - val_loss: 0.1055 - val_auc: 0.7208\n",
            "Epoch 17/30\n",
            "4769/4769 [==============================] - 40s 8ms/step - loss: 0.0364 - auc: 0.7438 - val_loss: 0.1078 - val_auc: 0.7484\n",
            "Epoch 18/30\n",
            "4769/4769 [==============================] - 35s 7ms/step - loss: 0.0365 - auc: 0.7430 - val_loss: 0.0447 - val_auc: 0.7387\n",
            "Epoch 19/30\n",
            "4769/4769 [==============================] - 34s 7ms/step - loss: 0.0365 - auc: 0.7432 - val_loss: 0.0382 - val_auc: 0.7306\n",
            "Epoch 20/30\n",
            "4769/4769 [==============================] - 34s 7ms/step - loss: 0.0364 - auc: 0.7438 - val_loss: 0.0539 - val_auc: 0.7111\n",
            "Epoch 21/30\n",
            "4769/4769 [==============================] - 34s 7ms/step - loss: 0.0365 - auc: 0.7433 - val_loss: 0.0498 - val_auc: 0.7460\n",
            "Epoch 22/30\n",
            "4769/4769 [==============================] - 34s 7ms/step - loss: 0.0365 - auc: 0.7430 - val_loss: 0.0423 - val_auc: 0.7294\n",
            "Epoch 23/30\n",
            "4769/4769 [==============================] - 34s 7ms/step - loss: 0.0365 - auc: 0.7429 - val_loss: 0.0544 - val_auc: 0.7307\n",
            "Epoch 24/30\n",
            "4769/4769 [==============================] - 34s 7ms/step - loss: 0.0365 - auc: 0.7432 - val_loss: 0.1491 - val_auc: 0.7216\n",
            "Epoch 25/30\n",
            "4769/4769 [==============================] - 34s 7ms/step - loss: 0.0365 - auc: 0.7434 - val_loss: 0.0680 - val_auc: 0.7197\n",
            "Epoch 26/30\n",
            "4769/4769 [==============================] - 34s 7ms/step - loss: 0.0365 - auc: 0.7432 - val_loss: 0.0563 - val_auc: 0.7345\n",
            "Epoch 27/30\n",
            "4769/4769 [==============================] - 40s 8ms/step - loss: 0.0365 - auc: 0.7431 - val_loss: 0.0517 - val_auc: 0.7544\n",
            "Epoch 28/30\n",
            "4769/4769 [==============================] - 35s 7ms/step - loss: 0.0365 - auc: 0.7424 - val_loss: 0.0443 - val_auc: 0.7480\n",
            "Epoch 29/30\n",
            "4769/4769 [==============================] - 33s 7ms/step - loss: 0.0365 - auc: 0.7436 - val_loss: 0.0448 - val_auc: 0.7485\n",
            "Epoch 30/30\n",
            "4769/4769 [==============================] - 33s 7ms/step - loss: 0.0365 - auc: 0.7435 - val_loss: 0.0512 - val_auc: 0.7173\n"
          ]
        }
      ]
    },
    {
      "cell_type": "code",
      "source": [
        "model.load_weights(model_dir/'model_nn.h5')"
      ],
      "metadata": {
        "id": "QGW114IL7I9C"
      },
      "execution_count": 36,
      "outputs": []
    },
    {
      "cell_type": "code",
      "execution_count": 37,
      "metadata": {
        "id": "rXOcPpTD9S0z"
      },
      "outputs": [],
      "source": [
        "probs = model.predict([X_test1, X_test2], batch_size=4096)"
      ]
    },
    {
      "cell_type": "code",
      "execution_count": 38,
      "metadata": {
        "id": "-3qRJElkI2Jk"
      },
      "outputs": [],
      "source": [
        "label = data['inter'][data['inter']['t_dat']>='2020-09-16']\n",
        "label = label.groupby('customer_id')['article_id'].apply(list).reset_index()"
      ]
    },
    {
      "cell_type": "code",
      "execution_count": 39,
      "metadata": {
        "id": "POdGXQWpJicG"
      },
      "outputs": [],
      "source": [
        "valid['prob'] = probs\n",
        "pred = valid.sort_values(by='prob',ascending=False).reset_index(drop=True)\n",
        "pred = pred.groupby('customer_id')['article_id'].apply(list).reset_index()\n",
        "pred.columns = ['customer_id','prediction']"
      ]
    },
    {
      "cell_type": "code",
      "source": [
        "# valid = valid[['customer_id','article_id','prob']]"
      ],
      "metadata": {
        "id": "EMl0xTnfc2D_"
      },
      "execution_count": 40,
      "outputs": []
    },
    {
      "cell_type": "code",
      "source": [
        "# valid.to_csv(data_dir/'external'/'nn_valid.csv', index=None)"
      ],
      "metadata": {
        "id": "xFYhQSVPc8nJ"
      },
      "execution_count": 41,
      "outputs": []
    },
    {
      "cell_type": "code",
      "execution_count": 42,
      "metadata": {
        "id": "uWxE9Yp7JvRa"
      },
      "outputs": [],
      "source": [
        "label = label.merge(pred, on='customer_id', how='left')"
      ]
    },
    {
      "cell_type": "code",
      "source": [
        "label.head()"
      ],
      "metadata": {
        "colab": {
          "base_uri": "https://localhost:8080/",
          "height": 206
        },
        "id": "1FuELXvMadA_",
        "outputId": "61557323-6e48-49e8-b212-4af763211d10"
      },
      "execution_count": 43,
      "outputs": [
        {
          "output_type": "execute_result",
          "data": {
            "text/plain": [
              "   customer_id                                         article_id  \\\n",
              "0           81                                            [28968]   \n",
              "1           87                                            [87372]   \n",
              "2          108                              [69712, 77257, 33873]   \n",
              "3          118                                            [97392]   \n",
              "4          180  [102398, 98410, 74, 95785, 103797, 105104, 103...   \n",
              "\n",
              "                                          prediction  \n",
              "0  [42130, 74, 67523, 104046, 44033, 71108, 94657...  \n",
              "1  [100229, 27906, 98607, 104074, 103584, 33869, ...  \n",
              "2  [13043, 61304, 2220, 61306, 61305, 53894, 5389...  \n",
              "3  [103794, 3092, 104073, 56695, 67523, 81554, 94...  \n",
              "4  [105181, 95217, 104987, 104073, 103794, 95218,...  "
            ],
            "text/html": [
              "\n",
              "  <div id=\"df-4be6068a-70f0-4fb3-97b8-c3cc1ba610da\">\n",
              "    <div class=\"colab-df-container\">\n",
              "      <div>\n",
              "<style scoped>\n",
              "    .dataframe tbody tr th:only-of-type {\n",
              "        vertical-align: middle;\n",
              "    }\n",
              "\n",
              "    .dataframe tbody tr th {\n",
              "        vertical-align: top;\n",
              "    }\n",
              "\n",
              "    .dataframe thead th {\n",
              "        text-align: right;\n",
              "    }\n",
              "</style>\n",
              "<table border=\"1\" class=\"dataframe\">\n",
              "  <thead>\n",
              "    <tr style=\"text-align: right;\">\n",
              "      <th></th>\n",
              "      <th>customer_id</th>\n",
              "      <th>article_id</th>\n",
              "      <th>prediction</th>\n",
              "    </tr>\n",
              "  </thead>\n",
              "  <tbody>\n",
              "    <tr>\n",
              "      <th>0</th>\n",
              "      <td>81</td>\n",
              "      <td>[28968]</td>\n",
              "      <td>[42130, 74, 67523, 104046, 44033, 71108, 94657...</td>\n",
              "    </tr>\n",
              "    <tr>\n",
              "      <th>1</th>\n",
              "      <td>87</td>\n",
              "      <td>[87372]</td>\n",
              "      <td>[100229, 27906, 98607, 104074, 103584, 33869, ...</td>\n",
              "    </tr>\n",
              "    <tr>\n",
              "      <th>2</th>\n",
              "      <td>108</td>\n",
              "      <td>[69712, 77257, 33873]</td>\n",
              "      <td>[13043, 61304, 2220, 61306, 61305, 53894, 5389...</td>\n",
              "    </tr>\n",
              "    <tr>\n",
              "      <th>3</th>\n",
              "      <td>118</td>\n",
              "      <td>[97392]</td>\n",
              "      <td>[103794, 3092, 104073, 56695, 67523, 81554, 94...</td>\n",
              "    </tr>\n",
              "    <tr>\n",
              "      <th>4</th>\n",
              "      <td>180</td>\n",
              "      <td>[102398, 98410, 74, 95785, 103797, 105104, 103...</td>\n",
              "      <td>[105181, 95217, 104987, 104073, 103794, 95218,...</td>\n",
              "    </tr>\n",
              "  </tbody>\n",
              "</table>\n",
              "</div>\n",
              "      <button class=\"colab-df-convert\" onclick=\"convertToInteractive('df-4be6068a-70f0-4fb3-97b8-c3cc1ba610da')\"\n",
              "              title=\"Convert this dataframe to an interactive table.\"\n",
              "              style=\"display:none;\">\n",
              "        \n",
              "  <svg xmlns=\"http://www.w3.org/2000/svg\" height=\"24px\"viewBox=\"0 0 24 24\"\n",
              "       width=\"24px\">\n",
              "    <path d=\"M0 0h24v24H0V0z\" fill=\"none\"/>\n",
              "    <path d=\"M18.56 5.44l.94 2.06.94-2.06 2.06-.94-2.06-.94-.94-2.06-.94 2.06-2.06.94zm-11 1L8.5 8.5l.94-2.06 2.06-.94-2.06-.94L8.5 2.5l-.94 2.06-2.06.94zm10 10l.94 2.06.94-2.06 2.06-.94-2.06-.94-.94-2.06-.94 2.06-2.06.94z\"/><path d=\"M17.41 7.96l-1.37-1.37c-.4-.4-.92-.59-1.43-.59-.52 0-1.04.2-1.43.59L10.3 9.45l-7.72 7.72c-.78.78-.78 2.05 0 2.83L4 21.41c.39.39.9.59 1.41.59.51 0 1.02-.2 1.41-.59l7.78-7.78 2.81-2.81c.8-.78.8-2.07 0-2.86zM5.41 20L4 18.59l7.72-7.72 1.47 1.35L5.41 20z\"/>\n",
              "  </svg>\n",
              "      </button>\n",
              "      \n",
              "  <style>\n",
              "    .colab-df-container {\n",
              "      display:flex;\n",
              "      flex-wrap:wrap;\n",
              "      gap: 12px;\n",
              "    }\n",
              "\n",
              "    .colab-df-convert {\n",
              "      background-color: #E8F0FE;\n",
              "      border: none;\n",
              "      border-radius: 50%;\n",
              "      cursor: pointer;\n",
              "      display: none;\n",
              "      fill: #1967D2;\n",
              "      height: 32px;\n",
              "      padding: 0 0 0 0;\n",
              "      width: 32px;\n",
              "    }\n",
              "\n",
              "    .colab-df-convert:hover {\n",
              "      background-color: #E2EBFA;\n",
              "      box-shadow: 0px 1px 2px rgba(60, 64, 67, 0.3), 0px 1px 3px 1px rgba(60, 64, 67, 0.15);\n",
              "      fill: #174EA6;\n",
              "    }\n",
              "\n",
              "    [theme=dark] .colab-df-convert {\n",
              "      background-color: #3B4455;\n",
              "      fill: #D2E3FC;\n",
              "    }\n",
              "\n",
              "    [theme=dark] .colab-df-convert:hover {\n",
              "      background-color: #434B5C;\n",
              "      box-shadow: 0px 1px 3px 1px rgba(0, 0, 0, 0.15);\n",
              "      filter: drop-shadow(0px 1px 2px rgba(0, 0, 0, 0.3));\n",
              "      fill: #FFFFFF;\n",
              "    }\n",
              "  </style>\n",
              "\n",
              "      <script>\n",
              "        const buttonEl =\n",
              "          document.querySelector('#df-4be6068a-70f0-4fb3-97b8-c3cc1ba610da button.colab-df-convert');\n",
              "        buttonEl.style.display =\n",
              "          google.colab.kernel.accessAllowed ? 'block' : 'none';\n",
              "\n",
              "        async function convertToInteractive(key) {\n",
              "          const element = document.querySelector('#df-4be6068a-70f0-4fb3-97b8-c3cc1ba610da');\n",
              "          const dataTable =\n",
              "            await google.colab.kernel.invokeFunction('convertToInteractive',\n",
              "                                                     [key], {});\n",
              "          if (!dataTable) return;\n",
              "\n",
              "          const docLinkHtml = 'Like what you see? Visit the ' +\n",
              "            '<a target=\"_blank\" href=https://colab.research.google.com/notebooks/data_table.ipynb>data table notebook</a>'\n",
              "            + ' to learn more about interactive tables.';\n",
              "          element.innerHTML = '';\n",
              "          dataTable['output_type'] = 'display_data';\n",
              "          await google.colab.output.renderOutput(dataTable, element);\n",
              "          const docLink = document.createElement('div');\n",
              "          docLink.innerHTML = docLinkHtml;\n",
              "          element.appendChild(docLink);\n",
              "        }\n",
              "      </script>\n",
              "    </div>\n",
              "  </div>\n",
              "  "
            ]
          },
          "metadata": {},
          "execution_count": 43
        }
      ]
    },
    {
      "cell_type": "code",
      "execution_count": 44,
      "metadata": {
        "id": "kfQX9y5iJy6x",
        "colab": {
          "base_uri": "https://localhost:8080/"
        },
        "outputId": "994b75d1-609f-42dd-ac2a-01904db5ced8"
      },
      "outputs": [
        {
          "output_type": "execute_result",
          "data": {
            "text/plain": [
              "0.031658461969565656"
            ]
          },
          "metadata": {},
          "execution_count": 44
        }
      ],
      "source": [
        "map_at_k(label['article_id'], label['prediction'], k=12)\n",
        "# 0.028500554033301987\n",
        "# 0.029904528760153\n",
        "\n",
        "# 0.031648009478868075\n",
        "# 0.031309369857160076\n",
        "\n",
        "# 0.03178218657727387"
      ]
    },
    {
      "cell_type": "code",
      "source": [
        ""
      ],
      "metadata": {
        "id": "R5gGsQPTabT7"
      },
      "execution_count": 44,
      "outputs": []
    }
  ],
  "metadata": {
    "accelerator": "GPU",
    "colab": {
      "collapsed_sections": [],
      "machine_shape": "hm",
      "name": "DNN.ipynb",
      "provenance": []
    },
    "kernelspec": {
      "display_name": "Python 3",
      "language": "python",
      "name": "python3"
    },
    "language_info": {
      "codemirror_mode": {
        "name": "ipython",
        "version": 3
      },
      "file_extension": ".py",
      "mimetype": "text/x-python",
      "name": "python",
      "nbconvert_exporter": "python",
      "pygments_lexer": "ipython3",
      "version": "3.7.11"
    }
  },
  "nbformat": 4,
  "nbformat_minor": 0
}