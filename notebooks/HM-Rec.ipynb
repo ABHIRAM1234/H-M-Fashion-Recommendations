{
  "cells": [
    {
      "cell_type": "code",
      "execution_count": 2,
      "metadata": {
        "colab": {
          "base_uri": "https://localhost:8080/"
        },
        "id": "Ej-kIjP5d_zw",
        "outputId": "498ad178-6b97-4f6b-a562-7bc8b7e89c24"
      },
      "outputs": [
        {
          "output_type": "stream",
          "name": "stdout",
          "text": [
            "Collecting lightgbm==3.3.2\n",
            "  Downloading lightgbm-3.3.2-py3-none-manylinux1_x86_64.whl (2.0 MB)\n",
            "\u001b[K     |████████████████████████████████| 2.0 MB 26.6 MB/s \n",
            "\u001b[?25hRequirement already satisfied: wheel in /usr/local/lib/python3.7/dist-packages (from lightgbm==3.3.2) (0.37.1)\n",
            "Requirement already satisfied: scipy in /usr/local/lib/python3.7/dist-packages (from lightgbm==3.3.2) (1.4.1)\n",
            "Requirement already satisfied: scikit-learn!=0.22.0 in /usr/local/lib/python3.7/dist-packages (from lightgbm==3.3.2) (1.0.2)\n",
            "Requirement already satisfied: numpy in /usr/local/lib/python3.7/dist-packages (from lightgbm==3.3.2) (1.21.6)\n",
            "Requirement already satisfied: joblib>=0.11 in /usr/local/lib/python3.7/dist-packages (from scikit-learn!=0.22.0->lightgbm==3.3.2) (1.1.0)\n",
            "Requirement already satisfied: threadpoolctl>=2.0.0 in /usr/local/lib/python3.7/dist-packages (from scikit-learn!=0.22.0->lightgbm==3.3.2) (3.1.0)\n",
            "Installing collected packages: lightgbm\n",
            "  Attempting uninstall: lightgbm\n",
            "    Found existing installation: lightgbm 2.2.3\n",
            "    Uninstalling lightgbm-2.2.3:\n",
            "      Successfully uninstalled lightgbm-2.2.3\n",
            "Successfully installed lightgbm-3.3.2\n"
          ]
        }
      ],
      "source": [
        "%pip install -U lightgbm==3.3.2"
      ]
    },
    {
      "cell_type": "code",
      "source": [
        "%pip install implicit"
      ],
      "metadata": {
        "colab": {
          "base_uri": "https://localhost:8080/"
        },
        "id": "yVREKx6JJqx1",
        "outputId": "18d512cf-bff7-4c7f-d79a-ad338dea28b1"
      },
      "execution_count": 8,
      "outputs": [
        {
          "output_type": "stream",
          "name": "stdout",
          "text": [
            "Collecting implicit\n",
            "  Downloading implicit-0.5.2-cp37-cp37m-manylinux2014_x86_64.whl (18.5 MB)\n",
            "\u001b[K     |████████████████████████████████| 18.5 MB 20.2 MB/s \n",
            "\u001b[?25hRequirement already satisfied: tqdm>=4.27 in /usr/local/lib/python3.7/dist-packages (from implicit) (4.64.0)\n",
            "Requirement already satisfied: numpy in /usr/local/lib/python3.7/dist-packages (from implicit) (1.21.6)\n",
            "Requirement already satisfied: scipy>=0.16 in /usr/local/lib/python3.7/dist-packages (from implicit) (1.4.1)\n",
            "Installing collected packages: implicit\n",
            "Successfully installed implicit-0.5.2\n"
          ]
        }
      ]
    },
    {
      "cell_type": "code",
      "source": [
        "from google.colab import drive\n",
        "drive.mount('/content/drive')"
      ],
      "metadata": {
        "colab": {
          "base_uri": "https://localhost:8080/"
        },
        "id": "Iq3oG1iwJan4",
        "outputId": "7184570a-50fe-4952-be38-0bf4436b3fc6"
      },
      "execution_count": 1,
      "outputs": [
        {
          "output_type": "stream",
          "name": "stdout",
          "text": [
            "Drive already mounted at /content/drive; to attempt to forcibly remount, call drive.mount(\"/content/drive\", force_remount=True).\n"
          ]
        }
      ]
    },
    {
      "cell_type": "code",
      "execution_count": 2,
      "metadata": {
        "id": "gboISq82XUN1"
      },
      "outputs": [],
      "source": [
        "import pandas as pd\n",
        "from pandas.api.types import CategoricalDtype\n",
        "import numpy as np\n",
        "import seaborn as sns\n",
        "import matplotlib.pyplot as plt\n",
        "import lightgbm as lgb\n",
        "\n",
        "import pickle\n",
        "from tqdm import tqdm\n",
        "import gc\n",
        "from pathlib import Path"
      ]
    },
    {
      "cell_type": "code",
      "execution_count": 3,
      "metadata": {
        "id": "F6WO2VtEXefj"
      },
      "outputs": [],
      "source": [
        "import warnings\n",
        "import sys\n",
        "from IPython.core.interactiveshell import InteractiveShell\n",
        "\n",
        "warnings.filterwarnings(\"ignore\")\n",
        "sys.path.append(\"/content/drive/MyDrive/HM-new/\") # path to the `src`` folder\n",
        "InteractiveShell.ast_node_interactivity = \"all\"\n",
        "tqdm.pandas()"
      ]
    },
    {
      "cell_type": "code",
      "execution_count": 4,
      "metadata": {
        "id": "zxhDyWVbJR3w"
      },
      "outputs": [],
      "source": [
        "from src.data import DataHelper\n",
        "from src.data.metrics import map_at_k, hr_at_k, recall_at_k\n",
        "\n",
        "from src.retrieval.rules import (\n",
        "    OrderHistory,\n",
        "    OrderHistoryDecay,\n",
        "    ItemPair,\n",
        "    UserGroupTimeHistory,\n",
        "    UserGroupSaleTrend,\n",
        "    TimeHistory,\n",
        "    TimeHistoryDecay,\n",
        "    SaleTrend,\n",
        "    OutOfStock,\n",
        ")\n",
        "from src.retrieval.collector import RuleCollector\n",
        "\n",
        "from src.features import full_sale, week_sale, repurchase_ratio, popularity, period_sale\n",
        "\n",
        "from src.utils import (\n",
        "    calc_valid_date,\n",
        "    merge_week_data,\n",
        "    reduce_mem_usage,\n",
        "    calc_embd_similarity,\n",
        ")"
      ]
    },
    {
      "cell_type": "code",
      "execution_count": 5,
      "metadata": {
        "id": "lL6IRSJ2JR3x"
      },
      "outputs": [],
      "source": [
        "data_dir = Path(\"/content/drive/MyDrive/HM-new/data/\")\n",
        "model_dir = Path(\"/content/drive/MyDrive/HM-new/models/\")"
      ]
    },
    {
      "cell_type": "code",
      "execution_count": 6,
      "metadata": {
        "id": "AakTfKUQJR3x"
      },
      "outputs": [],
      "source": [
        "TRAIN_WEEK_NUM = 4\n",
        "WEEK_NUM = TRAIN_WEEK_NUM + 2\n",
        "\n",
        "VERSION_NAME = \"pivot\"\n",
        "TEST = False # * Set as `False` when do local experiments to save time"
      ]
    },
    {
      "cell_type": "code",
      "execution_count": 7,
      "metadata": {
        "id": "RHu8rsZMJR3y"
      },
      "outputs": [],
      "source": [
        "import os\n",
        "if not os.path.exists(data_dir/\"interim\"/VERSION_NAME):\n",
        "    os.mkdir(data_dir/\"interim\"/VERSION_NAME)\n",
        "if not os.path.exists(data_dir/\"processed\"/VERSION_NAME):\n",
        "    os.mkdir(data_dir/\"processed\"/VERSION_NAME)"
      ]
    },
    {
      "cell_type": "markdown",
      "metadata": {
        "id": "Mazy6bP0JR30"
      },
      "source": [
        "Pepare data: encoding ids and preprocessing"
      ]
    },
    {
      "cell_type": "code",
      "execution_count": 55,
      "metadata": {
        "id": "2BPv2lcWGGQJ"
      },
      "outputs": [],
      "source": [
        "dh = DataHelper(data_dir)"
      ]
    },
    {
      "cell_type": "code",
      "execution_count": 56,
      "metadata": {
        "id": "kiIB1uvjJR33"
      },
      "outputs": [],
      "source": [
        "# data = dh.preprocess_data(save=True, name=\"encoded_full\") # * run only once, processed data will be saved"
      ]
    },
    {
      "cell_type": "code",
      "execution_count": 70,
      "metadata": {
        "id": "i3ngtb7NUGbH"
      },
      "outputs": [],
      "source": [
        "data = dh.load_data(name=\"encoded_full\")"
      ]
    },
    {
      "cell_type": "code",
      "execution_count": 71,
      "metadata": {
        "id": "7ecaPObIJR34"
      },
      "outputs": [],
      "source": [
        "uid2idx = pickle.load(open(data_dir/\"index_id_map/user_id2index.pkl\", \"rb\"))\n",
        "submission = pd.read_csv(data_dir/\"raw\"/'sample_submission.csv')\n",
        "submission['customer_id'] = submission['customer_id'].map(uid2idx)"
      ]
    },
    {
      "cell_type": "markdown",
      "metadata": {
        "id": "LX4M190s4pxo"
      },
      "source": [
        "## Retrieval\n"
      ]
    },
    {
      "cell_type": "markdown",
      "metadata": {
        "id": "fcShMOQPJR35"
      },
      "source": [
        "Generate candidates for each week"
      ]
    },
    {
      "cell_type": "code",
      "execution_count": null,
      "metadata": {
        "id": "J7gu-mwjJR36"
      },
      "outputs": [],
      "source": [
        "listBin = [-1, 19, 29, 39, 49, 59, 69, 119]\n",
        "data['user']['age_bins'] = pd.cut(data['user']['age'], listBin)"
      ]
    },
    {
      "cell_type": "code",
      "execution_count": null,
      "metadata": {
        "id": "glOiftg3JR36"
      },
      "outputs": [],
      "source": [
        "# * WEEK_NUM = 0: test\n",
        "# * WEEK_NUM = 1: valid\n",
        "# * WEEK_NUM > 1: train\n",
        "for week in range(1,WEEK_NUM):\n",
        "    # * use sliding window to generate candidates\n",
        "    if week == 0 and not TEST:\n",
        "        continue\n",
        "    trans = data[\"inter\"]\n",
        "\n",
        "    start_date, end_date = calc_valid_date(week)\n",
        "    print(f\"Week {week}: [{start_date}, {end_date})\")\n",
        "    \n",
        "    train, valid = dh.split_data(trans, start_date, end_date)\n",
        "    train = train.merge(data['user'][['customer_id','age_bins']], on='customer_id', how='left')\n",
        "\n",
        "    last_week_start = pd.to_datetime(start_date) - pd.Timedelta(days=7)\n",
        "    last_week_start = last_week_start.strftime(\"%Y-%m-%d\")\n",
        "    last_week = train.loc[train.t_dat >= last_week_start]\n",
        "    \n",
        "    last_3day_start = pd.to_datetime(start_date) - pd.Timedelta(days=3)\n",
        "    last_3day_start = last_3day_start.strftime(\"%Y-%m-%d\")\n",
        "    last_3days = train.loc[train.t_dat >= last_3day_start]\n",
        "\n",
        "    if week != 0:\n",
        "        customer_list = valid[\"customer_id\"].values\n",
        "    else:\n",
        "        customer_list = submission['customer_id'].values\n",
        "\n",
        "    # * ========================== Retrieval Strategies ==========================\n",
        "\n",
        "    candidates = RuleCollector().collect(\n",
        "        week_num = week,\n",
        "        trans_df = trans,\n",
        "        customer_list=customer_list,\n",
        "        rules=[\n",
        "            OrderHistory(train, days=3, name='1'),\n",
        "            OrderHistory(train, days=7, name='2'),\n",
        "            OrderHistoryDecay(train, days=3, n=50, name='1'),\n",
        "            OrderHistoryDecay(train, days=7, n=50, name='2'),\n",
        "            ItemPair(OrderHistory(train, days=3).retrieve(), name='1'),\n",
        "            ItemPair(OrderHistory(train, days=7).retrieve(), name='2'),\n",
        "            ItemPair(OrderHistoryDecay(train, days=3, n=50).retrieve(), name='3'),\n",
        "            ItemPair(OrderHistoryDecay(train, days=7, n=50).retrieve(), name='4'),\n",
        "            UserGroupTimeHistory(data, customer_list, last_week, ['age_bins'], n=50, name='1'),\n",
        "            UserGroupTimeHistory(data, customer_list, last_3days, ['age_bins'], n=50, name='2'),\n",
        "            UserGroupSaleTrend(data, customer_list, train, ['age_bins'], days=7, n=50),\n",
        "            TimeHistory(customer_list, last_week, n=50, name='1'),\n",
        "            TimeHistory(customer_list, last_3days, n=50, name='2'),\n",
        "            TimeHistoryDecay(customer_list, train, days=3, n=50, name='1'),\n",
        "            TimeHistoryDecay(customer_list, train, days=7, n=50, name='2'),\n",
        "            SaleTrend(customer_list, train, days=7, n=50),\n",
        "        ],\n",
        "        filters=[OutOfStock(trans)],\n",
        "        min_pos_rate=0.006,\n",
        "        compress=False,\n",
        "    )\n",
        "\n",
        "    candidates = (\n",
        "        pd.pivot_table(\n",
        "            candidates,\n",
        "            values=\"score\",\n",
        "            index=[\"customer_id\", \"article_id\"],\n",
        "            columns=[\"method\"],\n",
        "            aggfunc=np.sum,\n",
        "        )\n",
        "        .reset_index()\n",
        "    )\n",
        "\n",
        "    candidates.to_parquet(data_dir/\"interim\"/VERSION_NAME/f\"week{week}_candidate.pqt\")\n",
        "    valid.to_parquet(data_dir/\"processed\"/VERSION_NAME/f\"week{week}_label.pqt\")"
      ]
    },
    {
      "cell_type": "code",
      "execution_count": null,
      "metadata": {
        "id": "3wqDho1ZJR38"
      },
      "outputs": [],
      "source": [
        "# * use the threshold in week 1 to generate candidates for test data, see the log in the upper cell \n",
        "if TEST:\n",
        "    week = 0\n",
        "    trans = data[\"inter\"]\n",
        "    \n",
        "    start_date, end_date = calc_valid_date(week)\n",
        "    print(f\"Week {week}: [{start_date}, {end_date})\")\n",
        "    \n",
        "    train, valid = dh.split_data(trans, start_date, end_date)\n",
        "    train = train.merge(data['user'][['customer_id','age_bins']], on='customer_id', how='left')\n",
        "\n",
        "    last_week_start = pd.to_datetime(start_date) - pd.Timedelta(days=7)\n",
        "    last_week_start = last_week_start.strftime(\"%Y-%m-%d\")\n",
        "    last_week = train.loc[train.t_dat >= last_week_start]\n",
        "    \n",
        "    last_3day_start = pd.to_datetime(start_date) - pd.Timedelta(days=3)\n",
        "    last_3day_start = last_3day_start.strftime(\"%Y-%m-%d\")\n",
        "    last_3days = train.loc[train.t_dat >= last_3day_start]\n",
        "\n",
        "    customer_list = submission['customer_id'].values\n",
        "\n",
        "    # * ========================== Retrieval Strategies ==========================\n",
        "\n",
        "    candidates = RuleCollector().collect(\n",
        "        week_num = week,\n",
        "        trans_df = trans,\n",
        "        customer_list=customer_list,\n",
        "        rules=[\n",
        "            OrderHistory(train, days=3, name='1'),\n",
        "            OrderHistory(train, days=7, name='2'),\n",
        "            OrderHistoryDecay(train, days=3, n=50, name='1'),\n",
        "            OrderHistoryDecay(train, days=7, n=50, name='2'),\n",
        "            ItemPair(OrderHistory(train, days=3).retrieve(), name='1'),\n",
        "            ItemPair(OrderHistory(train, days=7).retrieve(), name='2'),\n",
        "            ItemPair(OrderHistoryDecay(train, 3, n=50).retrieve(), name='3'),\n",
        "            ItemPair(OrderHistoryDecay(train, 7, n=50).retrieve(), name='4'),\n",
        "            UserGroupTimeHistory(data, customer_list, last_week, ['age_bins'], n=15, name='1'),\n",
        "            UserGroupTimeHistory(data, customer_list, last_3days, ['age_bins'], n=20.5, name='2'),\n",
        "            UserGroupSaleTrend(data, customer_list, train, ['age_bins'], days=7, n=2),\n",
        "            TimeHistory(customer_list, last_week, n=9, name='1'),\n",
        "            TimeHistory(customer_list, last_3days, n=16, name='2'),\n",
        "            TimeHistoryDecay(customer_list, train, days=3, n=12, name='1'),\n",
        "            TimeHistoryDecay(customer_list, train, days=7, n=8, name='2'),\n",
        "            SaleTrend(customer_list, train, days=7, n=2),\n",
        "        ],\n",
        "        filters=[OutOfStock(trans)],\n",
        "        min_pos_rate=0.006,\n",
        "        compress=False,\n",
        "    )\n",
        "    \n",
        "    candidates, _ = reduce_mem_usage(candidates)\n",
        "    candidates = (\n",
        "        pd.pivot_table(\n",
        "            candidates,\n",
        "            values=\"score\",\n",
        "            index=[\"customer_id\", \"article_id\"],\n",
        "            columns=[\"method\"],\n",
        "            aggfunc=np.sum,\n",
        "        )\n",
        "        .reset_index()\n",
        "    )\n",
        "\n",
        "    candidates.to_parquet(data_dir/\"interim\"/VERSION_NAME/f\"week{week}_candidate.pqt\")\n",
        "    valid.to_parquet(data_dir/\"processed\"/VERSION_NAME/f\"week{week}_label.pqt\")"
      ]
    },
    {
      "cell_type": "code",
      "execution_count": null,
      "metadata": {
        "id": "gQEog9JJJR39"
      },
      "outputs": [],
      "source": [
        "del train, valid, last_week, customer_list, candidates\n",
        "gc.collect()"
      ]
    },
    {
      "cell_type": "markdown",
      "metadata": {
        "id": "TBIrKxhRGGQR"
      },
      "source": [
        "## Feature engineering\n"
      ]
    },
    {
      "cell_type": "code",
      "execution_count": 12,
      "metadata": {
        "id": "9pF-sOMSGGQP"
      },
      "outputs": [],
      "source": [
        "user = data[\"user\"]\n",
        "item = data[\"item\"]\n",
        "inter = data[\"inter\"]"
      ]
    },
    {
      "cell_type": "code",
      "execution_count": 13,
      "metadata": {
        "id": "heKIAtoRdtIk"
      },
      "outputs": [],
      "source": [
        "# calculate week number\n",
        "inter['week'] = (pd.to_datetime('2020-09-29') - pd.to_datetime(inter['t_dat'])).dt.days // 7"
      ]
    },
    {
      "cell_type": "code",
      "source": [
        "# merge full candidates to transaction data (avoid feature missing in training data)\n",
        "full_candidates = []\n",
        "for i in tqdm(range(WEEK_NUM)):\n",
        "    candidate = pd.read_parquet(data_dir/\"interim\"/VERSION_NAME/f\"week{i}_candidate.pqt\")\n",
        "    full_candidates += candidate['article_id'].values.tolist()\n",
        "full_candidates = list(set(full_candidates))\n",
        "del candidate\n",
        "gc.collect()\n",
        "\n",
        "num_candidates = len(full_candidates)\n",
        "full_candidates = np.array(full_candidates)\n",
        "full_candidates = np.tile(full_candidates, WEEK_NUM + 1)\n",
        "weeks = np.repeat(np.arange(1,WEEK_NUM+2), num_candidates)\n",
        "full_candidates = pd.DataFrame({'article_id':full_candidates, 'week':weeks})\n",
        "\n",
        "inter['valid'] = 1\n",
        "in_train = inter[inter['week']<=WEEK_NUM + 1]\n",
        "out_train = inter[inter['week']>WEEK_NUM + 1]\n",
        "\n",
        "in_train = in_train.merge(full_candidates, on=['article_id','week'], how='right')\n",
        "in_train['valid'] = in_train['valid'].fillna(0)\n",
        "inter = pd.concat([in_train, out_train], ignore_index=True)\n",
        "inter = inter.sort_values([\"valid\"], ascending=False).reset_index(drop=True)"
      ],
      "metadata": {
        "colab": {
          "base_uri": "https://localhost:8080/"
        },
        "id": "kaEwbD6KY5R8",
        "outputId": "25246bf8-da29-4f78-89bb-00ae7cfdd99c"
      },
      "execution_count": 14,
      "outputs": [
        {
          "output_type": "stream",
          "name": "stderr",
          "text": [
            "100%|██████████| 6/6 [00:18<00:00,  3.06s/it]\n"
          ]
        },
        {
          "output_type": "execute_result",
          "data": {
            "text/plain": [
              "15"
            ]
          },
          "metadata": {},
          "execution_count": 14
        }
      ]
    },
    {
      "cell_type": "code",
      "source": [
        "# merge `product_code`\n",
        "inter = inter.merge(item[[\"article_id\", \"product_code\"]], on=\"article_id\", how=\"left\")"
      ],
      "metadata": {
        "id": "QsW8gPPUUUg_"
      },
      "execution_count": 15,
      "outputs": []
    },
    {
      "cell_type": "code",
      "source": [
        "inter.shape"
      ],
      "metadata": {
        "colab": {
          "base_uri": "https://localhost:8080/"
        },
        "id": "Hz4m4zsiieqn",
        "outputId": "53926bf3-2a0b-408c-c937-5143fb63d327"
      },
      "execution_count": 16,
      "outputs": [
        {
          "output_type": "execute_result",
          "data": {
            "text/plain": [
              "(31837313, 8)"
            ]
          },
          "metadata": {},
          "execution_count": 16
        }
      ]
    },
    {
      "cell_type": "code",
      "source": [
        "_, inter[\"i_1w_sale_rank\"], inter[\"i_1w_sale_norm\"] = period_sale(\n",
        "    inter, [\"article_id\"], days=14, rank=True, norm=True, week_num=WEEK_NUM\n",
        ")\n",
        "_, inter[\"p_1w_sale_rank\"], inter[\"p_1w_sale_norm\"] = period_sale(\n",
        "    inter, [\"product_code\"], days=14, rank=True, norm=True, week_num=WEEK_NUM\n",
        ")\n",
        "inter[\"i_2w_sale\"], inter[\"i_2w_sale_rank\"], inter[\"i_2w_sale_norm\"] = period_sale(\n",
        "    inter, [\"article_id\"], days=14, rank=True, norm=True, week_num=WEEK_NUM\n",
        ")\n",
        "inter[\"p_2w_sale\"], inter[\"p_2w_sale_rank\"], inter[\"p_2w_sale_norm\"] = period_sale(\n",
        "    inter, [\"product_code\"], days=14, rank=True, norm=True, week_num=WEEK_NUM\n",
        ")"
      ],
      "metadata": {
        "id": "kYdOqlyldvNM"
      },
      "execution_count": 17,
      "outputs": []
    },
    {
      "cell_type": "code",
      "source": [
        "inter.shape"
      ],
      "metadata": {
        "colab": {
          "base_uri": "https://localhost:8080/"
        },
        "id": "BtWhzDeQimY3",
        "outputId": "d22266ae-8976-4f15-abb9-4c47b5ba627d"
      },
      "execution_count": 18,
      "outputs": [
        {
          "output_type": "execute_result",
          "data": {
            "text/plain": [
              "(31837313, 18)"
            ]
          },
          "metadata": {},
          "execution_count": 18
        }
      ]
    },
    {
      "cell_type": "code",
      "source": [
        "inter[\"i_3w_sale\"], inter[\"i_3w_sale_rank\"], inter[\"i_3w_sale_norm\"] = period_sale(\n",
        "    inter, [\"article_id\"], days=21, rank=True, norm=True, week_num=WEEK_NUM\n",
        ")\n",
        "inter[\"p_3w_sale\"], inter[\"p_3w_sale_rank\"], inter[\"p_3w_sale_norm\"] = period_sale(\n",
        "    inter, [\"product_code\"], days=21, rank=True, norm=True, week_num=WEEK_NUM\n",
        ")\n",
        "# inter[\"i_4w_sale\"], inter[\"i_4w_sale_rank\"], inter[\"i_4w_sale_norm\"] = period_sale(\n",
        "#     inter, [\"article_id\"], days=28, rank=True, norm=True, week_num=WEEK_NUM\n",
        "# )\n",
        "# inter[\"p_4w_sale\"], inter[\"p_4w_sale_rank\"], inter[\"p_4w_sale_norm\"] = period_sale(\n",
        "#     inter, [\"product_code\"], days=28, rank=True, norm=True, week_num=WEEK_NUM\n",
        "# )"
      ],
      "metadata": {
        "id": "7Lv1FtoOeI9n"
      },
      "execution_count": 19,
      "outputs": []
    },
    {
      "cell_type": "code",
      "source": [
        "inter.shape"
      ],
      "metadata": {
        "colab": {
          "base_uri": "https://localhost:8080/"
        },
        "id": "2Yqb3KaWinZM",
        "outputId": "ac44a93e-6c4a-4fc4-f28a-99f8e50ea21f"
      },
      "execution_count": 20,
      "outputs": [
        {
          "output_type": "execute_result",
          "data": {
            "text/plain": [
              "(31837313, 24)"
            ]
          },
          "metadata": {},
          "execution_count": 20
        }
      ]
    },
    {
      "cell_type": "code",
      "source": [
        "inter['i_repurchase_ratio'] = repurchase_ratio(inter, ['article_id'], week_num=WEEK_NUM)\n",
        "inter['p_repurchase_ratio'] = repurchase_ratio(inter, ['product_code'], week_num=WEEK_NUM)"
      ],
      "metadata": {
        "colab": {
          "base_uri": "https://localhost:8080/"
        },
        "id": "FdlZqq5QzbMR",
        "outputId": "cd70f76d-4183-459b-ea2e-343af42f021a"
      },
      "execution_count": 21,
      "outputs": [
        {
          "output_type": "stream",
          "name": "stderr",
          "text": [
            "100%|██████████| 6/6 [02:11<00:00, 21.87s/it]\n",
            "100%|██████████| 6/6 [01:51<00:00, 18.55s/it]\n"
          ]
        }
      ]
    },
    {
      "cell_type": "code",
      "source": [
        "inter.shape"
      ],
      "metadata": {
        "colab": {
          "base_uri": "https://localhost:8080/"
        },
        "id": "Oh3Otv_Cipmi",
        "outputId": "800d8a83-1353-48fe-c689-8c4eef0c6a80"
      },
      "execution_count": 22,
      "outputs": [
        {
          "output_type": "execute_result",
          "data": {
            "text/plain": [
              "(31837313, 26)"
            ]
          },
          "metadata": {},
          "execution_count": 22
        }
      ]
    },
    {
      "cell_type": "code",
      "source": [
        "inter, _ = reduce_mem_usage(inter)"
      ],
      "metadata": {
        "id": "riX-F5H5lbMu"
      },
      "execution_count": 23,
      "outputs": []
    },
    {
      "cell_type": "code",
      "source": [
        "inter[\"i_sale\"] = week_sale(inter, [\"article_id\"], week_num=WEEK_NUM)\n",
        "inter[\"p_sale\"] = week_sale(inter, [\"product_code\"], week_num=WEEK_NUM)\n",
        "inter[\"i_sale_uni\"] = week_sale(inter, [\"article_id\"], True, week_num=WEEK_NUM)\n",
        "inter[\"p_sale_uni\"] = week_sale(inter, [\"product_code\"], True, week_num=WEEK_NUM)\n",
        "inter[\"lw_i_sale\"] = week_sale(inter, [\"article_id\"], step=1, week_num=WEEK_NUM) # * last week sale\n",
        "inter[\"lw_p_sale\"] = week_sale(inter, [\"product_code\"], step=1, week_num=WEEK_NUM)\n",
        "inter[\"lw_i_sale_uni\"] = week_sale(inter, [\"article_id\"], True, step=1, week_num=WEEK_NUM)\n",
        "inter[\"lw_p_sale_uni\"] = week_sale(inter, [\"product_code\"], True, step=1, week_num=WEEK_NUM)\n",
        "\n",
        "inter[\"i_sale_ratio\"] = inter[\"i_sale\"] / (inter[\"p_sale\"] + 1e-6)\n",
        "inter[\"i_sale_uni_ratio\"] = inter[\"i_sale_uni\"] / (inter[\"p_sale_uni\"] + 1e-6)\n",
        "inter[\"lw_i_sale_ratio\"] = inter[\"lw_i_sale\"] / (inter[\"lw_p_sale\"] + 1e-6)\n",
        "inter[\"lw_i_sale_uni_ratio\"] = inter[\"lw_i_sale_uni\"] / (inter[\"lw_p_sale_uni\"] + 1e-6)\n",
        "\n",
        "inter[\"i_uni_ratio\"] = inter[\"i_sale\"] / (inter[\"i_sale_uni\"] + 1e-6)\n",
        "inter[\"p_uni_ratio\"] = inter[\"p_sale\"] / (inter[\"p_sale_uni\"] + 1e-6)\n",
        "inter[\"lw_i_uni_ratio\"] = inter[\"lw_i_sale\"] / (inter[\"lw_i_sale_uni\"] + 1e-6)\n",
        "inter[\"lw_p_uni_ratio\"] = inter[\"lw_p_sale\"] / (inter[\"lw_p_sale_uni\"] + 1e-6)\n",
        "\n",
        "inter[\"i_sale_trend\"] = (inter[\"i_sale\"] - inter[\"lw_i_sale\"]) / (inter[\"lw_i_sale\"] + 1e-6)\n",
        "inter[\"p_sale_trend\"] = (inter[\"p_sale\"] - inter[\"lw_p_sale\"]) / (inter[\"lw_p_sale\"] + 1e-6)\n",
        "\n",
        "item_feats = [\n",
        "    \"product_type_no\",\n",
        "    \"product_group_name\",\n",
        "    \"graphical_appearance_no\",\n",
        "    \"colour_group_code\",\n",
        "    \"perceived_colour_value_id\",\n",
        "    \"perceived_colour_master_id\",\n",
        "]\n",
        "inter = inter.merge(item[[\"article_id\", *item_feats]], on=\"article_id\", how=\"left\")\n",
        "\n",
        "for f in tqdm(item_feats):\n",
        "    inter[f\"{f}_sale\"] = week_sale(inter, [f], f\"{f}_sale\", week_num=WEEK_NUM)\n",
        "    inter[f\"lw_{f}_sale\"] = week_sale(inter, [f], f\"{f}_sale\", step=1, week_num=WEEK_NUM)\n",
        "    inter[f\"{f}_sale_trend\"] = (inter[f\"{f}_sale\"] - inter[f\"lw_{f}_sale\"]) / (inter[f\"lw_{f}_sale\"] + 1e-6)"
      ],
      "metadata": {
        "colab": {
          "base_uri": "https://localhost:8080/"
        },
        "id": "70okKvWfzgip",
        "outputId": "162f4be0-51e2-4c5d-de01-72b19ce6c8c6"
      },
      "execution_count": 27,
      "outputs": [
        {
          "output_type": "stream",
          "name": "stderr",
          "text": [
            "100%|██████████| 6/6 [02:24<00:00, 24.03s/it]\n"
          ]
        }
      ]
    },
    {
      "cell_type": "code",
      "source": [
        "inter.shape"
      ],
      "metadata": {
        "colab": {
          "base_uri": "https://localhost:8080/"
        },
        "id": "K4hO0oT3isNu",
        "outputId": "eca18760-916a-4adc-a9da-25f950814072"
      },
      "execution_count": 28,
      "outputs": [
        {
          "output_type": "execute_result",
          "data": {
            "text/plain": [
              "(31837313, 68)"
            ]
          },
          "metadata": {},
          "execution_count": 28
        }
      ]
    },
    {
      "cell_type": "code",
      "source": [
        "# * Date related\n",
        "curr_date_dict = {x:calc_valid_date(x-1)[0] for x in range(100)}\n",
        "current_dat = inter['week'].map(curr_date_dict)\n",
        "mask = inter['valid']==0\n",
        "inter.loc[mask, 't_dat'] = inter.loc[mask, 'week'].map(curr_date_dict)\n",
        "first_date = inter.groupby('article_id')['t_dat'].min().reset_index(name='first_dat')\n",
        "# last_date = inter.groupby('article_id')['t_dat'].max().reset_index(name='last_dat')\n",
        "inter = pd.merge(inter, first_date, on='article_id', how='left')\n",
        "# df = pd.merge(df, last_date, on='article_id', how='left')\n",
        "inter['first_dat'] = (pd.to_datetime(current_dat)-pd.to_datetime(inter['first_dat'])).dt.days\n",
        "# df['last_dat'] = (pd.to_datetime(current_dat)-pd.to_datetime(df['last_dat'])).dt.days"
      ],
      "metadata": {
        "id": "mQkGNyjaBbi-"
      },
      "execution_count": 29,
      "outputs": []
    },
    {
      "cell_type": "code",
      "source": [
        "inter.shape"
      ],
      "metadata": {
        "colab": {
          "base_uri": "https://localhost:8080/"
        },
        "id": "sZHdSXtAi_zK",
        "outputId": "0f32b0d8-76da-4958-db43-301bf87f41bc"
      },
      "execution_count": 30,
      "outputs": [
        {
          "output_type": "execute_result",
          "data": {
            "text/plain": [
              "(31837313, 69)"
            ]
          },
          "metadata": {},
          "execution_count": 30
        }
      ]
    },
    {
      "cell_type": "code",
      "source": [
        "inter['i_full_sale'] = full_sale(inter, ['article_id'], week_num=WEEK_NUM)\n",
        "inter['p_full_sale'] = full_sale(inter, ['product_code'], week_num=WEEK_NUM)\n",
        "\n",
        "inter['i_daily_sale'] = inter['i_full_sale'] / inter['first_dat']\n",
        "inter['p_daily_sale'] = inter['p_full_sale'] / inter['first_dat']\n",
        "inter['i_daily_sale_ratio'] = inter['i_daily_sale'] / inter['p_daily_sale']\n",
        "inter['i_w_full_sale_ratio'] = inter['i_sale'] / inter['i_full_sale']\n",
        "\n",
        "# inter['i_2w_full_sale_ratio'] = inter['i_2w_sale'] / inter['i_full_sale']\n",
        "inter['p_w_full_sale_ratio'] = inter['p_sale'] / inter['p_full_sale']\n",
        "# df['p_2w_full_sale_ratio'] = df['p_2w_sale'] / df['p_full_sale']\n",
        "\n",
        "inter['i_week_above_daily_sale'] = inter['i_sale'] / 7 - inter['i_daily_sale']\n",
        "inter['p_week_above_full_sale'] = inter['p_sale'] / 7 - inter['i_full_sale']\n",
        "# inter['i_2w_week_above_daily_sale'] = inter['i_2w_sale'] / 14 - inter['i_daily_sale']\n",
        "# inter['p_2w_week_above_daily_sale'] = inter['p_2w_sale'] / 14 - inter['p_daily_sale']\n",
        "\n",
        "# for f in item_feats:\n",
        "#     f_full_sale = trans_data.groupby(f).size().reset_index(name=f'{f}_full_sale')\n",
        "#     f_first_date = trans_data.groupby(f)['t_dat'].min().reset_index(name=f'{f}_first_dat')\n",
        "#     df = df.merge(f_full_sale, on=f, how='left')\n",
        "#     df = df.merge(f_first_date, on=f, how='left')\n",
        "#     df[f'{f}_daily_sale'] = df[f'{f}_full_sale'] / (pd.to_datetime(current_dat) - pd.to_datetime(df[f'{f}_first_dat'])).dt.days\n",
        "#     df[f'i_{f}_daily_sale_ratio'] = df['i_daily_sale'] / df[f'{f}_daily_sale']\n",
        "#     df[f'p_{f}_daily_sale_ratio'] = df['p_daily_sale'] / df[f'{f}_daily_sale']\n",
        "#     df.drop([f'{f}_full_sale', f'{f}_first_dat'], axis=1, inplace=True)"
      ],
      "metadata": {
        "id": "OC8SIYK_Ca-g"
      },
      "execution_count": 31,
      "outputs": []
    },
    {
      "cell_type": "code",
      "source": [
        "for f in item_feats + ['i_full_sale','p_full_sale']:\n",
        "    del inter[f]"
      ],
      "metadata": {
        "id": "_fhlw8z4z5hD"
      },
      "execution_count": 32,
      "outputs": []
    },
    {
      "cell_type": "code",
      "source": [
        "gc.collect()"
      ],
      "metadata": {
        "colab": {
          "base_uri": "https://localhost:8080/"
        },
        "id": "9C0Q35I9pMIl",
        "outputId": "57caecb1-c29b-497b-c036-903b9e72f100"
      },
      "execution_count": 36,
      "outputs": [
        {
          "output_type": "execute_result",
          "data": {
            "text/plain": [
              "408"
            ]
          },
          "metadata": {},
          "execution_count": 36
        }
      ]
    },
    {
      "cell_type": "code",
      "source": [
        "def popularity(\n",
        "    trans: pd.DataFrame, item_id: str = \"article_id\", week_num: int = 6\n",
        ") -> np.ndarray:\n",
        "    df = trans[[item_id, \"t_dat\", \"week\", \"valid\"]]\n",
        "    df[\"t_dat\"] = pd.to_datetime(df[\"t_dat\"])\n",
        "\n",
        "    tmp_l = []\n",
        "    name = \"Popularity_\" + item_id\n",
        "    for week in range(1, week_num + 1):\n",
        "        tmp_df = df[df[\"week\"] >= week][df[\"valid\"]==1]\n",
        "        last_day = tmp_df[\"t_dat\"].max()\n",
        "        tmp_df[name] = 1 / ((last_day - tmp_df[\"t_dat\"]).dt.days + 1)\n",
        "        tmp_df = tmp_df.groupby([item_id])[name].sum().reset_index()\n",
        "        tmp_df[\"week\"] = week\n",
        "        tmp_l.append(tmp_df)\n",
        "\n",
        "    info = pd.concat(tmp_l)[[item_id, name, \"week\"]]\n",
        "    df = df.merge(info, on=[item_id, \"week\"], how=\"left\")\n",
        "    df[name] = df[name].fillna(0)\n",
        "    return df[name].values"
      ],
      "metadata": {
        "id": "Y7GaU6Qepkkq"
      },
      "execution_count": 35,
      "outputs": []
    },
    {
      "cell_type": "code",
      "source": [
        "inter['i_pop'] = popularity(inter, 'article_id', week_num=WEEK_NUM)\n",
        "inter['p_pop'] = popularity(inter, 'product_code', week_num=WEEK_NUM)"
      ],
      "metadata": {
        "id": "ms4s0YUJznFU"
      },
      "execution_count": 37,
      "outputs": []
    },
    {
      "cell_type": "code",
      "source": [
        "inter.shape"
      ],
      "metadata": {
        "colab": {
          "base_uri": "https://localhost:8080/"
        },
        "id": "kC9RN6XV1ESf",
        "outputId": "8a917ec4-6c44-4372-a170-68aea8a278a1"
      },
      "execution_count": 38,
      "outputs": [
        {
          "output_type": "execute_result",
          "data": {
            "text/plain": [
              "(31837313, 72)"
            ]
          },
          "metadata": {},
          "execution_count": 38
        }
      ]
    },
    {
      "cell_type": "code",
      "source": [
        "inter = inter.loc[inter['week'] <= WEEK_NUM + 2]"
      ],
      "metadata": {
        "id": "ip6AdvV0kS1y"
      },
      "execution_count": 39,
      "outputs": []
    },
    {
      "cell_type": "code",
      "source": [
        "inter.to_parquet(data_dir / \"processed/processed_inter.pqt\")"
      ],
      "metadata": {
        "id": "huYRSLE91PJH"
      },
      "execution_count": 40,
      "outputs": []
    },
    {
      "cell_type": "markdown",
      "metadata": {
        "id": "jywhBCAGGGQS"
      },
      "source": [
        "## Merge Features\n"
      ]
    },
    {
      "cell_type": "code",
      "source": [
        "inter = pd.read_parquet(data_dir / \"processed/processed_inter.pqt\")\n",
        "inter = inter[inter['week'] <= WEEK_NUM + 2]\n",
        "# data[\"inter\"] = inter"
      ],
      "metadata": {
        "id": "YwbQ4jyD4MxX"
      },
      "execution_count": 66,
      "outputs": []
    },
    {
      "cell_type": "code",
      "execution_count": 67,
      "metadata": {
        "id": "-7YlHho_JR4F"
      },
      "outputs": [],
      "source": [
        "#* embeddings from DSSM model\n",
        "dssm_user_embd = np.load(data_dir / \"external/dssm_user_embd.npy\", allow_pickle=True)\n",
        "dssm_item_embd = np.load(data_dir / \"external/dssm_item_embd.npy\", allow_pickle=True)\n",
        "# * embeddings from YouTubeDNN model\n",
        "yt_user_embd = np.load(data_dir / \"external/yt_user_embd.npy\", allow_pickle=True)\n",
        "yt_item_embd = np.load(data_dir / \"external/yt_item_embd.npy\", allow_pickle=True)"
      ]
    },
    {
      "cell_type": "code",
      "execution_count": 68,
      "metadata": {
        "id": "sAoo3UMxJR4G"
      },
      "outputs": [],
      "source": [
        "# pd.set_option('display.max_columns', 500)\n",
        "# pd.set_option('display.max_rows', 500)"
      ]
    },
    {
      "cell_type": "code",
      "source": [
        "gc.collect()"
      ],
      "metadata": {
        "colab": {
          "base_uri": "https://localhost:8080/"
        },
        "id": "IqUEbzyyqMQA",
        "outputId": "f32f58d9-152b-4542-eb1e-36e023fd3e80"
      },
      "execution_count": 69,
      "outputs": [
        {
          "output_type": "execute_result",
          "data": {
            "text/plain": [
              "5301"
            ]
          },
          "metadata": {},
          "execution_count": 69
        }
      ]
    },
    {
      "cell_type": "code",
      "source": [
        "for i in tqdm(range(WEEK_NUM)):\n",
        "    if i == 0 and not TEST:\n",
        "        continue\n",
        "    candidate = pd.read_parquet(data_dir/\"interim\"/VERSION_NAME/f\"week{i}_candidate.pqt\")\n",
        "    if i == 0:\n",
        "        chunk_size = int(candidate.shape[0] * 0.5)\n",
        "        tmpl = []\n",
        "        for batch in range(0, candidate.shape[0], chunk_size):\n",
        "            sub_candidate = candidate.iloc[batch:batch+chunk_size-1]\n",
        "            # * merge features\n",
        "            sub_candidate = merge_week_data(data, inter, i, sub_candidate)\n",
        "            sub_candidate['article_id'] = sub_candidate['article_id'].astype(int)\n",
        "            sub_candidate['customer_id'] = sub_candidate['customer_id'].astype(int)\n",
        "            # * merge DSSM user and item embeddings\n",
        "            sub_candidate[\"dssm_similarity\"] = calc_embd_similarity(sub_candidate, dssm_user_embd, dssm_item_embd)\n",
        "            # * merge YouTubeDNN user and item embeddings\n",
        "            sub_candidate[\"yt_similarity\"] = calc_embd_similarity(sub_candidate, yt_user_embd, yt_item_embd)\n",
        "            print(f\"Chunk {batch} done...\")\n",
        "            tmpl.append(sub_candidate)\n",
        "        \n",
        "        candidate = pd.concat(tmpl, ignore_index=True)\n",
        "        del tmpl\n",
        "        gc.collect()\n",
        "    else:\n",
        "        # * merge features\n",
        "        candidate = merge_week_data(data, inter, i, candidate)\n",
        "        print(candidate['week'].unique())\n",
        "        # * merge DSSM user and item embeddings\n",
        "        candidate[\"dssm_similarity\"] = calc_embd_similarity(candidate, dssm_user_embd, dssm_item_embd)\n",
        "        # * merge YouTubeDNN user and item embeddings\n",
        "        candidate[\"yt_similarity\"] = calc_embd_similarity(candidate, yt_user_embd, yt_item_embd)\n",
        "    candidate.to_parquet(data_dir/\"processed\"/VERSION_NAME/f\"week{i}_candidate.pqt\")"
      ],
      "metadata": {
        "colab": {
          "base_uri": "https://localhost:8080/"
        },
        "id": "HXmOMDkO33sr",
        "outputId": "5cf64842-f563-43d0-fc8c-6738f6c5ec08"
      },
      "execution_count": 74,
      "outputs": [
        {
          "output_type": "stream",
          "name": "stderr",
          "text": [
            "\r  0%|          | 0/6 [00:00<?, ?it/s]"
          ]
        },
        {
          "output_type": "stream",
          "name": "stdout",
          "text": [
            "68984\n",
            "[1]\n"
          ]
        },
        {
          "output_type": "stream",
          "name": "stderr",
          "text": [
            "\n",
            "  0%|          | 0/306 [00:00<?, ?it/s]\u001b[A\n",
            "  8%|▊         | 25/306 [00:00<00:01, 247.52it/s]\u001b[A\n",
            " 16%|█▋        | 50/306 [00:00<00:01, 170.24it/s]\u001b[A\n",
            " 23%|██▎       | 70/306 [00:00<00:01, 153.13it/s]\u001b[A\n",
            " 31%|███       | 95/306 [00:00<00:01, 182.48it/s]\u001b[A\n",
            " 40%|███▉      | 121/306 [00:00<00:00, 205.05it/s]\u001b[A\n",
            " 48%|████▊     | 147/306 [00:00<00:00, 220.31it/s]\u001b[A\n",
            " 57%|█████▋    | 173/306 [00:00<00:00, 230.56it/s]\u001b[A\n",
            " 65%|██████▌   | 199/306 [00:00<00:00, 238.69it/s]\u001b[A\n",
            " 73%|███████▎  | 224/306 [00:01<00:00, 240.95it/s]\u001b[A\n",
            " 82%|████████▏ | 250/306 [00:01<00:00, 243.99it/s]\u001b[A\n",
            " 90%|████████▉ | 275/306 [00:01<00:00, 245.09it/s]\u001b[A\n",
            "100%|██████████| 306/306 [00:01<00:00, 223.65it/s]\n",
            "\n",
            "  0%|          | 0/306 [00:00<?, ?it/s]\u001b[A\n",
            "  9%|▉         | 28/306 [00:00<00:01, 277.90it/s]\u001b[A\n",
            " 18%|█▊        | 56/306 [00:00<00:00, 274.15it/s]\u001b[A\n",
            " 27%|██▋       | 84/306 [00:00<00:00, 273.99it/s]\u001b[A\n",
            " 37%|███▋      | 112/306 [00:00<00:00, 273.63it/s]\u001b[A\n",
            " 46%|████▌     | 140/306 [00:00<00:00, 274.09it/s]\u001b[A\n",
            " 55%|█████▍    | 168/306 [00:00<00:00, 274.63it/s]\u001b[A\n",
            " 64%|██████▍   | 196/306 [00:00<00:00, 272.05it/s]\u001b[A\n",
            " 73%|███████▎  | 224/306 [00:00<00:00, 271.88it/s]\u001b[A\n",
            " 82%|████████▏ | 252/306 [00:00<00:00, 269.69it/s]\u001b[A\n",
            "100%|██████████| 306/306 [00:01<00:00, 271.97it/s]\n",
            " 33%|███▎      | 2/6 [00:42<01:25, 21.45s/it]"
          ]
        },
        {
          "output_type": "stream",
          "name": "stdout",
          "text": [
            "72019\n",
            "[2]\n"
          ]
        },
        {
          "output_type": "stream",
          "name": "stderr",
          "text": [
            "\n",
            "  0%|          | 0/225 [00:00<?, ?it/s]\u001b[A\n",
            " 11%|█         | 24/225 [00:00<00:00, 231.10it/s]\u001b[A\n",
            " 22%|██▏       | 49/225 [00:00<00:00, 241.73it/s]\u001b[A\n",
            " 33%|███▎      | 74/225 [00:00<00:00, 198.25it/s]\u001b[A\n",
            " 42%|████▏     | 95/225 [00:00<00:00, 175.51it/s]\u001b[A\n",
            " 53%|█████▎    | 120/225 [00:00<00:00, 197.06it/s]\u001b[A\n",
            " 64%|██████▍   | 144/225 [00:00<00:00, 208.43it/s]\u001b[A\n",
            " 75%|███████▌  | 169/225 [00:00<00:00, 220.42it/s]\u001b[A\n",
            " 87%|████████▋ | 195/225 [00:00<00:00, 230.31it/s]\u001b[A\n",
            "100%|██████████| 225/225 [00:01<00:00, 218.61it/s]\n",
            "\n",
            "  0%|          | 0/225 [00:00<?, ?it/s]\u001b[A\n",
            " 12%|█▏        | 28/225 [00:00<00:00, 279.72it/s]\u001b[A\n",
            " 25%|██▍       | 56/225 [00:00<00:00, 275.99it/s]\u001b[A\n",
            " 37%|███▋      | 84/225 [00:00<00:00, 270.38it/s]\u001b[A\n",
            " 50%|████▉     | 112/225 [00:00<00:00, 269.32it/s]\u001b[A\n",
            " 62%|██████▏   | 139/225 [00:00<00:00, 268.24it/s]\u001b[A\n",
            " 74%|███████▍  | 166/225 [00:00<00:00, 267.18it/s]\u001b[A\n",
            " 86%|████████▌ | 193/225 [00:00<00:00, 266.91it/s]\u001b[A\n",
            "100%|██████████| 225/225 [00:00<00:00, 268.65it/s]\n",
            " 50%|█████     | 3/6 [01:14<01:17, 25.86s/it]"
          ]
        },
        {
          "output_type": "stream",
          "name": "stdout",
          "text": [
            "75822\n",
            "[3]\n"
          ]
        },
        {
          "output_type": "stream",
          "name": "stderr",
          "text": [
            "\n",
            "  0%|          | 0/280 [00:00<?, ?it/s]\u001b[A\n",
            "  9%|▉         | 26/280 [00:00<00:00, 259.71it/s]\u001b[A\n",
            " 19%|█▉        | 54/280 [00:00<00:00, 267.91it/s]\u001b[A\n",
            " 29%|██▉       | 81/280 [00:00<00:00, 202.93it/s]\u001b[A\n",
            " 37%|███▋      | 103/280 [00:00<00:00, 179.46it/s]\u001b[A\n",
            " 47%|████▋     | 131/280 [00:00<00:00, 207.97it/s]\u001b[A\n",
            " 56%|█████▋    | 158/280 [00:00<00:00, 223.59it/s]\u001b[A\n",
            " 66%|██████▌   | 184/280 [00:00<00:00, 233.57it/s]\u001b[A\n",
            " 75%|███████▌  | 211/280 [00:00<00:00, 241.82it/s]\u001b[A\n",
            " 85%|████████▌ | 239/280 [00:01<00:00, 252.66it/s]\u001b[A\n",
            "100%|██████████| 280/280 [00:01<00:00, 236.85it/s]\n",
            "\n",
            "  0%|          | 0/280 [00:00<?, ?it/s]\u001b[A\n",
            " 11%|█         | 31/280 [00:00<00:00, 302.06it/s]\u001b[A\n",
            " 22%|██▏       | 62/280 [00:00<00:00, 293.09it/s]\u001b[A\n",
            " 33%|███▎      | 92/280 [00:00<00:00, 292.83it/s]\u001b[A\n",
            " 44%|████▎     | 122/280 [00:00<00:00, 290.61it/s]\u001b[A\n",
            " 54%|█████▍    | 152/280 [00:00<00:00, 286.61it/s]\u001b[A\n",
            " 65%|██████▍   | 181/280 [00:00<00:00, 284.29it/s]\u001b[A\n",
            " 75%|███████▌  | 210/280 [00:00<00:00, 281.14it/s]\u001b[A\n",
            " 86%|████████▌ | 240/280 [00:00<00:00, 283.94it/s]\u001b[A\n",
            "100%|██████████| 280/280 [00:00<00:00, 285.55it/s]\n",
            " 67%|██████▋   | 4/6 [01:54<01:02, 31.03s/it]"
          ]
        },
        {
          "output_type": "stream",
          "name": "stdout",
          "text": [
            "80253\n",
            "[4]\n"
          ]
        },
        {
          "output_type": "stream",
          "name": "stderr",
          "text": [
            "\n",
            "  0%|          | 0/298 [00:00<?, ?it/s]\u001b[A\n",
            "  8%|▊         | 24/298 [00:00<00:01, 235.55it/s]\u001b[A\n",
            " 16%|█▌        | 48/298 [00:00<00:01, 176.39it/s]\u001b[A\n",
            " 22%|██▏       | 67/298 [00:00<00:01, 158.21it/s]\u001b[A\n",
            " 31%|███       | 93/298 [00:00<00:01, 190.59it/s]\u001b[A\n",
            " 40%|████      | 120/298 [00:00<00:00, 213.10it/s]\u001b[A\n",
            " 49%|████▉     | 147/298 [00:00<00:00, 229.40it/s]\u001b[A\n",
            " 58%|█████▊    | 174/298 [00:00<00:00, 240.74it/s]\u001b[A\n",
            " 67%|██████▋   | 201/298 [00:00<00:00, 248.20it/s]\u001b[A\n",
            " 76%|███████▌  | 227/298 [00:01<00:00, 251.27it/s]\u001b[A\n",
            " 85%|████████▌ | 254/298 [00:01<00:00, 256.00it/s]\u001b[A\n",
            "100%|██████████| 298/298 [00:01<00:00, 231.67it/s]\n",
            "\n",
            "  0%|          | 0/298 [00:00<?, ?it/s]\u001b[A\n",
            "  9%|▉         | 28/298 [00:00<00:00, 279.96it/s]\u001b[A\n",
            " 19%|█▉        | 56/298 [00:00<00:00, 279.18it/s]\u001b[A\n",
            " 28%|██▊       | 84/298 [00:00<00:00, 278.03it/s]\u001b[A\n",
            " 38%|███▊      | 113/298 [00:00<00:00, 279.09it/s]\u001b[A\n",
            " 48%|████▊     | 142/298 [00:00<00:00, 280.32it/s]\u001b[A\n",
            " 57%|█████▋    | 171/298 [00:00<00:00, 277.35it/s]\u001b[A\n",
            " 67%|██████▋   | 200/298 [00:00<00:00, 278.34it/s]\u001b[A\n",
            " 77%|███████▋  | 228/298 [00:00<00:00, 277.71it/s]\u001b[A\n",
            " 86%|████████▌ | 257/298 [00:00<00:00, 279.42it/s]\u001b[A\n",
            "100%|██████████| 298/298 [00:01<00:00, 278.64it/s]\n",
            " 83%|████████▎ | 5/6 [02:35<00:34, 34.51s/it]"
          ]
        },
        {
          "output_type": "stream",
          "name": "stdout",
          "text": [
            "72035\n",
            "[5]\n"
          ]
        },
        {
          "output_type": "stream",
          "name": "stderr",
          "text": [
            "\n",
            "  0%|          | 0/178 [00:00<?, ?it/s]\u001b[A\n",
            " 13%|█▎        | 24/178 [00:00<00:00, 238.04it/s]\u001b[A\n",
            " 27%|██▋       | 48/178 [00:00<00:00, 195.79it/s]\u001b[A\n",
            " 40%|███▉      | 71/178 [00:00<00:00, 186.88it/s]\u001b[A\n",
            " 55%|█████▌    | 98/178 [00:00<00:00, 214.79it/s]\u001b[A\n",
            " 70%|██████▉   | 124/178 [00:00<00:00, 229.24it/s]\u001b[A\n",
            "100%|██████████| 178/178 [00:00<00:00, 230.50it/s]\n",
            "\n",
            "  0%|          | 0/178 [00:00<?, ?it/s]\u001b[A\n",
            " 17%|█▋        | 30/178 [00:00<00:00, 296.97it/s]\u001b[A\n",
            " 34%|███▎      | 60/178 [00:00<00:00, 293.65it/s]\u001b[A\n",
            " 51%|█████     | 90/178 [00:00<00:00, 289.91it/s]\u001b[A\n",
            " 67%|██████▋   | 119/178 [00:00<00:00, 286.53it/s]\u001b[A\n",
            " 83%|████████▎ | 148/178 [00:00<00:00, 284.85it/s]\u001b[A\n",
            "100%|██████████| 178/178 [00:00<00:00, 283.58it/s]\n",
            "100%|██████████| 6/6 [03:02<00:00, 30.39s/it]\n"
          ]
        }
      ]
    },
    {
      "cell_type": "code",
      "execution_count": 75,
      "metadata": {
        "colab": {
          "base_uri": "https://localhost:8080/"
        },
        "id": "sWyKQBAt3x--",
        "outputId": "1bc282a6-0b8f-4ee6-9068-39c5a507a72f"
      },
      "outputs": [
        {
          "output_type": "execute_result",
          "data": {
            "text/plain": [
              "1574"
            ]
          },
          "metadata": {},
          "execution_count": 75
        }
      ],
      "source": [
        "del dssm_user_embd, dssm_item_embd, yt_user_embd, yt_item_embd\n",
        "gc.collect()"
      ]
    },
    {
      "cell_type": "markdown",
      "metadata": {
        "id": "7Zml-cxryoU_"
      },
      "source": [
        "## Ranking\n"
      ]
    },
    {
      "cell_type": "code",
      "execution_count": 76,
      "metadata": {
        "id": "PsmE6rgjdtIr",
        "colab": {
          "base_uri": "https://localhost:8080/"
        },
        "outputId": "82b41850-660b-44ca-82ae-31d6db024e46"
      },
      "outputs": [
        {
          "output_type": "stream",
          "name": "stderr",
          "text": [
            "100%|██████████| 5/5 [00:04<00:00,  1.13it/s]\n"
          ]
        }
      ],
      "source": [
        "candidates = {}\n",
        "labels = {}\n",
        "for i in tqdm(range(1, WEEK_NUM)):\n",
        "    candidates[i] = pd.read_parquet(data_dir/\"processed\"/VERSION_NAME/f\"week{i}_candidate.pqt\")\n",
        "    labels[i] = pd.read_parquet(data_dir/\"processed\"/VERSION_NAME/f\"week{i}_label.pqt\")    "
      ]
    },
    {
      "cell_type": "code",
      "execution_count": 100,
      "metadata": {
        "id": "xWqYwCbsdtIr"
      },
      "outputs": [],
      "source": [
        "feats = [\n",
        "    x\n",
        "    for x in candidates[1].columns\n",
        "    if x\n",
        "    not in [\n",
        "        \"label\",\n",
        "        \"sales_channel_id\",\n",
        "        \"t_dat\",\n",
        "        \"week\",\n",
        "    ]\n",
        "]\n",
        "cat_features = [\n",
        "    \"customer_id\",\n",
        "    \"article_id\",\n",
        "    \"product_code\",\n",
        "    \"FN\",\n",
        "    \"Active\",\n",
        "    \"club_member_status\",\n",
        "    \"fashion_news_frequency\",\n",
        "    \"age\",\n",
        "    \"product_type_no\",\n",
        "    \"product_group_name\",\n",
        "    \"graphical_appearance_no\",\n",
        "    \"colour_group_code\",\n",
        "    \"perceived_colour_value_id\",\n",
        "    \"perceived_colour_master_id\",\n",
        "\n",
        "    \"user_gender\",\n",
        "    \"article_gender\",\n",
        "    \"season_type\"\n",
        "]"
      ]
    },
    {
      "cell_type": "code",
      "execution_count": 78,
      "metadata": {
        "colab": {
          "base_uri": "https://localhost:8080/"
        },
        "id": "cweXHQMrJR4I",
        "outputId": "41826c3d-db64-490b-c18a-2b25b95a43b2"
      },
      "outputs": [
        {
          "output_type": "stream",
          "name": "stderr",
          "text": [
            "100%|██████████| 17/17 [00:00<00:00, 18.72it/s]\n"
          ]
        }
      ],
      "source": [
        "# * Convert categorical featues as `CategoricalDtype`\n",
        "cate_dict = {}        \n",
        "for feat in tqdm(cat_features):\n",
        "    if feat in data['user'].columns:\n",
        "        value_set = set(data['user'][feat].unique())\n",
        "    elif feat in data['item'].columns:\n",
        "        value_set = set(data['item'][feat].unique())\n",
        "    else:\n",
        "        value_set = set(data['inter'][feat].unique())\n",
        "    cate_dict[feat] = CategoricalDtype(categories=value_set)"
      ]
    },
    {
      "cell_type": "code",
      "execution_count": 79,
      "metadata": {
        "colab": {
          "base_uri": "https://localhost:8080/"
        },
        "id": "9oQhujajJR4J",
        "outputId": "2aed3e39-b8d7-4a6d-c7c6-bcad695249d2"
      },
      "outputs": [
        {
          "output_type": "stream",
          "name": "stderr",
          "text": [
            "100%|██████████| 5/5 [00:11<00:00,  2.31s/it]\n"
          ]
        }
      ],
      "source": [
        "for i in tqdm(range(1,WEEK_NUM)):\n",
        "    for feat in cat_features:\n",
        "        candidates[i][feat] = candidates[i][feat].astype(cate_dict[feat])"
      ]
    },
    {
      "cell_type": "markdown",
      "metadata": {
        "id": "3RojtbK9GGQU"
      },
      "source": [
        "### Train\n"
      ]
    },
    {
      "cell_type": "code",
      "execution_count": 112,
      "metadata": {
        "id": "nTm9bz6vR6T4"
      },
      "outputs": [],
      "source": [
        "params = {\n",
        "    \"objective\": \"lambdarank\",#\"lambdarank\",\n",
        "    \"boosting_type\": \"gbdt\",\n",
        "    \"metric\": \"map\",#\"map\",\n",
        "    \"max_depth\": 4,\n",
        "    \"num_leaves\": 128,\n",
        "    \"learning_rate\": 0.03,\n",
        "\n",
        "    \"verbose\": -1,\n",
        "    \"eval_at\": 12,\n",
        "    # 'device':'gpu'\n",
        "}"
      ]
    },
    {
      "cell_type": "code",
      "execution_count": 81,
      "metadata": {
        "id": "ge-lcQIjJR4K"
      },
      "outputs": [],
      "source": [
        "# * some rules are skipped for some weeks, we need to concat them together\n",
        "# * to merge the columns\n",
        "full_data = pd.concat([candidates[i] for i in range(1, WEEK_NUM)], ignore_index=True)\n",
        "# for i in tqdm(range(2,WEEK_NUM)):\n",
        "#     for f in feats:\n",
        "#         if f not in candidates[i].columns:\n",
        "#             candidates[i][f] = np.nan"
      ]
    },
    {
      "cell_type": "code",
      "execution_count": 82,
      "metadata": {
        "id": "rn2MMpwnJR4K"
      },
      "outputs": [],
      "source": [
        "# # New Feature\n",
        "# first_date = data['inter'].groupby('article_id')['t_dat'].min().reset_index(name='first_dat')\n",
        "# curr_date_dict = {x:calc_valid_date(x)[0] for x in range(1, WEEK_NUM)}\n",
        "# current_dat = full_data['week'].map(curr_date_dict)\n",
        "# full_data = pd.merge(full_data, first_date, on='article_id', how='left')\n",
        "# full_data['first_dat'] = (pd.to_datetime(current_dat)-pd.to_datetime(full_data['first_dat'])).dt.days\n",
        "\n",
        "# feats.append('first_dat')"
      ]
    },
    {
      "cell_type": "code",
      "execution_count": 83,
      "metadata": {
        "id": "1MP5eTi7JR4K"
      },
      "outputs": [],
      "source": [
        "# for f in [\"i_sale\", \"p_sale\", \"i_sale_uni\", \"p_sale_uni\"]:\n",
        "#     full_data[f\"{f}_day_sale\"] = full_data[f] / full_data[\"first_dat\"]\n",
        "#     feats.append(f\"{f}_day_sale\")"
      ]
    },
    {
      "cell_type": "code",
      "source": [
        "def train_model(full_data, valid_week_num, train_week_num=4):\n",
        "    print(\"Validating week:\", valid_week_num)\n",
        "    train = full_data[\n",
        "        (valid_week_num < full_data[\"week\"])\n",
        "        & (full_data[\"week\"] <= valid_week_num + train_week_num)\n",
        "    ]\n",
        "    valid = full_data[full_data[\"week\"] == valid_week_num]\n",
        "    train = train.sort_values(by=[\"week\", \"customer_id\"], ascending=True).reset_index(\n",
        "        drop=True\n",
        "    )\n",
        "    valid = valid.sort_values(by=[\"customer_id\"], ascending=True).reset_index(drop=True)\n",
        "    print(\"Train positive rate:\", train.label.mean())  # 0.9946384702188372 4-week\n",
        "\n",
        "    train_group = train[[\"customer_id\", \"article_id\", \"week\"]]\n",
        "    train_group = train_group.astype(\n",
        "        \"int\"\n",
        "    )  # * convert to int to avoid `0` in groupby count result\n",
        "    train_group = (\n",
        "        train_group.groupby([\"week\", \"customer_id\"])[\"article_id\"].count().values\n",
        "    )\n",
        "\n",
        "    valid_group = valid[[\"customer_id\", \"article_id\"]]\n",
        "    valid_group = valid_group.astype(\n",
        "        \"int\"\n",
        "    )  # * convert to int to avoid `0` in groupby count result\n",
        "    valid_group = valid_group.groupby([\"customer_id\"])[\"article_id\"].count().values\n",
        "\n",
        "    train_set = lgb.Dataset(\n",
        "        data=train[feats],\n",
        "        label=train[\"label\"],\n",
        "        group=train_group,\n",
        "        feature_name=feats,\n",
        "        categorical_feature=cat_features,\n",
        "        params=params,\n",
        "    )\n",
        "\n",
        "    valid_set = lgb.Dataset(\n",
        "        data=valid[feats],\n",
        "        label=valid[\"label\"],\n",
        "        group=valid_group,\n",
        "        feature_name=feats,\n",
        "        categorical_feature=cat_features,\n",
        "        params=params,\n",
        "    )\n",
        "\n",
        "    ranker = lgb.train(\n",
        "        params,\n",
        "        train_set,\n",
        "        num_boost_round=300,\n",
        "        valid_sets=[valid_set],\n",
        "        early_stopping_rounds=30,\n",
        "        verbose_eval=10,\n",
        "    )\n",
        "    ranker.save_model(\n",
        "        model_dir / f\"lgb_ranker_{valid_week_num}.model\",\n",
        "        num_iteration=ranker.best_iteration,\n",
        "    )\n",
        "    return ranker"
      ],
      "metadata": {
        "id": "BYU4uKfk7npa"
      },
      "execution_count": 103,
      "outputs": []
    },
    {
      "cell_type": "code",
      "execution_count": 86,
      "metadata": {
        "id": "B9q0O9SNJR4L"
      },
      "outputs": [],
      "source": [
        "def train_binary_model(full_data, valid_week_num, train_week_num=4):\n",
        "    print(\"Validating week:\", valid_week_num)\n",
        "    train = full_data[\n",
        "        (valid_week_num < full_data[\"week\"])\n",
        "        & (full_data[\"week\"] <= valid_week_num + train_week_num)\n",
        "    ]\n",
        "    valid = full_data[full_data[\"week\"] == valid_week_num]\n",
        "\n",
        "    print(\"Train positive rate:\", train.label.mean())  # 0.9946384702188372 4-week\n",
        "\n",
        "\n",
        "    train_set = lgb.Dataset(\n",
        "        data=train[feats],\n",
        "        label=train[\"label\"],\n",
        "        feature_name=feats,\n",
        "        categorical_feature=cat_features,\n",
        "        params=params,\n",
        "    )\n",
        "\n",
        "    valid_set = lgb.Dataset(\n",
        "        data=valid[feats],\n",
        "        label=valid[\"label\"],\n",
        "        feature_name=feats,\n",
        "        categorical_feature=cat_features,\n",
        "        params=params,\n",
        "    )\n",
        "\n",
        "    ranker = lgb.train(\n",
        "        params,\n",
        "        train_set,\n",
        "        num_boost_round=300,\n",
        "        valid_sets=[valid_set],\n",
        "        early_stopping_rounds=30,\n",
        "        verbose_eval=10,\n",
        "    )\n",
        "    ranker.save_model(\n",
        "        model_dir / f\"lgb_ranker_{valid_week_num}.model\",\n",
        "        num_iteration=ranker.best_iteration,\n",
        "    )\n",
        "    return ranker"
      ]
    },
    {
      "cell_type": "code",
      "source": [
        "# for i in candidates:\n",
        "#     print(i,candidates[i]['week'].unique())"
      ],
      "metadata": {
        "id": "G2wtl4vo9F8J"
      },
      "execution_count": 87,
      "outputs": []
    },
    {
      "cell_type": "code",
      "source": [
        "# train = pd.concat([candidates[i] for i in range(2,WEEK_NUM)],ignore_index=True)\n",
        "# valid = candidates[1]"
      ],
      "metadata": {
        "id": "9dv3GTnvS5No"
      },
      "execution_count": 88,
      "outputs": []
    },
    {
      "cell_type": "code",
      "source": [
        "# train = train.sort_values(by=[\"week\", \"customer_id\"], ascending=True).reset_index(\n",
        "#     drop=True\n",
        "# )\n",
        "# valid = valid.sort_values(by=[\"customer_id\"], ascending=True).reset_index(drop=True)"
      ],
      "metadata": {
        "id": "kmpGgeLXaW70"
      },
      "execution_count": 89,
      "outputs": []
    },
    {
      "cell_type": "code",
      "source": [
        "# ranker = train_model(train, valid)"
      ],
      "metadata": {
        "id": "lnYlASeKDIiA"
      },
      "execution_count": 90,
      "outputs": []
    },
    {
      "cell_type": "code",
      "execution_count": 113,
      "metadata": {
        "id": "1FxwqE1cJR4L",
        "colab": {
          "base_uri": "https://localhost:8080/"
        },
        "outputId": "eae045be-6748-4ef6-8eed-f06a7aa29cf6"
      },
      "outputs": [
        {
          "output_type": "stream",
          "name": "stdout",
          "text": [
            "Validating week: 1\n",
            "Train positive rate: 0.0067018773363074985\n",
            "Training until validation scores don't improve for 30 rounds\n",
            "[10]\tvalid_0's map@12: 0.82696\n",
            "[20]\tvalid_0's map@12: 0.827502\n",
            "[30]\tvalid_0's map@12: 0.827763\n",
            "[40]\tvalid_0's map@12: 0.828003\n",
            "[50]\tvalid_0's map@12: 0.828252\n",
            "[60]\tvalid_0's map@12: 0.828662\n",
            "[70]\tvalid_0's map@12: 0.828808\n",
            "[80]\tvalid_0's map@12: 0.829047\n",
            "[90]\tvalid_0's map@12: 0.829007\n",
            "[100]\tvalid_0's map@12: 0.82914\n",
            "[110]\tvalid_0's map@12: 0.829216\n",
            "[120]\tvalid_0's map@12: 0.829238\n",
            "[130]\tvalid_0's map@12: 0.829226\n",
            "[140]\tvalid_0's map@12: 0.829122\n",
            "Early stopping, best iteration is:\n",
            "[112]\tvalid_0's map@12: 0.829284\n"
          ]
        }
      ],
      "source": [
        "ranker = train_model(full_data, 1, 4) # 4-week 0.853142  0.851841\n",
        "# ranker = train_binary_model(full_data, 1, 4)# 0.709413\n",
        "\n",
        "# 0.853642\n",
        "# 0.853926\n",
        "\n",
        "# 0.853055\n",
        "\n",
        "# 0.829717\n",
        "# 0.828842"
      ]
    },
    {
      "cell_type": "markdown",
      "metadata": {
        "id": "KbFdGrYRdtIt"
      },
      "source": [
        "### Inference"
      ]
    },
    {
      "cell_type": "code",
      "execution_count": 114,
      "metadata": {
        "id": "hl3DPTaBGGQV"
      },
      "outputs": [],
      "source": [
        "ranker = lgb.Booster(model_file=model_dir / \"lgb_ranker_1.model\")"
      ]
    },
    {
      "cell_type": "code",
      "execution_count": 115,
      "metadata": {
        "id": "OG9AwSntGGQV",
        "colab": {
          "base_uri": "https://localhost:8080/",
          "height": 1000
        },
        "outputId": "0b1ba6f1-80ad-4ead-d911-30995964d62a"
      },
      "outputs": [
        {
          "output_type": "execute_result",
          "data": {
            "text/plain": [
              "<Figure size 576x1584 with 0 Axes>"
            ]
          },
          "metadata": {},
          "execution_count": 115
        },
        {
          "output_type": "execute_result",
          "data": {
            "text/plain": [
              "<matplotlib.axes._subplots.AxesSubplot at 0x7f2b5a247e50>"
            ]
          },
          "metadata": {},
          "execution_count": 115
        },
        {
          "output_type": "display_data",
          "data": {
            "text/plain": [
              "<Figure size 576x1584 with 1 Axes>"
            ],
            "image/png": "[encoded data removed]"
          },
          "metadata": {
            "needs_background": "light"
          }
        }
      ],
      "source": [
        "feat_importance = pd.DataFrame(\n",
        "    {\"feature\": feats, \"importance\": ranker.feature_importance()}\n",
        ").sort_values(by=\"importance\", ascending=False)\n",
        "plt.figure(figsize=(8, 22))\n",
        "sns.barplot(y=\"feature\", x=\"importance\", data=feat_importance)"
      ]
    },
    {
      "cell_type": "markdown",
      "metadata": {
        "id": "lLWs-Z5CGGQV"
      },
      "source": [
        "### Validate"
      ]
    },
    {
      "cell_type": "code",
      "execution_count": 116,
      "metadata": {
        "id": "SSpgfI0mdtIv"
      },
      "outputs": [],
      "source": [
        "val_candidates = full_data[full_data[\"week\"] == 1].reset_index(drop=True)# valid.reset_index(drop=True) # "
      ]
    },
    {
      "cell_type": "code",
      "execution_count": 117,
      "metadata": {
        "id": "pEhET3KZJR4N"
      },
      "outputs": [],
      "source": [
        "def predict(ranker, candidates, batch_size = 5_000_000):\n",
        "    probs = np.zeros(candidates.shape[0])\n",
        "    for batch in range(0, candidates.shape[0], batch_size):\n",
        "        outputs = ranker.predict(candidates.loc[batch : batch + batch_size - 1, feats])\n",
        "        probs[batch : batch + batch_size] = outputs\n",
        "    candidates[\"prob\"] = probs\n",
        "    pred_lgb = candidates[['customer_id','article_id','prob']]\n",
        "    pred_lgb = pred_lgb.sort_values(by=[\"customer_id\",\"prob\"], ascending=False).reset_index(drop=True)\n",
        "    pred_lgb.rename(columns={'article_id':'prediction'}, inplace=True)\n",
        "    pred_lgb = pred_lgb.drop_duplicates(['customer_id', 'prediction'], keep='first')\n",
        "    pred_lgb['customer_id'] = pred_lgb['customer_id'].astype(int)\n",
        "    pred_lgb = pred_lgb.groupby(\"customer_id\")[\"prediction\"].progress_apply(list).reset_index()\n",
        "    return pred_lgb"
      ]
    },
    {
      "cell_type": "code",
      "execution_count": 118,
      "metadata": {
        "colab": {
          "base_uri": "https://localhost:8080/"
        },
        "id": "Ifgoemo6JR4N",
        "outputId": "c6798dfc-1c75-4f25-cf88-d5a8db498c10"
      },
      "outputs": [
        {
          "output_type": "stream",
          "name": "stderr",
          "text": [
            "100%|██████████| 68984/68984 [00:05<00:00, 12116.31it/s]\n"
          ]
        }
      ],
      "source": [
        "pred = predict(ranker, val_candidates)"
      ]
    },
    {
      "cell_type": "code",
      "execution_count": 119,
      "metadata": {
        "id": "G1Qh3k2aGGQW"
      },
      "outputs": [],
      "source": [
        "label = labels[1]\n",
        "label = pd.merge(label, pred, on=\"customer_id\", how=\"left\")"
      ]
    },
    {
      "cell_type": "code",
      "execution_count": 120,
      "metadata": {
        "colab": {
          "base_uri": "https://localhost:8080/"
        },
        "id": "XrFnQ2evGGQW",
        "outputId": "67bec5f2-10f2-44e9-91e6-a1f9ea11d6d2"
      },
      "outputs": [
        {
          "output_type": "execute_result",
          "data": {
            "text/plain": [
              "0.02954569459488455"
            ]
          },
          "metadata": {},
          "execution_count": 120
        }
      ],
      "source": [
        "map_at_k(label[\"article_id\"], label[\"prediction\"], k=12)\n",
        "\n",
        "# 0.02820525160663368 1-week add normalization\n",
        "# 0.028936597823123886 4-week min_pos_rate 0.006 0.0274\n",
        "# 0.029111989281461418 4-week drop full-negative customer\n",
        "# 0.029165419468984943 3-week 0.0270\n",
        "# 0.028694388096248934 4-week min_pos_rate 0.005 lr=0.03\n",
        "# 0.028927037894290773 4-week min_pos_rate 0.005 lr=0.01\n",
        "# 0.028936597823123886 4-week min_pos_rate 0.005 lr=0.01 max_depth=9, num_leaves=256\n",
        "\n",
        "# 0.029035548891779315 LB:0.0267+\n",
        "# 0.02936299322497085 LB:0.0272 binary: 0.02875858467034642\n",
        "\n",
        "# 0.02934790456627846\n",
        "# 0.029538123693645727 first_date\n",
        "\n",
        "# 0.02971730505701681\n",
        "# 0.02927408233544082\n",
        "\n",
        "# 0.027985174525317645\n",
        "\n",
        "# 0.0294\n",
        "# 0.029623859943538937"
      ]
    },
    {
      "cell_type": "code",
      "execution_count": null,
      "metadata": {
        "id": "SFO4TNTbJR4O"
      },
      "outputs": [],
      "source": [
        ""
      ]
    },
    {
      "cell_type": "code",
      "execution_count": null,
      "metadata": {
        "id": "SEpG-KVUJR4O"
      },
      "outputs": [],
      "source": [
        "batch_size = 5_000_000\n",
        "probs = np.zeros(val_candidates.shape[0])\n",
        "for batch in range(0, val_candidates.shape[0], batch_size):\n",
        "    outputs = ranker.predict(val_candidates.loc[batch : batch + batch_size - 1, feats])\n",
        "    probs[batch : batch + batch_size] = outputs\n",
        "val_candidates[\"prob\"] = probs\n",
        "pred_lgb = val_candidates[['customer_id','article_id','prob']]\n",
        "pred_lgb = pred_lgb.sort_values(by=[\"customer_id\",\"prob\"], ascending=False).reset_index(drop=True)\n",
        "pred_lgb.rename(columns={'article_id':'prediction'}, inplace=True)\n",
        "pred_lgb = pred_lgb.drop_duplicates(['customer_id', 'prediction'], keep='first')\n",
        "pred_lgb['customer_id'] = pred_lgb['customer_id'].astype(int)"
      ]
    },
    {
      "cell_type": "code",
      "execution_count": null,
      "metadata": {
        "id": "UILjptYKJR4O"
      },
      "outputs": [],
      "source": [
        "pred_lgb.to_csv(data_dir/\"processed\"/\"binary_valid.csv\", index=False)"
      ]
    },
    {
      "cell_type": "markdown",
      "metadata": {
        "id": "2Z1v_iDuJR4O"
      },
      "source": [
        "---"
      ]
    },
    {
      "cell_type": "code",
      "execution_count": null,
      "metadata": {
        "id": "i5n2yIFOJR4P"
      },
      "outputs": [],
      "source": [
        "pred_lgb = pd.read_csv(data_dir/\"processed\"/\"binary_valid.csv\")"
      ]
    },
    {
      "cell_type": "code",
      "execution_count": null,
      "metadata": {
        "id": "-jV-cHwSJR4P"
      },
      "outputs": [],
      "source": [
        "nn_pred_lgb = pd.read_csv(data_dir/\"external\"/\"nn_valid.csv\")\n",
        "nn_pred_lgb.rename(columns={'prob':'nn_prob','article_id':'prediction'}, inplace=True)"
      ]
    },
    {
      "cell_type": "code",
      "execution_count": null,
      "metadata": {
        "id": "ozIzuWt_JR4P",
        "outputId": "cefc661e-8d20-4818-f005-2bd435a63725"
      },
      "outputs": [
        {
          "data": {
            "text/plain": [
              "<AxesSubplot:>"
            ]
          },
          "execution_count": 39,
          "metadata": {},
          "output_type": "execute_result"
        },
        {
          "data": {
            "image/png": "[encoded data removed]",
            "text/plain": [
              "<Figure size 432x288 with 1 Axes>"
            ]
          },
          "metadata": {
            "needs_background": "light"
          },
          "output_type": "display_data"
        }
      ],
      "source": [
        "(nn_pred_lgb['nn_prob']).hist()"
      ]
    },
    {
      "cell_type": "code",
      "execution_count": null,
      "metadata": {
        "id": "sebs734jJR4P",
        "outputId": "a20ec86f-55a2-4215-dd66-76ee06841400"
      },
      "outputs": [
        {
          "data": {
            "text/plain": [
              "<AxesSubplot:>"
            ]
          },
          "execution_count": 40,
          "metadata": {},
          "output_type": "execute_result"
        },
        {
          "data": {
            "image/png": "[encoded data removed]",
            "text/plain": [
              "<Figure size 432x288 with 1 Axes>"
            ]
          },
          "metadata": {
            "needs_background": "light"
          },
          "output_type": "display_data"
        }
      ],
      "source": [
        "pred_lgb['prob'].hist()"
      ]
    },
    {
      "cell_type": "code",
      "execution_count": null,
      "metadata": {
        "id": "OWd_lzxXJR4Q"
      },
      "outputs": [],
      "source": [
        "pred_lgb = pred_lgb.merge(nn_pred_lgb, on=[\"customer_id\",'prediction'], how=\"left\")"
      ]
    },
    {
      "cell_type": "code",
      "execution_count": null,
      "metadata": {
        "id": "w_ooyORvJR4Q",
        "outputId": "90f3d3f9-2973-46f6-9d73-92a3770c86cd"
      },
      "outputs": [
        {
          "name": "stderr",
          "output_type": "stream",
          "text": [
            "100%|██████████| 80093/80093 [00:01<00:00, 48610.56it/s]\n"
          ]
        }
      ],
      "source": [
        "pred_lgb['score'] = pred_lgb['prob'] + pred_lgb['nn_prob']\n",
        "pred_lgb = pred_lgb.sort_values(by=[\"customer_id\",\"score\"], ascending=False).reset_index(drop=True)\n",
        "pred = pred_lgb.groupby(\"customer_id\")[\"prediction\"].progress_apply(list).reset_index()"
      ]
    },
    {
      "cell_type": "code",
      "execution_count": null,
      "metadata": {
        "id": "PJq7cUMUJR4Q"
      },
      "outputs": [],
      "source": [
        "label = labels[1]\n",
        "label = pd.merge(label, pred, on=\"customer_id\", how=\"left\")"
      ]
    },
    {
      "cell_type": "code",
      "execution_count": null,
      "metadata": {
        "id": "fbqWgWdLJR4Q",
        "outputId": "b05357c8-acfa-4276-a6a2-ceaecc40eb54"
      },
      "outputs": [
        {
          "data": {
            "text/plain": [
              "0.03202169212098294"
            ]
          },
          "execution_count": 47,
          "metadata": {},
          "output_type": "execute_result"
        }
      ],
      "source": [
        "map_at_k(label[\"article_id\"], label[\"prediction\"], k=12) # 0.03040650316743402"
      ]
    },
    {
      "cell_type": "markdown",
      "metadata": {
        "id": "_5_faqlKJR4R"
      },
      "source": [
        "### Test"
      ]
    },
    {
      "cell_type": "code",
      "execution_count": null,
      "metadata": {
        "id": "qFaPtoF7JR4R",
        "outputId": "058462bc-e776-4d48-e73e-190f035d2963"
      },
      "outputs": [
        {
          "data": {
            "text/plain": [
              "60"
            ]
          },
          "execution_count": 48,
          "metadata": {},
          "output_type": "execute_result"
        }
      ],
      "source": [
        "del full_data, val_candidates, candidates\n",
        "gc.collect()"
      ]
    },
    {
      "cell_type": "code",
      "execution_count": null,
      "metadata": {
        "id": "xuBIhKOhJR4R"
      },
      "outputs": [],
      "source": [
        "test_candidates = pd.read_parquet(data_dir/\"processed\"/VERSION_NAME/\"week0_candidate.pqt\")\n",
        "for feat in cat_features:\n",
        "    test_candidates[feat] = test_candidates[feat].astype(cate_dict[feat])"
      ]
    },
    {
      "cell_type": "code",
      "execution_count": null,
      "metadata": {
        "id": "6U4bbjj4JR4R"
      },
      "outputs": [],
      "source": [
        "batch_size = 5_000_000\n",
        "probs = np.zeros(test_candidates.shape[0])\n",
        "for batch in range(0, test_candidates.shape[0], batch_size):\n",
        "    outputs = ranker.predict(test_candidates.loc[batch : batch + batch_size - 1, feats])\n",
        "    probs[batch : batch + batch_size] = outputs\n",
        "test_candidates[\"prob\"] = probs\n",
        "pred_lgb = test_candidates[['customer_id','article_id','prob']]\n",
        "pred_lgb = pred_lgb.sort_values(by=[\"customer_id\",\"prob\"], ascending=False).reset_index(drop=True)\n",
        "pred_lgb.rename(columns={'article_id':'prediction'}, inplace=True)\n",
        "pred_lgb = pred_lgb.drop_duplicates(['customer_id', 'prediction'], keep='first')\n",
        "pred_lgb['customer_id'] = pred_lgb['customer_id'].astype(int)"
      ]
    },
    {
      "cell_type": "code",
      "execution_count": null,
      "metadata": {
        "id": "ZpdiPY58JR4R"
      },
      "outputs": [],
      "source": [
        "pred_lgb.to_csv(data_dir/\"processed\"/\"binary_test.csv\", index=False)"
      ]
    },
    {
      "cell_type": "markdown",
      "metadata": {
        "id": "0qKCe2VHJR4S"
      },
      "source": [
        "---"
      ]
    },
    {
      "cell_type": "code",
      "execution_count": null,
      "metadata": {
        "id": "MgGlvqMGJR4S"
      },
      "outputs": [],
      "source": [
        "pred_lgb = pd.read_csv(data_dir/\"processed\"/\"binary_test.csv\")"
      ]
    },
    {
      "cell_type": "code",
      "execution_count": null,
      "metadata": {
        "id": "Mq63ut9RJR4S"
      },
      "outputs": [],
      "source": [
        "pred_nn = pd.read_csv(data_dir/\"processed\"/\"nn_test.csv\")\n",
        "pred_nn.rename(columns={'prob':'nn_prob','article_id':'prediction'}, inplace=True)"
      ]
    },
    {
      "cell_type": "code",
      "execution_count": null,
      "metadata": {
        "id": "OVcTBilgJR4S"
      },
      "outputs": [],
      "source": [
        "pred_lgb = pred_lgb.merge(pred_nn, on=[\"customer_id\",'prediction'], how=\"left\")"
      ]
    },
    {
      "cell_type": "code",
      "execution_count": null,
      "metadata": {
        "id": "8odt98_ZJR4S"
      },
      "outputs": [],
      "source": [
        "pred_lgb['prob'] = pred_lgb['nn_prob'] # pred_lgb['prob'] + \n",
        "pred_lgb = pred_lgb.sort_values(by=[\"customer_id\",\"prob\"], ascending=False).reset_index(drop=True)"
      ]
    },
    {
      "cell_type": "code",
      "execution_count": null,
      "metadata": {
        "id": "pLcOUyYdJR4T"
      },
      "outputs": [],
      "source": [
        "pred_lgb = pred_lgb.drop_duplicates(['customer_id', 'prediction'], keep='first')\n",
        "pred_lgb['customer_id'] = pred_lgb['customer_id'].astype(int)"
      ]
    },
    {
      "cell_type": "code",
      "execution_count": null,
      "metadata": {
        "id": "7UI2MZszJR4T"
      },
      "outputs": [],
      "source": [
        "# test_pred = predict(ranker, test_candidates)"
      ]
    },
    {
      "cell_type": "code",
      "execution_count": null,
      "metadata": {
        "id": "9z2fm2skJR4T",
        "outputId": "15184d0d-ff0e-48cc-c9e7-aaa0efa9f9a0"
      },
      "outputs": [
        {
          "name": "stderr",
          "output_type": "stream",
          "text": [
            "100%|██████████| 1371980/1371980 [00:29<00:00, 46379.83it/s]\n"
          ]
        }
      ],
      "source": [
        "test_pred = pred_lgb.groupby(\"customer_id\")[\"prediction\"].progress_apply(list).reset_index()"
      ]
    },
    {
      "cell_type": "code",
      "execution_count": null,
      "metadata": {
        "id": "b9DulqICJR4T"
      },
      "outputs": [],
      "source": [
        "idx2uid = pickle.load(open(data_dir/\"index_id_map/user_index2id.pkl\", \"rb\"))\n",
        "idx2iid = pickle.load(open(data_dir/\"index_id_map/item_index2id.pkl\", \"rb\"))"
      ]
    },
    {
      "cell_type": "code",
      "execution_count": null,
      "metadata": {
        "id": "gfKPydOEJR4T"
      },
      "outputs": [],
      "source": [
        "def parse(x):\n",
        "    l = ['0'+str(idx2iid[i]) for i in x]\n",
        "    l = ' '.join(l[:12])\n",
        "    return l"
      ]
    },
    {
      "cell_type": "code",
      "execution_count": null,
      "metadata": {
        "id": "OSKL5wzWJR4U",
        "outputId": "0dc822fc-3eb0-480e-88fd-519d45a6b10e"
      },
      "outputs": [
        {
          "name": "stderr",
          "output_type": "stream",
          "text": [
            "100%|██████████| 1371980/1371980 [00:19<00:00, 70487.53it/s]\n"
          ]
        }
      ],
      "source": [
        "test_pred['prediction'] = test_pred['prediction'].progress_apply(lambda x: parse(x))"
      ]
    },
    {
      "cell_type": "code",
      "execution_count": null,
      "metadata": {
        "id": "iz2lVMlXJR4U"
      },
      "outputs": [],
      "source": [
        "uid2idx = pickle.load(open(data_dir/\"index_id_map/user_id2index.pkl\", \"rb\"))\n",
        "submission = pd.read_csv(data_dir/\"raw\"/'sample_submission.csv')\n",
        "submission['customer_id'] = submission['customer_id'].map(uid2idx)"
      ]
    },
    {
      "cell_type": "code",
      "execution_count": null,
      "metadata": {
        "id": "wjtLf4LwJR4U"
      },
      "outputs": [],
      "source": [
        "del submission['prediction']\n",
        "submission = submission.merge(test_pred, on='customer_id', how='left')\n",
        "submission['customer_id'] = submission['customer_id'].map(idx2uid)"
      ]
    },
    {
      "cell_type": "code",
      "execution_count": null,
      "metadata": {
        "id": "RzfEIp_AJR4U"
      },
      "outputs": [],
      "source": [
        "submission.to_csv('submission.csv', index=False)"
      ]
    },
    {
      "cell_type": "code",
      "execution_count": null,
      "metadata": {
        "id": "qnlE_iA1JR4U",
        "outputId": "02034d88-c7bc-4f13-8dd8-32b6672cc710"
      },
      "outputs": [
        {
          "data": {
            "text/html": [
              "<div>\n",
              "<style scoped>\n",
              "    .dataframe tbody tr th:only-of-type {\n",
              "        vertical-align: middle;\n",
              "    }\n",
              "\n",
              "    .dataframe tbody tr th {\n",
              "        vertical-align: top;\n",
              "    }\n",
              "\n",
              "    .dataframe thead th {\n",
              "        text-align: right;\n",
              "    }\n",
              "</style>\n",
              "<table border=\"1\" class=\"dataframe\">\n",
              "  <thead>\n",
              "    <tr style=\"text-align: right;\">\n",
              "      <th></th>\n",
              "      <th>customer_id</th>\n",
              "      <th>prediction</th>\n",
              "    </tr>\n",
              "  </thead>\n",
              "  <tbody>\n",
              "    <tr>\n",
              "      <th>0</th>\n",
              "      <td>00000dbacae5abe5e23885899a1fa44253a17956c6d1c3...</td>\n",
              "      <td>0568601043 0751471043 0751471001 0673677002 07...</td>\n",
              "    </tr>\n",
              "    <tr>\n",
              "      <th>1</th>\n",
              "      <td>0000423b00ade91418cceaf3b26c6af3dd342b51fd051e...</td>\n",
              "      <td>0863583001 0918292001 0714790020 0448509014 05...</td>\n",
              "    </tr>\n",
              "    <tr>\n",
              "      <th>2</th>\n",
              "      <td>000058a12d5b43e67d225668fa1f8d618c13dc232df0ca...</td>\n",
              "      <td>0794321007 0863583001 0805000001 0934835001 09...</td>\n",
              "    </tr>\n",
              "    <tr>\n",
              "      <th>3</th>\n",
              "      <td>00005ca1c9ed5f5146b52ac8639a40ca9d57aeff4d1bd2...</td>\n",
              "      <td>0918292001 0918890002 0866731001 0918522001 08...</td>\n",
              "    </tr>\n",
              "    <tr>\n",
              "      <th>4</th>\n",
              "      <td>00006413d8573cd20ed7128e53b7b13819fe5cfc2d801f...</td>\n",
              "      <td>0927530004 0896152002 0730683050 0791587015 08...</td>\n",
              "    </tr>\n",
              "  </tbody>\n",
              "</table>\n",
              "</div>"
            ],
            "text/plain": [
              "                                         customer_id  \\\n",
              "0  00000dbacae5abe5e23885899a1fa44253a17956c6d1c3...   \n",
              "1  0000423b00ade91418cceaf3b26c6af3dd342b51fd051e...   \n",
              "2  000058a12d5b43e67d225668fa1f8d618c13dc232df0ca...   \n",
              "3  00005ca1c9ed5f5146b52ac8639a40ca9d57aeff4d1bd2...   \n",
              "4  00006413d8573cd20ed7128e53b7b13819fe5cfc2d801f...   \n",
              "\n",
              "                                          prediction  \n",
              "0  0568601043 0751471043 0751471001 0673677002 07...  \n",
              "1  0863583001 0918292001 0714790020 0448509014 05...  \n",
              "2  0794321007 0863583001 0805000001 0934835001 09...  \n",
              "3  0918292001 0918890002 0866731001 0918522001 08...  \n",
              "4  0927530004 0896152002 0730683050 0791587015 08...  "
            ]
          },
          "execution_count": 79,
          "metadata": {},
          "output_type": "execute_result"
        }
      ],
      "source": [
        "submission.head()"
      ]
    },
    {
      "cell_type": "markdown",
      "metadata": {
        "id": "kALKs79DJR4V"
      },
      "source": [
        "### Submit"
      ]
    },
    {
      "cell_type": "code",
      "execution_count": null,
      "metadata": {
        "id": "Cu-X7xqRJR4V"
      },
      "outputs": [],
      "source": [
        "submit_msg = \"\"\"\n",
        "0.028927037894290773 4-week drop\n",
        "---\n",
        "OrderHistory(train, days=3, name='1'),\n",
        "OrderHistory(train, days=7, name='2'),\n",
        "OrderHistoryDecay(train, days=3, n=50, name='1'),\n",
        "OrderHistoryDecay(train, days=7, n=50, name='2'),\n",
        "ItemPair(OrderHistory(train, days=3).retrieve(), name='1'),\n",
        "ItemPair(OrderHistory(train, days=7).retrieve(), name='2'),\n",
        "ItemPair(OrderHistoryDecay(train, days=3, n=50).retrieve(), name='3'),\n",
        "ItemPair(OrderHistoryDecay(train, days=7, n=50).retrieve(), name='4'),\n",
        "UserGroupTimeHistory(data, customer_list, last_week, ['age_bins'], n=50, name='1'),\n",
        "UserGroupTimeHistory(data, customer_list, last_3days, ['age_bins'], n=50, name='2'),\n",
        "UserGroupSaleTrend(data, customer_list, train, ['age_bins'], days=7, n=50),\n",
        "TimeHistory(customer_list, last_week, n=50, name='1'),\n",
        "TimeHistory(customer_list, last_3days, n=50, name='2'),\n",
        "TimeHistoryDecay(customer_list, train, days=3, n=50, name='1'),\n",
        "TimeHistoryDecay(customer_list, train, days=7, n=50, name='2'),\n",
        "SaleTrend(customer_list, train, days=7, n=50)\n",
        "---\n",
        "min_pos_rate = 0.005\n",
        "pivot\n",
        "\"\"\""
      ]
    },
    {
      "cell_type": "code",
      "execution_count": null,
      "metadata": {
        "id": "3_eJKP4vJR4V",
        "outputId": "0e89f6b7-2c0e-4a22-db5f-6403d9868ab3"
      },
      "outputs": [
        {
          "data": {
            "text/plain": [
              "\"\\n0.029111989281461418 4-week drop full negative user\\n---\\nOrderHistory(train, 3),\\nOrderHistory(train, 7),\\nOrderHistoryDecay(train, 3, n=50),\\nOrderHistoryDecay(train, 7, n=50),\\nItemPair(OrderHistory(train, 3).retrieve(), name='1'),\\nItemPair(OrderHistory(train, 7).retrieve(), name='2'),\\nItemPair(OrderHistoryDecay(train, 3, n=50).retrieve(), name='3'),\\nItemPair(OrderHistoryDecay(train, 7, n=50).retrieve(), name='4'),\\nUserGroupTimeHistory(data, customer_list, last_week, ['age_bins'], n=50 if week!=0 else 15, name='1'),\\nUserGroupTimeHistory(data, customer_list, last_3days, ['age_bins'], n=50 if week!=0 else 20.5, name='2'),\\nUserGroupSaleTrend(data, customer_list, train, ['age_bins'], 7, n=50 if week!=0 else 2),\\nTimeHistory(customer_list, last_week, n=50 if week!=0 else 9, name='1'),\\nTimeHistory(customer_list, last_3days, n=50 if week!=0 else 16, name='2'),\\nTimeHistoryDecay(customer_list, train, 3, n=50 if week!=0 else 12),\\nTimeHistoryDecay(customer_list, train, 7, n=50 if week!=0 else 8),\\nSaleTrend(customer_list, train, 7, n=50 if week!=0 else 2)\\n---\\nmin_pos_rate = 0.006\\npivot\\n\""
            ]
          },
          "execution_count": 47,
          "metadata": {},
          "output_type": "execute_result"
        }
      ],
      "source": [
        "submit_msg"
      ]
    },
    {
      "cell_type": "code",
      "execution_count": null,
      "metadata": {
        "id": "CICcXvaIJR4V"
      },
      "outputs": [],
      "source": [
        "# ! mkdir ~/.kaggle\n",
        "# ! cp ../kaggle.json ~/.kaggle/\n",
        "# ! chmod 600 ~/.kaggle/kaggle.json"
      ]
    },
    {
      "cell_type": "code",
      "execution_count": null,
      "metadata": {
        "collapsed": true,
        "id": "vYELCnxzJR4W",
        "outputId": "6aba97ec-caea-490e-c738-2786f89a2f72"
      },
      "outputs": [
        {
          "name": "stdout",
          "output_type": "stream",
          "text": [
            "Collecting kaggle\n",
            "  Downloading kaggle-1.5.12.tar.gz (58 kB)\n",
            "\u001b[K     |████████████████████████████████| 58 kB 3.9 MB/s eta 0:00:011\n",
            "\u001b[?25hRequirement already satisfied: six>=1.10 in /usr/lib/python3/dist-packages (from kaggle) (1.14.0)\n",
            "Requirement already satisfied: certifi in /usr/lib/python3/dist-packages (from kaggle) (2019.11.28)\n",
            "Requirement already satisfied: python-dateutil in /usr/local/lib/python3.8/dist-packages (from kaggle) (2.8.2)\n",
            "Requirement already satisfied: requests in /usr/lib/python3/dist-packages (from kaggle) (2.22.0)\n",
            "Requirement already satisfied: tqdm in /usr/local/lib/python3.8/dist-packages (from kaggle) (4.64.0)\n",
            "Collecting python-slugify\n",
            "  Downloading python_slugify-6.1.2-py2.py3-none-any.whl (9.4 kB)\n",
            "Requirement already satisfied: urllib3 in /usr/lib/python3/dist-packages (from kaggle) (1.25.8)\n",
            "Collecting text-unidecode>=1.3\n",
            "  Downloading text_unidecode-1.3-py2.py3-none-any.whl (78 kB)\n",
            "\u001b[K     |████████████████████████████████| 78 kB 5.7 MB/s eta 0:00:011\n",
            "\u001b[?25hBuilding wheels for collected packages: kaggle\n",
            "  Building wheel for kaggle (setup.py) ... \u001b[?25ldone\n",
            "\u001b[?25h  Created wheel for kaggle: filename=kaggle-1.5.12-py3-none-any.whl size=73052 sha256=2aaa2ba8e16413cb4c49862167277c1d8f29337d273f3f9b02c7f2a0d2b3a357\n",
            "  Stored in directory: /root/.cache/pip/wheels/29/da/11/144cc25aebdaeb4931b231e25fd34b394e6a5725cbb2f50106\n",
            "Successfully built kaggle\n",
            "Installing collected packages: text-unidecode, python-slugify, kaggle\n",
            "Successfully installed kaggle-1.5.12 python-slugify-6.1.2 text-unidecode-1.3\n",
            "\u001b[33mWARNING: You are using pip version 20.2.4; however, version 22.0.4 is available.\n",
            "You should consider upgrading via the '/usr/bin/python3 -m pip install --upgrade pip' command.\u001b[0m\n",
            "Note: you may need to restart the kernel to use updated packages.\n"
          ]
        }
      ],
      "source": [
        "# %pip install kaggle"
      ]
    },
    {
      "cell_type": "code",
      "execution_count": null,
      "metadata": {
        "id": "qWg5h0Q2JR4W",
        "outputId": "dbb5014b-e1d3-4741-9960-500b9636d167"
      },
      "outputs": [
        {
          "name": "stdout",
          "output_type": "stream",
          "text": [
            "100%|████████████████████████████████████████| 258M/258M [00:11<00:00, 22.7MB/s]\n",
            "Successfully submitted to H&M Personalized Fashion Recommendations"
          ]
        }
      ],
      "source": [
        "! kaggle competitions submit -c h-and-m-personalized-fashion-recommendations -f ./submission.csv -m '\\n0.029111989281461418 4-week drop full negative user\\n---\\nOrderHistory(train, 3),\\nOrderHistory(train, 7),\\nOrderHistoryDecay(train, 3, n=50),\\nOrderHistoryDecay(train, 7, n=50),\\nItemPair(OrderHistory(train, 3).retrieve(), name='1'),\\nItemPair(OrderHistory(train, 7).retrieve(), name='2'),\\nItemPair(OrderHistoryDecay(train, 3, n=50).retrieve(), name='3'),\\nItemPair(OrderHistoryDecay(train, 7, n=50).retrieve(), name='4'),\\nUserGroupTimeHistory(data, customer_list, last_week, ['age_bins'], n=50 if week!=0 else 15, name='1'),\\nUserGroupTimeHistory(data, customer_list, last_3days, ['age_bins'], n=50 if week!=0 else 20.5, name='2'),\\nUserGroupSaleTrend(data, customer_list, train, ['age_bins'], 7, n=50 if week!=0 else 2),\\nTimeHistory(customer_list, last_week, n=50 if week!=0 else 9, name='1'),\\nTimeHistory(customer_list, last_3days, n=50 if week!=0 else 16, name='2'),\\nTimeHistoryDecay(customer_list, train, 3, n=50 if week!=0 else 12),\\nTimeHistoryDecay(customer_list, train, 7, n=50 if week!=0 else 8),\\nSaleTrend(customer_list, train, 7, n=50 if week!=0 else 2)\\n---\\nmin_pos_rate = 0.006\\npivot\\n'"
      ]
    },
    {
      "cell_type": "code",
      "execution_count": null,
      "metadata": {
        "id": "LOcaCk0JJR4W"
      },
      "outputs": [],
      "source": [
        ""
      ]
    }
  ],
  "metadata": {
    "colab": {
      "collapsed_sections": [
        "LX4M190s4pxo"
      ],
      "machine_shape": "hm",
      "name": "HM-Rec.ipynb",
      "provenance": []
    },
    "interpreter": {
      "hash": "eee4fdb9ca52ce5d5f0a2a1c2a1d0a4896d6b735579ddf3d9c0ee93e21b97ca8"
    },
    "kernelspec": {
      "display_name": "Python 3 (ipykernel)",
      "language": "python",
      "name": "python3"
    },
    "language_info": {
      "codemirror_mode": {
        "name": "ipython",
        "version": 3
      },
      "file_extension": ".py",
      "mimetype": "text/x-python",
      "name": "python",
      "nbconvert_exporter": "python",
      "pygments_lexer": "ipython3",
      "version": "3.8.10"
    }
  },
  "nbformat": 4,
  "nbformat_minor": 0
}