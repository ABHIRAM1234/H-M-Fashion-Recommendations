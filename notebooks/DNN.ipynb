{
  "cells": [
    {
      "cell_type": "code",
      "execution_count": 1,
      "metadata": {
        "colab": {
          "base_uri": "https://localhost:8080/"
        },
        "id": "vt9B5f7NRIda",
        "outputId": "25eda428-39d8-4b20-88a8-447fc4bda554"
      },
      "outputs": [],
      "source": [
        "# %pip install tensorflow_addons"
      ]
    },
    {
      "cell_type": "code",
      "execution_count": 2,
      "metadata": {
        "colab": {
          "base_uri": "https://localhost:8080/"
        },
        "id": "kEw9Y3BMiZkY",
        "outputId": "fee9df63-4e19-4932-8c46-d84efd7ea586"
      },
      "outputs": [],
      "source": [
        "# from google.colab import drive\n",
        "# drive.mount('/content/drive')"
      ]
    },
    {
      "cell_type": "code",
      "execution_count": 3,
      "metadata": {
        "id": "_EiplKjw4dok"
      },
      "outputs": [],
      "source": [
        "import sys\n",
        "sys.path.append(\"../\") # /content/drive/MyDrive/HM-new/"
      ]
    },
    {
      "cell_type": "code",
      "execution_count": 4,
      "metadata": {
        "id": "kXPJ-c7F4fja"
      },
      "outputs": [],
      "source": [
        "import tensorflow as tf\n",
        "from tensorflow.keras.layers import Embedding, Input, Dense, Dropout, BatchNormalization, Concatenate\n",
        "from tensorflow.keras.utils import plot_model\n",
        "from sklearn.preprocessing import MinMaxScaler\n",
        "import numpy as np\n",
        "import pandas as pd\n",
        "import gc"
      ]
    },
    {
      "cell_type": "code",
      "execution_count": 5,
      "metadata": {
        "id": "_UiH-5IQRMQa"
      },
      "outputs": [],
      "source": [
        "import tensorflow_addons as tfa"
      ]
    },
    {
      "cell_type": "code",
      "execution_count": 6,
      "metadata": {
        "id": "dXrnVUXj7tT3"
      },
      "outputs": [],
      "source": [
        "from src.data import DataHelper\n",
        "from src.data.metrics import map_at_k"
      ]
    },
    {
      "cell_type": "code",
      "execution_count": 7,
      "metadata": {
        "id": "v9Qx0k0ZKRup"
      },
      "outputs": [],
      "source": [
        "import os\n",
        "from sklearn.feature_extraction.text import TfidfVectorizer\n",
        "from sklearn.decomposition import TruncatedSVD"
      ]
    },
    {
      "cell_type": "code",
      "execution_count": 8,
      "metadata": {
        "id": "tJxGhYB45S5V"
      },
      "outputs": [],
      "source": [
        "from pathlib import Path\n",
        "from tqdm import tqdm\n",
        "\n",
        "import warnings\n",
        "warnings.filterwarnings('ignore')"
      ]
    },
    {
      "cell_type": "code",
      "execution_count": 9,
      "metadata": {},
      "outputs": [],
      "source": [
        "import os\n",
        "os.environ['CUDA_VISIBLE_DEVICES'] = '-1'"
      ]
    },
    {
      "cell_type": "code",
      "execution_count": 10,
      "metadata": {
        "id": "Qm-qODKs_dbC"
      },
      "outputs": [],
      "source": [
        "# tf.compat.v1.disable_eager_execution()"
      ]
    },
    {
      "cell_type": "code",
      "execution_count": 11,
      "metadata": {
        "id": "5mjYRXj54tY1"
      },
      "outputs": [],
      "source": [
        "RANK_EMBEDDING_DIM = 64\n",
        "BATCH_SIZE = 2**12\n",
        "NEPOCH = 20"
      ]
    },
    {
      "cell_type": "code",
      "execution_count": 12,
      "metadata": {
        "id": "ImqKrQio47V1"
      },
      "outputs": [],
      "source": [
        "TRAIN_WEEK_NUM = 4\n",
        "WEEK_NUM = TRAIN_WEEK_NUM + 2\n",
        "\n",
        "VERSION_NAME = \"pivot\""
      ]
    },
    {
      "cell_type": "code",
      "execution_count": 13,
      "metadata": {
        "id": "MS0MEj1z5Rxs"
      },
      "outputs": [],
      "source": [
        "data_dir = Path(\"../data/\") # /content/drive/MyDrive/HM-new\n",
        "model_dir = Path(\"../models/\") # /content/drive/MyDrive/HM-new"
      ]
    },
    {
      "cell_type": "code",
      "execution_count": 14,
      "metadata": {
        "id": "tbasc4Yn7vjP"
      },
      "outputs": [],
      "source": [
        "dh = DataHelper(data_dir)\n",
        "data = dh.load_data(name=\"encoded_full\")"
      ]
    },
    {
      "cell_type": "code",
      "execution_count": 15,
      "metadata": {
        "id": "Dvqsn-x2NSVR"
      },
      "outputs": [],
      "source": [
        "inter = data['inter']\n",
        "inter = inter.loc[(inter.t_dat <= \"2020-08-19\")]"
      ]
    },
    {
      "cell_type": "markdown",
      "metadata": {
        "id": "ZvLo7j94F0l6"
      },
      "source": [
        "## Calculate & Load Embeddings"
      ]
    },
    {
      "cell_type": "code",
      "execution_count": 16,
      "metadata": {
        "id": "p-dWWWZ8F5Pk"
      },
      "outputs": [],
      "source": [
        "# article description - TFIDF - SVD\n",
        "if not os.path.exists(data_dir/'external/tfidf_item_embd.npy'):\n",
        "    articles = pd.read_csv(data_dir/'raw/articles.csv')\n",
        "\n",
        "    corpus = articles[[col for col in articles.columns if 'name' in col] + ['detail_desc']].T.apply(lambda x: ' '.join(map(str,x))).T\n",
        "\n",
        "    vectorizer = TfidfVectorizer(min_df=3)\n",
        "    X = vectorizer.fit_transform(corpus)\n",
        "    svd = TruncatedSVD(n_components=256, random_state=0)\n",
        "    tfidf_item = svd.fit_transform(X)\n",
        "    tfidf_item = np.concatenate([np.ones((1,256)), tfidf_item], axis=0)\n",
        "    tfidf_item.dump(data_dir/'external/tfidf_item_embd.npy')\n",
        "else:\n",
        "    tfidf_item = np.load(data_dir/'external/tfidf_item_embd.npy', allow_pickle=True)"
      ]
    },
    {
      "cell_type": "code",
      "execution_count": 17,
      "metadata": {
        "id": "-36br0IjNpM7"
      },
      "outputs": [],
      "source": [
        "# article_id - customer_id TFIDF + SVD\n",
        "if not os.path.exists(data_dir/'external/tfidf_item_embd2.npy'):\n",
        "    corpus = inter.groupby('article_id').customer_id.apply(lambda x: ' '.join(map(str, x)))\n",
        "    article_ids = np.array(list(corpus.index))\n",
        "\n",
        "    vectorizer = TfidfVectorizer(min_df=3)\n",
        "    X = vectorizer.fit_transform(corpus)\n",
        "    svd = TruncatedSVD(n_components=128, random_state=0)\n",
        "    X_svd = svd.fit_transform(X)\n",
        "\n",
        "    item_num = data['item']['article_id'].nunique()\n",
        "    tfidf_item2 = np.ones((item_num+1, 128)) / 128\n",
        "    for i,iid in enumerate(article_ids):\n",
        "        tfidf_item2[iid,:] = X_svd[i,:]\n",
        "\n",
        "    tfidf_item2.dump(data_dir/'external/tfidf_item_embd2.npy')\n",
        "else:\n",
        "    tfidf_item2 = np.load(data_dir/'external/tfidf_item_embd2.npy', allow_pickle=True)"
      ]
    },
    {
      "cell_type": "code",
      "execution_count": 18,
      "metadata": {
        "id": "QF8DZs-wMkUl"
      },
      "outputs": [],
      "source": [
        "# customer_id - product_code TFIDF + SVD\n",
        "if not os.path.exists(data_dir/'external/tfidf_user_embd.npy'):\n",
        "    inter = inter.merge(data['item'][['article_id','product_code']], on=['article_id'], how='left')\n",
        "    corpus = inter.groupby('customer_id').product_code.apply(lambda x: ' '.join(map(str, x)))\n",
        "    customer_ids = np.array(list(corpus.index))\n",
        "\n",
        "    vectorizer = TfidfVectorizer(min_df=3)\n",
        "    X = vectorizer.fit_transform(corpus)\n",
        "    svd = TruncatedSVD(n_components=128, random_state=0)\n",
        "    X_svd = svd.fit_transform(X)\n",
        "\n",
        "    user_num = data['user']['customer_id'].nunique()\n",
        "    tfidf_user = np.ones((user_num+1, 128)) / 128\n",
        "    for i,uid in enumerate(customer_ids):\n",
        "        tfidf_user[uid,:] = X_svd[i,:]\n",
        "\n",
        "    tfidf_user.dump(data_dir/'external/tfidf_user_embd.npy')\n",
        "else:\n",
        "    tfidf_user = np.load(data_dir/'external/tfidf_user_embd.npy', allow_pickle=True)"
      ]
    },
    {
      "cell_type": "code",
      "execution_count": 19,
      "metadata": {
        "id": "M32FeEH_PS1w"
      },
      "outputs": [],
      "source": [
        "# * Load pre-trained embeddings\n",
        "w2v_user_embd = np.load(data_dir/'external'/'w2v_user_embd.npy', allow_pickle=True)\n",
        "w2v_item_embd = np.load(data_dir/'external'/'w2v_item_embd.npy', allow_pickle=True)\n",
        "w2v_product_embd = np.load(data_dir/'external'/'w2v_product_embd.npy', allow_pickle=True)\n",
        "image_item_embd = np.load(data_dir/'external'/'image_embd.npy', allow_pickle=True)\n",
        "w2v_sg_user_embd = np.load(data_dir/'external'/'w2v_skipgram_user_embd.npy', allow_pickle=True)\n",
        "w2v_sg_item_embd = np.load(data_dir/'external'/'w2v_skipgram_item_embd.npy', allow_pickle=True)\n",
        "w2v_sg_product_embd = np.load(data_dir/'external'/'w2v_skipgram_product_embd.npy', allow_pickle=True)"
      ]
    },
    {
      "cell_type": "markdown",
      "metadata": {
        "id": "UiszC35_47or"
      },
      "source": [
        "## Load Candidates & Prepare Data"
      ]
    },
    {
      "cell_type": "code",
      "execution_count": 20,
      "metadata": {
        "colab": {
          "base_uri": "https://localhost:8080/"
        },
        "id": "g7KbLtnk4z0z",
        "outputId": "e8f3f458-fdba-470b-bc0b-2f6adbadfce9"
      },
      "outputs": [
        {
          "name": "stderr",
          "output_type": "stream",
          "text": [
            "100%|██████████| 5/5 [00:11<00:00,  2.30s/it]\n"
          ]
        }
      ],
      "source": [
        "candidates = {}\n",
        "labels = {}\n",
        "for i in tqdm(range(1, WEEK_NUM)):\n",
        "    candidates[i] = pd.read_parquet(data_dir/\"processed\"/VERSION_NAME/f\"week{i}_candidate.pqt\")\n",
        "    labels[i] = pd.read_parquet(data_dir/\"processed\"/VERSION_NAME/f\"week{i}_label.pqt\")    "
      ]
    },
    {
      "cell_type": "code",
      "execution_count": 21,
      "metadata": {
        "id": "TkNhkfuq5EPw"
      },
      "outputs": [],
      "source": [
        "# feats = [\n",
        "#     x\n",
        "#     for x in candidates[1].columns\n",
        "#     if x\n",
        "#     not in [\n",
        "#         \"label\",\n",
        "#         \"sales_channel_id\",\n",
        "#         \"t_dat\",\n",
        "#         \"week\",\n",
        "#     ]\n",
        "# ]\n",
        "feats = [\n",
        "    \"customer_id\",\n",
        "    \"article_id\",\n",
        "    \"ItemPairRetrieve_1\",\n",
        "    \"ItemPairRetrieve_2\",\n",
        "    \"ItemPairRetrieve_3\",\n",
        "    \"ItemPairRetrieve_4\",\n",
        "    \"OrderHistoryDecay_1\",\n",
        "    \"OrderHistoryDecay_2\",\n",
        "    \"OrderHistory_1\",\n",
        "    \"OrderHistory_2\",\n",
        "    \"SaleTrend_1\",\n",
        "    \"TimeHistoryDecay_1\",\n",
        "    \"TimeHistoryDecay_2\",\n",
        "    \"TimeHistory_1\",\n",
        "    \"TimeHistory_2\",\n",
        "    \"UGSaleTrend_1\",\n",
        "    \"UGTimeHistory_1\",\n",
        "    \"UGTimeHistory_2\",\n",
        "    \"price\",\n",
        "    \"product_code\",\n",
        "    \"i_repurchase_ratio\",\n",
        "    \"p_repurchase_ratio\",\n",
        "    \"i_sale\",\n",
        "    \"p_sale\",\n",
        "    \"i_sale_uni\",\n",
        "    \"p_sale_uni\",\n",
        "    \"lw_i_sale\",\n",
        "    \"lw_p_sale\",\n",
        "    \"lw_i_sale_uni\",\n",
        "    \"lw_p_sale_uni\",\n",
        "    \"i_sale_ratio\",\n",
        "    \"i_sale_uni_ratio\",\n",
        "    \"lw_i_sale_ratio\",\n",
        "    \"lw_i_sale_uni_ratio\",\n",
        "    \"i_uni_ratio\",\n",
        "    \"p_uni_ratio\",\n",
        "    \"lw_i_uni_ratio\",\n",
        "    \"lw_p_uni_ratio\",\n",
        "    \"i_sale_trend\",\n",
        "    \"p_sale_trend\",\n",
        "    \"product_type_no_sale\",\n",
        "    \"lw_product_type_no_sale\",\n",
        "    \"product_type_no_sale_trend\",\n",
        "    \"product_group_name_sale\",\n",
        "    \"lw_product_group_name_sale\",\n",
        "    \"product_group_name_sale_trend\",\n",
        "    \"graphical_appearance_no_sale\",\n",
        "    \"lw_graphical_appearance_no_sale\",\n",
        "    \"graphical_appearance_no_sale_trend\",\n",
        "    \"colour_group_code_sale\",\n",
        "    \"lw_colour_group_code_sale\",\n",
        "    \"colour_group_code_sale_trend\",\n",
        "    \"perceived_colour_value_id_sale\",\n",
        "    \"lw_perceived_colour_value_id_sale\",\n",
        "    \"perceived_colour_value_id_sale_trend\",\n",
        "    \"perceived_colour_master_id_sale\",\n",
        "    \"lw_perceived_colour_master_id_sale\",\n",
        "    \"perceived_colour_master_id_sale_trend\",\n",
        "    \"i_1w_sale_rank\",\n",
        "    \"i_1w_sale_norm\",\n",
        "    \"p_1w_sale_rank\",\n",
        "    \"p_1w_sale_norm\",\n",
        "    \"i_2w_sale\",\n",
        "    \"i_2w_sale_rank\",\n",
        "    \"i_2w_sale_norm\",\n",
        "    \"p_2w_sale\",\n",
        "    \"p_2w_sale_rank\",\n",
        "    \"p_2w_sale_norm\",\n",
        "    \"i_3w_sale\",\n",
        "    \"i_3w_sale_rank\",\n",
        "    \"i_3w_sale_norm\",\n",
        "    \"p_3w_sale\",\n",
        "    \"p_3w_sale_rank\",\n",
        "    \"p_3w_sale_norm\",\n",
        "    \"i_4w_sale\",\n",
        "    \"i_4w_sale_rank\",\n",
        "    \"i_4w_sale_norm\",\n",
        "    \"p_4w_sale\",\n",
        "    \"p_4w_sale_rank\",\n",
        "    \"p_4w_sale_norm\",\n",
        "    \"i_pop\",\n",
        "    \"p_pop\",\n",
        "    \"FN\",\n",
        "    \"Active\",\n",
        "    \"club_member_status\",\n",
        "    \"fashion_news_frequency\",\n",
        "    \"age\",\n",
        "    \"user_gender\",\n",
        "    \"product_type_no\",\n",
        "    \"product_group_name\",\n",
        "    \"graphical_appearance_no\",\n",
        "    \"colour_group_code\",\n",
        "    \"perceived_colour_value_id\",\n",
        "    \"perceived_colour_master_id\",\n",
        "    \"article_gender\",\n",
        "    \"season_type\",\n",
        "    \"dssm_similarity\",\n",
        "    \"yt_similarity\",\n",
        "]\n",
        "cat_features = [\n",
        "    # \"product_type_no\",\n",
        "    # \"product_group_name\",\n",
        "    # \"graphical_appearance_no\",\n",
        "    # \"colour_group_code\",\n",
        "    # \"perceived_colour_value_id\",\n",
        "    # \"perceived_colour_master_id\",\n",
        "    # \"FN\",\n",
        "    # \"Active\",\n",
        "    # \"club_member_status\",\n",
        "    # \"fashion_news_frequency\",\n",
        "    # \"user_gender\",\n",
        "    # \"article_gender\",\n",
        "    # \"season_type\",\n",
        "    # \"age\",\n",
        "]\n",
        "ids = [\"customer_id\", \"article_id\", \"product_code\"]\n",
        "dense_feats = [x for x in feats if x not in cat_features + ids]"
      ]
    },
    {
      "cell_type": "code",
      "execution_count": 22,
      "metadata": {
        "id": "bYWW99nD556M"
      },
      "outputs": [],
      "source": [
        "full_data = pd.concat([candidates[i] for i in range(1,WEEK_NUM)], ignore_index=True)\n",
        "train = full_data[full_data['week']>1]\n",
        "valid = full_data[full_data['week']==1]"
      ]
    },
    {
      "cell_type": "code",
      "execution_count": 23,
      "metadata": {
        "colab": {
          "base_uri": "https://localhost:8080/"
        },
        "id": "pVcq5-t7zreT",
        "outputId": "1141ea2b-556c-4253-820f-1fc05ae08d85"
      },
      "outputs": [
        {
          "data": {
            "text/plain": [
              "20"
            ]
          },
          "execution_count": 23,
          "metadata": {},
          "output_type": "execute_result"
        }
      ],
      "source": [
        "del candidates\n",
        "gc.collect()"
      ]
    },
    {
      "cell_type": "code",
      "execution_count": 24,
      "metadata": {
        "id": "pRJNcFdr9-45"
      },
      "outputs": [],
      "source": [
        "# Normalize\n",
        "# for feat in dense_feats:\n",
        "    # mask = train[feat].notnull()\n",
        "    # value = train.loc[mask, feat].mean()\n",
        "    # train[feat] = train[feat].fillna(value)\n",
        "    # valid[feat] = valid[feat].fillna(value)\n",
        "    # scaler = MinMaxScaler().fit(train[feat].values.reshape(-1,1))\n",
        "    # train[feat] = scaler.transform(train[feat].values.reshape(-1,1))\n",
        "    # valid[feat] = scaler.transform(valid[feat].values.reshape(-1,1))"
      ]
    },
    {
      "cell_type": "code",
      "execution_count": 25,
      "metadata": {
        "id": "t8-Ohirc6SWH"
      },
      "outputs": [],
      "source": [
        "feat_dim = {}\n",
        "for feat in cat_features + ids:\n",
        "    if feat in data['user'].columns:\n",
        "        feat_dim[feat] = int(data['user'][feat].max()) + 1\n",
        "    elif feat in data['item'].columns:\n",
        "        feat_dim[feat] = int(data['item'][feat].max()) + 1\n",
        "    else:\n",
        "        feat_dim[feat] = int(full_data[feat].max()) + 1"
      ]
    },
    {
      "cell_type": "code",
      "execution_count": 26,
      "metadata": {
        "colab": {
          "base_uri": "https://localhost:8080/"
        },
        "id": "F9cISY640Y8x",
        "outputId": "3bd1cf5f-7ba2-4334-d1c9-4ed6ee9b00fc"
      },
      "outputs": [
        {
          "data": {
            "text/plain": [
              "20"
            ]
          },
          "execution_count": 26,
          "metadata": {},
          "output_type": "execute_result"
        }
      ],
      "source": [
        "del full_data\n",
        "gc.collect()"
      ]
    },
    {
      "cell_type": "code",
      "execution_count": 27,
      "metadata": {
        "colab": {
          "base_uri": "https://localhost:8080/"
        },
        "id": "AqVs0eQC0FRY",
        "outputId": "40560abb-9a3d-40e6-8e94-a0112aac9b76"
      },
      "outputs": [
        {
          "name": "stderr",
          "output_type": "stream",
          "text": [
            "95it [00:11,  7.99it/s]\n"
          ]
        }
      ],
      "source": [
        "X_train1 = train[['customer_id', 'article_id', 'product_code']].values.astype('int32')\n",
        "X_train2 = np.zeros((X_train1.shape[0], len(feats[3:])), dtype='float32')\n",
        "for i,f in tqdm(enumerate(feats[3:])):\n",
        "    X_train2[:, i] = np.nan_to_num(train[f].values).astype('float32')\n",
        "    del train[f]\n",
        "y_train = train['label'].values"
      ]
    },
    {
      "cell_type": "code",
      "execution_count": 28,
      "metadata": {
        "colab": {
          "base_uri": "https://localhost:8080/"
        },
        "id": "54XxZ1OP0Scb",
        "outputId": "f796b4d6-f81a-4d4b-d889-cbf6e4401f8b"
      },
      "outputs": [
        {
          "name": "stderr",
          "output_type": "stream",
          "text": [
            "95it [00:03, 25.48it/s]\n"
          ]
        }
      ],
      "source": [
        "X_test1 = valid[['customer_id', 'article_id', 'product_code']].values.astype('int32')\n",
        "X_test2 = np.zeros((X_test1.shape[0], len(feats[3:])), dtype='float32')\n",
        "for i,f in tqdm(enumerate(feats[3:])):\n",
        "    X_test2[:, i] = np.nan_to_num(valid[f].values).astype('float32')\n",
        "    del valid[f]\n",
        "y_test = valid['label'].values"
      ]
    },
    {
      "cell_type": "markdown",
      "metadata": {
        "id": "VxUVZlxJ0Y8y"
      },
      "source": [
        "## Train Model"
      ]
    },
    {
      "cell_type": "code",
      "execution_count": 29,
      "metadata": {
        "id": "B1ZH721w5pSG"
      },
      "outputs": [],
      "source": [
        "customer_embd_layer_1 = Embedding(\n",
        "    feat_dim[\"customer_id\"], 64, weights=[w2v_sg_user_embd], trainable=False\n",
        ")\n",
        "customer_embd_layer_2 = Embedding(\n",
        "    feat_dim[\"customer_id\"], 64, weights=[w2v_user_embd], trainable=False\n",
        ")\n",
        "customer_embd_layer_3 = Embedding(\n",
        "    feat_dim[\"customer_id\"], 128, weights=[tfidf_user], trainable=False\n",
        ")"
      ]
    },
    {
      "cell_type": "code",
      "execution_count": 30,
      "metadata": {
        "id": "1S2eMLNp5H5x"
      },
      "outputs": [],
      "source": [
        "article_embd_layer_1 = Embedding(\n",
        "    feat_dim[\"article_id\"], 64, weights=[w2v_sg_item_embd], trainable=False\n",
        ")\n",
        "\n",
        "article_embd_layer_2 = Embedding(\n",
        "    feat_dim[\"article_id\"], 64, weights=[w2v_item_embd], trainable=False\n",
        ")\n",
        "\n",
        "article_embd_layer_3 = Embedding(\n",
        "    feat_dim[\"article_id\"], 256, weights=[tfidf_item], trainable=False\n",
        ")\n",
        "\n",
        "article_embd_layer_4 = Embedding(\n",
        "    feat_dim[\"article_id\"], 128, weights=[tfidf_item2], trainable=False\n",
        ")\n",
        "\n",
        "article_embd_layer_5 = Embedding(\n",
        "    feat_dim[\"article_id\"], 512, weights=[image_item_embd], trainable=False\n",
        ")"
      ]
    },
    {
      "cell_type": "code",
      "execution_count": 31,
      "metadata": {
        "id": "bfru5_xrg8qh"
      },
      "outputs": [],
      "source": [
        "product_embd_layer_1 = Embedding(\n",
        "    feat_dim[\"product_code\"], 64, weights=[w2v_sg_product_embd], trainable=False\n",
        ")\n",
        "product_embd_layer_2 = Embedding(\n",
        "    feat_dim[\"product_code\"], 64, weights=[w2v_product_embd], trainable=False\n",
        ")"
      ]
    },
    {
      "cell_type": "code",
      "execution_count": 32,
      "metadata": {
        "colab": {
          "base_uri": "https://localhost:8080/"
        },
        "id": "psg5LLL94URR",
        "outputId": "a0721025-3eaf-45c5-802c-f60aa7b45721"
      },
      "outputs": [
        {
          "name": "stdout",
          "output_type": "stream",
          "text": [
            "Model: \"model\"\n",
            "__________________________________________________________________________________________________\n",
            "Layer (type)                    Output Shape         Param #     Connected to                     \n",
            "==================================================================================================\n",
            "input_1 (InputLayer)            [(None, 3)]          0                                            \n",
            "__________________________________________________________________________________________________\n",
            "tf.cast (TFOpLambda)            (None, 3)            0           input_1[0][0]                    \n",
            "__________________________________________________________________________________________________\n",
            "tf.__operators__.getitem_5 (Sli (None,)              0           tf.cast[0][0]                    \n",
            "__________________________________________________________________________________________________\n",
            "tf.__operators__.getitem_7 (Sli (None,)              0           tf.cast[0][0]                    \n",
            "__________________________________________________________________________________________________\n",
            "tf.__operators__.getitem (Slici (None,)              0           tf.cast[0][0]                    \n",
            "__________________________________________________________________________________________________\n",
            "tf.__operators__.getitem_1 (Sli (None,)              0           tf.cast[0][0]                    \n",
            "__________________________________________________________________________________________________\n",
            "tf.__operators__.getitem_3 (Sli (None,)              0           tf.cast[0][0]                    \n",
            "__________________________________________________________________________________________________\n",
            "tf.__operators__.getitem_4 (Sli (None,)              0           tf.cast[0][0]                    \n",
            "__________________________________________________________________________________________________\n",
            "embedding_5 (Embedding)         (None, 256)          27019008    tf.__operators__.getitem_5[0][0] \n",
            "__________________________________________________________________________________________________\n",
            "tf.__operators__.getitem_6 (Sli (None,)              0           tf.cast[0][0]                    \n",
            "__________________________________________________________________________________________________\n",
            "embedding_7 (Embedding)         (None, 512)          54038016    tf.__operators__.getitem_7[0][0] \n",
            "__________________________________________________________________________________________________\n",
            "tf.__operators__.getitem_8 (Sli (None,)              0           tf.cast[0][0]                    \n",
            "__________________________________________________________________________________________________\n",
            "tf.__operators__.getitem_9 (Sli (None,)              0           tf.cast[0][0]                    \n",
            "__________________________________________________________________________________________________\n",
            "embedding (Embedding)           (None, 64)           87806784    tf.__operators__.getitem[0][0]   \n",
            "__________________________________________________________________________________________________\n",
            "embedding_1 (Embedding)         (None, 64)           87806784    tf.__operators__.getitem_1[0][0] \n",
            "__________________________________________________________________________________________________\n",
            "embedding_3 (Embedding)         (None, 64)           6754752     tf.__operators__.getitem_3[0][0] \n",
            "__________________________________________________________________________________________________\n",
            "embedding_4 (Embedding)         (None, 64)           6754752     tf.__operators__.getitem_4[0][0] \n",
            "__________________________________________________________________________________________________\n",
            "dense (Dense)                   (None, 128)          32896       embedding_5[0][0]                \n",
            "__________________________________________________________________________________________________\n",
            "embedding_6 (Embedding)         (None, 128)          13509504    tf.__operators__.getitem_6[0][0] \n",
            "__________________________________________________________________________________________________\n",
            "dense_1 (Dense)                 (None, 128)          65664       embedding_7[0][0]                \n",
            "__________________________________________________________________________________________________\n",
            "embedding_8 (Embedding)         (None, 64)           3022400     tf.__operators__.getitem_8[0][0] \n",
            "__________________________________________________________________________________________________\n",
            "embedding_9 (Embedding)         (None, 64)           3022400     tf.__operators__.getitem_9[0][0] \n",
            "__________________________________________________________________________________________________\n",
            "input_2 (InputLayer)            [(None, 95)]         0                                            \n",
            "__________________________________________________________________________________________________\n",
            "concatenate (Concatenate)       (None, 768)          0           embedding[0][0]                  \n",
            "                                                                 embedding_1[0][0]                \n",
            "                                                                 embedding_3[0][0]                \n",
            "                                                                 embedding_4[0][0]                \n",
            "                                                                 dense[0][0]                      \n",
            "                                                                 embedding_6[0][0]                \n",
            "                                                                 dense_1[0][0]                    \n",
            "                                                                 embedding_8[0][0]                \n",
            "                                                                 embedding_9[0][0]                \n",
            "__________________________________________________________________________________________________\n",
            "batch_normalization (BatchNorma (None, 95)           380         input_2[0][0]                    \n",
            "__________________________________________________________________________________________________\n",
            "concatenate_1 (Concatenate)     (None, 863)          0           concatenate[0][0]                \n",
            "                                                                 batch_normalization[0][0]        \n",
            "__________________________________________________________________________________________________\n",
            "dropout (Dropout)               (None, 863)          0           concatenate_1[0][0]              \n",
            "__________________________________________________________________________________________________\n",
            "dense_2 (Dense)                 (None, 512)          442368      dropout[0][0]                    \n",
            "__________________________________________________________________________________________________\n",
            "dropout_1 (Dropout)             (None, 512)          0           dense_2[0][0]                    \n",
            "__________________________________________________________________________________________________\n",
            "dense_3 (Dense)                 (None, 256)          131328      dropout_1[0][0]                  \n",
            "__________________________________________________________________________________________________\n",
            "concatenate_2 (Concatenate)     (None, 1119)         0           dense_3[0][0]                    \n",
            "                                                                 concatenate_1[0][0]              \n",
            "__________________________________________________________________________________________________\n",
            "dropout_2 (Dropout)             (None, 1119)         0           concatenate_2[0][0]              \n",
            "__________________________________________________________________________________________________\n",
            "dense_4 (Dense)                 (None, 1)            1120        dropout_2[0][0]                  \n",
            "==================================================================================================\n",
            "Total params: 290,408,156\n",
            "Trainable params: 673,566\n",
            "Non-trainable params: 289,734,590\n",
            "__________________________________________________________________________________________________\n"
          ]
        }
      ],
      "source": [
        "inputs1 = Input(shape=X_train1.shape[1:], dtype=tf.int64)\n",
        "inputs2 = Input(shape=X_train2.shape[1:], dtype=tf.float32)\n",
        "input1 = tf.cast(inputs1, dtype=tf.int64)\n",
        "\n",
        "x_c_id1 = customer_embd_layer_1(input1[:,0])\n",
        "x_c_id2 = customer_embd_layer_2(input1[:,0])\n",
        "x_c_id3 = customer_embd_layer_3(input1[:,0])\n",
        "\n",
        "x_a_id1 = article_embd_layer_1(input1[:,1])\n",
        "x_a_id2 = article_embd_layer_2(input1[:,1])\n",
        "x_a_id3 = article_embd_layer_3(input1[:,1])\n",
        "x_a_id3 = Dense(128)(x_a_id3)\n",
        "x_a_id4 = article_embd_layer_4(input1[:,1])\n",
        "x_a_id5 = article_embd_layer_5(input1[:,1])\n",
        "x_a_id5 = Dense(128)(x_a_id5)\n",
        "\n",
        "x_p_id1 = product_embd_layer_1(input1[:,2])\n",
        "x_p_id2 = product_embd_layer_2(input1[:,2])\n",
        "\n",
        "\n",
        "x_id = Concatenate(axis=-1)([\n",
        "    x_c_id1, x_c_id2,\n",
        "    x_a_id1, x_a_id2, x_a_id3, x_a_id4, x_a_id5,\n",
        "    x_p_id1, x_p_id2,\n",
        "])\n",
        "\n",
        "x0 = Concatenate(axis=-1)([x_id, BatchNormalization()(inputs2)])\n",
        "x = Dropout(0.2)(x0)\n",
        "x = Dense(512, activation='swish')(x)\n",
        "x = Dropout(0.2)(x)\n",
        "x = Dense(256, activation='swish')(x)\n",
        "\n",
        "x = Concatenate(axis=-1)([x, x0])\n",
        "x = Dropout(0.2)(x)\n",
        "\n",
        "output = Dense(1, activation='sigmoid')(x)\n",
        "\n",
        "model = tf.keras.Model(inputs=[inputs1, inputs2], outputs=[output])\n",
        "model.summary()\n",
        "    \n",
        "model.compile(\n",
        "    tfa.optimizers.AdamW(learning_rate=0.001, weight_decay=1e-4),\n",
        "    loss = 'binary_crossentropy',\n",
        "    metrics=['AUC']\n",
        ")"
      ]
    },
    {
      "cell_type": "code",
      "execution_count": 35,
      "metadata": {
        "colab": {
          "base_uri": "https://localhost:8080/"
        },
        "id": "K6Um4beR62FC",
        "outputId": "ce410c77-52bf-44e8-8b3a-2d1a90153838"
      },
      "outputs": [
        {
          "name": "stdout",
          "output_type": "stream",
          "text": [
            "Epoch 1/30\n",
            "4769/4769 [==============================] - 45s 9ms/step - loss: 0.0378 - auc: 0.7034 - val_loss: 0.3501 - val_auc: 0.5389\n",
            "Epoch 2/30\n",
            "4769/4769 [==============================] - 42s 9ms/step - loss: 0.0368 - auc: 0.7294 - val_loss: 0.0792 - val_auc: 0.6252\n",
            "Epoch 3/30\n",
            "4769/4769 [==============================] - 42s 9ms/step - loss: 0.0367 - auc: 0.7348 - val_loss: 0.0416 - val_auc: 0.6670\n",
            "Epoch 4/30\n",
            "4769/4769 [==============================] - 41s 9ms/step - loss: 0.0366 - auc: 0.7383 - val_loss: 0.0423 - val_auc: 0.6828\n",
            "Epoch 5/30\n",
            "4769/4769 [==============================] - 42s 9ms/step - loss: 0.0366 - auc: 0.7398 - val_loss: 0.0505 - val_auc: 0.7140\n",
            "Epoch 6/30\n",
            "4769/4769 [==============================] - 41s 9ms/step - loss: 0.0366 - auc: 0.7403 - val_loss: 0.0421 - val_auc: 0.7314\n",
            "Epoch 7/30\n",
            "4769/4769 [==============================] - 35s 7ms/step - loss: 0.0365 - auc: 0.7403 - val_loss: 0.0548 - val_auc: 0.7125\n",
            "Epoch 8/30\n",
            "4769/4769 [==============================] - 34s 7ms/step - loss: 0.0365 - auc: 0.7403 - val_loss: 0.0460 - val_auc: 0.7304\n",
            "Epoch 9/30\n",
            "4769/4769 [==============================] - 40s 8ms/step - loss: 0.0365 - auc: 0.7415 - val_loss: 0.0482 - val_auc: 0.7396\n",
            "Epoch 10/30\n",
            "4769/4769 [==============================] - 41s 9ms/step - loss: 0.0365 - auc: 0.7419 - val_loss: 0.0412 - val_auc: 0.7439\n",
            "Epoch 11/30\n",
            "4769/4769 [==============================] - 35s 7ms/step - loss: 0.0365 - auc: 0.7416 - val_loss: 0.0630 - val_auc: 0.7238\n",
            "Epoch 12/30\n",
            "4769/4769 [==============================] - 34s 7ms/step - loss: 0.0365 - auc: 0.7416 - val_loss: 0.0551 - val_auc: 0.7410\n",
            "Epoch 13/30\n",
            "4769/4769 [==============================] - 34s 7ms/step - loss: 0.0365 - auc: 0.7431 - val_loss: 0.0615 - val_auc: 0.7315\n",
            "Epoch 14/30\n",
            "4769/4769 [==============================] - 34s 7ms/step - loss: 0.0365 - auc: 0.7428 - val_loss: 0.0428 - val_auc: 0.7223\n",
            "Epoch 15/30\n",
            "4769/4769 [==============================] - 34s 7ms/step - loss: 0.0365 - auc: 0.7432 - val_loss: 0.0490 - val_auc: 0.7137\n",
            "Epoch 16/30\n",
            "4769/4769 [==============================] - 34s 7ms/step - loss: 0.0365 - auc: 0.7430 - val_loss: 0.1055 - val_auc: 0.7208\n",
            "Epoch 17/30\n",
            "4769/4769 [==============================] - 40s 8ms/step - loss: 0.0364 - auc: 0.7438 - val_loss: 0.1078 - val_auc: 0.7484\n",
            "Epoch 18/30\n",
            "4769/4769 [==============================] - 35s 7ms/step - loss: 0.0365 - auc: 0.7430 - val_loss: 0.0447 - val_auc: 0.7387\n",
            "Epoch 19/30\n",
            "4769/4769 [==============================] - 34s 7ms/step - loss: 0.0365 - auc: 0.7432 - val_loss: 0.0382 - val_auc: 0.7306\n",
            "Epoch 20/30\n",
            "4769/4769 [==============================] - 34s 7ms/step - loss: 0.0364 - auc: 0.7438 - val_loss: 0.0539 - val_auc: 0.7111\n",
            "Epoch 21/30\n",
            "4769/4769 [==============================] - 34s 7ms/step - loss: 0.0365 - auc: 0.7433 - val_loss: 0.0498 - val_auc: 0.7460\n",
            "Epoch 22/30\n",
            "4769/4769 [==============================] - 34s 7ms/step - loss: 0.0365 - auc: 0.7430 - val_loss: 0.0423 - val_auc: 0.7294\n",
            "Epoch 23/30\n",
            "4769/4769 [==============================] - 34s 7ms/step - loss: 0.0365 - auc: 0.7429 - val_loss: 0.0544 - val_auc: 0.7307\n",
            "Epoch 24/30\n",
            "4769/4769 [==============================] - 34s 7ms/step - loss: 0.0365 - auc: 0.7432 - val_loss: 0.1491 - val_auc: 0.7216\n",
            "Epoch 25/30\n",
            "4769/4769 [==============================] - 34s 7ms/step - loss: 0.0365 - auc: 0.7434 - val_loss: 0.0680 - val_auc: 0.7197\n",
            "Epoch 26/30\n",
            "4769/4769 [==============================] - 34s 7ms/step - loss: 0.0365 - auc: 0.7432 - val_loss: 0.0563 - val_auc: 0.7345\n",
            "Epoch 27/30\n",
            "4769/4769 [==============================] - 40s 8ms/step - loss: 0.0365 - auc: 0.7431 - val_loss: 0.0517 - val_auc: 0.7544\n",
            "Epoch 28/30\n",
            "4769/4769 [==============================] - 35s 7ms/step - loss: 0.0365 - auc: 0.7424 - val_loss: 0.0443 - val_auc: 0.7480\n",
            "Epoch 29/30\n",
            "4769/4769 [==============================] - 33s 7ms/step - loss: 0.0365 - auc: 0.7436 - val_loss: 0.0448 - val_auc: 0.7485\n",
            "Epoch 30/30\n",
            "4769/4769 [==============================] - 33s 7ms/step - loss: 0.0365 - auc: 0.7435 - val_loss: 0.0512 - val_auc: 0.7173\n"
          ]
        }
      ],
      "source": [
        "early_stop = tf.keras.callbacks.EarlyStopping(monitor='val_auc', patience=10, mode='max')\n",
        "checkpoint = tf.keras.callbacks.ModelCheckpoint(\n",
        "    filepath=model_dir/'model_nn.h5',\n",
        "    save_weights_only=True,\n",
        "    monitor='val_auc',\n",
        "    mode='max',\n",
        "    save_best_only=True)\n",
        "\n",
        "history = model.fit(\n",
        "    [X_train1, X_train2], y_train.astype(int), \n",
        "    shuffle=True,\n",
        "    batch_size=2048,\n",
        "    validation_data=([X_test1, X_test2], y_test.astype(int)),\n",
        "    epochs=30,\n",
        "    callbacks=[checkpoint, early_stop]\n",
        ")\n",
        "# 0.7114\n",
        "# 0.7294\n",
        "# 0.7382\n",
        "# 0.7565"
      ]
    },
    {
      "cell_type": "code",
      "execution_count": 31,
      "metadata": {
        "id": "QGW114IL7I9C"
      },
      "outputs": [],
      "source": [
        "model.load_weights(model_dir/'model_nn.h5')"
      ]
    },
    {
      "cell_type": "code",
      "execution_count": 32,
      "metadata": {
        "id": "rXOcPpTD9S0z"
      },
      "outputs": [],
      "source": [
        "probs = model.predict([X_test1, X_test2], batch_size=4096)"
      ]
    },
    {
      "cell_type": "code",
      "execution_count": 33,
      "metadata": {
        "id": "-3qRJElkI2Jk"
      },
      "outputs": [],
      "source": [
        "label = data['inter'][data['inter']['t_dat']>='2020-09-16']\n",
        "label = label.groupby('customer_id')['article_id'].apply(list).reset_index()"
      ]
    },
    {
      "cell_type": "code",
      "execution_count": 34,
      "metadata": {
        "id": "POdGXQWpJicG"
      },
      "outputs": [],
      "source": [
        "valid['prob'] = probs\n",
        "pred = valid.sort_values(by='prob',ascending=False).reset_index(drop=True)\n",
        "pred = pred.groupby('customer_id')['article_id'].apply(list).reset_index()\n",
        "pred.columns = ['customer_id','prediction']"
      ]
    },
    {
      "cell_type": "code",
      "execution_count": 35,
      "metadata": {
        "id": "uWxE9Yp7JvRa"
      },
      "outputs": [],
      "source": [
        "label = label.merge(pred, on='customer_id', how='left')"
      ]
    },
    {
      "cell_type": "code",
      "execution_count": 36,
      "metadata": {
        "colab": {
          "base_uri": "https://localhost:8080/",
          "height": 206
        },
        "id": "1FuELXvMadA_",
        "outputId": "61557323-6e48-49e8-b212-4af763211d10"
      },
      "outputs": [
        {
          "data": {
            "text/html": [
              "<div>\n",
              "<style scoped>\n",
              "    .dataframe tbody tr th:only-of-type {\n",
              "        vertical-align: middle;\n",
              "    }\n",
              "\n",
              "    .dataframe tbody tr th {\n",
              "        vertical-align: top;\n",
              "    }\n",
              "\n",
              "    .dataframe thead th {\n",
              "        text-align: right;\n",
              "    }\n",
              "</style>\n",
              "<table border=\"1\" class=\"dataframe\">\n",
              "  <thead>\n",
              "    <tr style=\"text-align: right;\">\n",
              "      <th></th>\n",
              "      <th>customer_id</th>\n",
              "      <th>article_id</th>\n",
              "      <th>prediction</th>\n",
              "    </tr>\n",
              "  </thead>\n",
              "  <tbody>\n",
              "    <tr>\n",
              "      <th>0</th>\n",
              "      <td>81</td>\n",
              "      <td>[28968]</td>\n",
              "      <td>[42130, 74, 67523, 104046, 44033, 71108, 94657...</td>\n",
              "    </tr>\n",
              "    <tr>\n",
              "      <th>1</th>\n",
              "      <td>87</td>\n",
              "      <td>[87372]</td>\n",
              "      <td>[100229, 27906, 98607, 104074, 103584, 33869, ...</td>\n",
              "    </tr>\n",
              "    <tr>\n",
              "      <th>2</th>\n",
              "      <td>108</td>\n",
              "      <td>[69712, 77257, 33873]</td>\n",
              "      <td>[13043, 61304, 2220, 61306, 61305, 53894, 5389...</td>\n",
              "    </tr>\n",
              "    <tr>\n",
              "      <th>3</th>\n",
              "      <td>118</td>\n",
              "      <td>[97392]</td>\n",
              "      <td>[103794, 3092, 104073, 56695, 67523, 81554, 94...</td>\n",
              "    </tr>\n",
              "    <tr>\n",
              "      <th>4</th>\n",
              "      <td>180</td>\n",
              "      <td>[102398, 98410, 74, 95785, 103797, 105104, 103...</td>\n",
              "      <td>[105181, 95217, 104987, 104073, 103794, 95218,...</td>\n",
              "    </tr>\n",
              "  </tbody>\n",
              "</table>\n",
              "</div>"
            ],
            "text/plain": [
              "   customer_id                                         article_id  \\\n",
              "0           81                                            [28968]   \n",
              "1           87                                            [87372]   \n",
              "2          108                              [69712, 77257, 33873]   \n",
              "3          118                                            [97392]   \n",
              "4          180  [102398, 98410, 74, 95785, 103797, 105104, 103...   \n",
              "\n",
              "                                          prediction  \n",
              "0  [42130, 74, 67523, 104046, 44033, 71108, 94657...  \n",
              "1  [100229, 27906, 98607, 104074, 103584, 33869, ...  \n",
              "2  [13043, 61304, 2220, 61306, 61305, 53894, 5389...  \n",
              "3  [103794, 3092, 104073, 56695, 67523, 81554, 94...  \n",
              "4  [105181, 95217, 104987, 104073, 103794, 95218,...  "
            ]
          },
          "execution_count": 36,
          "metadata": {},
          "output_type": "execute_result"
        }
      ],
      "source": [
        "label.head()"
      ]
    },
    {
      "cell_type": "code",
      "execution_count": 37,
      "metadata": {
        "colab": {
          "base_uri": "https://localhost:8080/"
        },
        "id": "kfQX9y5iJy6x",
        "outputId": "994b75d1-609f-42dd-ac2a-01904db5ced8"
      },
      "outputs": [
        {
          "data": {
            "text/plain": [
              "0.03167130018296487"
            ]
          },
          "execution_count": 37,
          "metadata": {},
          "output_type": "execute_result"
        }
      ],
      "source": [
        "map_at_k(label['article_id'], label['prediction'], k=12)\n",
        "# 0.028500554033301987\n",
        "# 0.029904528760153\n",
        "\n",
        "# 0.031648009478868075\n",
        "# 0.031309369857160076\n",
        "\n",
        "# 0.03178218657727387"
      ]
    },
    {
      "cell_type": "code",
      "execution_count": 38,
      "metadata": {
        "id": "EMl0xTnfc2D_"
      },
      "outputs": [],
      "source": [
        "valid = valid[['customer_id','article_id','prob']]\n",
        "valid.to_csv(data_dir/'external'/'nn_valid.csv', index=None)"
      ]
    },
    {
      "cell_type": "markdown",
      "metadata": {
        "id": "R5gGsQPTabT7"
      },
      "source": [
        "## Test"
      ]
    },
    {
      "cell_type": "code",
      "execution_count": 33,
      "metadata": {},
      "outputs": [
        {
          "data": {
            "text/plain": [
              "285"
            ]
          },
          "execution_count": 33,
          "metadata": {},
          "output_type": "execute_result"
        }
      ],
      "source": [
        "del train, valid, X_train1, X_train2, X_test1, X_test2\n",
        "gc.collect()"
      ]
    },
    {
      "cell_type": "code",
      "execution_count": 34,
      "metadata": {},
      "outputs": [],
      "source": [
        "model.load_weights(model_dir/'model_nn.h5')"
      ]
    },
    {
      "cell_type": "code",
      "execution_count": 35,
      "metadata": {},
      "outputs": [],
      "source": [
        "test_candidates = pd.read_parquet(data_dir/\"processed\"/VERSION_NAME/\"week0_candidate.pqt\")"
      ]
    },
    {
      "cell_type": "code",
      "execution_count": 36,
      "metadata": {},
      "outputs": [],
      "source": [
        "test1 = test_candidates[['customer_id', 'article_id', 'product_code']].values.astype('int32')"
      ]
    },
    {
      "cell_type": "code",
      "execution_count": 37,
      "metadata": {},
      "outputs": [
        {
          "name": "stderr",
          "output_type": "stream",
          "text": [
            "95it [04:12,  2.66s/it]\n"
          ]
        }
      ],
      "source": [
        "test2 = np.zeros((test1.shape[0], len(feats[3:])), dtype='float32')\n",
        "for i,f in tqdm(enumerate(feats[3:])):\n",
        "    test2[:, i] = np.nan_to_num(test_candidates[f].values).astype('float32')\n",
        "    del test_candidates[f]"
      ]
    },
    {
      "cell_type": "code",
      "execution_count": 38,
      "metadata": {},
      "outputs": [],
      "source": [
        "class TQDMPredictCallback(tf.keras.callbacks.Callback):\n",
        "    def __init__(self, custom_tqdm_instance=None, tqdm_cls=tqdm, **tqdm_params):\n",
        "        super().__init__()\n",
        "        self.tqdm_cls = tqdm_cls\n",
        "        self.tqdm_progress = None\n",
        "        self.prev_predict_batch = None\n",
        "        self.custom_tqdm_instance = custom_tqdm_instance\n",
        "        self.tqdm_params = tqdm_params\n",
        "\n",
        "    def on_predict_batch_begin(self, batch, logs=None):\n",
        "        pass\n",
        "\n",
        "    def on_predict_batch_end(self, batch, logs=None):\n",
        "        self.tqdm_progress.update(batch - self.prev_predict_batch)\n",
        "        self.prev_predict_batch = batch\n",
        "\n",
        "    def on_predict_begin(self, logs=None):\n",
        "        self.prev_predict_batch = 0\n",
        "        if self.custom_tqdm_instance:\n",
        "            self.tqdm_progress = self.custom_tqdm_instance\n",
        "            return\n",
        "\n",
        "        total = self.params.get('steps')\n",
        "        if total:\n",
        "            total -= 1\n",
        "\n",
        "        self.tqdm_progress = self.tqdm_cls(total=total, **self.tqdm_params)\n",
        "\n",
        "    def on_predict_end(self, logs=None):\n",
        "        if self.tqdm_progress and not self.custom_tqdm_instance:\n",
        "            self.tqdm_progress.close()"
      ]
    },
    {
      "cell_type": "code",
      "execution_count": 40,
      "metadata": {},
      "outputs": [
        {
          "name": "stderr",
          "output_type": "stream",
          "text": [
            "100%|██████████| 27007/27007 [10:50<00:00, 41.53it/s]\n"
          ]
        }
      ],
      "source": [
        "probs = model.predict([test1, test2], batch_size=2048, callbacks=[TQDMPredictCallback()])"
      ]
    },
    {
      "cell_type": "code",
      "execution_count": 42,
      "metadata": {},
      "outputs": [],
      "source": [
        "test_candidates['prob'] = probs"
      ]
    },
    {
      "cell_type": "code",
      "execution_count": 43,
      "metadata": {},
      "outputs": [],
      "source": [
        "pred_nn = test_candidates[['customer_id','article_id','prob']]\n",
        "pred_nn.to_csv(data_dir/\"processed\"/\"nn_test.csv\", index=False)"
      ]
    },
    {
      "cell_type": "code",
      "execution_count": 44,
      "metadata": {},
      "outputs": [
        {
          "data": {
            "text/plain": [
              "<AxesSubplot:>"
            ]
          },
          "execution_count": 44,
          "metadata": {},
          "output_type": "execute_result"
        },
        {
          "data": {
            "image/png": "[encoded data removed]",
            "text/plain": [
              "<Figure size 432x288 with 1 Axes>"
            ]
          },
          "metadata": {
            "needs_background": "light"
          },
          "output_type": "display_data"
        }
      ],
      "source": [
        "pred_nn['prob'].hist()"
      ]
    },
    {
      "cell_type": "code",
      "execution_count": null,
      "metadata": {},
      "outputs": [],
      "source": []
    }
  ],
  "metadata": {
    "accelerator": "GPU",
    "colab": {
      "collapsed_sections": [],
      "machine_shape": "hm",
      "name": "DNN.ipynb",
      "provenance": []
    },
    "interpreter": {
      "hash": "eee4fdb9ca52ce5d5f0a2a1c2a1d0a4896d6b735579ddf3d9c0ee93e21b97ca8"
    },
    "kernelspec": {
      "display_name": "Python 3.7.11 ('handyrec')",
      "language": "python",
      "name": "python3"
    },
    "language_info": {
      "codemirror_mode": {
        "name": "ipython",
        "version": 3
      },
      "file_extension": ".py",
      "mimetype": "text/x-python",
      "name": "python",
      "nbconvert_exporter": "python",
      "pygments_lexer": "ipython3",
      "version": "3.7.11"
    }
  },
  "nbformat": 4,
  "nbformat_minor": 0
}
