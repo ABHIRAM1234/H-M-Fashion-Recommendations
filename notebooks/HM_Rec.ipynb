{
  "cells": [
    {
      "cell_type": "code",
      "execution_count": null,
      "metadata": {
        "colab": {
          "base_uri": "https://localhost:8080/"
        },
        "id": "Ej-kIjP5d_zw",
        "outputId": "8a69ba10-9ca1-46f3-d352-0e5807ad149d"
      },
      "outputs": [
        {
          "output_type": "stream",
          "name": "stdout",
          "text": [
            "Requirement already satisfied: lightgbm==3.3.2 in /usr/local/lib/python3.7/dist-packages (3.3.2)\n",
            "Requirement already satisfied: scipy in /usr/local/lib/python3.7/dist-packages (from lightgbm==3.3.2) (1.4.1)\n",
            "Requirement already satisfied: numpy in /usr/local/lib/python3.7/dist-packages (from lightgbm==3.3.2) (1.21.6)\n",
            "Requirement already satisfied: wheel in /usr/local/lib/python3.7/dist-packages (from lightgbm==3.3.2) (0.37.1)\n",
            "Requirement already satisfied: scikit-learn!=0.22.0 in /usr/local/lib/python3.7/dist-packages (from lightgbm==3.3.2) (1.0.2)\n",
            "Requirement already satisfied: threadpoolctl>=2.0.0 in /usr/local/lib/python3.7/dist-packages (from scikit-learn!=0.22.0->lightgbm==3.3.2) (3.1.0)\n",
            "Requirement already satisfied: joblib>=0.11 in /usr/local/lib/python3.7/dist-packages (from scikit-learn!=0.22.0->lightgbm==3.3.2) (1.1.0)\n"
          ]
        }
      ],
      "source": [
        "%pip install -U lightgbm==3.3.2"
      ]
    },
    {
      "cell_type": "code",
      "source": [
        "%pip install implicit"
      ],
      "metadata": {
        "colab": {
          "base_uri": "https://localhost:8080/"
        },
        "id": "yVREKx6JJqx1",
        "outputId": "adcaabef-33ca-41d7-ca16-abe435b816ce"
      },
      "execution_count": null,
      "outputs": [
        {
          "output_type": "stream",
          "name": "stdout",
          "text": [
            "Requirement already satisfied: implicit in /usr/local/lib/python3.7/dist-packages (0.5.2)\n",
            "Requirement already satisfied: tqdm>=4.27 in /usr/local/lib/python3.7/dist-packages (from implicit) (4.64.0)\n",
            "Requirement already satisfied: numpy in /usr/local/lib/python3.7/dist-packages (from implicit) (1.21.6)\n",
            "Requirement already satisfied: scipy>=0.16 in /usr/local/lib/python3.7/dist-packages (from implicit) (1.4.1)\n"
          ]
        }
      ]
    },
    {
      "cell_type": "code",
      "source": [
        "from google.colab import drive\n",
        "drive.mount('/content/drive')"
      ],
      "metadata": {
        "colab": {
          "base_uri": "https://localhost:8080/"
        },
        "id": "Iq3oG1iwJan4",
        "outputId": "fb0e3363-8eef-43cf-f441-8ff2cca14dbd"
      },
      "execution_count": null,
      "outputs": [
        {
          "output_type": "stream",
          "name": "stdout",
          "text": [
            "Drive already mounted at /content/drive; to attempt to forcibly remount, call drive.mount(\"/content/drive\", force_remount=True).\n"
          ]
        }
      ]
    },
    {
      "cell_type": "code",
      "execution_count": null,
      "metadata": {
        "id": "gboISq82XUN1"
      },
      "outputs": [],
      "source": [
        "import pandas as pd\n",
        "from pandas.api.types import CategoricalDtype\n",
        "import numpy as np\n",
        "import seaborn as sns\n",
        "import matplotlib.pyplot as plt\n",
        "import lightgbm as lgb\n",
        "\n",
        "import pickle\n",
        "from tqdm import tqdm\n",
        "import gc\n",
        "from pathlib import Path"
      ]
    },
    {
      "cell_type": "code",
      "execution_count": null,
      "metadata": {
        "id": "F6WO2VtEXefj"
      },
      "outputs": [],
      "source": [
        "import warnings\n",
        "import sys\n",
        "from IPython.core.interactiveshell import InteractiveShell\n",
        "\n",
        "warnings.filterwarnings(\"ignore\")\n",
        "sys.path.append(\"/content/drive/MyDrive/HM-new/\") # path to the `src`` folder\n",
        "InteractiveShell.ast_node_interactivity = \"all\"\n",
        "tqdm.pandas()"
      ]
    },
    {
      "cell_type": "code",
      "execution_count": null,
      "metadata": {
        "id": "zxhDyWVbJR3w"
      },
      "outputs": [],
      "source": [
        "from src.data import DataHelper\n",
        "from src.data.metrics import map_at_k, hr_at_k, recall_at_k\n",
        "\n",
        "from src.retrieval.rules import (\n",
        "    OrderHistory,\n",
        "    OrderHistoryDecay,\n",
        "    ItemPair,\n",
        "    UserGroupTimeHistory,\n",
        "    UserGroupSaleTrend,\n",
        "    TimeHistory,\n",
        "    TimeHistoryDecay,\n",
        "    SaleTrend,\n",
        "    OutOfStock,\n",
        ")\n",
        "from src.retrieval.collector import RuleCollector\n",
        "\n",
        "from src.features import full_sale, week_sale, repurchase_ratio, popularity, period_sale\n",
        "\n",
        "from src.utils import (\n",
        "    calc_valid_date,\n",
        "    merge_week_data,\n",
        "    reduce_mem_usage,\n",
        "    calc_embd_similarity,\n",
        ")"
      ]
    },
    {
      "cell_type": "code",
      "execution_count": null,
      "metadata": {
        "id": "lL6IRSJ2JR3x"
      },
      "outputs": [],
      "source": [
        "data_dir = Path(\"/content/drive/MyDrive/HM-new/data/\")\n",
        "model_dir = Path(\"/content/drive/MyDrive/HM-new/models/\")"
      ]
    },
    {
      "cell_type": "code",
      "execution_count": null,
      "metadata": {
        "id": "AakTfKUQJR3x"
      },
      "outputs": [],
      "source": [
        "TRAIN_WEEK_NUM = 4\n",
        "WEEK_NUM = TRAIN_WEEK_NUM + 2\n",
        "\n",
        "VERSION_NAME = \"pivot\"\n",
        "TEST = True # * Set as `False` when do local experiments to save time"
      ]
    },
    {
      "cell_type": "code",
      "execution_count": null,
      "metadata": {
        "id": "RHu8rsZMJR3y"
      },
      "outputs": [],
      "source": [
        "import os\n",
        "if not os.path.exists(data_dir/\"interim\"/VERSION_NAME):\n",
        "    os.mkdir(data_dir/\"interim\"/VERSION_NAME)\n",
        "if not os.path.exists(data_dir/\"processed\"/VERSION_NAME):\n",
        "    os.mkdir(data_dir/\"processed\"/VERSION_NAME)"
      ]
    },
    {
      "cell_type": "markdown",
      "metadata": {
        "id": "Mazy6bP0JR30"
      },
      "source": [
        "Pepare data: encoding ids and preprocessing"
      ]
    },
    {
      "cell_type": "code",
      "execution_count": null,
      "metadata": {
        "id": "2BPv2lcWGGQJ"
      },
      "outputs": [],
      "source": [
        "dh = DataHelper(data_dir)"
      ]
    },
    {
      "cell_type": "code",
      "execution_count": null,
      "metadata": {
        "id": "kiIB1uvjJR33"
      },
      "outputs": [],
      "source": [
        "# data = dh.preprocess_data(save=True, name=\"encoded_full\") # * run only once, processed data will be saved"
      ]
    },
    {
      "cell_type": "code",
      "execution_count": null,
      "metadata": {
        "id": "i3ngtb7NUGbH"
      },
      "outputs": [],
      "source": [
        "data = dh.load_data(name=\"encoded_full\")"
      ]
    },
    {
      "cell_type": "code",
      "execution_count": null,
      "metadata": {
        "id": "7ecaPObIJR34"
      },
      "outputs": [],
      "source": [
        "uid2idx = pickle.load(open(data_dir/\"index_id_map/user_id2index.pkl\", \"rb\"))\n",
        "submission = pd.read_csv(data_dir/\"raw\"/'sample_submission.csv')\n",
        "submission['customer_id'] = submission['customer_id'].map(uid2idx)"
      ]
    },
    {
      "cell_type": "markdown",
      "metadata": {
        "id": "LX4M190s4pxo"
      },
      "source": [
        "## Retrieval\n"
      ]
    },
    {
      "cell_type": "markdown",
      "metadata": {
        "id": "fcShMOQPJR35"
      },
      "source": [
        "Generate candidates for each week"
      ]
    },
    {
      "cell_type": "code",
      "execution_count": null,
      "metadata": {
        "id": "J7gu-mwjJR36"
      },
      "outputs": [],
      "source": [
        "listBin = [-1, 19, 29, 39, 49, 59, 69, 119]\n",
        "data['user']['age_bins'] = pd.cut(data['user']['age'], listBin)"
      ]
    },
    {
      "cell_type": "code",
      "execution_count": null,
      "metadata": {
        "id": "glOiftg3JR36"
      },
      "outputs": [],
      "source": [
        "# * WEEK_NUM = 0: test\n",
        "# * WEEK_NUM = 1: valid\n",
        "# * WEEK_NUM > 1: train\n",
        "for week in range(1,WEEK_NUM):\n",
        "    # * use sliding window to generate candidates\n",
        "    if week == 0 and not TEST:\n",
        "        continue\n",
        "    trans = data[\"inter\"]\n",
        "\n",
        "    start_date, end_date = calc_valid_date(week)\n",
        "    print(f\"Week {week}: [{start_date}, {end_date})\")\n",
        "    \n",
        "    train, valid = dh.split_data(trans, start_date, end_date)\n",
        "    train = train.merge(data['user'][['customer_id','age_bins']], on='customer_id', how='left')\n",
        "\n",
        "    last_week_start = pd.to_datetime(start_date) - pd.Timedelta(days=7)\n",
        "    last_week_start = last_week_start.strftime(\"%Y-%m-%d\")\n",
        "    last_week = train.loc[train.t_dat >= last_week_start]\n",
        "    \n",
        "    last_3day_start = pd.to_datetime(start_date) - pd.Timedelta(days=3)\n",
        "    last_3day_start = last_3day_start.strftime(\"%Y-%m-%d\")\n",
        "    last_3days = train.loc[train.t_dat >= last_3day_start]\n",
        "\n",
        "    if week != 0:\n",
        "        customer_list = valid[\"customer_id\"].values\n",
        "    else:\n",
        "        customer_list = submission['customer_id'].values\n",
        "\n",
        "    # * ========================== Retrieval Strategies ==========================\n",
        "\n",
        "    candidates = RuleCollector().collect(\n",
        "        week_num = week,\n",
        "        trans_df = trans,\n",
        "        customer_list=customer_list,\n",
        "        rules=[\n",
        "            OrderHistory(train, days=3, name='1'),\n",
        "            OrderHistory(train, days=7, name='2'),\n",
        "            OrderHistoryDecay(train, days=3, n=50, name='1'),\n",
        "            OrderHistoryDecay(train, days=7, n=50, name='2'),\n",
        "            ItemPair(OrderHistory(train, days=3).retrieve(), name='1'),\n",
        "            ItemPair(OrderHistory(train, days=7).retrieve(), name='2'),\n",
        "            ItemPair(OrderHistoryDecay(train, days=3, n=50).retrieve(), name='3'),\n",
        "            ItemPair(OrderHistoryDecay(train, days=7, n=50).retrieve(), name='4'),\n",
        "            UserGroupTimeHistory(data, customer_list, last_week, ['age_bins'], n=50, name='1'),\n",
        "            UserGroupTimeHistory(data, customer_list, last_3days, ['age_bins'], n=50, name='2'),\n",
        "            UserGroupSaleTrend(data, customer_list, train, ['age_bins'], days=7, n=50),\n",
        "            TimeHistory(customer_list, last_week, n=50, name='1'),\n",
        "            TimeHistory(customer_list, last_3days, n=50, name='2'),\n",
        "            TimeHistoryDecay(customer_list, train, days=3, n=50, name='1'),\n",
        "            TimeHistoryDecay(customer_list, train, days=7, n=50, name='2'),\n",
        "            SaleTrend(customer_list, train, days=7, n=50),\n",
        "        ],\n",
        "        filters=[OutOfStock(trans)],\n",
        "        min_pos_rate=0.006,\n",
        "        compress=False,\n",
        "    )\n",
        "\n",
        "    candidates = (\n",
        "        pd.pivot_table(\n",
        "            candidates,\n",
        "            values=\"score\",\n",
        "            index=[\"customer_id\", \"article_id\"],\n",
        "            columns=[\"method\"],\n",
        "            aggfunc=np.sum,\n",
        "        )\n",
        "        .reset_index()\n",
        "    )\n",
        "\n",
        "    candidates.to_parquet(data_dir/\"interim\"/VERSION_NAME/f\"week{week}_candidate.pqt\")\n",
        "    valid.to_parquet(data_dir/\"processed\"/VERSION_NAME/f\"week{week}_label.pqt\")"
      ]
    },
    {
      "cell_type": "code",
      "execution_count": null,
      "metadata": {
        "id": "3wqDho1ZJR38"
      },
      "outputs": [],
      "source": [
        "# * use the threshold in week 1 to generate candidates for test data, see the log in the upper cell \n",
        "if TEST:\n",
        "    week = 0\n",
        "    trans = data[\"inter\"]\n",
        "    \n",
        "    start_date, end_date = calc_valid_date(week)\n",
        "    print(f\"Week {week}: [{start_date}, {end_date})\")\n",
        "    \n",
        "    train, valid = dh.split_data(trans, start_date, end_date)\n",
        "    train = train.merge(data['user'][['customer_id','age_bins']], on='customer_id', how='left')\n",
        "\n",
        "    last_week_start = pd.to_datetime(start_date) - pd.Timedelta(days=7)\n",
        "    last_week_start = last_week_start.strftime(\"%Y-%m-%d\")\n",
        "    last_week = train.loc[train.t_dat >= last_week_start]\n",
        "    \n",
        "    last_3day_start = pd.to_datetime(start_date) - pd.Timedelta(days=3)\n",
        "    last_3day_start = last_3day_start.strftime(\"%Y-%m-%d\")\n",
        "    last_3days = train.loc[train.t_dat >= last_3day_start]\n",
        "\n",
        "    customer_list = submission['customer_id'].values\n",
        "\n",
        "    # * ========================== Retrieval Strategies ==========================\n",
        "\n",
        "    candidates = RuleCollector().collect(\n",
        "        week_num = week,\n",
        "        trans_df = trans,\n",
        "        customer_list=customer_list,\n",
        "        rules=[\n",
        "            OrderHistory(train, days=3, name='1'),\n",
        "            OrderHistory(train, days=7, name='2'),\n",
        "            OrderHistoryDecay(train, days=3, n=50, name='1'),\n",
        "            OrderHistoryDecay(train, days=7, n=50, name='2'),\n",
        "            ItemPair(OrderHistory(train, days=3).retrieve(), name='1'),\n",
        "            ItemPair(OrderHistory(train, days=7).retrieve(), name='2'),\n",
        "            ItemPair(OrderHistoryDecay(train, 3, n=50).retrieve(), name='3'),\n",
        "            ItemPair(OrderHistoryDecay(train, 7, n=50).retrieve(), name='4'),\n",
        "            UserGroupTimeHistory(data, customer_list, last_week, ['age_bins'], n=15, name='1'),\n",
        "            UserGroupTimeHistory(data, customer_list, last_3days, ['age_bins'], n=20.5, name='2'),\n",
        "            UserGroupSaleTrend(data, customer_list, train, ['age_bins'], days=7, n=2),\n",
        "            TimeHistory(customer_list, last_week, n=9, name='1'),\n",
        "            TimeHistory(customer_list, last_3days, n=16, name='2'),\n",
        "            TimeHistoryDecay(customer_list, train, days=3, n=12, name='1'),\n",
        "            TimeHistoryDecay(customer_list, train, days=7, n=8, name='2'),\n",
        "            SaleTrend(customer_list, train, days=7, n=2),\n",
        "        ],\n",
        "        filters=[OutOfStock(trans)],\n",
        "        min_pos_rate=0.006,\n",
        "        compress=False,\n",
        "    )\n",
        "    \n",
        "    candidates, _ = reduce_mem_usage(candidates)\n",
        "    candidates = (\n",
        "        pd.pivot_table(\n",
        "            candidates,\n",
        "            values=\"score\",\n",
        "            index=[\"customer_id\", \"article_id\"],\n",
        "            columns=[\"method\"],\n",
        "            aggfunc=np.sum,\n",
        "        )\n",
        "        .reset_index()\n",
        "    )\n",
        "\n",
        "    candidates.to_parquet(data_dir/\"interim\"/VERSION_NAME/f\"week{week}_candidate.pqt\")\n",
        "    valid.to_parquet(data_dir/\"processed\"/VERSION_NAME/f\"week{week}_label.pqt\")"
      ]
    },
    {
      "cell_type": "code",
      "execution_count": null,
      "metadata": {
        "id": "gQEog9JJJR39"
      },
      "outputs": [],
      "source": [
        "del train, valid, last_week, customer_list, candidates\n",
        "gc.collect()"
      ]
    },
    {
      "cell_type": "markdown",
      "metadata": {
        "id": "TBIrKxhRGGQR"
      },
      "source": [
        "## Feature engineering\n"
      ]
    },
    {
      "cell_type": "code",
      "execution_count": null,
      "metadata": {
        "id": "9pF-sOMSGGQP"
      },
      "outputs": [],
      "source": [
        "user = data[\"user\"]\n",
        "item = data[\"item\"]\n",
        "inter = data[\"inter\"]"
      ]
    },
    {
      "cell_type": "code",
      "execution_count": null,
      "metadata": {
        "id": "heKIAtoRdtIk"
      },
      "outputs": [],
      "source": [
        "# calculate week number\n",
        "inter['week'] = (pd.to_datetime('2020-09-29') - pd.to_datetime(inter['t_dat'])).dt.days // 7"
      ]
    },
    {
      "cell_type": "code",
      "source": [
        "# merge full candidates to transaction data (avoid feature missing in training data)\n",
        "full_candidates = []\n",
        "for i in tqdm(range(WEEK_NUM)):\n",
        "    candidate = pd.read_parquet(data_dir/\"interim\"/VERSION_NAME/f\"week{i}_candidate.pqt\")\n",
        "    full_candidates += candidate['article_id'].values.tolist()\n",
        "full_candidates = list(set(full_candidates))\n",
        "del candidate\n",
        "gc.collect()\n",
        "\n",
        "num_candidates = len(full_candidates)\n",
        "full_candidates = np.array(full_candidates)\n",
        "full_candidates = np.tile(full_candidates, WEEK_NUM + 1)\n",
        "weeks = np.repeat(np.arange(1,WEEK_NUM+2), num_candidates)\n",
        "full_candidates = pd.DataFrame({'article_id':full_candidates, 'week':weeks})\n",
        "\n",
        "inter['valid'] = 1\n",
        "in_train = inter[inter['week']<=WEEK_NUM + 1]\n",
        "out_train = inter[inter['week']>WEEK_NUM + 1]\n",
        "\n",
        "in_train = in_train.merge(full_candidates, on=['article_id','week'], how='right')\n",
        "in_train['valid'] = in_train['valid'].fillna(0)\n",
        "inter = pd.concat([in_train, out_train], ignore_index=True)\n",
        "inter = inter.sort_values([\"valid\"], ascending=False).reset_index(drop=True)"
      ],
      "metadata": {
        "colab": {
          "base_uri": "https://localhost:8080/"
        },
        "id": "kaEwbD6KY5R8",
        "outputId": "f71ff8a2-e5e1-4aa8-b1ce-91462fcaa87c"
      },
      "execution_count": null,
      "outputs": [
        {
          "output_type": "stream",
          "name": "stderr",
          "text": [
            "100%|██████████| 6/6 [00:18<00:00,  3.07s/it]\n"
          ]
        },
        {
          "output_type": "execute_result",
          "data": {
            "text/plain": [
              "17"
            ]
          },
          "metadata": {},
          "execution_count": 14
        }
      ]
    },
    {
      "cell_type": "code",
      "source": [
        "# merge `product_code`\n",
        "inter = inter.merge(item[[\"article_id\", \"product_code\"]], on=\"article_id\", how=\"left\")"
      ],
      "metadata": {
        "id": "QsW8gPPUUUg_"
      },
      "execution_count": null,
      "outputs": []
    },
    {
      "cell_type": "code",
      "source": [
        "inter.shape"
      ],
      "metadata": {
        "colab": {
          "base_uri": "https://localhost:8080/"
        },
        "id": "Hz4m4zsiieqn",
        "outputId": "f4855f51-d2ea-4c3b-f1f2-a59ecbce5000"
      },
      "execution_count": null,
      "outputs": [
        {
          "output_type": "execute_result",
          "data": {
            "text/plain": [
              "(31837313, 8)"
            ]
          },
          "metadata": {},
          "execution_count": 16
        }
      ]
    },
    {
      "cell_type": "code",
      "source": [
        "_, inter[\"i_1w_sale_rank\"], inter[\"i_1w_sale_norm\"] = period_sale(\n",
        "    inter, [\"article_id\"], days=14, rank=True, norm=True, week_num=WEEK_NUM\n",
        ")\n",
        "_, inter[\"p_1w_sale_rank\"], inter[\"p_1w_sale_norm\"] = period_sale(\n",
        "    inter, [\"product_code\"], days=14, rank=True, norm=True, week_num=WEEK_NUM\n",
        ")\n",
        "inter[\"i_2w_sale\"], inter[\"i_2w_sale_rank\"], inter[\"i_2w_sale_norm\"] = period_sale(\n",
        "    inter, [\"article_id\"], days=14, rank=True, norm=True, week_num=WEEK_NUM\n",
        ")\n",
        "inter[\"p_2w_sale\"], inter[\"p_2w_sale_rank\"], inter[\"p_2w_sale_norm\"] = period_sale(\n",
        "    inter, [\"product_code\"], days=14, rank=True, norm=True, week_num=WEEK_NUM\n",
        ")"
      ],
      "metadata": {
        "id": "kYdOqlyldvNM"
      },
      "execution_count": null,
      "outputs": []
    },
    {
      "cell_type": "code",
      "source": [
        "1+1"
      ],
      "metadata": {
        "colab": {
          "base_uri": "https://localhost:8080/"
        },
        "id": "lvFqLtCX8RBv",
        "outputId": "141974be-e4ac-4441-e32f-982587824305"
      },
      "execution_count": null,
      "outputs": [
        {
          "output_type": "execute_result",
          "data": {
            "text/plain": [
              "2"
            ]
          },
          "metadata": {},
          "execution_count": 37
        }
      ]
    },
    {
      "cell_type": "code",
      "source": [
        "inter.shape"
      ],
      "metadata": {
        "colab": {
          "base_uri": "https://localhost:8080/"
        },
        "id": "BtWhzDeQimY3",
        "outputId": "72fe8c9f-4c4c-48cf-ac2b-e424d8869218"
      },
      "execution_count": null,
      "outputs": [
        {
          "output_type": "execute_result",
          "data": {
            "text/plain": [
              "(31837313, 18)"
            ]
          },
          "metadata": {},
          "execution_count": 18
        }
      ]
    },
    {
      "cell_type": "code",
      "source": [
        "inter[\"i_3w_sale\"], inter[\"i_3w_sale_rank\"], inter[\"i_3w_sale_norm\"] = period_sale(\n",
        "    inter, [\"article_id\"], days=21, rank=True, norm=True, week_num=WEEK_NUM\n",
        ")\n",
        "inter[\"p_3w_sale\"], inter[\"p_3w_sale_rank\"], inter[\"p_3w_sale_norm\"] = period_sale(\n",
        "    inter, [\"product_code\"], days=21, rank=True, norm=True, week_num=WEEK_NUM\n",
        ")\n",
        "inter[\"i_4w_sale\"], inter[\"i_4w_sale_rank\"], inter[\"i_4w_sale_norm\"] = period_sale(\n",
        "    inter, [\"article_id\"], days=28, rank=True, norm=True, week_num=WEEK_NUM\n",
        ")\n",
        "inter[\"p_4w_sale\"], inter[\"p_4w_sale_rank\"], inter[\"p_4w_sale_norm\"] = period_sale(\n",
        "    inter, [\"product_code\"], days=28, rank=True, norm=True, week_num=WEEK_NUM\n",
        ")"
      ],
      "metadata": {
        "id": "7Lv1FtoOeI9n"
      },
      "execution_count": null,
      "outputs": []
    },
    {
      "cell_type": "code",
      "source": [
        "inter.shape"
      ],
      "metadata": {
        "colab": {
          "base_uri": "https://localhost:8080/"
        },
        "id": "2Yqb3KaWinZM",
        "outputId": "06dc54f9-2c38-4fa5-f242-f8d42ad7a5cc"
      },
      "execution_count": null,
      "outputs": [
        {
          "output_type": "execute_result",
          "data": {
            "text/plain": [
              "(31837313, 30)"
            ]
          },
          "metadata": {},
          "execution_count": 20
        }
      ]
    },
    {
      "cell_type": "code",
      "source": [
        "inter['i_repurchase_ratio'] = repurchase_ratio(inter, ['article_id'], week_num=WEEK_NUM)\n",
        "inter['p_repurchase_ratio'] = repurchase_ratio(inter, ['product_code'], week_num=WEEK_NUM)"
      ],
      "metadata": {
        "colab": {
          "base_uri": "https://localhost:8080/"
        },
        "id": "FdlZqq5QzbMR",
        "outputId": "dab8fbf6-0167-42d6-9e74-ecc826ec84c1"
      },
      "execution_count": null,
      "outputs": [
        {
          "output_type": "stream",
          "name": "stderr",
          "text": [
            "100%|██████████| 6/6 [02:28<00:00, 24.77s/it]\n",
            "100%|██████████| 6/6 [02:00<00:00, 20.07s/it]\n"
          ]
        }
      ]
    },
    {
      "cell_type": "code",
      "source": [
        "inter.shape"
      ],
      "metadata": {
        "colab": {
          "base_uri": "https://localhost:8080/"
        },
        "id": "Oh3Otv_Cipmi",
        "outputId": "0224c3f9-8534-4658-edca-2f0dc887f728"
      },
      "execution_count": null,
      "outputs": [
        {
          "output_type": "execute_result",
          "data": {
            "text/plain": [
              "(31837313, 32)"
            ]
          },
          "metadata": {},
          "execution_count": 22
        }
      ]
    },
    {
      "cell_type": "code",
      "source": [
        "inter, _ = reduce_mem_usage(inter)"
      ],
      "metadata": {
        "id": "riX-F5H5lbMu"
      },
      "execution_count": null,
      "outputs": []
    },
    {
      "cell_type": "code",
      "source": [
        "inter[\"i_sale\"] = week_sale(inter, [\"article_id\"], week_num=WEEK_NUM)\n",
        "inter[\"p_sale\"] = week_sale(inter, [\"product_code\"], week_num=WEEK_NUM)\n",
        "inter[\"i_sale_uni\"] = week_sale(inter, [\"article_id\"], True, week_num=WEEK_NUM)\n",
        "inter[\"p_sale_uni\"] = week_sale(inter, [\"product_code\"], True, week_num=WEEK_NUM)\n",
        "inter[\"lw_i_sale\"] = week_sale(inter, [\"article_id\"], step=1, week_num=WEEK_NUM) # * last week sale\n",
        "inter[\"lw_p_sale\"] = week_sale(inter, [\"product_code\"], step=1, week_num=WEEK_NUM)\n",
        "inter[\"lw_i_sale_uni\"] = week_sale(inter, [\"article_id\"], True, step=1, week_num=WEEK_NUM)\n",
        "inter[\"lw_p_sale_uni\"] = week_sale(inter, [\"product_code\"], True, step=1, week_num=WEEK_NUM)\n",
        "\n",
        "inter[\"i_sale_ratio\"] = inter[\"i_sale\"] / (inter[\"p_sale\"] + 1e-6)\n",
        "inter[\"i_sale_uni_ratio\"] = inter[\"i_sale_uni\"] / (inter[\"p_sale_uni\"] + 1e-6)\n",
        "inter[\"lw_i_sale_ratio\"] = inter[\"lw_i_sale\"] / (inter[\"lw_p_sale\"] + 1e-6)\n",
        "inter[\"lw_i_sale_uni_ratio\"] = inter[\"lw_i_sale_uni\"] / (inter[\"lw_p_sale_uni\"] + 1e-6)\n",
        "\n",
        "inter[\"i_uni_ratio\"] = inter[\"i_sale\"] / (inter[\"i_sale_uni\"] + 1e-6)\n",
        "inter[\"p_uni_ratio\"] = inter[\"p_sale\"] / (inter[\"p_sale_uni\"] + 1e-6)\n",
        "inter[\"lw_i_uni_ratio\"] = inter[\"lw_i_sale\"] / (inter[\"lw_i_sale_uni\"] + 1e-6)\n",
        "inter[\"lw_p_uni_ratio\"] = inter[\"lw_p_sale\"] / (inter[\"lw_p_sale_uni\"] + 1e-6)\n",
        "\n",
        "inter[\"i_sale_trend\"] = (inter[\"i_sale\"] - inter[\"lw_i_sale\"]) / (inter[\"lw_i_sale\"] + 1e-6)\n",
        "inter[\"p_sale_trend\"] = (inter[\"p_sale\"] - inter[\"lw_p_sale\"]) / (inter[\"lw_p_sale\"] + 1e-6)\n",
        "\n",
        "item_feats = [\n",
        "    \"product_type_no\",\n",
        "    # \"product_group_name\",\n",
        "    # \"graphical_appearance_no\",\n",
        "    # \"colour_group_code\",\n",
        "    # \"perceived_colour_value_id\",\n",
        "    # \"perceived_colour_master_id\",\n",
        "]\n",
        "inter = inter.merge(item[[\"article_id\", *item_feats]], on=\"article_id\", how=\"left\")\n",
        "\n",
        "for f in tqdm(item_feats):\n",
        "    inter[f\"{f}_sale\"] = week_sale(inter, [f], f\"{f}_sale\", week_num=WEEK_NUM)\n",
        "    inter[f\"lw_{f}_sale\"] = week_sale(inter, [f], f\"{f}_sale\", step=1, week_num=WEEK_NUM)\n",
        "    inter[f\"{f}_sale_trend\"] = (inter[f\"{f}_sale\"] - inter[f\"lw_{f}_sale\"]) / (inter[f\"lw_{f}_sale\"] + 1e-6)"
      ],
      "metadata": {
        "colab": {
          "base_uri": "https://localhost:8080/"
        },
        "id": "70okKvWfzgip",
        "outputId": "a1a2392a-c88d-49f3-b4be-d3aebecb7761"
      },
      "execution_count": null,
      "outputs": [
        {
          "output_type": "stream",
          "name": "stderr",
          "text": [
            "100%|██████████| 1/1 [00:22<00:00, 22.43s/it]\n"
          ]
        }
      ]
    },
    {
      "cell_type": "code",
      "source": [
        "inter.shape"
      ],
      "metadata": {
        "colab": {
          "base_uri": "https://localhost:8080/"
        },
        "id": "K4hO0oT3isNu",
        "outputId": "bf229999-43ac-4e2d-ee40-eb93d608911e"
      },
      "execution_count": null,
      "outputs": [
        {
          "output_type": "execute_result",
          "data": {
            "text/plain": [
              "(31837313, 54)"
            ]
          },
          "metadata": {},
          "execution_count": 25
        }
      ]
    },
    {
      "cell_type": "code",
      "source": [
        "# * Date related\n",
        "curr_date_dict = {x:calc_valid_date(x-1)[0] for x in range(100)}\n",
        "current_dat = inter['week'].map(curr_date_dict)\n",
        "mask = inter['valid']==0\n",
        "inter.loc[mask, 't_dat'] = inter.loc[mask, 'week'].map(curr_date_dict)\n",
        "first_date = inter.groupby('article_id')['t_dat'].min().reset_index(name='first_dat')\n",
        "# last_date = inter.groupby('article_id')['t_dat'].max().reset_index(name='last_dat')\n",
        "inter = pd.merge(inter, first_date, on='article_id', how='left')\n",
        "# df = pd.merge(df, last_date, on='article_id', how='left')\n",
        "inter['first_dat'] = (pd.to_datetime(current_dat)-pd.to_datetime(inter['first_dat'])).dt.days\n",
        "# df['last_dat'] = (pd.to_datetime(current_dat)-pd.to_datetime(df['last_dat'])).dt.days"
      ],
      "metadata": {
        "id": "mQkGNyjaBbi-"
      },
      "execution_count": null,
      "outputs": []
    },
    {
      "cell_type": "code",
      "source": [
        "inter.shape"
      ],
      "metadata": {
        "colab": {
          "base_uri": "https://localhost:8080/"
        },
        "id": "sZHdSXtAi_zK",
        "outputId": "2a802998-74c8-4695-95fd-d134d3d7d549"
      },
      "execution_count": null,
      "outputs": [
        {
          "output_type": "execute_result",
          "data": {
            "text/plain": [
              "(31837313, 55)"
            ]
          },
          "metadata": {},
          "execution_count": 27
        }
      ]
    },
    {
      "cell_type": "code",
      "source": [
        "inter['i_full_sale'] = full_sale(inter, ['article_id'], week_num=WEEK_NUM)\n",
        "inter['p_full_sale'] = full_sale(inter, ['product_code'], week_num=WEEK_NUM)\n",
        "\n",
        "inter['i_daily_sale'] = inter['i_full_sale'] / inter['first_dat']\n",
        "inter['p_daily_sale'] = inter['p_full_sale'] / inter['first_dat']\n",
        "inter['i_daily_sale_ratio'] = inter['i_daily_sale'] / inter['p_daily_sale']\n",
        "inter['i_w_full_sale_ratio'] = inter['i_sale'] / inter['i_full_sale']\n",
        "\n",
        "inter['i_2w_full_sale_ratio'] = inter['i_2w_sale'] / inter['i_full_sale']\n",
        "inter['p_w_full_sale_ratio'] = inter['p_sale'] / inter['p_full_sale']\n",
        "inter['p_2w_full_sale_ratio'] = inter['p_2w_sale'] / inter['p_full_sale']\n",
        "\n",
        "inter['i_week_above_daily_sale'] = inter['i_sale'] / 7 - inter['i_daily_sale']\n",
        "inter['p_week_above_full_sale'] = inter['p_sale'] / 7 - inter['i_full_sale']\n",
        "inter['i_2w_week_above_daily_sale'] = inter['i_2w_sale'] / 14 - inter['i_daily_sale']\n",
        "inter['p_2w_week_above_daily_sale'] = inter['p_2w_sale'] / 14 - inter['p_daily_sale']"
      ],
      "metadata": {
        "id": "OC8SIYK_Ca-g"
      },
      "execution_count": null,
      "outputs": []
    },
    {
      "cell_type": "code",
      "source": [
        "gc.collect()"
      ],
      "metadata": {
        "colab": {
          "base_uri": "https://localhost:8080/"
        },
        "id": "334plAMZ5Ics",
        "outputId": "d0d6230d-ba07-43d5-9640-ca8c97e60b7a"
      },
      "execution_count": null,
      "outputs": [
        {
          "output_type": "execute_result",
          "data": {
            "text/plain": [
              "94"
            ]
          },
          "metadata": {},
          "execution_count": 29
        }
      ]
    },
    {
      "cell_type": "code",
      "source": [
        "for f in tqdm(item_feats):\n",
        "    inter[f'{f}_full_sale'] = full_sale(inter, [f], week_num=WEEK_NUM)\n",
        "    f_first_date = inter.groupby(f)['t_dat'].min().reset_index(name=f'{f}_first_dat')\n",
        "    inter = inter.merge(f_first_date, on=f, how='left')\n",
        "    inter[f'{f}_daily_sale'] = inter[f'{f}_full_sale'] / (pd.to_datetime(current_dat) - pd.to_datetime(inter[f'{f}_first_dat'])).dt.days\n",
        "    inter[f'i_{f}_daily_sale_ratio'] = inter['i_daily_sale'] / inter[f'{f}_daily_sale']\n",
        "    inter[f'p_{f}_daily_sale_ratio'] = inter['p_daily_sale'] / inter[f'{f}_daily_sale']\n",
        "    del inter[f'{f}_full_sale'], inter[f'{f}_first_dat']\n",
        "    gc.collect()"
      ],
      "metadata": {
        "colab": {
          "base_uri": "https://localhost:8080/"
        },
        "id": "z4HdQYbZ5CC-",
        "outputId": "daf9bf66-b53d-4504-bd05-b9a385f1fe49"
      },
      "execution_count": null,
      "outputs": [
        {
          "output_type": "stream",
          "name": "stderr",
          "text": [
            "\r  0%|          | 0/1 [00:00<?, ?it/s]"
          ]
        },
        {
          "output_type": "execute_result",
          "data": {
            "text/plain": [
              "17"
            ]
          },
          "metadata": {},
          "execution_count": 30
        },
        {
          "output_type": "stream",
          "name": "stderr",
          "text": [
            "100%|██████████| 1/1 [01:21<00:00, 81.40s/it]\n"
          ]
        }
      ]
    },
    {
      "cell_type": "code",
      "source": [
        "for f in item_feats + ['i_full_sale','p_full_sale']:\n",
        "    del inter[f]"
      ],
      "metadata": {
        "id": "_fhlw8z4z5hD"
      },
      "execution_count": null,
      "outputs": []
    },
    {
      "cell_type": "code",
      "source": [
        "gc.collect()"
      ],
      "metadata": {
        "colab": {
          "base_uri": "https://localhost:8080/"
        },
        "id": "9C0Q35I9pMIl",
        "outputId": "0112e7fa-4af0-46f2-f8d1-24dc52e0fd4e"
      },
      "execution_count": null,
      "outputs": [
        {
          "output_type": "execute_result",
          "data": {
            "text/plain": [
              "100"
            ]
          },
          "metadata": {},
          "execution_count": 32
        }
      ]
    },
    {
      "cell_type": "code",
      "source": [
        "inter['i_pop'] = popularity(inter, 'article_id', week_num=WEEK_NUM)\n",
        "inter['p_pop'] = popularity(inter, 'product_code', week_num=WEEK_NUM)"
      ],
      "metadata": {
        "id": "ms4s0YUJznFU"
      },
      "execution_count": null,
      "outputs": []
    },
    {
      "cell_type": "code",
      "source": [
        "inter.shape"
      ],
      "metadata": {
        "colab": {
          "base_uri": "https://localhost:8080/"
        },
        "id": "kC9RN6XV1ESf",
        "outputId": "3b5094ed-cc93-4d57-ce89-1bd418e1accc"
      },
      "execution_count": null,
      "outputs": [
        {
          "output_type": "execute_result",
          "data": {
            "text/plain": [
              "(31837313, 70)"
            ]
          },
          "metadata": {},
          "execution_count": 34
        }
      ]
    },
    {
      "cell_type": "code",
      "source": [
        "inter = inter.loc[inter['week'] <= WEEK_NUM + 2]"
      ],
      "metadata": {
        "id": "ip6AdvV0kS1y"
      },
      "execution_count": null,
      "outputs": []
    },
    {
      "cell_type": "code",
      "source": [
        "inter.to_parquet(data_dir / \"processed/processed_inter.pqt\")"
      ],
      "metadata": {
        "id": "huYRSLE91PJH"
      },
      "execution_count": null,
      "outputs": []
    },
    {
      "cell_type": "markdown",
      "metadata": {
        "id": "jywhBCAGGGQS"
      },
      "source": [
        "## Merge Features\n"
      ]
    },
    {
      "cell_type": "code",
      "source": [
        "inter = pd.read_parquet(data_dir / \"processed/processed_inter.pqt\")\n",
        "inter = inter[inter['week'] <= WEEK_NUM + 2]\n",
        "# data[\"inter\"] = inter"
      ],
      "metadata": {
        "id": "YwbQ4jyD4MxX"
      },
      "execution_count": null,
      "outputs": []
    },
    {
      "cell_type": "code",
      "execution_count": null,
      "metadata": {
        "id": "-7YlHho_JR4F",
        "colab": {
          "base_uri": "https://localhost:8080/",
          "height": 357
        },
        "outputId": "96c56750-f9da-41b0-ab67-54dad35e7815"
      },
      "outputs": [
        {
          "output_type": "error",
          "ename": "KeyboardInterrupt",
          "evalue": "ignored",
          "traceback": [
            "\u001b[0;31m---------------------------------------------------------------------------\u001b[0m",
            "\u001b[0;31mKeyboardInterrupt\u001b[0m                         Traceback (most recent call last)",
            "\u001b[0;32m<ipython-input-50-b536dd6a675c>\u001b[0m in \u001b[0;36m<module>\u001b[0;34m()\u001b[0m\n\u001b[1;32m      1\u001b[0m \u001b[0;31m#* embeddings from DSSM model\u001b[0m\u001b[0;34m\u001b[0m\u001b[0;34m\u001b[0m\u001b[0;34m\u001b[0m\u001b[0m\n\u001b[0;32m----> 2\u001b[0;31m \u001b[0mdssm_user_embd\u001b[0m \u001b[0;34m=\u001b[0m \u001b[0mnp\u001b[0m\u001b[0;34m.\u001b[0m\u001b[0mload\u001b[0m\u001b[0;34m(\u001b[0m\u001b[0mdata_dir\u001b[0m \u001b[0;34m/\u001b[0m \u001b[0;34m\"external/dssm_user_embd.npy\"\u001b[0m\u001b[0;34m,\u001b[0m \u001b[0mallow_pickle\u001b[0m\u001b[0;34m=\u001b[0m\u001b[0;32mTrue\u001b[0m\u001b[0;34m)\u001b[0m\u001b[0;34m\u001b[0m\u001b[0;34m\u001b[0m\u001b[0m\n\u001b[0m\u001b[1;32m      3\u001b[0m \u001b[0mdssm_item_embd\u001b[0m \u001b[0;34m=\u001b[0m \u001b[0mnp\u001b[0m\u001b[0;34m.\u001b[0m\u001b[0mload\u001b[0m\u001b[0;34m(\u001b[0m\u001b[0mdata_dir\u001b[0m \u001b[0;34m/\u001b[0m \u001b[0;34m\"external/dssm_item_embd.npy\"\u001b[0m\u001b[0;34m,\u001b[0m \u001b[0mallow_pickle\u001b[0m\u001b[0;34m=\u001b[0m\u001b[0;32mTrue\u001b[0m\u001b[0;34m)\u001b[0m\u001b[0;34m\u001b[0m\u001b[0;34m\u001b[0m\u001b[0m\n\u001b[1;32m      4\u001b[0m \u001b[0;31m# * embeddings from YouTubeDNN model\u001b[0m\u001b[0;34m\u001b[0m\u001b[0;34m\u001b[0m\u001b[0;34m\u001b[0m\u001b[0m\n\u001b[1;32m      5\u001b[0m \u001b[0myt_user_embd\u001b[0m \u001b[0;34m=\u001b[0m \u001b[0mnp\u001b[0m\u001b[0;34m.\u001b[0m\u001b[0mload\u001b[0m\u001b[0;34m(\u001b[0m\u001b[0mdata_dir\u001b[0m \u001b[0;34m/\u001b[0m \u001b[0;34m\"external/yt_user_embd.npy\"\u001b[0m\u001b[0;34m,\u001b[0m \u001b[0mallow_pickle\u001b[0m\u001b[0;34m=\u001b[0m\u001b[0;32mTrue\u001b[0m\u001b[0;34m)\u001b[0m\u001b[0;34m\u001b[0m\u001b[0;34m\u001b[0m\u001b[0m\n",
            "\u001b[0;32m/usr/local/lib/python3.7/dist-packages/numpy/lib/npyio.py\u001b[0m in \u001b[0;36mload\u001b[0;34m(file, mmap_mode, allow_pickle, fix_imports, encoding)\u001b[0m\n\u001b[1;32m    446\u001b[0m                                  \"when allow_pickle=False\")\n\u001b[1;32m    447\u001b[0m             \u001b[0;32mtry\u001b[0m\u001b[0;34m:\u001b[0m\u001b[0;34m\u001b[0m\u001b[0;34m\u001b[0m\u001b[0m\n\u001b[0;32m--> 448\u001b[0;31m                 \u001b[0;32mreturn\u001b[0m \u001b[0mpickle\u001b[0m\u001b[0;34m.\u001b[0m\u001b[0mload\u001b[0m\u001b[0;34m(\u001b[0m\u001b[0mfid\u001b[0m\u001b[0;34m,\u001b[0m \u001b[0;34m**\u001b[0m\u001b[0mpickle_kwargs\u001b[0m\u001b[0;34m)\u001b[0m\u001b[0;34m\u001b[0m\u001b[0;34m\u001b[0m\u001b[0m\n\u001b[0m\u001b[1;32m    449\u001b[0m             \u001b[0;32mexcept\u001b[0m \u001b[0mException\u001b[0m \u001b[0;32mas\u001b[0m \u001b[0me\u001b[0m\u001b[0;34m:\u001b[0m\u001b[0;34m\u001b[0m\u001b[0;34m\u001b[0m\u001b[0m\n\u001b[1;32m    450\u001b[0m                 raise IOError(\n",
            "\u001b[0;31mKeyboardInterrupt\u001b[0m: "
          ]
        }
      ],
      "source": [
        "#* embeddings from DSSM model\n",
        "dssm_user_embd = np.load(data_dir / \"external/dssm_user_embd.npy\", allow_pickle=True)\n",
        "dssm_item_embd = np.load(data_dir / \"external/dssm_item_embd.npy\", allow_pickle=True)\n",
        "# * embeddings from YouTubeDNN model\n",
        "yt_user_embd = np.load(data_dir / \"external/yt_user_embd.npy\", allow_pickle=True)\n",
        "yt_item_embd = np.load(data_dir / \"external/yt_item_embd.npy\", allow_pickle=True)"
      ]
    },
    {
      "cell_type": "code",
      "execution_count": null,
      "metadata": {
        "id": "sAoo3UMxJR4G"
      },
      "outputs": [],
      "source": [
        "pd.set_option('display.max_columns', 500)\n",
        "pd.set_option('display.max_rows', 500)"
      ]
    },
    {
      "cell_type": "code",
      "source": [
        "gc.collect()"
      ],
      "metadata": {
        "id": "IqUEbzyyqMQA"
      },
      "execution_count": null,
      "outputs": []
    },
    {
      "cell_type": "code",
      "source": [
        "for col in inter.columns:\n",
        "    inter[col] = np.nan_to_num(inter[col])"
      ],
      "metadata": {
        "id": "IveB8V0VJGLm"
      },
      "execution_count": null,
      "outputs": []
    },
    {
      "cell_type": "code",
      "source": [
        "for i in tqdm(range(WEEK_NUM)):\n",
        "    if i == 0 and not TEST:\n",
        "        continue\n",
        "    candidate = pd.read_parquet(data_dir/\"interim\"/VERSION_NAME/f\"week{i}_candidate.pqt\")\n",
        "    if i == 0:\n",
        "        chunk_size = int(candidate.shape[0] * 0.5)\n",
        "        # tmpl = []\n",
        "        for chunk,batch in enumerate(range(0, candidate.shape[0], chunk_size)):\n",
        "            sub_candidate = candidate.iloc[batch:batch+chunk_size-1]\n",
        "            # * merge features\n",
        "            sub_candidate = merge_week_data(data, inter, i, sub_candidate)\n",
        "            sub_candidate['article_id'] = sub_candidate['article_id'].astype(int)\n",
        "            sub_candidate['customer_id'] = sub_candidate['customer_id'].astype(int)\n",
        "            # * merge DSSM user and item embeddings\n",
        "            sub_candidate[\"dssm_similarity\"] = calc_embd_similarity(sub_candidate, dssm_user_embd, dssm_item_embd)\n",
        "            # * merge YouTubeDNN user and item embeddings\n",
        "            sub_candidate[\"yt_similarity\"] = calc_embd_similarity(sub_candidate, yt_user_embd, yt_item_embd)\n",
        "            print(f\"Chunk {chunk} done...\")\n",
        "            # tmpl.append(sub_candidate)\n",
        "            sub_candidate.to_parquet(data_dir/\"processed\"/VERSION_NAME/f\"week{i}_candidate_{chunk}.pqt\")\n",
        "    else:\n",
        "        # * merge features\n",
        "        candidate = merge_week_data(data, inter, i, candidate)\n",
        "        print(candidate['week'].unique())\n",
        "        # * merge DSSM user and item embeddings\n",
        "        candidate[\"dssm_similarity\"] = calc_embd_similarity(candidate, dssm_user_embd, dssm_item_embd)\n",
        "        # * merge YouTubeDNN user and item embeddings\n",
        "        candidate[\"yt_similarity\"] = calc_embd_similarity(candidate, yt_user_embd, yt_item_embd)\n",
        "    candidate.to_parquet(data_dir/\"processed\"/VERSION_NAME/f\"week{i}_candidate.pqt\")"
      ],
      "metadata": {
        "id": "HXmOMDkO33sr"
      },
      "execution_count": null,
      "outputs": []
    },
    {
      "cell_type": "code",
      "execution_count": null,
      "metadata": {
        "id": "sWyKQBAt3x--"
      },
      "outputs": [],
      "source": [
        "del dssm_user_embd, dssm_item_embd, yt_user_embd, yt_item_embd\n",
        "gc.collect()"
      ]
    },
    {
      "cell_type": "markdown",
      "metadata": {
        "id": "7Zml-cxryoU_"
      },
      "source": [
        "## Ranking\n"
      ]
    },
    {
      "cell_type": "code",
      "execution_count": null,
      "metadata": {
        "id": "PsmE6rgjdtIr",
        "colab": {
          "base_uri": "https://localhost:8080/"
        },
        "outputId": "0320fbb2-5507-4329-d62b-98c2022979a1"
      },
      "outputs": [
        {
          "output_type": "stream",
          "name": "stderr",
          "text": [
            "100%|██████████| 5/5 [00:08<00:00,  1.76s/it]\n"
          ]
        }
      ],
      "source": [
        "candidates = {}\n",
        "labels = {}\n",
        "for i in tqdm(range(1, WEEK_NUM)):\n",
        "    candidates[i] = pd.read_parquet(data_dir/\"processed\"/VERSION_NAME/f\"week{i}_candidate.pqt\")\n",
        "    labels[i] = pd.read_parquet(data_dir/\"processed\"/VERSION_NAME/f\"week{i}_label.pqt\")    "
      ]
    },
    {
      "cell_type": "code",
      "execution_count": null,
      "metadata": {
        "id": "xWqYwCbsdtIr"
      },
      "outputs": [],
      "source": [
        "feats = [\n",
        "    x\n",
        "    for x in candidates[1].columns\n",
        "    if x\n",
        "    not in [\n",
        "        \"label\",\n",
        "        \"sales_channel_id\",\n",
        "        \"t_dat\",\n",
        "        \"week\",\n",
        "    ]\n",
        "]\n",
        "cat_features = [\n",
        "    \"customer_id\",\n",
        "    \"article_id\",\n",
        "    \"product_code\",\n",
        "    \"FN\",\n",
        "    \"Active\",\n",
        "    \"club_member_status\",\n",
        "    \"fashion_news_frequency\",\n",
        "    \"age\",\n",
        "    \"product_type_no\",\n",
        "    \"product_group_name\",\n",
        "    \"graphical_appearance_no\",\n",
        "    \"colour_group_code\",\n",
        "    \"perceived_colour_value_id\",\n",
        "    \"perceived_colour_master_id\",\n",
        "\n",
        "    \"user_gender\",\n",
        "    \"article_gender\",\n",
        "    \"season_type\"\n",
        "]"
      ]
    },
    {
      "cell_type": "code",
      "execution_count": null,
      "metadata": {
        "colab": {
          "base_uri": "https://localhost:8080/"
        },
        "id": "cweXHQMrJR4I",
        "outputId": "09b149de-93da-497f-c2f1-4c063f4b6a12"
      },
      "outputs": [
        {
          "output_type": "stream",
          "name": "stderr",
          "text": [
            "100%|██████████| 17/17 [00:00<00:00, 18.41it/s]\n"
          ]
        }
      ],
      "source": [
        "# * Convert categorical featues as `CategoricalDtype`\n",
        "cate_dict = {}        \n",
        "for feat in tqdm(cat_features):\n",
        "    if feat in data['user'].columns:\n",
        "        value_set = set(data['user'][feat].unique())\n",
        "    elif feat in data['item'].columns:\n",
        "        value_set = set(data['item'][feat].unique())\n",
        "    else:\n",
        "        value_set = set(data['inter'][feat].unique())\n",
        "    cate_dict[feat] = CategoricalDtype(categories=value_set)"
      ]
    },
    {
      "cell_type": "code",
      "execution_count": null,
      "metadata": {
        "colab": {
          "base_uri": "https://localhost:8080/"
        },
        "id": "9oQhujajJR4J",
        "outputId": "9ea81dbb-e88f-4cea-d3e0-b62f844e3999"
      },
      "outputs": [
        {
          "output_type": "stream",
          "name": "stderr",
          "text": [
            "100%|██████████| 5/5 [00:12<00:00,  2.54s/it]\n"
          ]
        }
      ],
      "source": [
        "for i in tqdm(range(1,WEEK_NUM)):\n",
        "    for feat in cat_features:\n",
        "        candidates[i][feat] = candidates[i][feat].astype(cate_dict[feat])"
      ]
    },
    {
      "cell_type": "code",
      "source": [
        "for f in tqdm(feats):\n",
        "    for i in range(1,WEEK_NUM):\n",
        "        if f in candidates[i].columns and candidates[i][f].dtype == 'float':\n",
        "            candidates[i][f] = candidates[i][f].astype('float16')"
      ],
      "metadata": {
        "colab": {
          "base_uri": "https://localhost:8080/"
        },
        "id": "DqtPqz_NL0yn",
        "outputId": "0db2020e-a5f8-4af2-c9c5-7bb533997046"
      },
      "execution_count": null,
      "outputs": [
        {
          "output_type": "stream",
          "name": "stderr",
          "text": [
            "100%|██████████| 99/99 [00:01<00:00, 80.52it/s] \n"
          ]
        }
      ]
    },
    {
      "cell_type": "code",
      "source": [
        "gc.collect()"
      ],
      "metadata": {
        "colab": {
          "base_uri": "https://localhost:8080/"
        },
        "id": "q3BuE7_5MJwP",
        "outputId": "433f7030-3cc4-4239-e49b-a2738a1e5a6f"
      },
      "execution_count": null,
      "outputs": [
        {
          "output_type": "execute_result",
          "data": {
            "text/plain": [
              "65"
            ]
          },
          "metadata": {},
          "execution_count": 17
        }
      ]
    },
    {
      "cell_type": "markdown",
      "metadata": {
        "id": "3RojtbK9GGQU"
      },
      "source": [
        "### Train\n"
      ]
    },
    {
      "cell_type": "code",
      "execution_count": null,
      "metadata": {
        "id": "nTm9bz6vR6T4"
      },
      "outputs": [],
      "source": [
        "params = {\n",
        "    \"objective\": \"lambdarank\",#\"lambdarank\",\n",
        "    \"boosting_type\": \"gbdt\",\n",
        "    \"metric\": \"map\",#\"map\",\n",
        "    \"max_depth\": 4,\n",
        "    \"num_leaves\": 128,\n",
        "    \"learning_rate\": 0.03,\n",
        "\n",
        "    \"verbose\": -1,\n",
        "    \"eval_at\": 12,\n",
        "    \"\"\n",
        "    # 'device':'gpu'\n",
        "}"
      ]
    },
    {
      "cell_type": "code",
      "execution_count": null,
      "metadata": {
        "id": "ge-lcQIjJR4K"
      },
      "outputs": [],
      "source": [
        "# * some rules are skipped for some weeks, we need to concat them together\n",
        "# * to merge the columns\n",
        "full_data = pd.concat([candidates[i] for i in range(1, WEEK_NUM)], ignore_index=True)\n",
        "# for i in tqdm(range(2,WEEK_NUM)):\n",
        "#     for f in feats:\n",
        "#         if f not in candidates[i].columns:\n",
        "#             candidates[i][f] = np.nan"
      ]
    },
    {
      "cell_type": "code",
      "execution_count": null,
      "metadata": {
        "id": "rn2MMpwnJR4K"
      },
      "outputs": [],
      "source": [
        "# # New Feature\n",
        "# first_date = data['inter'].groupby('article_id')['t_dat'].min().reset_index(name='first_dat')\n",
        "# curr_date_dict = {x:calc_valid_date(x)[0] for x in range(1, WEEK_NUM)}\n",
        "# current_dat = full_data['week'].map(curr_date_dict)\n",
        "# full_data = pd.merge(full_data, first_date, on='article_id', how='left')\n",
        "# full_data['first_dat'] = (pd.to_datetime(current_dat)-pd.to_datetime(full_data['first_dat'])).dt.days\n",
        "\n",
        "# feats.append('first_dat')"
      ]
    },
    {
      "cell_type": "code",
      "execution_count": null,
      "metadata": {
        "id": "1MP5eTi7JR4K"
      },
      "outputs": [],
      "source": [
        "# for f in [\"i_sale\", \"p_sale\", \"i_sale_uni\", \"p_sale_uni\"]:\n",
        "#     full_data[f\"{f}_day_sale\"] = full_data[f] / full_data[\"first_dat\"]\n",
        "#     feats.append(f\"{f}_day_sale\")"
      ]
    },
    {
      "cell_type": "code",
      "source": [
        "def train_model(full_data, valid_week_num, train_week_num=4):\n",
        "    print(\"Validating week:\", valid_week_num)\n",
        "    train = full_data[\n",
        "        (valid_week_num < full_data[\"week\"])\n",
        "        & (full_data[\"week\"] <= valid_week_num + train_week_num)\n",
        "    ]\n",
        "    valid = full_data[full_data[\"week\"] == valid_week_num]\n",
        "    train = train.sort_values(by=[\"week\", \"customer_id\"], ascending=True).reset_index(\n",
        "        drop=True\n",
        "    )\n",
        "    valid = valid.sort_values(by=[\"customer_id\"], ascending=True).reset_index(drop=True)\n",
        "    print(\"Train positive rate:\", train.label.mean())  # 0.9946384702188372 4-week\n",
        "\n",
        "    train_group = train[[\"customer_id\", \"article_id\", \"week\"]]\n",
        "    train_group = train_group.astype(\n",
        "        \"int\"\n",
        "    )  # * convert to int to avoid `0` in groupby count result\n",
        "    train_group = (\n",
        "        train_group.groupby([\"week\", \"customer_id\"])[\"article_id\"].count().values\n",
        "    )\n",
        "\n",
        "    valid_group = valid[[\"customer_id\", \"article_id\"]]\n",
        "    valid_group = valid_group.astype(\n",
        "        \"int\"\n",
        "    )  # * convert to int to avoid `0` in groupby count result\n",
        "    valid_group = valid_group.groupby([\"customer_id\"])[\"article_id\"].count().values\n",
        "\n",
        "    train_set = lgb.Dataset(\n",
        "        data=train[feats],\n",
        "        label=train[\"label\"],\n",
        "        group=train_group,\n",
        "        feature_name=feats,\n",
        "        categorical_feature=cat_features,\n",
        "        params=params,\n",
        "    )\n",
        "\n",
        "    valid_set = lgb.Dataset(\n",
        "        data=valid[feats],\n",
        "        label=valid[\"label\"],\n",
        "        group=valid_group,\n",
        "        feature_name=feats,\n",
        "        categorical_feature=cat_features,\n",
        "        params=params,\n",
        "    )\n",
        "\n",
        "    ranker = lgb.train(\n",
        "        params,\n",
        "        train_set,\n",
        "        num_boost_round=300,\n",
        "        valid_sets=[valid_set],\n",
        "        early_stopping_rounds=30,\n",
        "        verbose_eval=10,\n",
        "    )\n",
        "    ranker.save_model(\n",
        "        model_dir / f\"lgb_ranker_{valid_week_num}.model\",\n",
        "        num_iteration=ranker.best_iteration,\n",
        "    )\n",
        "    return ranker"
      ],
      "metadata": {
        "id": "BYU4uKfk7npa"
      },
      "execution_count": null,
      "outputs": []
    },
    {
      "cell_type": "code",
      "execution_count": null,
      "metadata": {
        "id": "B9q0O9SNJR4L"
      },
      "outputs": [],
      "source": [
        "def train_binary_model(full_data, valid_week_num, train_week_num=4):\n",
        "    print(\"Validating week:\", valid_week_num)\n",
        "    train = full_data[\n",
        "        (valid_week_num < full_data[\"week\"])\n",
        "        & (full_data[\"week\"] <= valid_week_num + train_week_num)\n",
        "    ]\n",
        "    valid = full_data[full_data[\"week\"] == valid_week_num]\n",
        "\n",
        "    print(\"Train positive rate:\", train.label.mean())  # 0.9946384702188372 4-week\n",
        "\n",
        "\n",
        "    train_set = lgb.Dataset(\n",
        "        data=train[feats],\n",
        "        label=train[\"label\"],\n",
        "        feature_name=feats,\n",
        "        categorical_feature=cat_features,\n",
        "        params=params,\n",
        "    )\n",
        "\n",
        "    valid_set = lgb.Dataset(\n",
        "        data=valid[feats],\n",
        "        label=valid[\"label\"],\n",
        "        feature_name=feats,\n",
        "        categorical_feature=cat_features,\n",
        "        params=params,\n",
        "    )\n",
        "\n",
        "    ranker = lgb.train(\n",
        "        params,\n",
        "        train_set,\n",
        "        num_boost_round=300,\n",
        "        valid_sets=[valid_set],\n",
        "        early_stopping_rounds=30,\n",
        "        verbose_eval=10,\n",
        "    )\n",
        "    ranker.save_model(\n",
        "        model_dir / f\"lgb_ranker_{valid_week_num}.model\",\n",
        "        num_iteration=ranker.best_iteration,\n",
        "    )\n",
        "    return ranker"
      ]
    },
    {
      "cell_type": "code",
      "source": [
        "# for i in candidates:\n",
        "#     print(i,candidates[i]['week'].unique())"
      ],
      "metadata": {
        "id": "G2wtl4vo9F8J"
      },
      "execution_count": null,
      "outputs": []
    },
    {
      "cell_type": "code",
      "source": [
        "# train = pd.concat([candidates[i] for i in range(2,WEEK_NUM)],ignore_index=True)\n",
        "# valid = candidates[1]"
      ],
      "metadata": {
        "id": "9dv3GTnvS5No"
      },
      "execution_count": null,
      "outputs": []
    },
    {
      "cell_type": "code",
      "source": [
        "# train = train.sort_values(by=[\"week\", \"customer_id\"], ascending=True).reset_index(\n",
        "#     drop=True\n",
        "# )\n",
        "# valid = valid.sort_values(by=[\"customer_id\"], ascending=True).reset_index(drop=True)"
      ],
      "metadata": {
        "id": "kmpGgeLXaW70"
      },
      "execution_count": null,
      "outputs": []
    },
    {
      "cell_type": "code",
      "source": [
        "# ranker = train_model(train, valid)"
      ],
      "metadata": {
        "id": "lnYlASeKDIiA"
      },
      "execution_count": null,
      "outputs": []
    },
    {
      "cell_type": "code",
      "execution_count": null,
      "metadata": {
        "id": "1FxwqE1cJR4L",
        "colab": {
          "base_uri": "https://localhost:8080/"
        },
        "outputId": "88b60a3e-4981-4103-8faa-6787b00193ce"
      },
      "outputs": [
        {
          "output_type": "stream",
          "name": "stdout",
          "text": [
            "Validating week: 1\n",
            "Train positive rate: 0.0067018773363074985\n",
            "Training until validation scores don't improve for 30 rounds\n",
            "[10]\tvalid_0's map@12: 0.827021\n",
            "[20]\tvalid_0's map@12: 0.827532\n",
            "[30]\tvalid_0's map@12: 0.827805\n",
            "[40]\tvalid_0's map@12: 0.828106\n",
            "[50]\tvalid_0's map@12: 0.828383\n",
            "[60]\tvalid_0's map@12: 0.828418\n",
            "[70]\tvalid_0's map@12: 0.828974\n",
            "[80]\tvalid_0's map@12: 0.829075\n",
            "[90]\tvalid_0's map@12: 0.829131\n",
            "[100]\tvalid_0's map@12: 0.82908\n",
            "[110]\tvalid_0's map@12: 0.829106\n",
            "[120]\tvalid_0's map@12: 0.82913\n",
            "[130]\tvalid_0's map@12: 0.829143\n",
            "[140]\tvalid_0's map@12: 0.829223\n",
            "[150]\tvalid_0's map@12: 0.829159\n",
            "[160]\tvalid_0's map@12: 0.829242\n",
            "[170]\tvalid_0's map@12: 0.829322\n",
            "[180]\tvalid_0's map@12: 0.829362\n",
            "[190]\tvalid_0's map@12: 0.829404\n",
            "[200]\tvalid_0's map@12: 0.829377\n",
            "[210]\tvalid_0's map@12: 0.829437\n",
            "Early stopping, best iteration is:\n",
            "[188]\tvalid_0's map@12: 0.829548\n"
          ]
        }
      ],
      "source": [
        "ranker = train_model(full_data, 1, 4) # 4-week 0.853142  0.851841\n",
        "# ranker = train_binary_model(full_data, 1, 4)# 0.709413\n",
        "\n",
        "# 0.853642\n",
        "# 0.853926\n",
        "\n",
        "# 0.853055\n",
        "\n",
        "# 0.829717\n",
        "# 0.828842\n",
        "# 0.829284"
      ]
    },
    {
      "cell_type": "markdown",
      "metadata": {
        "id": "KbFdGrYRdtIt"
      },
      "source": [
        "### Inference"
      ]
    },
    {
      "cell_type": "code",
      "execution_count": null,
      "metadata": {
        "id": "hl3DPTaBGGQV"
      },
      "outputs": [],
      "source": [
        "ranker = lgb.Booster(model_file=model_dir / \"lgb_ranker_1.model\")"
      ]
    },
    {
      "cell_type": "code",
      "execution_count": null,
      "metadata": {
        "id": "OG9AwSntGGQV",
        "colab": {
          "base_uri": "https://localhost:8080/",
          "height": 1000
        },
        "outputId": "73a78caf-7508-4699-da55-f9c10e85217a"
      },
      "outputs": [
        {
          "output_type": "execute_result",
          "data": {
            "text/plain": [
              "<Figure size 576x1584 with 0 Axes>"
            ]
          },
          "metadata": {},
          "execution_count": 30
        },
        {
          "output_type": "execute_result",
          "data": {
            "text/plain": [
              "<matplotlib.axes._subplots.AxesSubplot at 0x7f6e01eab9d0>"
            ]
          },
          "metadata": {},
          "execution_count": 30
        },
        {
          "output_type": "display_data",
          "data": {
            "text/plain": [
              "<Figure size 576x1584 with 1 Axes>"
            ],
            "image/png": "[encoded data removed]"
          },
          "metadata": {
            "needs_background": "light"
          }
        }
      ],
      "source": [
        "feat_importance = pd.DataFrame(\n",
        "    {\"feature\": feats, \"importance\": ranker.feature_importance()}\n",
        ").sort_values(by=\"importance\", ascending=False)\n",
        "plt.figure(figsize=(8, 22))\n",
        "sns.barplot(y=\"feature\", x=\"importance\", data=feat_importance)"
      ]
    },
    {
      "cell_type": "markdown",
      "metadata": {
        "id": "lLWs-Z5CGGQV"
      },
      "source": [
        "### Validate"
      ]
    },
    {
      "cell_type": "code",
      "execution_count": null,
      "metadata": {
        "id": "SSpgfI0mdtIv"
      },
      "outputs": [],
      "source": [
        "val_candidates = full_data[full_data[\"week\"] == 1].reset_index(drop=True)# valid.reset_index(drop=True) # "
      ]
    },
    {
      "cell_type": "code",
      "execution_count": null,
      "metadata": {
        "id": "pEhET3KZJR4N"
      },
      "outputs": [],
      "source": [
        "def predict(ranker, candidates, batch_size = 5_000_000):\n",
        "    probs = np.zeros(candidates.shape[0])\n",
        "    for batch in range(0, candidates.shape[0], batch_size):\n",
        "        outputs = ranker.predict(candidates.loc[batch : batch + batch_size - 1, feats])\n",
        "        probs[batch : batch + batch_size] = outputs\n",
        "    candidates[\"prob\"] = probs\n",
        "    pred_lgb = candidates[['customer_id','article_id','prob']]\n",
        "    pred_lgb = pred_lgb.sort_values(by=[\"customer_id\",\"prob\"], ascending=False).reset_index(drop=True)\n",
        "    pred_lgb.rename(columns={'article_id':'prediction'}, inplace=True)\n",
        "    pred_lgb = pred_lgb.drop_duplicates(['customer_id', 'prediction'], keep='first')\n",
        "    pred_lgb['customer_id'] = pred_lgb['customer_id'].astype(int)\n",
        "    pred_lgb = pred_lgb.groupby(\"customer_id\")[\"prediction\"].progress_apply(list).reset_index()\n",
        "    return pred_lgb"
      ]
    },
    {
      "cell_type": "code",
      "execution_count": null,
      "metadata": {
        "colab": {
          "base_uri": "https://localhost:8080/"
        },
        "id": "Ifgoemo6JR4N",
        "outputId": "30f2ddba-ba93-495a-c790-70223456ad02"
      },
      "outputs": [
        {
          "output_type": "stream",
          "name": "stderr",
          "text": [
            "100%|██████████| 68984/68984 [00:05<00:00, 12367.17it/s]\n"
          ]
        }
      ],
      "source": [
        "pred = predict(ranker, val_candidates)"
      ]
    },
    {
      "cell_type": "code",
      "execution_count": null,
      "metadata": {
        "id": "G1Qh3k2aGGQW"
      },
      "outputs": [],
      "source": [
        "label = labels[1]\n",
        "label = pd.merge(label, pred, on=\"customer_id\", how=\"left\")"
      ]
    },
    {
      "cell_type": "code",
      "execution_count": null,
      "metadata": {
        "colab": {
          "base_uri": "https://localhost:8080/"
        },
        "id": "XrFnQ2evGGQW",
        "outputId": "df8727cb-536f-4592-8b8f-8b76b947dbe7"
      },
      "outputs": [
        {
          "output_type": "execute_result",
          "data": {
            "text/plain": [
              "0.029580230369399857"
            ]
          },
          "metadata": {},
          "execution_count": 35
        }
      ],
      "source": [
        "map_at_k(label[\"article_id\"], label[\"prediction\"], k=12)\n",
        "\n",
        "# 0.02820525160663368 1-week add normalization\n",
        "# 0.028936597823123886 4-week min_pos_rate 0.006 0.0274\n",
        "# 0.029111989281461418 4-week drop full-negative customer\n",
        "# 0.029165419468984943 3-week 0.0270\n",
        "# 0.028694388096248934 4-week min_pos_rate 0.005 lr=0.03\n",
        "# 0.028927037894290773 4-week min_pos_rate 0.005 lr=0.01\n",
        "# 0.028936597823123886 4-week min_pos_rate 0.005 lr=0.01 max_depth=9, num_leaves=256\n",
        "\n",
        "# 0.029035548891779315 LB:0.0267+\n",
        "# 0.02936299322497085 LB:0.0272 binary: 0.02875858467034642\n",
        "\n",
        "# 0.02934790456627846\n",
        "# 0.029538123693645727 first_date\n",
        "\n",
        "# 0.02971730505701681\n",
        "# 0.02927408233544082\n",
        "\n",
        "# 0.027985174525317645\n",
        "\n",
        "# 0.0294\n",
        "# 0.029623859943538937\n",
        "\n",
        "# 0.029580230369399857   0.029128021524487725"
      ]
    },
    {
      "cell_type": "code",
      "execution_count": null,
      "metadata": {
        "id": "SEpG-KVUJR4O"
      },
      "outputs": [],
      "source": [
        "batch_size = 5_000_000\n",
        "probs = np.zeros(val_candidates.shape[0])\n",
        "for batch in range(0, val_candidates.shape[0], batch_size):\n",
        "    outputs = ranker.predict(val_candidates.loc[batch : batch + batch_size - 1, feats])\n",
        "    probs[batch : batch + batch_size] = outputs\n",
        "val_candidates[\"prob\"] = probs\n",
        "pred_lgb = val_candidates[['customer_id','article_id','prob']]\n",
        "pred_lgb = pred_lgb.sort_values(by=[\"customer_id\",\"prob\"], ascending=False).reset_index(drop=True)\n",
        "pred_lgb.rename(columns={'article_id':'prediction'}, inplace=True)\n",
        "pred_lgb = pred_lgb.drop_duplicates(['customer_id', 'prediction'], keep='first')\n",
        "pred_lgb['customer_id'] = pred_lgb['customer_id'].astype(int)"
      ]
    },
    {
      "cell_type": "code",
      "execution_count": null,
      "metadata": {
        "id": "UILjptYKJR4O"
      },
      "outputs": [],
      "source": [
        "pred_lgb.to_parquet(data_dir/\"processed\"/\"rank_valid.pqt\")"
      ]
    },
    {
      "cell_type": "markdown",
      "metadata": {
        "id": "2Z1v_iDuJR4O"
      },
      "source": [
        "---"
      ]
    },
    {
      "cell_type": "code",
      "execution_count": null,
      "metadata": {
        "id": "i5n2yIFOJR4P"
      },
      "outputs": [],
      "source": [
        "pred_rank = pd.read_parquet(data_dir/\"processed\"/\"rank_valid.pqt\")\n",
        "pred_binary = pd.read_parquet(data_dir/\"processed\"/\"binary_valid.pqt\")\n",
        "pred_nn = pd.read_parquet(data_dir/\"processed\"/\"nn_valid.pqt\")\n",
        "pred_nn.rename(columns={'article_id':'prediction'},inplace=True)"
      ]
    },
    {
      "cell_type": "code",
      "source": [
        "# pred_rank = pred_rank.sort_values(by='prob', ascending=False).reset_index(drop=True)\n",
        "pred_binary = pred_binary.sort_values(by='prob', ascending=False).reset_index(drop=True)\n",
        "pred_nn = pred_nn.sort_values(by='prob', ascending=False).reset_index(drop=True)"
      ],
      "metadata": {
        "id": "G2V5n3l-ULIB"
      },
      "execution_count": null,
      "outputs": []
    },
    {
      "cell_type": "code",
      "source": [
        "# pred_rank['prob'] = (pred_rank['prob'] - pred_rank['prob'].min()) / (pred_rank['prob'].max() - pred_rank['prob'].min())\n",
        "# pred_binary['prob'] = (pred_binary['prob'] - pred_binary['prob'].min()) / (pred_binary['prob'].max() - pred_binary['prob'].min())\n",
        "\n",
        "pred = pred_nn.merge(pred_binary, on=['customer_id','prediction'], how='left')\n",
        "pred['score'] = pred['prob_x'] + pred['prob_y']\n",
        "\n",
        "pred = pred.sort_values(by='score', ascending=False).reset_index(drop=True)\n",
        "pred = pred.groupby(\"customer_id\")[\"prediction\"].progress_apply(list).reset_index()"
      ],
      "metadata": {
        "colab": {
          "base_uri": "https://localhost:8080/"
        },
        "id": "Aa3iVPtRWPcH",
        "outputId": "5bee5a91-dbde-486d-d684-ec581ba2126f"
      },
      "execution_count": null,
      "outputs": [
        {
          "output_type": "stream",
          "name": "stderr",
          "text": [
            "100%|██████████| 68984/68984 [00:01<00:00, 37511.45it/s]\n"
          ]
        }
      ]
    },
    {
      "cell_type": "code",
      "source": [
        "# # pred_rank = pred_rank.groupby(\"customer_id\")[\"prediction\"].progress_apply(list).reset_index()\n",
        "# pred_binary = pred_binary.groupby(\"customer_id\")[\"prediction\"].progress_apply(list).reset_index()\n",
        "# pred_nn = pred_nn.groupby(\"customer_id\")[\"prediction\"].progress_apply(list).reset_index()\n",
        "\n",
        "# # pred_rank.rename(columns={'prediction':'rank'},inplace=True)\n",
        "# pred_binary.rename(columns={'prediction':'binary'},inplace=True)\n",
        "# pred_nn.rename(columns={'prediction':'nn'},inplace=True)\n",
        "# pred = pred_nn.merge(pred_binary, on=['customer_id'], how='left')"
      ],
      "metadata": {
        "id": "sZEoddXdUU55"
      },
      "execution_count": null,
      "outputs": []
    },
    {
      "cell_type": "code",
      "source": [
        "def cust_blend(dt, W = [1,1]):\n",
        "    #Global ensemble weights\n",
        "    #W = [1.15,0.95,0.85]\n",
        "\n",
        "    #Create a list of all model predictions\n",
        "    REC = []\n",
        "\n",
        "    # Second Try\n",
        "    REC.append(dt['nn'])\n",
        "    REC.append(dt['binary'])\n",
        "\n",
        "    #Create a dictionary of items recommended.\n",
        "    #Assign a weight according the order of appearance and multiply by global weights\n",
        "    res = {}\n",
        "    for M in range(len(REC)):\n",
        "        for n, v in enumerate(REC[M]):\n",
        "            if v in res:\n",
        "                res[v] += (W[M]/(n+1))\n",
        "            else:\n",
        "                res[v] = (W[M]/(n+1))\n",
        "\n",
        "    # Sort dictionary by item weights\n",
        "    res = list(dict(sorted(res.items(), key=lambda item: -item[1])).keys())\n",
        "\n",
        "    # Return the top 12 items only\n",
        "    return res[:12]"
      ],
      "metadata": {
        "id": "xKmeOlfoUa_-"
      },
      "execution_count": null,
      "outputs": []
    },
    {
      "cell_type": "code",
      "source": [
        "# pred['prediction'] = pred.apply(cust_blend, W = [1.0, 1.0], axis=1)"
      ],
      "metadata": {
        "id": "M2JhnyyqUahF"
      },
      "execution_count": null,
      "outputs": []
    },
    {
      "cell_type": "code",
      "source": [
        "pred.head()"
      ],
      "metadata": {
        "colab": {
          "base_uri": "https://localhost:8080/",
          "height": 206
        },
        "id": "SUqJMXWxVDRn",
        "outputId": "1b5dd0b0-4388-4de0-bbd7-852f113b5992"
      },
      "execution_count": null,
      "outputs": [
        {
          "output_type": "execute_result",
          "data": {
            "text/plain": [
              "   customer_id                                         prediction\n",
              "0           81  [42130, 74, 67523, 104046, 103797, 44033, 1037...\n",
              "1           87  [100229, 27906, 98607, 33869, 53893, 104210, 1...\n",
              "2          108  [13043, 2220, 61306, 61304, 61305, 53893, 5389...\n",
              "3          118  [103794, 3092, 104046, 104073, 56695, 103797, ...\n",
              "4          180  [105181, 104987, 95217, 103794, 3511, 104073, ..."
            ],
            "text/html": [
              "\n",
              "  <div id=\"df-845eb976-1ca6-4861-8a9f-9ee49422cc78\">\n",
              "    <div class=\"colab-df-container\">\n",
              "      <div>\n",
              "<style scoped>\n",
              "    .dataframe tbody tr th:only-of-type {\n",
              "        vertical-align: middle;\n",
              "    }\n",
              "\n",
              "    .dataframe tbody tr th {\n",
              "        vertical-align: top;\n",
              "    }\n",
              "\n",
              "    .dataframe thead th {\n",
              "        text-align: right;\n",
              "    }\n",
              "</style>\n",
              "<table border=\"1\" class=\"dataframe\">\n",
              "  <thead>\n",
              "    <tr style=\"text-align: right;\">\n",
              "      <th></th>\n",
              "      <th>customer_id</th>\n",
              "      <th>prediction</th>\n",
              "    </tr>\n",
              "  </thead>\n",
              "  <tbody>\n",
              "    <tr>\n",
              "      <th>0</th>\n",
              "      <td>81</td>\n",
              "      <td>[42130, 74, 67523, 104046, 103797, 44033, 1037...</td>\n",
              "    </tr>\n",
              "    <tr>\n",
              "      <th>1</th>\n",
              "      <td>87</td>\n",
              "      <td>[100229, 27906, 98607, 33869, 53893, 104210, 1...</td>\n",
              "    </tr>\n",
              "    <tr>\n",
              "      <th>2</th>\n",
              "      <td>108</td>\n",
              "      <td>[13043, 2220, 61306, 61304, 61305, 53893, 5389...</td>\n",
              "    </tr>\n",
              "    <tr>\n",
              "      <th>3</th>\n",
              "      <td>118</td>\n",
              "      <td>[103794, 3092, 104046, 104073, 56695, 103797, ...</td>\n",
              "    </tr>\n",
              "    <tr>\n",
              "      <th>4</th>\n",
              "      <td>180</td>\n",
              "      <td>[105181, 104987, 95217, 103794, 3511, 104073, ...</td>\n",
              "    </tr>\n",
              "  </tbody>\n",
              "</table>\n",
              "</div>\n",
              "      <button class=\"colab-df-convert\" onclick=\"convertToInteractive('df-845eb976-1ca6-4861-8a9f-9ee49422cc78')\"\n",
              "              title=\"Convert this dataframe to an interactive table.\"\n",
              "              style=\"display:none;\">\n",
              "        \n",
              "  <svg xmlns=\"http://www.w3.org/2000/svg\" height=\"24px\"viewBox=\"0 0 24 24\"\n",
              "       width=\"24px\">\n",
              "    <path d=\"M0 0h24v24H0V0z\" fill=\"none\"/>\n",
              "    <path d=\"M18.56 5.44l.94 2.06.94-2.06 2.06-.94-2.06-.94-.94-2.06-.94 2.06-2.06.94zm-11 1L8.5 8.5l.94-2.06 2.06-.94-2.06-.94L8.5 2.5l-.94 2.06-2.06.94zm10 10l.94 2.06.94-2.06 2.06-.94-2.06-.94-.94-2.06-.94 2.06-2.06.94z\"/><path d=\"M17.41 7.96l-1.37-1.37c-.4-.4-.92-.59-1.43-.59-.52 0-1.04.2-1.43.59L10.3 9.45l-7.72 7.72c-.78.78-.78 2.05 0 2.83L4 21.41c.39.39.9.59 1.41.59.51 0 1.02-.2 1.41-.59l7.78-7.78 2.81-2.81c.8-.78.8-2.07 0-2.86zM5.41 20L4 18.59l7.72-7.72 1.47 1.35L5.41 20z\"/>\n",
              "  </svg>\n",
              "      </button>\n",
              "      \n",
              "  <style>\n",
              "    .colab-df-container {\n",
              "      display:flex;\n",
              "      flex-wrap:wrap;\n",
              "      gap: 12px;\n",
              "    }\n",
              "\n",
              "    .colab-df-convert {\n",
              "      background-color: #E8F0FE;\n",
              "      border: none;\n",
              "      border-radius: 50%;\n",
              "      cursor: pointer;\n",
              "      display: none;\n",
              "      fill: #1967D2;\n",
              "      height: 32px;\n",
              "      padding: 0 0 0 0;\n",
              "      width: 32px;\n",
              "    }\n",
              "\n",
              "    .colab-df-convert:hover {\n",
              "      background-color: #E2EBFA;\n",
              "      box-shadow: 0px 1px 2px rgba(60, 64, 67, 0.3), 0px 1px 3px 1px rgba(60, 64, 67, 0.15);\n",
              "      fill: #174EA6;\n",
              "    }\n",
              "\n",
              "    [theme=dark] .colab-df-convert {\n",
              "      background-color: #3B4455;\n",
              "      fill: #D2E3FC;\n",
              "    }\n",
              "\n",
              "    [theme=dark] .colab-df-convert:hover {\n",
              "      background-color: #434B5C;\n",
              "      box-shadow: 0px 1px 3px 1px rgba(0, 0, 0, 0.15);\n",
              "      filter: drop-shadow(0px 1px 2px rgba(0, 0, 0, 0.3));\n",
              "      fill: #FFFFFF;\n",
              "    }\n",
              "  </style>\n",
              "\n",
              "      <script>\n",
              "        const buttonEl =\n",
              "          document.querySelector('#df-845eb976-1ca6-4861-8a9f-9ee49422cc78 button.colab-df-convert');\n",
              "        buttonEl.style.display =\n",
              "          google.colab.kernel.accessAllowed ? 'block' : 'none';\n",
              "\n",
              "        async function convertToInteractive(key) {\n",
              "          const element = document.querySelector('#df-845eb976-1ca6-4861-8a9f-9ee49422cc78');\n",
              "          const dataTable =\n",
              "            await google.colab.kernel.invokeFunction('convertToInteractive',\n",
              "                                                     [key], {});\n",
              "          if (!dataTable) return;\n",
              "\n",
              "          const docLinkHtml = 'Like what you see? Visit the ' +\n",
              "            '<a target=\"_blank\" href=https://colab.research.google.com/notebooks/data_table.ipynb>data table notebook</a>'\n",
              "            + ' to learn more about interactive tables.';\n",
              "          element.innerHTML = '';\n",
              "          dataTable['output_type'] = 'display_data';\n",
              "          await google.colab.output.renderOutput(dataTable, element);\n",
              "          const docLink = document.createElement('div');\n",
              "          docLink.innerHTML = docLinkHtml;\n",
              "          element.appendChild(docLink);\n",
              "        }\n",
              "      </script>\n",
              "    </div>\n",
              "  </div>\n",
              "  "
            ]
          },
          "metadata": {},
          "execution_count": 89
        }
      ]
    },
    {
      "cell_type": "code",
      "source": [
        "label = labels[1]\n",
        "label = pd.merge(label, pred, on=\"customer_id\", how=\"left\")"
      ],
      "metadata": {
        "id": "CoQ-ozItVUnK"
      },
      "execution_count": null,
      "outputs": []
    },
    {
      "cell_type": "code",
      "source": [
        "map_at_k(label[\"article_id\"], label[\"prediction\"], k=12)"
      ],
      "metadata": {
        "colab": {
          "base_uri": "https://localhost:8080/"
        },
        "id": "CygFbr_YVVbA",
        "outputId": "9da40d91-db99-40f4-a954-130a691f389d"
      },
      "execution_count": null,
      "outputs": [
        {
          "output_type": "execute_result",
          "data": {
            "text/plain": [
              "0.032128785732101955"
            ]
          },
          "metadata": {},
          "execution_count": 91
        }
      ]
    },
    {
      "cell_type": "markdown",
      "metadata": {
        "id": "_5_faqlKJR4R"
      },
      "source": [
        "### Test"
      ]
    },
    {
      "cell_type": "code",
      "execution_count": null,
      "metadata": {
        "id": "qFaPtoF7JR4R",
        "outputId": "1cd7fd70-8927-43c9-9dd5-83c94e2bfea7",
        "colab": {
          "base_uri": "https://localhost:8080/"
        }
      },
      "outputs": [
        {
          "output_type": "execute_result",
          "data": {
            "text/plain": [
              "100"
            ]
          },
          "metadata": {},
          "execution_count": 36
        }
      ],
      "source": [
        "del full_data, val_candidates, candidates\n",
        "gc.collect()"
      ]
    },
    {
      "cell_type": "code",
      "source": [
        "test_pred = []\n",
        "for chunk in range(2):\n",
        "    print(f\"Chunk {chunk}\")\n",
        "    test_candidates = pd.read_parquet(data_dir/\"processed\"/VERSION_NAME/f\"week0_candidate_{chunk}.pqt\")\n",
        "    for feat in cat_features:\n",
        "        test_candidates[feat] = test_candidates[feat].astype(cate_dict[feat])\n",
        "    batch_size = 5_000_000\n",
        "    probs = np.zeros(test_candidates.shape[0])\n",
        "    for batch in tqdm(range(0, test_candidates.shape[0], batch_size)):\n",
        "        outputs = ranker.predict(test_candidates.loc[batch : batch + batch_size - 1, feats])\n",
        "        probs[batch : batch + batch_size] = outputs\n",
        "    test_candidates[\"prob\"] = probs\n",
        "    pred_lgb = test_candidates[['customer_id','article_id','prob']]\n",
        "    pred_lgb = pred_lgb.sort_values(by=[\"customer_id\",\"prob\"], ascending=False).reset_index(drop=True)\n",
        "    pred_lgb.rename(columns={'article_id':'prediction'}, inplace=True)\n",
        "    pred_lgb = pred_lgb.drop_duplicates(['customer_id', 'prediction'], keep='first')\n",
        "    pred_lgb['customer_id'] = pred_lgb['customer_id'].astype(int)\n",
        "    test_pred.append(pred_lgb)"
      ],
      "metadata": {
        "colab": {
          "base_uri": "https://localhost:8080/"
        },
        "id": "GxTa-32qPMNh",
        "outputId": "be86ecbb-0679-45a4-e89c-1ae8660a445d"
      },
      "execution_count": null,
      "outputs": [
        {
          "output_type": "stream",
          "name": "stdout",
          "text": [
            "Chunk 0\n"
          ]
        },
        {
          "output_type": "stream",
          "name": "stderr",
          "text": [
            "100%|██████████| 6/6 [01:22<00:00, 13.73s/it]\n"
          ]
        },
        {
          "output_type": "stream",
          "name": "stdout",
          "text": [
            "Chunk 1\n"
          ]
        },
        {
          "output_type": "stream",
          "name": "stderr",
          "text": [
            "100%|██████████| 6/6 [01:25<00:00, 14.33s/it]\n"
          ]
        }
      ]
    },
    {
      "cell_type": "code",
      "source": [
        "pred_lgb = pd.concat(test_pred, ignore_index=True)"
      ],
      "metadata": {
        "id": "S1D0jEFqPzng"
      },
      "execution_count": null,
      "outputs": []
    },
    {
      "cell_type": "code",
      "execution_count": null,
      "metadata": {
        "id": "ZpdiPY58JR4R"
      },
      "outputs": [],
      "source": [
        "pred_lgb.to_parquet(data_dir/\"processed\"/\"rank_test.pqt\")"
      ]
    },
    {
      "cell_type": "markdown",
      "metadata": {
        "id": "0qKCe2VHJR4S"
      },
      "source": [
        "---"
      ]
    },
    {
      "cell_type": "code",
      "execution_count": null,
      "metadata": {
        "id": "MgGlvqMGJR4S"
      },
      "outputs": [],
      "source": [
        "# pred_lgb = pd.read_parquet(data_dir/\"processed\"/\"binary_test.pqt\")\n",
        "# pred_nn = pd.read_parquet(data_dir/\"processed\"/\"nn_test.pqt\")"
      ]
    },
    {
      "cell_type": "code",
      "execution_count": null,
      "metadata": {
        "id": "OVcTBilgJR4S"
      },
      "outputs": [],
      "source": [
        "# pred_lgb = pred_lgb.merge(pred_nn, on=[\"customer_id\",'prediction'], how=\"left\")"
      ]
    },
    {
      "cell_type": "code",
      "execution_count": null,
      "metadata": {
        "id": "8odt98_ZJR4S"
      },
      "outputs": [],
      "source": [
        "# pred_lgb['prob'] = pred_lgb['prob_x'] + pred_lgb['prob_y'] # \n",
        "# pred_lgb = pred_lgb.sort_values(by=[\"customer_id\",\"prob\"], ascending=False).reset_index(drop=True)"
      ]
    },
    {
      "cell_type": "code",
      "execution_count": null,
      "metadata": {
        "id": "pLcOUyYdJR4T"
      },
      "outputs": [],
      "source": [
        "pred_lgb = pred_lgb.sort_values(by=[\"customer_id\",\"prob\"], ascending=False).reset_index(drop=True)\n",
        "pred_lgb = pred_lgb.drop_duplicates(['customer_id', 'prediction'], keep='first')\n",
        "pred_lgb['customer_id'] = pred_lgb['customer_id'].astype(int)"
      ]
    },
    {
      "cell_type": "code",
      "execution_count": null,
      "metadata": {
        "id": "9z2fm2skJR4T",
        "outputId": "b2b9bf95-b097-4bf2-b4d8-df2bd69ddf80",
        "colab": {
          "base_uri": "https://localhost:8080/"
        }
      },
      "outputs": [
        {
          "output_type": "stream",
          "name": "stderr",
          "text": [
            "100%|██████████| 1371980/1371980 [01:51<00:00, 12255.95it/s]\n"
          ]
        }
      ],
      "source": [
        "test_pred = pred_lgb.groupby(\"customer_id\")[\"prediction\"].progress_apply(list).reset_index()"
      ]
    },
    {
      "cell_type": "code",
      "execution_count": null,
      "metadata": {
        "id": "b9DulqICJR4T"
      },
      "outputs": [],
      "source": [
        "idx2uid = pickle.load(open(data_dir/\"index_id_map/user_index2id.pkl\", \"rb\"))\n",
        "idx2iid = pickle.load(open(data_dir/\"index_id_map/item_index2id.pkl\", \"rb\"))"
      ]
    },
    {
      "cell_type": "code",
      "execution_count": null,
      "metadata": {
        "id": "gfKPydOEJR4T"
      },
      "outputs": [],
      "source": [
        "def parse(x):\n",
        "    l = ['0'+str(idx2iid[i]) for i in x]\n",
        "    l = ' '.join(l[:12])\n",
        "    return l"
      ]
    },
    {
      "cell_type": "code",
      "execution_count": null,
      "metadata": {
        "id": "OSKL5wzWJR4U",
        "outputId": "b1b4bcf0-f32b-499d-e41a-de207def7d8f",
        "colab": {
          "base_uri": "https://localhost:8080/"
        }
      },
      "outputs": [
        {
          "output_type": "stream",
          "name": "stderr",
          "text": [
            "100%|██████████| 1371980/1371980 [00:23<00:00, 57174.63it/s]\n"
          ]
        }
      ],
      "source": [
        "test_pred['prediction'] = test_pred['prediction'].progress_apply(lambda x: parse(x))"
      ]
    },
    {
      "cell_type": "code",
      "execution_count": null,
      "metadata": {
        "id": "iz2lVMlXJR4U"
      },
      "outputs": [],
      "source": [
        "uid2idx = pickle.load(open(data_dir/\"index_id_map/user_id2index.pkl\", \"rb\"))\n",
        "submission = pd.read_csv(data_dir/\"raw\"/'sample_submission.csv')\n",
        "submission['customer_id'] = submission['customer_id'].map(uid2idx)"
      ]
    },
    {
      "cell_type": "code",
      "execution_count": null,
      "metadata": {
        "id": "wjtLf4LwJR4U"
      },
      "outputs": [],
      "source": [
        "del submission['prediction']\n",
        "submission = submission.merge(test_pred, on='customer_id', how='left')\n",
        "submission['customer_id'] = submission['customer_id'].map(idx2uid)"
      ]
    },
    {
      "cell_type": "code",
      "execution_count": null,
      "metadata": {
        "id": "RzfEIp_AJR4U"
      },
      "outputs": [],
      "source": [
        "submission.to_csv('submission.csv', index=False)"
      ]
    },
    {
      "cell_type": "code",
      "execution_count": null,
      "metadata": {
        "id": "qnlE_iA1JR4U",
        "outputId": "406d958b-a99a-4a36-c3de-2e5c076b55c5",
        "colab": {
          "base_uri": "https://localhost:8080/",
          "height": 206
        }
      },
      "outputs": [
        {
          "output_type": "execute_result",
          "data": {
            "text/plain": [
              "                                         customer_id  \\\n",
              "0  00000dbacae5abe5e23885899a1fa44253a17956c6d1c3...   \n",
              "1  0000423b00ade91418cceaf3b26c6af3dd342b51fd051e...   \n",
              "2  000058a12d5b43e67d225668fa1f8d618c13dc232df0ca...   \n",
              "3  00005ca1c9ed5f5146b52ac8639a40ca9d57aeff4d1bd2...   \n",
              "4  00006413d8573cd20ed7128e53b7b13819fe5cfc2d801f...   \n",
              "\n",
              "                                          prediction  \n",
              "0  0568601043 0779781015 0918522001 0858856005 06...  \n",
              "1  0918522001 0448509014 0918292001 0751471001 08...  \n",
              "2  0794321007 0805000001 0685813001 0918522001 04...  \n",
              "3  0918522001 0673677002 0751471001 0751471043 05...  \n",
              "4  0896152001 0791587001 0852584001 0927530006 07...  "
            ],
            "text/html": [
              "\n",
              "  <div id=\"df-133864c1-d620-405b-84c5-5cdc17fa3006\">\n",
              "    <div class=\"colab-df-container\">\n",
              "      <div>\n",
              "<style scoped>\n",
              "    .dataframe tbody tr th:only-of-type {\n",
              "        vertical-align: middle;\n",
              "    }\n",
              "\n",
              "    .dataframe tbody tr th {\n",
              "        vertical-align: top;\n",
              "    }\n",
              "\n",
              "    .dataframe thead th {\n",
              "        text-align: right;\n",
              "    }\n",
              "</style>\n",
              "<table border=\"1\" class=\"dataframe\">\n",
              "  <thead>\n",
              "    <tr style=\"text-align: right;\">\n",
              "      <th></th>\n",
              "      <th>customer_id</th>\n",
              "      <th>prediction</th>\n",
              "    </tr>\n",
              "  </thead>\n",
              "  <tbody>\n",
              "    <tr>\n",
              "      <th>0</th>\n",
              "      <td>00000dbacae5abe5e23885899a1fa44253a17956c6d1c3...</td>\n",
              "      <td>0568601043 0779781015 0918522001 0858856005 06...</td>\n",
              "    </tr>\n",
              "    <tr>\n",
              "      <th>1</th>\n",
              "      <td>0000423b00ade91418cceaf3b26c6af3dd342b51fd051e...</td>\n",
              "      <td>0918522001 0448509014 0918292001 0751471001 08...</td>\n",
              "    </tr>\n",
              "    <tr>\n",
              "      <th>2</th>\n",
              "      <td>000058a12d5b43e67d225668fa1f8d618c13dc232df0ca...</td>\n",
              "      <td>0794321007 0805000001 0685813001 0918522001 04...</td>\n",
              "    </tr>\n",
              "    <tr>\n",
              "      <th>3</th>\n",
              "      <td>00005ca1c9ed5f5146b52ac8639a40ca9d57aeff4d1bd2...</td>\n",
              "      <td>0918522001 0673677002 0751471001 0751471043 05...</td>\n",
              "    </tr>\n",
              "    <tr>\n",
              "      <th>4</th>\n",
              "      <td>00006413d8573cd20ed7128e53b7b13819fe5cfc2d801f...</td>\n",
              "      <td>0896152001 0791587001 0852584001 0927530006 07...</td>\n",
              "    </tr>\n",
              "  </tbody>\n",
              "</table>\n",
              "</div>\n",
              "      <button class=\"colab-df-convert\" onclick=\"convertToInteractive('df-133864c1-d620-405b-84c5-5cdc17fa3006')\"\n",
              "              title=\"Convert this dataframe to an interactive table.\"\n",
              "              style=\"display:none;\">\n",
              "        \n",
              "  <svg xmlns=\"http://www.w3.org/2000/svg\" height=\"24px\"viewBox=\"0 0 24 24\"\n",
              "       width=\"24px\">\n",
              "    <path d=\"M0 0h24v24H0V0z\" fill=\"none\"/>\n",
              "    <path d=\"M18.56 5.44l.94 2.06.94-2.06 2.06-.94-2.06-.94-.94-2.06-.94 2.06-2.06.94zm-11 1L8.5 8.5l.94-2.06 2.06-.94-2.06-.94L8.5 2.5l-.94 2.06-2.06.94zm10 10l.94 2.06.94-2.06 2.06-.94-2.06-.94-.94-2.06-.94 2.06-2.06.94z\"/><path d=\"M17.41 7.96l-1.37-1.37c-.4-.4-.92-.59-1.43-.59-.52 0-1.04.2-1.43.59L10.3 9.45l-7.72 7.72c-.78.78-.78 2.05 0 2.83L4 21.41c.39.39.9.59 1.41.59.51 0 1.02-.2 1.41-.59l7.78-7.78 2.81-2.81c.8-.78.8-2.07 0-2.86zM5.41 20L4 18.59l7.72-7.72 1.47 1.35L5.41 20z\"/>\n",
              "  </svg>\n",
              "      </button>\n",
              "      \n",
              "  <style>\n",
              "    .colab-df-container {\n",
              "      display:flex;\n",
              "      flex-wrap:wrap;\n",
              "      gap: 12px;\n",
              "    }\n",
              "\n",
              "    .colab-df-convert {\n",
              "      background-color: #E8F0FE;\n",
              "      border: none;\n",
              "      border-radius: 50%;\n",
              "      cursor: pointer;\n",
              "      display: none;\n",
              "      fill: #1967D2;\n",
              "      height: 32px;\n",
              "      padding: 0 0 0 0;\n",
              "      width: 32px;\n",
              "    }\n",
              "\n",
              "    .colab-df-convert:hover {\n",
              "      background-color: #E2EBFA;\n",
              "      box-shadow: 0px 1px 2px rgba(60, 64, 67, 0.3), 0px 1px 3px 1px rgba(60, 64, 67, 0.15);\n",
              "      fill: #174EA6;\n",
              "    }\n",
              "\n",
              "    [theme=dark] .colab-df-convert {\n",
              "      background-color: #3B4455;\n",
              "      fill: #D2E3FC;\n",
              "    }\n",
              "\n",
              "    [theme=dark] .colab-df-convert:hover {\n",
              "      background-color: #434B5C;\n",
              "      box-shadow: 0px 1px 3px 1px rgba(0, 0, 0, 0.15);\n",
              "      filter: drop-shadow(0px 1px 2px rgba(0, 0, 0, 0.3));\n",
              "      fill: #FFFFFF;\n",
              "    }\n",
              "  </style>\n",
              "\n",
              "      <script>\n",
              "        const buttonEl =\n",
              "          document.querySelector('#df-133864c1-d620-405b-84c5-5cdc17fa3006 button.colab-df-convert');\n",
              "        buttonEl.style.display =\n",
              "          google.colab.kernel.accessAllowed ? 'block' : 'none';\n",
              "\n",
              "        async function convertToInteractive(key) {\n",
              "          const element = document.querySelector('#df-133864c1-d620-405b-84c5-5cdc17fa3006');\n",
              "          const dataTable =\n",
              "            await google.colab.kernel.invokeFunction('convertToInteractive',\n",
              "                                                     [key], {});\n",
              "          if (!dataTable) return;\n",
              "\n",
              "          const docLinkHtml = 'Like what you see? Visit the ' +\n",
              "            '<a target=\"_blank\" href=https://colab.research.google.com/notebooks/data_table.ipynb>data table notebook</a>'\n",
              "            + ' to learn more about interactive tables.';\n",
              "          element.innerHTML = '';\n",
              "          dataTable['output_type'] = 'display_data';\n",
              "          await google.colab.output.renderOutput(dataTable, element);\n",
              "          const docLink = document.createElement('div');\n",
              "          docLink.innerHTML = docLinkHtml;\n",
              "          element.appendChild(docLink);\n",
              "        }\n",
              "      </script>\n",
              "    </div>\n",
              "  </div>\n",
              "  "
            ]
          },
          "metadata": {},
          "execution_count": 48
        }
      ],
      "source": [
        "submission.head()"
      ]
    },
    {
      "cell_type": "markdown",
      "metadata": {
        "id": "kALKs79DJR4V"
      },
      "source": [
        "### Submit"
      ]
    },
    {
      "cell_type": "code",
      "execution_count": null,
      "metadata": {
        "id": "Cu-X7xqRJR4V"
      },
      "outputs": [],
      "source": [
        "submit_msg = \"lgb with new sale features and valid leak resolved, CV:0.029580230369399857\""
      ]
    },
    {
      "cell_type": "code",
      "execution_count": null,
      "metadata": {
        "id": "3_eJKP4vJR4V",
        "outputId": "0d5e17d3-e026-4712-82b2-8147b646d3dd",
        "colab": {
          "base_uri": "https://localhost:8080/",
          "height": 35
        }
      },
      "outputs": [
        {
          "output_type": "execute_result",
          "data": {
            "text/plain": [
              "'lgb with new sale features and valid leak resolved, CV:0.029580230369399857'"
            ],
            "application/vnd.google.colaboratory.intrinsic+json": {
              "type": "string"
            }
          },
          "metadata": {},
          "execution_count": 50
        }
      ],
      "source": [
        "submit_msg"
      ]
    },
    {
      "cell_type": "code",
      "execution_count": null,
      "metadata": {
        "id": "CICcXvaIJR4V"
      },
      "outputs": [],
      "source": [
        "! mkdir ~/.kaggle\n",
        "! cp /content/drive/MyDrive/HM-new/kaggle.json ~/.kaggle/\n",
        "! chmod 600 ~/.kaggle/kaggle.json"
      ]
    },
    {
      "cell_type": "code",
      "execution_count": null,
      "metadata": {
        "collapsed": true,
        "id": "vYELCnxzJR4W",
        "outputId": "ba239af1-cb8a-4758-9475-85c6b1197b9c",
        "colab": {
          "base_uri": "https://localhost:8080/"
        }
      },
      "outputs": [
        {
          "output_type": "stream",
          "name": "stdout",
          "text": [
            "Requirement already satisfied: kaggle in /usr/local/lib/python3.7/dist-packages (1.5.12)\n",
            "Requirement already satisfied: python-slugify in /usr/local/lib/python3.7/dist-packages (from kaggle) (6.1.2)\n",
            "Requirement already satisfied: six>=1.10 in /usr/local/lib/python3.7/dist-packages (from kaggle) (1.15.0)\n",
            "Requirement already satisfied: urllib3 in /usr/local/lib/python3.7/dist-packages (from kaggle) (1.24.3)\n",
            "Requirement already satisfied: tqdm in /usr/local/lib/python3.7/dist-packages (from kaggle) (4.64.0)\n",
            "Requirement already satisfied: certifi in /usr/local/lib/python3.7/dist-packages (from kaggle) (2021.10.8)\n",
            "Requirement already satisfied: requests in /usr/local/lib/python3.7/dist-packages (from kaggle) (2.23.0)\n",
            "Requirement already satisfied: python-dateutil in /usr/local/lib/python3.7/dist-packages (from kaggle) (2.8.2)\n",
            "Requirement already satisfied: text-unidecode>=1.3 in /usr/local/lib/python3.7/dist-packages (from python-slugify->kaggle) (1.3)\n",
            "Requirement already satisfied: chardet<4,>=3.0.2 in /usr/local/lib/python3.7/dist-packages (from requests->kaggle) (3.0.4)\n",
            "Requirement already satisfied: idna<3,>=2.5 in /usr/local/lib/python3.7/dist-packages (from requests->kaggle) (2.10)\n"
          ]
        }
      ],
      "source": [
        "%pip install kaggle"
      ]
    },
    {
      "cell_type": "code",
      "execution_count": null,
      "metadata": {
        "id": "qWg5h0Q2JR4W",
        "outputId": "fdf84dca-6935-4b41-c144-adf27bd5c93e",
        "colab": {
          "base_uri": "https://localhost:8080/"
        }
      },
      "outputs": [
        {
          "output_type": "stream",
          "name": "stdout",
          "text": [
            "100% 258M/258M [00:03<00:00, 87.1MB/s]\n",
            "Successfully submitted to H&M Personalized Fashion Recommendations"
          ]
        }
      ],
      "source": [
        "! kaggle competitions submit -c h-and-m-personalized-fashion-recommendations -f ./submission.csv -m 'lgb with new sale features and valid leak resolved, CV:0.029580230369399857'"
      ]
    },
    {
      "cell_type": "code",
      "execution_count": null,
      "metadata": {
        "id": "LOcaCk0JJR4W"
      },
      "outputs": [],
      "source": [
        ""
      ]
    }
  ],
  "metadata": {
    "colab": {
      "collapsed_sections": [
        "LX4M190s4pxo"
      ],
      "machine_shape": "hm",
      "name": "HM-Rec.ipynb",
      "provenance": []
    },
    "interpreter": {
      "hash": "eee4fdb9ca52ce5d5f0a2a1c2a1d0a4896d6b735579ddf3d9c0ee93e21b97ca8"
    },
    "kernelspec": {
      "display_name": "Python 3 (ipykernel)",
      "language": "python",
      "name": "python3"
    },
    "language_info": {
      "codemirror_mode": {
        "name": "ipython",
        "version": 3
      },
      "file_extension": ".py",
      "mimetype": "text/x-python",
      "name": "python",
      "nbconvert_exporter": "python",
      "pygments_lexer": "ipython3",
      "version": "3.8.10"
    }
  },
  "nbformat": 4,
  "nbformat_minor": 0
}