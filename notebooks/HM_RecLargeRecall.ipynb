{
  "cells": [
    {
      "cell_type": "code",
      "execution_count": 1,
      "metadata": {
        "colab": {
          "base_uri": "https://localhost:8080/"
        },
        "id": "Ej-kIjP5d_zw",
        "outputId": "3eea93dd-ceb8-4272-8016-fbcc17a9ac6d"
      },
      "outputs": [
        {
          "output_type": "stream",
          "name": "stdout",
          "text": [
            "Collecting lightgbm==3.3.2\n",
            "  Downloading lightgbm-3.3.2-py3-none-manylinux1_x86_64.whl (2.0 MB)\n",
            "\u001b[K     |████████████████████████████████| 2.0 MB 4.2 MB/s \n",
            "\u001b[?25hRequirement already satisfied: scipy in /usr/local/lib/python3.7/dist-packages (from lightgbm==3.3.2) (1.4.1)\n",
            "Requirement already satisfied: wheel in /usr/local/lib/python3.7/dist-packages (from lightgbm==3.3.2) (0.37.1)\n",
            "Requirement already satisfied: scikit-learn!=0.22.0 in /usr/local/lib/python3.7/dist-packages (from lightgbm==3.3.2) (1.0.2)\n",
            "Requirement already satisfied: numpy in /usr/local/lib/python3.7/dist-packages (from lightgbm==3.3.2) (1.21.6)\n",
            "Requirement already satisfied: joblib>=0.11 in /usr/local/lib/python3.7/dist-packages (from scikit-learn!=0.22.0->lightgbm==3.3.2) (1.1.0)\n",
            "Requirement already satisfied: threadpoolctl>=2.0.0 in /usr/local/lib/python3.7/dist-packages (from scikit-learn!=0.22.0->lightgbm==3.3.2) (3.1.0)\n",
            "Installing collected packages: lightgbm\n",
            "  Attempting uninstall: lightgbm\n",
            "    Found existing installation: lightgbm 2.2.3\n",
            "    Uninstalling lightgbm-2.2.3:\n",
            "      Successfully uninstalled lightgbm-2.2.3\n",
            "Successfully installed lightgbm-3.3.2\n",
            "Collecting implicit\n",
            "  Downloading implicit-0.5.2-cp37-cp37m-manylinux2014_x86_64.whl (18.5 MB)\n",
            "\u001b[K     |████████████████████████████████| 18.5 MB 496 kB/s \n",
            "\u001b[?25hRequirement already satisfied: scipy>=0.16 in /usr/local/lib/python3.7/dist-packages (from implicit) (1.4.1)\n",
            "Requirement already satisfied: tqdm>=4.27 in /usr/local/lib/python3.7/dist-packages (from implicit) (4.64.0)\n",
            "Requirement already satisfied: numpy in /usr/local/lib/python3.7/dist-packages (from implicit) (1.21.6)\n",
            "Installing collected packages: implicit\n",
            "Successfully installed implicit-0.5.2\n"
          ]
        }
      ],
      "source": [
        "%pip install -U lightgbm==3.3.2\n",
        "%pip install implicit"
      ]
    },
    {
      "cell_type": "code",
      "source": [
        "from google.colab import drive\n",
        "drive.mount('/content/drive')"
      ],
      "metadata": {
        "colab": {
          "base_uri": "https://localhost:8080/"
        },
        "id": "N1ShD4QPyaSo",
        "outputId": "b20dcdc8-61b6-48fa-fc16-660dd62c7091"
      },
      "execution_count": 2,
      "outputs": [
        {
          "output_type": "stream",
          "name": "stdout",
          "text": [
            "Mounted at /content/drive\n"
          ]
        }
      ]
    },
    {
      "cell_type": "code",
      "execution_count": 3,
      "metadata": {
        "id": "gboISq82XUN1"
      },
      "outputs": [],
      "source": [
        "import pandas as pd\n",
        "from pandas.api.types import CategoricalDtype\n",
        "import numpy as np\n",
        "import seaborn as sns\n",
        "import matplotlib.pyplot as plt\n",
        "import lightgbm as lgb\n",
        "\n",
        "import pickle\n",
        "from tqdm import tqdm\n",
        "import gc\n",
        "from pathlib import Path"
      ]
    },
    {
      "cell_type": "code",
      "execution_count": 4,
      "metadata": {
        "id": "F6WO2VtEXefj"
      },
      "outputs": [],
      "source": [
        "import warnings\n",
        "import sys\n",
        "from IPython.core.interactiveshell import InteractiveShell\n",
        "\n",
        "warnings.filterwarnings(\"ignore\")\n",
        "sys.path.append(\"/content/drive/MyDrive/HM-new/\") # path to the `src`` folder\n",
        "InteractiveShell.ast_node_interactivity = \"all\"\n",
        "tqdm.pandas()"
      ]
    },
    {
      "cell_type": "code",
      "execution_count": 5,
      "metadata": {
        "id": "5ZHkDegnyFcl"
      },
      "outputs": [],
      "source": [
        "from src.data import DataHelper\n",
        "from src.data.metrics import map_at_k, hr_at_k, recall_at_k\n",
        "\n",
        "from src.retrieval.rules import (\n",
        "    OrderHistory,\n",
        "    ALS,\n",
        "    BPR,\n",
        "    UserGroupTimeHistory,\n",
        "    OrderHistoryDecay,\n",
        "    ItemPair,\n",
        "    TimeHistory,\n",
        "    ItemCF,\n",
        "    UserGroupItemCF\n",
        ")\n",
        "from src.retrieval.collector import RuleCollector\n",
        "\n",
        "from src.features import full_sale, week_sale, repurchase_ratio, popularity, period_sale\n",
        "\n",
        "from src.utils import (\n",
        "    calc_valid_date,\n",
        "    merge_week_data,\n",
        "    reduce_mem_usage,\n",
        "    calc_embd_similarity,\n",
        ")"
      ]
    },
    {
      "cell_type": "code",
      "execution_count": 6,
      "metadata": {
        "id": "siEeXUYUyFcn"
      },
      "outputs": [],
      "source": [
        "from sklearn.preprocessing import MinMaxScaler"
      ]
    },
    {
      "cell_type": "code",
      "execution_count": 7,
      "metadata": {
        "id": "5xR9epc0yFco"
      },
      "outputs": [],
      "source": [
        "data_dir = Path(\"/content/drive/MyDrive/HM-new/data/\")\n",
        "model_dir = Path(\"/content/drive/MyDrive/HM-new/models/\")"
      ]
    },
    {
      "cell_type": "code",
      "execution_count": 25,
      "metadata": {
        "id": "I8HF7BnjyFcp"
      },
      "outputs": [],
      "source": [
        "TRAIN_WEEK_NUM = 4\n",
        "WEEK_NUM = TRAIN_WEEK_NUM + 2\n",
        "\n",
        "VERSION_NAME = \"LargeRecall\"\n",
        "TEST = True # * Set as `False` when do local experiments to save time"
      ]
    },
    {
      "cell_type": "code",
      "source": [
        "TEST_BATCH_SIZE = 140000\n",
        "TEST_BATCH_NUM = 10# 1371980 / 70000"
      ],
      "metadata": {
        "id": "I0H-z2DUHl4V"
      },
      "execution_count": 19,
      "outputs": []
    },
    {
      "cell_type": "code",
      "execution_count": 10,
      "metadata": {
        "id": "zAccvyQ8yFcq"
      },
      "outputs": [],
      "source": [
        "import os\n",
        "if not os.path.exists(data_dir/\"interim\"/VERSION_NAME):\n",
        "    os.mkdir(data_dir/\"interim\"/VERSION_NAME)\n",
        "if not os.path.exists(data_dir/\"processed\"/VERSION_NAME):\n",
        "    os.mkdir(data_dir/\"processed\"/VERSION_NAME)"
      ]
    },
    {
      "cell_type": "markdown",
      "metadata": {
        "id": "ORF4aRfcyFcr"
      },
      "source": [
        "Pepare data: encoding ids and preprocessing"
      ]
    },
    {
      "cell_type": "code",
      "execution_count": 11,
      "metadata": {
        "id": "2BPv2lcWGGQJ"
      },
      "outputs": [],
      "source": [
        "dh = DataHelper(data_dir)"
      ]
    },
    {
      "cell_type": "code",
      "execution_count": 12,
      "metadata": {
        "id": "TFmlEVaDyFcv"
      },
      "outputs": [],
      "source": [
        "# data = dh.preprocess_data(save=True, name=\"encoded_full\") # * run only once, processed data will be saved"
      ]
    },
    {
      "cell_type": "code",
      "execution_count": 13,
      "metadata": {
        "id": "i3ngtb7NUGbH"
      },
      "outputs": [],
      "source": [
        "data = dh.load_data(name=\"encoded_full\")"
      ]
    },
    {
      "cell_type": "code",
      "execution_count": 14,
      "metadata": {
        "id": "DHosDWIfyFcw"
      },
      "outputs": [],
      "source": [
        "uid2idx = pickle.load(open(data_dir/\"index_id_map/user_id2index.pkl\", \"rb\"))\n",
        "submission = pd.read_csv(data_dir/\"raw\"/'sample_submission.csv')\n",
        "submission['customer_id'] = submission['customer_id'].map(uid2idx)"
      ]
    },
    {
      "cell_type": "markdown",
      "metadata": {
        "id": "LX4M190s4pxo"
      },
      "source": [
        "## Retrieval\n"
      ]
    },
    {
      "cell_type": "markdown",
      "metadata": {
        "id": "wvCamBwIyFcx"
      },
      "source": [
        "Generate candidates for each week"
      ]
    },
    {
      "cell_type": "code",
      "execution_count": 20,
      "metadata": {
        "id": "CTXIGNfMyFcy"
      },
      "outputs": [],
      "source": [
        "user_info = data[\"inter\"].groupby(['customer_id'])['price'].mean().reset_index(name='mean_price')\n",
        "user_info['purchase_ability'] = pd.qcut(user_info['mean_price'],5,labels=False)\n",
        "del user_info['mean_price']"
      ]
    },
    {
      "cell_type": "code",
      "execution_count": 21,
      "metadata": {
        "id": "avb_yWBIyFcy"
      },
      "outputs": [],
      "source": [
        "listBin = [-1, 19, 29, 39, 49, 59, 69, 119]\n",
        "data['user']['age_bins'] = pd.cut(data['user']['age'], listBin)\n",
        "data['user'] = data['user'].merge(user_info, on='customer_id', how='left')"
      ]
    },
    {
      "cell_type": "code",
      "execution_count": null,
      "metadata": {
        "colab": {
          "base_uri": "https://localhost:8080/"
        },
        "id": "oWgRClzdyFcz",
        "outputId": "42120717-01ae-4267-aaf5-d9841c6f4eb0"
      },
      "outputs": [
        {
          "output_type": "stream",
          "name": "stdout",
          "text": [
            "Week 0: [2020-09-23, 2020-09-30)\n",
            "Batch 0\n"
          ]
        },
        {
          "output_type": "stream",
          "name": "stderr",
          "text": [
            "Retrieve items by rules:  88%|████████▊ | 15/17 [18:44<02:01, 60.83s/it]"
          ]
        }
      ],
      "source": [
        "# * WEEK_NUM = 0: test\n",
        "# * WEEK_NUM = 1: valid\n",
        "# * WEEK_NUM > 1: train\n",
        "for week in range(1):\n",
        "    if week == 0 and not TEST:\n",
        "        continue\n",
        "    # * use sliding window to generate candidates\n",
        "    trans = data[\"inter\"]\n",
        "\n",
        "    start_date, end_date = calc_valid_date(week)\n",
        "    print(f\"Week {week}: [{start_date}, {end_date})\")\n",
        "\n",
        "    train, valid = dh.split_data(trans, start_date, end_date)\n",
        "    train = train.merge(data['user'][['customer_id','age_bins','user_gender']], on='customer_id', how='left')\n",
        "    train = train.merge(user_info, on='customer_id', how='left')\n",
        "\n",
        "    train['t_dat'] = pd.to_datetime(train['t_dat'])\n",
        "    last_week = train[train['t_dat']>train['t_dat'].max()-pd.Timedelta(days=7)]\n",
        "    last_2week = train[train['t_dat']>train['t_dat'].max()-pd.Timedelta(days=14)]\n",
        "    last_60day = train[train['t_dat']>train['t_dat'].max()-pd.Timedelta(days=60)]\n",
        "    last_80day = train[train['t_dat']>train['t_dat'].max()-pd.Timedelta(days=80)]\n",
        "\n",
        "    customer_list = submission['customer_id'].values\n",
        "    for batch_num, batch in enumerate(range(0,len(customer_list),TEST_BATCH_SIZE)):\n",
        "        print(f\"Batch {batch_num}\")\n",
        "        batch_customer = customer_list[batch:batch+TEST_BATCH_SIZE]\n",
        "        # * ========================== Retrieval Strategies ==========================\n",
        "\n",
        "        candidates = RuleCollector().collect(\n",
        "            week_num = week,\n",
        "            trans_df = trans,\n",
        "            customer_list=batch_customer,\n",
        "            rules=[\n",
        "                ALS(batch_customer, last_60day, n=200, iter_num=25),\n",
        "                BPR(batch_customer, last_80day, n=200, iter_num=350),\n",
        "                UserGroupTimeHistory(data, batch_customer, last_week, ['age_bins'], n=200, scale=True, name='1'),\n",
        "                UserGroupTimeHistory(data, batch_customer, last_week, ['purchase_ability'], n=200, scale=True, name='2'),\n",
        "                UserGroupTimeHistory(data, batch_customer, last_week, ['user_gender'], n=200, scale=True, name='3'),\n",
        "                OrderHistory(train, days=35, n=200),\n",
        "                OrderHistoryDecay(train, days=7, n=200),\n",
        "                TimeHistory(batch_customer, last_week, n=200),\n",
        "\n",
        "                ItemCF(last_80day, last_2week, top_k=10, name='1'),\n",
        "                ItemCF(last_60day, last_2week, top_k=10, name='2'),\n",
        "                ItemCF(last_2week, last_2week, top_k=10, name='3'),\n",
        "                UserGroupItemCF(last_80day, last_2week, 'age_bins', top_k=10, name='1'),\n",
        "                UserGroupItemCF(last_60day, last_2week, 'age_bins', top_k=10, name='2'),\n",
        "                UserGroupItemCF(last_2week, last_2week, 'age_bins', top_k=10, name='3'),\n",
        "                UserGroupItemCF(last_80day, last_2week, 'purchase_ability', top_k=10, name='4'),\n",
        "                UserGroupItemCF(last_60day, last_2week, 'purchase_ability', top_k=10, name='5'),\n",
        "                UserGroupItemCF(last_2week, last_2week, 'purchase_ability', top_k=10, name='6'),\n",
        "            ],\n",
        "            min_pos_rate=0.0,\n",
        "            norm=False,\n",
        "            # norm_type='minmax',\n",
        "            compress=False,\n",
        "        )\n",
        "\n",
        "        candidates, _ = reduce_mem_usage(candidates)\n",
        "        candidates = (\n",
        "            pd.pivot_table(\n",
        "                candidates,\n",
        "                values=\"score\",\n",
        "                index=[\"customer_id\", \"article_id\"],\n",
        "                columns=[\"method\"],\n",
        "                aggfunc=np.sum,\n",
        "            )\n",
        "            .reset_index()\n",
        "        )\n",
        "        rule_names = [x for x in candidates.columns if x not in [\"customer_id\", \"article_id\"]]\n",
        "        tmp = candidates[rule_names]\n",
        "        for f in rule_names:\n",
        "            tmp[f] = MinMaxScaler().fit_transform(tmp[f].values.reshape(-1, 1))\n",
        "        candidates['score'] = tmp[rule_names].sum(axis=1)\n",
        "        del tmp\n",
        "        gc.collect()\n",
        "        candidates['rank'] = candidates.groupby(['customer_id'])['score'].rank(ascending=False)\n",
        "        candidates = candidates[candidates['rank']<=200]\n",
        "        # del candidates['rank'], candidates['score']\n",
        "\n",
        "        candidates.to_parquet(data_dir/\"interim\"/VERSION_NAME/f\"week{week}_candidate_{batch_num}.pqt\")"
      ]
    },
    {
      "cell_type": "code",
      "source": [
        "# * WEEK_NUM = 0: test\n",
        "# * WEEK_NUM = 1: valid\n",
        "# * WEEK_NUM > 1: train\n",
        "for week in range(1,WEEK_NUM):\n",
        "    # * use sliding window to generate candidates\n",
        "    if week == 0 and not TEST:\n",
        "        continue\n",
        "    trans = data[\"inter\"]\n",
        "\n",
        "    start_date, end_date = calc_valid_date(week)\n",
        "    print(f\"Week {week}: [{start_date}, {end_date})\")\n",
        "\n",
        "    train, valid = dh.split_data(trans, start_date, end_date)\n",
        "    train = train.merge(data['user'][['customer_id','age_bins','user_gender']], on='customer_id', how='left')\n",
        "    train = train.merge(user_info, on='customer_id', how='left')\n",
        "\n",
        "    train['t_dat'] = pd.to_datetime(train['t_dat'])\n",
        "    last_week = train[train['t_dat']>train['t_dat'].max()-pd.Timedelta(days=7)]\n",
        "    last_2week = train[train['t_dat']>train['t_dat'].max()-pd.Timedelta(days=14)]\n",
        "    last_60day = train[train['t_dat']>train['t_dat'].max()-pd.Timedelta(days=60)]\n",
        "    last_80day = train[train['t_dat']>train['t_dat'].max()-pd.Timedelta(days=80)]\n",
        "\n",
        "    customer_list = valid[\"customer_id\"].values\n",
        "\n",
        "    # * ========================== Retrieval Strategies ==========================\n",
        "\n",
        "    candidates = RuleCollector().collect(\n",
        "        week_num = week,\n",
        "        trans_df = trans,\n",
        "        customer_list=customer_list,\n",
        "        rules=[\n",
        "            ALS(customer_list, last_60day, n=200, iter_num=25),\n",
        "            BPR(customer_list, last_80day, n=200, iter_num=350),\n",
        "            UserGroupTimeHistory(data, customer_list, last_week, ['age_bins'], n=200, scale=True, name='1'),\n",
        "            UserGroupTimeHistory(data, customer_list, last_week, ['purchase_ability'], n=200, scale=True, name='2'),\n",
        "            UserGroupTimeHistory(data, customer_list, last_week, ['user_gender'], n=200, scale=True, name='3'),\n",
        "            OrderHistory(train, days=35, n=200),\n",
        "            OrderHistoryDecay(train, days=7, n=200),\n",
        "            TimeHistory(customer_list, last_week, n=200),\n",
        "\n",
        "            ItemCF(last_80day, last_2week, top_k=10, name='1'),\n",
        "            ItemCF(last_60day, last_2week, top_k=10, name='2'),\n",
        "            ItemCF(last_2week, last_2week, top_k=10, name='3'),\n",
        "            UserGroupItemCF(last_80day, last_2week, 'age_bins', top_k=10, name='1'),\n",
        "            UserGroupItemCF(last_60day, last_2week, 'age_bins', top_k=10, name='2'),\n",
        "            UserGroupItemCF(last_2week, last_2week, 'age_bins', top_k=10, name='3'),\n",
        "            UserGroupItemCF(last_80day, last_2week, 'purchase_ability', top_k=10, name='4'),\n",
        "            UserGroupItemCF(last_60day, last_2week, 'purchase_ability', top_k=10, name='5'),\n",
        "            UserGroupItemCF(last_2week, last_2week, 'purchase_ability', top_k=10, name='6'),\n",
        "        ],\n",
        "        min_pos_rate=0.0,\n",
        "        norm=False,\n",
        "        # norm_type='minmax',\n",
        "        compress=False,\n",
        "    )\n",
        "\n",
        "    candidates, _ = reduce_mem_usage(candidates)\n",
        "    candidates = (\n",
        "        pd.pivot_table(\n",
        "            candidates,\n",
        "            values=\"score\",\n",
        "            index=[\"customer_id\", \"article_id\"],\n",
        "            columns=[\"method\"],\n",
        "            aggfunc=np.sum,\n",
        "        )\n",
        "        .reset_index()\n",
        "    )\n",
        "    rule_names = [x for x in candidates.columns if x not in [\"customer_id\", \"article_id\"]]\n",
        "    tmp = candidates[rule_names]\n",
        "    for f in rule_names:\n",
        "        tmp[f] = MinMaxScaler().fit_transform(tmp[f].values.reshape(-1, 1))\n",
        "    candidates['score'] = tmp[rule_names].sum(axis=1)\n",
        "    del tmp\n",
        "    gc.collect()\n",
        "    candidates['rank'] = candidates.groupby(['customer_id'])['score'].rank(ascending=False)\n",
        "    candidates = candidates[candidates['rank']<=200]\n",
        "    # del candidates['rank'], candidates['score']\n",
        "\n",
        "    candidates.to_parquet(data_dir/\"interim\"/VERSION_NAME/f\"week{week}_candidate.pqt\")\n",
        "    valid.to_parquet(data_dir/\"processed\"/VERSION_NAME/f\"week{week}_label.pqt\")"
      ],
      "metadata": {
        "id": "ACsS3SVuDTDO"
      },
      "execution_count": null,
      "outputs": []
    },
    {
      "cell_type": "code",
      "execution_count": null,
      "metadata": {
        "id": "GhGFllGyyFc4",
        "colab": {
          "base_uri": "https://localhost:8080/"
        },
        "outputId": "a51b3f89-b83d-46f8-8518-37a8d157e71e"
      },
      "outputs": [
        {
          "data": {
            "text/plain": [
              "44"
            ]
          },
          "execution_count": null,
          "metadata": {},
          "output_type": "execute_result"
        }
      ],
      "source": [
        "del train, valid, customer_list, candidates\n",
        "gc.collect()"
      ]
    },
    {
      "cell_type": "markdown",
      "metadata": {
        "id": "TBIrKxhRGGQR"
      },
      "source": [
        "## Feature engineering\n"
      ]
    },
    {
      "cell_type": "code",
      "execution_count": null,
      "metadata": {
        "id": "9pF-sOMSGGQP"
      },
      "outputs": [],
      "source": [
        "user = data[\"user\"]\n",
        "item = data[\"item\"]\n",
        "inter = data[\"inter\"]"
      ]
    },
    {
      "cell_type": "code",
      "execution_count": null,
      "metadata": {
        "id": "heKIAtoRdtIk"
      },
      "outputs": [],
      "source": [
        "# merge `product_code`\n",
        "inter = inter.merge(item[[\"article_id\", \"product_code\"]], on=\"article_id\", how=\"left\")\n",
        "# calculate week number\n",
        "inter['week'] = (pd.to_datetime('2020-09-29') - pd.to_datetime(inter['t_dat'])).dt.days // 7"
      ]
    },
    {
      "cell_type": "code",
      "execution_count": null,
      "metadata": {
        "id": "NgfZ9z69GGQR"
      },
      "outputs": [],
      "source": [
        "inter = inter.sort_values([\"customer_id\", \"t_dat\"]).reset_index(drop=True)"
      ]
    },
    {
      "cell_type": "code",
      "execution_count": null,
      "metadata": {
        "id": "krS1OT4JGGQR"
      },
      "outputs": [],
      "source": [
        "inter.shape"
      ]
    },
    {
      "cell_type": "markdown",
      "metadata": {
        "id": "JXisCvNNyFc7"
      },
      "source": [
        "Week Sale, Last Week Sale, Week Sale Trend"
      ]
    },
    {
      "cell_type": "code",
      "execution_count": null,
      "metadata": {
        "id": "IXXxyMmndtIm",
        "outputId": "c3b779b4-0927-4490-e93f-75b7d36c806d"
      },
      "outputs": [
        {
          "name": "stderr",
          "output_type": "stream",
          "text": [
            "100%|██████████| 6/6 [01:52<00:00, 18.79s/it]\n"
          ]
        }
      ],
      "source": [
        "inter[\"i_sale\"] = week_sale(inter, [\"article_id\"])\n",
        "inter[\"p_sale\"] = week_sale(inter, [\"product_code\"])\n",
        "inter[\"i_sale_uni\"] = week_sale(inter, [\"article_id\"], True)\n",
        "inter[\"p_sale_uni\"] = week_sale(inter, [\"product_code\"], True)\n",
        "inter[\"lw_i_sale\"] = week_sale(inter, [\"article_id\"], step=1) # * last week sale\n",
        "inter[\"lw_p_sale\"] = week_sale(inter, [\"product_code\"], step=1)\n",
        "inter[\"lw_i_sale_uni\"] = week_sale(inter, [\"article_id\"], True, step=1)\n",
        "inter[\"lw_p_sale_uni\"] = week_sale(inter, [\"product_code\"], True, step=1)\n",
        "\n",
        "inter[\"i_sale_ratio\"] = inter[\"i_sale\"] / (inter[\"p_sale\"] + 1e-6)\n",
        "inter[\"i_sale_uni_ratio\"] = inter[\"i_sale_uni\"] / (inter[\"p_sale_uni\"] + 1e-6)\n",
        "inter[\"lw_i_sale_ratio\"] = inter[\"lw_i_sale\"] / (inter[\"lw_p_sale\"] + 1e-6)\n",
        "inter[\"lw_i_sale_uni_ratio\"] = inter[\"lw_i_sale_uni\"] / (inter[\"lw_p_sale_uni\"] + 1e-6)\n",
        "\n",
        "inter[\"i_uni_ratio\"] = inter[\"i_sale\"] / (inter[\"i_sale_uni\"] + 1e-6)\n",
        "inter[\"p_uni_ratio\"] = inter[\"p_sale\"] / (inter[\"p_sale_uni\"] + 1e-6)\n",
        "inter[\"lw_i_uni_ratio\"] = inter[\"lw_i_sale\"] / (inter[\"lw_i_sale_uni\"] + 1e-6)\n",
        "inter[\"lw_p_uni_ratio\"] = inter[\"lw_p_sale\"] / (inter[\"lw_p_sale_uni\"] + 1e-6)\n",
        "\n",
        "inter[\"i_sale_trend\"] = (inter[\"i_sale\"] - inter[\"lw_i_sale\"]) / (inter[\"lw_i_sale\"] + 1e-6)\n",
        "inter[\"p_sale_trend\"] = (inter[\"p_sale\"] - inter[\"lw_p_sale\"]) / (inter[\"lw_p_sale\"] + 1e-6)\n",
        "\n",
        "item_feats = [\n",
        "    \"product_type_no\",\n",
        "    \"product_group_name\",\n",
        "    \"graphical_appearance_no\",\n",
        "    \"colour_group_code\",\n",
        "    \"perceived_colour_value_id\",\n",
        "    \"perceived_colour_master_id\",\n",
        "]\n",
        "inter = inter.merge(item[[\"article_id\", *item_feats]], on=\"article_id\", how=\"left\")\n",
        "\n",
        "for f in tqdm(item_feats):\n",
        "    inter[f\"{f}_sale\"] = week_sale(inter, [f], f\"{f}_sale\")\n",
        "    inter[f\"lw_{f}_sale\"] = week_sale(inter, [f], f\"{f}_sale\", step=1)\n",
        "    inter[f\"{f}_sale_trend\"] = (inter[f\"{f}_sale\"] - inter[f\"lw_{f}_sale\"]) / (inter[f\"lw_{f}_sale\"] + 1e-6)\n",
        "\n",
        "inter = inter.drop(columns=item_feats)"
      ]
    },
    {
      "cell_type": "code",
      "execution_count": null,
      "metadata": {
        "id": "o4HU3ymTyFc8"
      },
      "outputs": [],
      "source": [
        "_, inter[\"i_1w_sale_rank\"], inter[\"i_1w_sale_norm\"] = period_sale(\n",
        "    inter, [\"article_id\"], days=14, rank=True, norm=True, week_num=WEEK_NUM\n",
        ")\n",
        "_, inter[\"p_1w_sale_rank\"], inter[\"p_1w_sale_norm\"] = period_sale(\n",
        "    inter, [\"product_code\"], days=14, rank=True, norm=True, week_num=WEEK_NUM\n",
        ")\n",
        "inter[\"i_2w_sale\"], inter[\"i_2w_sale_rank\"], inter[\"i_2w_sale_norm\"] = period_sale(\n",
        "    inter, [\"article_id\"], days=14, rank=True, norm=True, week_num=WEEK_NUM\n",
        ")\n",
        "inter[\"p_2w_sale\"], inter[\"p_2w_sale_rank\"], inter[\"p_2w_sale_norm\"] = period_sale(\n",
        "    inter, [\"product_code\"], days=14, rank=True, norm=True, week_num=WEEK_NUM\n",
        ")\n",
        "inter[\"i_3w_sale\"], inter[\"i_3w_sale_rank\"], inter[\"i_3w_sale_norm\"] = period_sale(\n",
        "    inter, [\"article_id\"], days=21, rank=True, norm=True, week_num=WEEK_NUM\n",
        ")\n",
        "inter[\"p_3w_sale\"], inter[\"p_3w_sale_rank\"], inter[\"p_3w_sale_norm\"] = period_sale(\n",
        "    inter, [\"product_code\"], days=21, rank=True, norm=True, week_num=WEEK_NUM\n",
        ")\n",
        "inter[\"i_4w_sale\"], inter[\"i_4w_sale_rank\"], inter[\"i_4w_sale_norm\"] = period_sale(\n",
        "    inter, [\"article_id\"], days=28, rank=True, norm=True, week_num=WEEK_NUM\n",
        ")\n",
        "inter[\"p_4w_sale\"], inter[\"p_4w_sale_rank\"], inter[\"p_4w_sale_norm\"] = period_sale(\n",
        "    inter, [\"product_code\"], days=28, rank=True, norm=True, week_num=WEEK_NUM\n",
        ")"
      ]
    },
    {
      "cell_type": "markdown",
      "metadata": {
        "id": "H7JbQqEiyFc8"
      },
      "source": [
        "Repurchase Ratio"
      ]
    },
    {
      "cell_type": "code",
      "execution_count": null,
      "metadata": {
        "id": "pnZzbv2JNUB1"
      },
      "outputs": [],
      "source": [
        "inter['i_repurchase_ratio'] = repurchase_ratio(inter, ['article_id'])\n",
        "inter['p_repurchase_ratio'] = repurchase_ratio(inter, ['product_code'])"
      ]
    },
    {
      "cell_type": "markdown",
      "metadata": {
        "id": "OOf-UdCNyFc9"
      },
      "source": [
        "Popularity"
      ]
    },
    {
      "cell_type": "code",
      "execution_count": null,
      "metadata": {
        "id": "dO85Ko9zyFc9"
      },
      "outputs": [],
      "source": [
        "inter['i_pop'] = popularity(inter, 'article_id', week_num=WEEK_NUM)\n",
        "inter['p_pop'] = popularity(inter, 'product_code', week_num=WEEK_NUM)"
      ]
    },
    {
      "cell_type": "markdown",
      "metadata": {
        "id": "jxbJ6z3vyFc9"
      },
      "source": [
        "Already Bought Item"
      ]
    },
    {
      "cell_type": "code",
      "execution_count": null,
      "metadata": {
        "id": "VmBm3Ka3GGQS"
      },
      "outputs": [],
      "source": [
        "# inter[\"purchased_item\"] = purchased_before(inter, [\"article_id\"])\n",
        "# inter[\"purchased_pro\"] = purchased_before(inter, [\"product_code\"])"
      ]
    },
    {
      "cell_type": "markdown",
      "metadata": {
        "id": "sG2Svc91yFc-"
      },
      "source": [
        "Save data"
      ]
    },
    {
      "cell_type": "code",
      "execution_count": null,
      "metadata": {
        "colab": {
          "base_uri": "https://localhost:8080/"
        },
        "id": "uB53JEZoGGQS",
        "outputId": "1e178712-b0a2-4f90-fea1-2da452d2a297"
      },
      "outputs": [
        {
          "data": {
            "text/plain": [
              "(31788324, 65)"
            ]
          },
          "execution_count": 25,
          "metadata": {},
          "output_type": "execute_result"
        }
      ],
      "source": [
        "inter.shape"
      ]
    },
    {
      "cell_type": "code",
      "execution_count": null,
      "metadata": {
        "id": "dv55insCdtIo"
      },
      "outputs": [],
      "source": [
        "inter.to_parquet(data_dir / \"processed/processed_inter.pqt\")"
      ]
    },
    {
      "cell_type": "markdown",
      "metadata": {
        "id": "jywhBCAGGGQS"
      },
      "source": [
        "## Merge Features\n"
      ]
    },
    {
      "cell_type": "code",
      "execution_count": null,
      "metadata": {
        "id": "cxSNgWvVuv2A"
      },
      "outputs": [],
      "source": [
        "inter = pd.read_parquet(data_dir / \"processed/processed_inter.pqt\")\n",
        "# data[\"inter\"] = inter"
      ]
    },
    {
      "cell_type": "code",
      "execution_count": null,
      "metadata": {
        "id": "FIm6uoIXyFc_"
      },
      "outputs": [],
      "source": [
        "#* embeddings from DSSM model\n",
        "dssm_user_embd = np.load(data_dir / \"external/dssm_user_embd.npy\", allow_pickle=True)\n",
        "dssm_item_embd = np.load(data_dir / \"external/dssm_item_embd.npy\", allow_pickle=True)\n",
        "# * embeddings from YouTubeDNN model\n",
        "yt_user_embd = np.load(data_dir / \"external/yt_user_embd.npy\", allow_pickle=True)\n",
        "yt_item_embd = np.load(data_dir / \"external/yt_item_embd.npy\", allow_pickle=True)"
      ]
    },
    {
      "cell_type": "code",
      "source": [
        "for col in inter.columns:\n",
        "    inter[col] = np.nan_to_num(inter[col])"
      ],
      "metadata": {
        "id": "FiPHvn7pn6ng"
      },
      "execution_count": null,
      "outputs": []
    },
    {
      "cell_type": "code",
      "execution_count": null,
      "metadata": {
        "id": "4r4K6ifJyFc_",
        "outputId": "9ea0a0ee-101f-42e5-ebf1-13f527bda922",
        "colab": {
          "base_uri": "https://localhost:8080/"
        }
      },
      "outputs": [
        {
          "output_type": "stream",
          "name": "stderr",
          "text": [
            "\r  0%|          | 0/6 [00:00<?, ?it/s]"
          ]
        },
        {
          "output_type": "stream",
          "name": "stdout",
          "text": [
            "68984\n",
            "[1 0]\n"
          ]
        },
        {
          "output_type": "stream",
          "name": "stderr",
          "text": [
            "\n",
            "  0%|          | 0/1380 [00:00<?, ?it/s]\u001b[A\n",
            "  1%|          | 16/1380 [00:00<00:17, 77.57it/s]\u001b[A\n",
            "  3%|▎         | 36/1380 [00:00<00:15, 86.88it/s]\u001b[A\n",
            "  5%|▌         | 70/1380 [00:00<00:08, 158.91it/s]\u001b[A\n",
            "  7%|▋         | 103/1380 [00:00<00:06, 207.45it/s]\u001b[A\n",
            " 10%|▉         | 137/1380 [00:00<00:05, 245.60it/s]\u001b[A\n",
            " 12%|█▏        | 169/1380 [00:00<00:04, 266.55it/s]\u001b[A\n",
            " 15%|█▍        | 204/1380 [00:00<00:04, 290.15it/s]\u001b[A\n",
            " 17%|█▋        | 238/1380 [00:01<00:03, 302.66it/s]\u001b[A\n",
            " 20%|█▉        | 275/1380 [00:01<00:03, 321.65it/s]\u001b[A\n",
            " 22%|██▏       | 309/1380 [00:01<00:03, 324.00it/s]\u001b[A\n",
            " 25%|██▍       | 343/1380 [00:01<00:03, 327.87it/s]\u001b[A\n",
            " 27%|██▋       | 377/1380 [00:01<00:03, 329.06it/s]\u001b[A\n",
            " 30%|███       | 414/1380 [00:01<00:02, 338.50it/s]\u001b[A\n",
            " 33%|███▎      | 451/1380 [00:01<00:02, 346.96it/s]\u001b[A\n",
            " 35%|███▌      | 487/1380 [00:01<00:02, 350.45it/s]\u001b[A\n",
            " 38%|███▊      | 523/1380 [00:01<00:02, 351.66it/s]\u001b[A\n",
            " 41%|████      | 559/1380 [00:01<00:02, 350.99it/s]\u001b[A\n",
            " 43%|████▎     | 595/1380 [00:02<00:02, 351.12it/s]\u001b[A\n",
            " 46%|████▌     | 631/1380 [00:02<00:02, 349.96it/s]\u001b[A\n",
            " 48%|████▊     | 667/1380 [00:02<00:02, 349.12it/s]\u001b[A\n",
            " 51%|█████     | 704/1380 [00:02<00:01, 352.66it/s]\u001b[A\n",
            " 54%|█████▎    | 740/1380 [00:02<00:01, 353.78it/s]\u001b[A\n",
            " 56%|█████▌    | 776/1380 [00:02<00:01, 353.23it/s]\u001b[A\n",
            " 59%|█████▉    | 813/1380 [00:02<00:01, 355.42it/s]\u001b[A\n",
            " 62%|██████▏   | 849/1380 [00:02<00:01, 356.23it/s]\u001b[A\n",
            " 64%|██████▍   | 885/1380 [00:02<00:01, 356.39it/s]\u001b[A\n",
            " 67%|██████▋   | 922/1380 [00:02<00:01, 358.51it/s]\u001b[A\n",
            " 69%|██████▉   | 958/1380 [00:03<00:01, 353.86it/s]\u001b[A\n",
            " 72%|███████▏  | 994/1380 [00:03<00:01, 346.66it/s]\u001b[A\n",
            " 75%|███████▍  | 1029/1380 [00:03<00:01, 344.75it/s]\u001b[A\n",
            " 77%|███████▋  | 1064/1380 [00:03<00:00, 330.45it/s]\u001b[A\n",
            " 80%|███████▉  | 1098/1380 [00:03<00:00, 325.49it/s]\u001b[A\n",
            " 82%|████████▏ | 1132/1380 [00:03<00:00, 329.26it/s]\u001b[A\n",
            " 85%|████████▍ | 1167/1380 [00:03<00:00, 332.88it/s]\u001b[A\n",
            " 87%|████████▋ | 1201/1380 [00:03<00:00, 328.07it/s]\u001b[A\n",
            " 89%|████████▉ | 1234/1380 [00:03<00:00, 324.04it/s]\u001b[A\n",
            " 92%|█████████▏| 1267/1380 [00:04<00:00, 312.99it/s]\u001b[A\n",
            " 94%|█████████▍| 1299/1380 [00:04<00:00, 310.39it/s]\u001b[A\n",
            " 96%|█████████▋| 1331/1380 [00:04<00:00, 308.16it/s]\u001b[A\n",
            "100%|██████████| 1380/1380 [00:04<00:00, 312.98it/s]\n",
            "\n",
            "  0%|          | 0/1380 [00:00<?, ?it/s]\u001b[A\n",
            "  3%|▎         | 36/1380 [00:00<00:03, 351.78it/s]\u001b[A\n",
            "  5%|▌         | 72/1380 [00:00<00:03, 343.11it/s]\u001b[A\n",
            "  8%|▊         | 107/1380 [00:00<00:03, 337.23it/s]\u001b[A\n",
            " 10%|█         | 141/1380 [00:00<00:03, 336.23it/s]\u001b[A\n",
            " 13%|█▎        | 175/1380 [00:00<00:03, 320.40it/s]\u001b[A\n",
            " 15%|█▌        | 208/1380 [00:00<00:03, 307.36it/s]\u001b[A\n",
            " 17%|█▋        | 239/1380 [00:00<00:03, 303.69it/s]\u001b[A\n",
            " 20%|█▉        | 270/1380 [00:00<00:03, 295.92it/s]\u001b[A\n",
            " 22%|██▏       | 301/1380 [00:00<00:03, 298.53it/s]\u001b[A\n",
            " 24%|██▍       | 332/1380 [00:01<00:03, 299.91it/s]\u001b[A\n",
            " 26%|██▋       | 363/1380 [00:01<00:03, 300.45it/s]\u001b[A\n",
            " 29%|██▊       | 396/1380 [00:01<00:03, 306.37it/s]\u001b[A\n",
            " 31%|███       | 427/1380 [00:01<00:03, 304.39it/s]\u001b[A\n",
            " 33%|███▎      | 460/1380 [00:01<00:02, 310.45it/s]\u001b[A\n",
            " 36%|███▌      | 492/1380 [00:01<00:02, 309.05it/s]\u001b[A\n",
            " 38%|███▊      | 524/1380 [00:01<00:02, 309.68it/s]\u001b[A\n",
            " 40%|████      | 555/1380 [00:01<00:02, 301.38it/s]\u001b[A\n",
            " 42%|████▏     | 586/1380 [00:01<00:02, 299.24it/s]\u001b[A\n",
            " 45%|████▍     | 616/1380 [00:02<00:02, 299.17it/s]\u001b[A\n",
            " 47%|████▋     | 647/1380 [00:02<00:02, 300.94it/s]\u001b[A\n",
            " 49%|████▉     | 678/1380 [00:02<00:02, 299.29it/s]\u001b[A\n",
            " 51%|█████▏    | 708/1380 [00:02<00:02, 292.00it/s]\u001b[A\n",
            " 54%|█████▎    | 739/1380 [00:02<00:02, 295.79it/s]\u001b[A\n",
            " 56%|█████▌    | 770/1380 [00:02<00:02, 299.79it/s]\u001b[A\n",
            " 58%|█████▊    | 801/1380 [00:02<00:01, 298.49it/s]\u001b[A\n",
            " 60%|██████    | 831/1380 [00:02<00:01, 296.62it/s]\u001b[A\n",
            " 62%|██████▏   | 861/1380 [00:02<00:01, 293.38it/s]\u001b[A\n",
            " 65%|██████▍   | 891/1380 [00:02<00:01, 293.24it/s]\u001b[A\n",
            " 67%|██████▋   | 922/1380 [00:03<00:01, 297.27it/s]\u001b[A\n",
            " 69%|██████▉   | 953/1380 [00:03<00:01, 299.35it/s]\u001b[A\n",
            " 72%|███████▏  | 987/1380 [00:03<00:01, 309.21it/s]\u001b[A\n",
            " 74%|███████▍  | 1019/1380 [00:03<00:01, 309.83it/s]\u001b[A\n",
            " 76%|███████▌  | 1052/1380 [00:03<00:01, 315.35it/s]\u001b[A\n",
            " 79%|███████▊  | 1084/1380 [00:03<00:00, 313.75it/s]\u001b[A\n",
            " 81%|████████  | 1117/1380 [00:03<00:00, 316.41it/s]\u001b[A\n",
            " 83%|████████▎ | 1149/1380 [00:03<00:00, 316.10it/s]\u001b[A\n",
            " 86%|████████▌ | 1184/1380 [00:03<00:00, 323.77it/s]\u001b[A\n",
            " 88%|████████▊ | 1218/1380 [00:03<00:00, 327.07it/s]\u001b[A\n",
            " 91%|█████████ | 1253/1380 [00:04<00:00, 331.31it/s]\u001b[A\n",
            " 93%|█████████▎| 1287/1380 [00:04<00:00, 332.25it/s]\u001b[A\n",
            " 96%|█████████▌| 1321/1380 [00:04<00:00, 330.90it/s]\u001b[A\n",
            "100%|██████████| 1380/1380 [00:04<00:00, 311.00it/s]\n",
            " 33%|███▎      | 2/6 [03:05<06:10, 92.60s/it]"
          ]
        },
        {
          "output_type": "stream",
          "name": "stdout",
          "text": [
            "72019\n",
            "[2 1]\n"
          ]
        },
        {
          "output_type": "stream",
          "name": "stderr",
          "text": [
            "\n",
            "  0%|          | 0/1441 [00:00<?, ?it/s]\u001b[A\n",
            "  1%|          | 11/1441 [00:00<00:31, 45.31it/s]\u001b[A\n",
            "  2%|▏         | 29/1441 [00:00<00:21, 66.09it/s]\u001b[A\n",
            "  3%|▎         | 50/1441 [00:00<00:13, 103.99it/s]\u001b[A\n",
            "  6%|▌         | 81/1441 [00:00<00:08, 159.78it/s]\u001b[A\n",
            "  8%|▊         | 112/1441 [00:00<00:06, 200.83it/s]\u001b[A\n",
            " 10%|▉         | 140/1441 [00:00<00:05, 223.13it/s]\u001b[A\n",
            " 12%|█▏        | 169/1441 [00:00<00:05, 241.99it/s]\u001b[A\n",
            " 14%|█▎        | 197/1441 [00:01<00:04, 252.08it/s]\u001b[A\n",
            " 16%|█▌        | 227/1441 [00:01<00:04, 265.23it/s]\u001b[A\n",
            " 18%|█▊        | 258/1441 [00:01<00:04, 276.86it/s]\u001b[A\n",
            " 20%|█▉        | 288/1441 [00:01<00:04, 281.64it/s]\u001b[A\n",
            " 22%|██▏       | 320/1441 [00:01<00:03, 291.86it/s]\u001b[A\n",
            " 24%|██▍       | 352/1441 [00:01<00:03, 298.48it/s]\u001b[A\n",
            " 27%|██▋       | 383/1441 [00:01<00:03, 297.49it/s]\u001b[A\n",
            " 29%|██▊       | 414/1441 [00:01<00:03, 299.68it/s]\u001b[A\n",
            " 31%|███       | 445/1441 [00:01<00:03, 300.14it/s]\u001b[A\n",
            " 33%|███▎      | 476/1441 [00:01<00:03, 301.69it/s]\u001b[A\n",
            " 35%|███▌      | 507/1441 [00:02<00:03, 297.58it/s]\u001b[A\n",
            " 37%|███▋      | 537/1441 [00:02<00:03, 296.66it/s]\u001b[A\n",
            " 39%|███▉      | 567/1441 [00:02<00:03, 289.51it/s]\u001b[A\n",
            " 41%|████▏     | 597/1441 [00:02<00:03, 280.24it/s]\u001b[A\n",
            " 43%|████▎     | 626/1441 [00:02<00:02, 273.76it/s]\u001b[A\n",
            " 46%|████▌     | 657/1441 [00:02<00:02, 282.10it/s]\u001b[A\n",
            " 48%|████▊     | 686/1441 [00:02<00:02, 283.00it/s]\u001b[A\n",
            " 50%|████▉     | 716/1441 [00:02<00:02, 287.81it/s]\u001b[A\n",
            " 52%|█████▏    | 747/1441 [00:02<00:02, 292.97it/s]\u001b[A\n",
            " 54%|█████▍    | 777/1441 [00:03<00:02, 294.83it/s]\u001b[A\n",
            " 56%|█████▌    | 808/1441 [00:03<00:02, 297.88it/s]\u001b[A\n",
            " 58%|█████▊    | 838/1441 [00:03<00:02, 296.88it/s]\u001b[A\n",
            " 60%|██████    | 868/1441 [00:03<00:01, 293.13it/s]\u001b[A\n",
            " 62%|██████▏   | 898/1441 [00:03<00:01, 284.44it/s]\u001b[A\n",
            " 64%|██████▍   | 927/1441 [00:03<00:01, 280.82it/s]\u001b[A\n",
            " 66%|██████▋   | 956/1441 [00:03<00:01, 277.47it/s]\u001b[A\n",
            " 68%|██████▊   | 986/1441 [00:03<00:01, 283.11it/s]\u001b[A\n",
            " 70%|███████   | 1015/1441 [00:03<00:01, 279.01it/s]\u001b[A\n",
            " 72%|███████▏  | 1044/1441 [00:03<00:01, 279.98it/s]\u001b[A\n",
            " 75%|███████▍  | 1075/1441 [00:04<00:01, 288.63it/s]\u001b[A\n",
            " 77%|███████▋  | 1106/1441 [00:04<00:01, 292.57it/s]\u001b[A\n",
            " 79%|███████▉  | 1136/1441 [00:04<00:01, 291.12it/s]\u001b[A\n",
            " 81%|████████  | 1167/1441 [00:04<00:00, 295.44it/s]\u001b[A\n",
            " 83%|████████▎ | 1199/1441 [00:04<00:00, 300.43it/s]\u001b[A\n",
            " 85%|████████▌ | 1231/1441 [00:04<00:00, 305.57it/s]\u001b[A\n",
            " 88%|████████▊ | 1264/1441 [00:04<00:00, 310.57it/s]\u001b[A\n",
            " 90%|████████▉ | 1296/1441 [00:04<00:00, 311.82it/s]\u001b[A\n",
            " 92%|█████████▏| 1328/1441 [00:04<00:00, 312.57it/s]\u001b[A\n",
            " 94%|█████████▍| 1361/1441 [00:05<00:00, 315.78it/s]\u001b[A\n",
            " 97%|█████████▋| 1393/1441 [00:05<00:00, 314.81it/s]\u001b[A\n",
            "100%|██████████| 1441/1441 [00:05<00:00, 273.46it/s]\n",
            "\n",
            "  0%|          | 0/1441 [00:00<?, ?it/s]\u001b[A\n",
            "  2%|▏         | 30/1441 [00:00<00:04, 293.10it/s]\u001b[A\n",
            "  4%|▍         | 60/1441 [00:00<00:04, 293.84it/s]\u001b[A\n",
            "  6%|▌         | 90/1441 [00:00<00:04, 293.56it/s]\u001b[A\n",
            "  8%|▊         | 120/1441 [00:00<00:04, 293.49it/s]\u001b[A\n",
            " 10%|█         | 150/1441 [00:00<00:04, 292.00it/s]\u001b[A\n",
            " 13%|█▎        | 181/1441 [00:00<00:04, 297.85it/s]\u001b[A\n",
            " 15%|█▍        | 213/1441 [00:00<00:04, 303.54it/s]\u001b[A\n",
            " 17%|█▋        | 246/1441 [00:00<00:03, 310.26it/s]\u001b[A\n",
            " 19%|█▉        | 278/1441 [00:00<00:03, 312.51it/s]\u001b[A\n",
            " 22%|██▏       | 310/1441 [00:01<00:03, 313.73it/s]\u001b[A\n",
            " 24%|██▎       | 342/1441 [00:01<00:03, 308.79it/s]\u001b[A\n",
            " 26%|██▌       | 373/1441 [00:01<00:03, 300.15it/s]\u001b[A\n",
            " 28%|██▊       | 404/1441 [00:01<00:03, 295.33it/s]\u001b[A\n",
            " 30%|███       | 434/1441 [00:01<00:03, 286.32it/s]\u001b[A\n",
            " 32%|███▏      | 463/1441 [00:01<00:03, 283.30it/s]\u001b[A\n",
            " 34%|███▍      | 492/1441 [00:01<00:03, 279.05it/s]\u001b[A\n",
            " 36%|███▌      | 520/1441 [00:01<00:03, 276.44it/s]\u001b[A\n",
            " 38%|███▊      | 548/1441 [00:01<00:03, 275.55it/s]\u001b[A\n",
            " 40%|███▉      | 576/1441 [00:01<00:03, 271.48it/s]\u001b[A\n",
            " 42%|████▏     | 604/1441 [00:02<00:03, 269.05it/s]\u001b[A\n",
            " 44%|████▍     | 631/1441 [00:02<00:03, 264.28it/s]\u001b[A\n",
            " 46%|████▌     | 658/1441 [00:02<00:02, 263.53it/s]\u001b[A\n",
            " 48%|████▊     | 687/1441 [00:02<00:02, 268.88it/s]\u001b[A\n",
            " 50%|████▉     | 714/1441 [00:02<00:02, 266.71it/s]\u001b[A\n",
            " 51%|█████▏    | 741/1441 [00:02<00:02, 264.71it/s]\u001b[A\n",
            " 53%|█████▎    | 768/1441 [00:02<00:02, 264.51it/s]\u001b[A\n",
            " 55%|█████▌    | 795/1441 [00:02<00:02, 264.70it/s]\u001b[A\n",
            " 57%|█████▋    | 822/1441 [00:02<00:02, 262.23it/s]\u001b[A\n",
            " 59%|█████▉    | 849/1441 [00:03<00:02, 258.88it/s]\u001b[A\n",
            " 61%|██████    | 875/1441 [00:03<00:02, 255.36it/s]\u001b[A\n",
            " 63%|██████▎   | 901/1441 [00:03<00:02, 256.27it/s]\u001b[A\n",
            " 64%|██████▍   | 929/1441 [00:03<00:01, 260.96it/s]\u001b[A\n",
            " 66%|██████▋   | 957/1441 [00:03<00:01, 264.09it/s]\u001b[A\n",
            " 68%|██████▊   | 985/1441 [00:03<00:01, 267.72it/s]\u001b[A\n",
            " 70%|███████   | 1014/1441 [00:03<00:01, 273.33it/s]\u001b[A\n",
            " 72%|███████▏  | 1044/1441 [00:03<00:01, 280.02it/s]\u001b[A\n",
            " 74%|███████▍  | 1073/1441 [00:03<00:01, 281.97it/s]\u001b[A\n",
            " 76%|███████▋  | 1102/1441 [00:03<00:01, 284.11it/s]\u001b[A\n",
            " 78%|███████▊  | 1131/1441 [00:04<00:01, 285.08it/s]\u001b[A\n",
            " 80%|████████  | 1160/1441 [00:04<00:01, 275.46it/s]\u001b[A\n",
            " 82%|████████▏ | 1188/1441 [00:04<00:00, 275.36it/s]\u001b[A\n",
            " 84%|████████▍ | 1216/1441 [00:04<00:00, 273.22it/s]\u001b[A\n",
            " 86%|████████▋ | 1245/1441 [00:04<00:00, 276.53it/s]\u001b[A\n",
            " 88%|████████▊ | 1274/1441 [00:04<00:00, 279.48it/s]\u001b[A\n",
            " 90%|█████████ | 1302/1441 [00:04<00:00, 276.60it/s]\u001b[A\n",
            " 92%|█████████▏| 1330/1441 [00:04<00:00, 276.48it/s]\u001b[A\n",
            " 94%|█████████▍| 1358/1441 [00:04<00:00, 269.98it/s]\u001b[A\n",
            " 96%|█████████▌| 1386/1441 [00:04<00:00, 270.42it/s]\u001b[A\n",
            "100%|██████████| 1441/1441 [00:05<00:00, 278.56it/s]\n",
            " 50%|█████     | 3/6 [06:14<06:39, 133.06s/it]"
          ]
        },
        {
          "output_type": "stream",
          "name": "stdout",
          "text": [
            "75822\n",
            "[3 2]\n"
          ]
        },
        {
          "output_type": "stream",
          "name": "stderr",
          "text": [
            "\n",
            "  0%|          | 0/1517 [00:00<?, ?it/s]\u001b[A\n",
            "  0%|          | 1/1517 [00:00<05:17,  4.78it/s]\u001b[A\n",
            "  1%|          | 14/1517 [00:00<00:37, 40.14it/s]\u001b[A\n",
            "  3%|▎         | 40/1517 [00:00<00:14, 104.83it/s]\u001b[A\n",
            "  4%|▍         | 66/1517 [00:00<00:09, 149.36it/s]\u001b[A\n",
            "  6%|▋         | 95/1517 [00:00<00:07, 189.99it/s]\u001b[A\n",
            "  8%|▊         | 125/1517 [00:00<00:06, 221.81it/s]\u001b[A\n",
            " 10%|█         | 155/1517 [00:00<00:05, 243.00it/s]\u001b[A\n",
            " 12%|█▏        | 184/1517 [00:01<00:05, 256.26it/s]\u001b[A\n",
            " 14%|█▍        | 215/1517 [00:01<00:04, 269.52it/s]\u001b[A\n",
            " 16%|█▌        | 246/1517 [00:01<00:04, 279.15it/s]\u001b[A\n",
            " 18%|█▊        | 275/1517 [00:01<00:04, 281.34it/s]\u001b[A\n",
            " 20%|██        | 304/1517 [00:01<00:04, 281.55it/s]\u001b[A\n",
            " 22%|██▏       | 334/1517 [00:01<00:04, 284.63it/s]\u001b[A\n",
            " 24%|██▍       | 363/1517 [00:01<00:04, 281.76it/s]\u001b[A\n",
            " 26%|██▌       | 395/1517 [00:01<00:03, 290.68it/s]\u001b[A\n",
            " 28%|██▊       | 425/1517 [00:01<00:03, 284.13it/s]\u001b[A\n",
            " 30%|██▉       | 454/1517 [00:01<00:03, 284.37it/s]\u001b[A\n",
            " 32%|███▏      | 483/1517 [00:02<00:03, 275.09it/s]\u001b[A\n",
            " 34%|███▎      | 511/1517 [00:02<00:03, 269.20it/s]\u001b[A\n",
            " 36%|███▌      | 539/1517 [00:02<00:03, 271.63it/s]\u001b[A\n",
            " 37%|███▋      | 567/1517 [00:02<00:03, 273.68it/s]\u001b[A\n",
            " 39%|███▉      | 595/1517 [00:02<00:03, 272.16it/s]\u001b[A\n",
            " 41%|████      | 625/1517 [00:02<00:03, 278.92it/s]\u001b[A\n",
            " 43%|████▎     | 656/1517 [00:02<00:03, 285.66it/s]\u001b[A\n",
            " 45%|████▌     | 686/1517 [00:02<00:02, 289.67it/s]\u001b[A\n",
            " 47%|████▋     | 715/1517 [00:02<00:02, 286.45it/s]\u001b[A\n",
            " 49%|████▉     | 744/1517 [00:02<00:02, 280.65it/s]\u001b[A\n",
            " 51%|█████     | 773/1517 [00:03<00:02, 281.23it/s]\u001b[A\n",
            " 53%|█████▎    | 804/1517 [00:03<00:02, 289.49it/s]\u001b[A\n",
            " 55%|█████▌    | 836/1517 [00:03<00:02, 296.19it/s]\u001b[A\n",
            " 57%|█████▋    | 866/1517 [00:03<00:02, 296.54it/s]\u001b[A\n",
            " 59%|█████▉    | 896/1517 [00:03<00:02, 290.88it/s]\u001b[A\n",
            " 61%|██████    | 926/1517 [00:03<00:02, 290.69it/s]\u001b[A\n",
            " 63%|██████▎   | 957/1517 [00:03<00:01, 295.65it/s]\u001b[A\n",
            " 65%|██████▌   | 987/1517 [00:03<00:01, 296.05it/s]\u001b[A\n",
            " 67%|██████▋   | 1018/1517 [00:03<00:01, 298.94it/s]\u001b[A\n",
            " 69%|██████▉   | 1048/1517 [00:04<00:01, 297.56it/s]\u001b[A\n",
            " 71%|███████   | 1079/1517 [00:04<00:01, 299.85it/s]\u001b[A\n",
            " 73%|███████▎  | 1109/1517 [00:04<00:01, 299.09it/s]\u001b[A\n",
            " 75%|███████▌  | 1142/1517 [00:04<00:01, 307.81it/s]\u001b[A\n",
            " 77%|███████▋  | 1175/1517 [00:04<00:01, 311.33it/s]\u001b[A\n",
            " 80%|███████▉  | 1207/1517 [00:04<00:01, 307.14it/s]\u001b[A\n",
            " 82%|████████▏ | 1240/1517 [00:04<00:00, 311.78it/s]\u001b[A\n",
            " 84%|████████▍ | 1273/1517 [00:04<00:00, 316.46it/s]\u001b[A\n",
            " 86%|████████▌ | 1305/1517 [00:04<00:00, 314.51it/s]\u001b[A\n",
            " 88%|████████▊ | 1337/1517 [00:04<00:00, 312.31it/s]\u001b[A\n",
            " 90%|█████████ | 1369/1517 [00:05<00:00, 305.93it/s]\u001b[A\n",
            " 92%|█████████▏| 1400/1517 [00:05<00:00, 300.91it/s]\u001b[A\n",
            " 94%|█████████▍| 1431/1517 [00:05<00:00, 293.65it/s]\u001b[A\n",
            " 96%|█████████▋| 1461/1517 [00:05<00:00, 294.73it/s]\u001b[A\n",
            "100%|██████████| 1517/1517 [00:05<00:00, 272.30it/s]\n",
            "\n",
            "  0%|          | 0/1517 [00:00<?, ?it/s]\u001b[A\n",
            "  2%|▏         | 29/1517 [00:00<00:05, 283.24it/s]\u001b[A\n",
            "  4%|▍         | 58/1517 [00:00<00:05, 283.64it/s]\u001b[A\n",
            "  6%|▌         | 87/1517 [00:00<00:05, 278.06it/s]\u001b[A\n",
            "  8%|▊         | 119/1517 [00:00<00:04, 292.47it/s]\u001b[A\n",
            " 10%|▉         | 149/1517 [00:00<00:04, 294.32it/s]\u001b[A\n",
            " 12%|█▏        | 180/1517 [00:00<00:04, 298.91it/s]\u001b[A\n",
            " 14%|█▍        | 210/1517 [00:00<00:04, 295.00it/s]\u001b[A\n",
            " 16%|█▌        | 240/1517 [00:00<00:04, 295.59it/s]\u001b[A\n",
            " 18%|█▊        | 272/1517 [00:00<00:04, 301.81it/s]\u001b[A\n",
            " 20%|██        | 305/1517 [00:01<00:03, 309.64it/s]\u001b[A\n",
            " 22%|██▏       | 338/1517 [00:01<00:03, 314.77it/s]\u001b[A\n",
            " 25%|██▍       | 372/1517 [00:01<00:03, 319.63it/s]\u001b[A\n",
            " 27%|██▋       | 406/1517 [00:01<00:03, 324.32it/s]\u001b[A\n",
            " 29%|██▉       | 441/1517 [00:01<00:03, 330.91it/s]\u001b[A\n",
            " 31%|███▏      | 475/1517 [00:01<00:03, 326.07it/s]\u001b[A\n",
            " 34%|███▎      | 510/1517 [00:01<00:03, 331.23it/s]\u001b[A\n",
            " 36%|███▌      | 544/1517 [00:01<00:02, 331.75it/s]\u001b[A\n",
            " 38%|███▊      | 578/1517 [00:01<00:02, 333.22it/s]\u001b[A\n",
            " 40%|████      | 612/1517 [00:01<00:02, 334.13it/s]\u001b[A\n",
            " 43%|████▎     | 646/1517 [00:02<00:02, 332.26it/s]\u001b[A\n",
            " 45%|████▍     | 680/1517 [00:02<00:02, 326.49it/s]\u001b[A\n",
            " 47%|████▋     | 713/1517 [00:02<00:02, 326.31it/s]\u001b[A\n",
            " 49%|████▉     | 746/1517 [00:02<00:02, 308.39it/s]\u001b[A\n",
            " 51%|█████▏    | 780/1517 [00:02<00:02, 315.70it/s]\u001b[A\n",
            " 54%|█████▎    | 812/1517 [00:02<00:02, 316.47it/s]\u001b[A\n",
            " 56%|█████▌    | 845/1517 [00:02<00:02, 318.67it/s]\u001b[A\n",
            " 58%|█████▊    | 878/1517 [00:02<00:01, 319.85it/s]\u001b[A\n",
            " 60%|██████    | 913/1517 [00:02<00:01, 327.83it/s]\u001b[A\n",
            " 62%|██████▏   | 947/1517 [00:02<00:01, 328.65it/s]\u001b[A\n",
            " 65%|██████▍   | 980/1517 [00:03<00:01, 328.39it/s]\u001b[A\n",
            " 67%|██████▋   | 1013/1517 [00:03<00:01, 322.88it/s]\u001b[A\n",
            " 69%|██████▉   | 1048/1517 [00:03<00:01, 329.14it/s]\u001b[A\n",
            " 71%|███████▏  | 1083/1517 [00:03<00:01, 332.98it/s]\u001b[A\n",
            " 74%|███████▎  | 1117/1517 [00:03<00:01, 332.32it/s]\u001b[A\n",
            " 76%|███████▌  | 1151/1517 [00:03<00:01, 333.52it/s]\u001b[A\n",
            " 78%|███████▊  | 1185/1517 [00:03<00:01, 329.79it/s]\u001b[A\n",
            " 80%|████████  | 1218/1517 [00:03<00:00, 328.27it/s]\u001b[A\n",
            " 83%|████████▎ | 1253/1517 [00:03<00:00, 332.21it/s]\u001b[A\n",
            " 85%|████████▍ | 1287/1517 [00:04<00:00, 333.52it/s]\u001b[A\n",
            " 87%|████████▋ | 1322/1517 [00:04<00:00, 335.80it/s]\u001b[A\n",
            " 89%|████████▉ | 1356/1517 [00:04<00:00, 331.78it/s]\u001b[A\n",
            " 92%|█████████▏| 1390/1517 [00:04<00:00, 334.09it/s]\u001b[A\n",
            " 94%|█████████▍| 1424/1517 [00:04<00:00, 335.34it/s]\u001b[A\n",
            " 96%|█████████▌| 1458/1517 [00:04<00:00, 332.91it/s]\u001b[A\n",
            "100%|██████████| 1517/1517 [00:04<00:00, 323.05it/s]\n",
            " 67%|██████▋   | 4/6 [09:52<05:29, 164.75s/it]"
          ]
        },
        {
          "output_type": "stream",
          "name": "stdout",
          "text": [
            "80253\n",
            "[4 3]\n"
          ]
        },
        {
          "output_type": "stream",
          "name": "stderr",
          "text": [
            "\n",
            "  0%|          | 0/1605 [00:00<?, ?it/s]\u001b[A\n",
            "  1%|          | 9/1605 [00:00<00:19, 81.68it/s]\u001b[A\n",
            "  1%|          | 18/1605 [00:00<00:24, 64.09it/s]\u001b[A\n",
            "  2%|▏         | 31/1605 [00:00<00:22, 68.62it/s]\u001b[A\n",
            "  4%|▎         | 59/1605 [00:00<00:11, 130.00it/s]\u001b[A\n",
            "  5%|▌         | 82/1605 [00:00<00:09, 158.47it/s]\u001b[A\n",
            "  7%|▋         | 110/1605 [00:00<00:07, 193.67it/s]\u001b[A\n",
            "  9%|▊         | 137/1605 [00:00<00:06, 215.43it/s]\u001b[A\n",
            " 10%|█         | 167/1605 [00:00<00:06, 239.13it/s]\u001b[A\n",
            " 12%|█▏        | 194/1605 [00:01<00:05, 246.89it/s]\u001b[A\n",
            " 14%|█▍        | 222/1605 [00:01<00:05, 253.99it/s]\u001b[A\n",
            " 16%|█▌        | 249/1605 [00:01<00:05, 256.95it/s]\u001b[A\n",
            " 17%|█▋        | 278/1605 [00:01<00:05, 264.46it/s]\u001b[A\n",
            " 19%|█▉        | 308/1605 [00:01<00:04, 274.31it/s]\u001b[A\n",
            " 21%|██        | 338/1605 [00:01<00:04, 279.23it/s]\u001b[A\n",
            " 23%|██▎       | 368/1605 [00:01<00:04, 284.48it/s]\u001b[A\n",
            " 25%|██▍       | 397/1605 [00:01<00:04, 284.22it/s]\u001b[A\n",
            " 27%|██▋       | 426/1605 [00:01<00:04, 284.42it/s]\u001b[A\n",
            " 28%|██▊       | 455/1605 [00:01<00:04, 285.68it/s]\u001b[A\n",
            " 30%|███       | 485/1605 [00:02<00:03, 289.22it/s]\u001b[A\n",
            " 32%|███▏      | 515/1605 [00:02<00:03, 292.20it/s]\u001b[A\n",
            " 34%|███▍      | 547/1605 [00:02<00:03, 298.93it/s]\u001b[A\n",
            " 36%|███▌      | 581/1605 [00:02<00:03, 308.75it/s]\u001b[A\n",
            " 38%|███▊      | 613/1605 [00:02<00:03, 311.93it/s]\u001b[A\n",
            " 40%|████      | 645/1605 [00:02<00:03, 310.13it/s]\u001b[A\n",
            " 42%|████▏     | 677/1605 [00:02<00:03, 309.31it/s]\u001b[A\n",
            " 44%|████▍     | 708/1605 [00:02<00:02, 307.51it/s]\u001b[A\n",
            " 46%|████▌     | 739/1605 [00:02<00:02, 306.44it/s]\u001b[A\n",
            " 48%|████▊     | 771/1605 [00:02<00:02, 308.61it/s]\u001b[A\n",
            " 50%|████▉     | 802/1605 [00:03<00:02, 300.81it/s]\u001b[A\n",
            " 52%|█████▏    | 833/1605 [00:03<00:02, 301.15it/s]\u001b[A\n",
            " 54%|█████▍    | 864/1605 [00:03<00:02, 301.71it/s]\u001b[A\n",
            " 56%|█████▌    | 896/1605 [00:03<00:02, 306.50it/s]\u001b[A\n",
            " 58%|█████▊    | 929/1605 [00:03<00:02, 311.90it/s]\u001b[A\n",
            " 60%|█████▉    | 962/1605 [00:03<00:02, 314.69it/s]\u001b[A\n",
            " 62%|██████▏   | 994/1605 [00:03<00:01, 314.68it/s]\u001b[A\n",
            " 64%|██████▍   | 1028/1605 [00:03<00:01, 319.66it/s]\u001b[A\n",
            " 66%|██████▌   | 1060/1605 [00:03<00:01, 318.88it/s]\u001b[A\n",
            " 68%|██████▊   | 1092/1605 [00:04<00:01, 313.91it/s]\u001b[A\n",
            " 70%|███████   | 1124/1605 [00:04<00:01, 303.64it/s]\u001b[A\n",
            " 72%|███████▏  | 1155/1605 [00:04<00:01, 299.94it/s]\u001b[A\n",
            " 74%|███████▍  | 1187/1605 [00:04<00:01, 304.79it/s]\u001b[A\n",
            " 76%|███████▌  | 1219/1605 [00:04<00:01, 308.52it/s]\u001b[A\n",
            " 78%|███████▊  | 1250/1605 [00:04<00:01, 308.09it/s]\u001b[A\n",
            " 80%|███████▉  | 1282/1605 [00:04<00:01, 309.39it/s]\u001b[A\n",
            " 82%|████████▏ | 1313/1605 [00:04<00:00, 308.32it/s]\u001b[A\n",
            " 84%|████████▎ | 1344/1605 [00:04<00:00, 305.67it/s]\u001b[A\n",
            " 86%|████████▌ | 1375/1605 [00:04<00:00, 303.95it/s]\u001b[A\n",
            " 88%|████████▊ | 1406/1605 [00:05<00:00, 300.65it/s]\u001b[A\n",
            " 90%|████████▉ | 1437/1605 [00:05<00:00, 291.99it/s]\u001b[A\n",
            " 91%|█████████▏| 1467/1605 [00:05<00:00, 289.30it/s]\u001b[A\n",
            " 93%|█████████▎| 1496/1605 [00:05<00:00, 288.86it/s]\u001b[A\n",
            " 95%|█████████▌| 1525/1605 [00:05<00:00, 288.31it/s]\u001b[A\n",
            " 97%|█████████▋| 1554/1605 [00:05<00:00, 286.39it/s]\u001b[A\n",
            "100%|██████████| 1605/1605 [00:05<00:00, 278.25it/s]\n",
            "\n",
            "  0%|          | 0/1605 [00:00<?, ?it/s]\u001b[A\n",
            "  2%|▏         | 31/1605 [00:00<00:05, 301.09it/s]\u001b[A\n",
            "  4%|▍         | 62/1605 [00:00<00:05, 293.29it/s]\u001b[A\n",
            "  6%|▌         | 92/1605 [00:00<00:05, 286.02it/s]\u001b[A\n",
            "  8%|▊         | 121/1605 [00:00<00:05, 285.43it/s]\u001b[A\n",
            "  9%|▉         | 151/1605 [00:00<00:05, 289.33it/s]\u001b[A\n",
            " 11%|█▏        | 182/1605 [00:00<00:04, 294.88it/s]\u001b[A\n",
            " 13%|█▎        | 212/1605 [00:00<00:04, 295.31it/s]\u001b[A\n",
            " 15%|█▌        | 242/1605 [00:00<00:04, 290.17it/s]\u001b[A\n",
            " 17%|█▋        | 273/1605 [00:00<00:04, 293.31it/s]\u001b[A\n",
            " 19%|█▉        | 305/1605 [00:01<00:04, 299.43it/s]\u001b[A\n",
            " 21%|██        | 336/1605 [00:01<00:04, 301.92it/s]\u001b[A\n",
            " 23%|██▎       | 367/1605 [00:01<00:04, 296.78it/s]\u001b[A\n",
            " 25%|██▍       | 397/1605 [00:01<00:04, 293.63it/s]\u001b[A\n",
            " 27%|██▋       | 427/1605 [00:01<00:04, 291.87it/s]\u001b[A\n",
            " 28%|██▊       | 457/1605 [00:01<00:03, 292.11it/s]\u001b[A\n",
            " 30%|███       | 488/1605 [00:01<00:03, 295.74it/s]\u001b[A\n",
            " 32%|███▏      | 518/1605 [00:01<00:03, 296.09it/s]\u001b[A\n",
            " 34%|███▍      | 550/1605 [00:01<00:03, 302.99it/s]\u001b[A\n",
            " 36%|███▋      | 582/1605 [00:01<00:03, 307.60it/s]\u001b[A\n",
            " 38%|███▊      | 613/1605 [00:02<00:03, 303.13it/s]\u001b[A\n",
            " 40%|████      | 644/1605 [00:02<00:03, 302.96it/s]\u001b[A\n",
            " 42%|████▏     | 676/1605 [00:02<00:03, 306.38it/s]\u001b[A\n",
            " 44%|████▍     | 707/1605 [00:02<00:02, 306.51it/s]\u001b[A\n",
            " 46%|████▌     | 739/1605 [00:02<00:02, 309.61it/s]\u001b[A\n",
            " 48%|████▊     | 771/1605 [00:02<00:02, 312.46it/s]\u001b[A\n",
            " 50%|█████     | 803/1605 [00:02<00:02, 314.69it/s]\u001b[A\n",
            " 52%|█████▏    | 835/1605 [00:02<00:02, 313.99it/s]\u001b[A\n",
            " 54%|█████▍    | 867/1605 [00:02<00:02, 314.51it/s]\u001b[A\n",
            " 56%|█████▌    | 901/1605 [00:02<00:02, 319.30it/s]\u001b[A\n",
            " 58%|█████▊    | 935/1605 [00:03<00:02, 323.14it/s]\u001b[A\n",
            " 60%|██████    | 968/1605 [00:03<00:01, 323.88it/s]\u001b[A\n",
            " 62%|██████▏   | 1002/1605 [00:03<00:01, 326.40it/s]\u001b[A\n",
            " 65%|██████▍   | 1036/1605 [00:03<00:01, 330.39it/s]\u001b[A\n",
            " 67%|██████▋   | 1070/1605 [00:03<00:01, 332.89it/s]\u001b[A\n",
            " 69%|██████▉   | 1104/1605 [00:03<00:01, 330.80it/s]\u001b[A\n",
            " 71%|███████   | 1138/1605 [00:03<00:01, 328.24it/s]\u001b[A\n",
            " 73%|███████▎  | 1171/1605 [00:03<00:01, 325.25it/s]\u001b[A\n",
            " 75%|███████▌  | 1204/1605 [00:03<00:01, 325.33it/s]\u001b[A\n",
            " 77%|███████▋  | 1237/1605 [00:04<00:01, 323.99it/s]\u001b[A\n",
            " 79%|███████▉  | 1270/1605 [00:04<00:01, 322.39it/s]\u001b[A\n",
            " 81%|████████  | 1303/1605 [00:04<00:00, 317.82it/s]\u001b[A\n",
            " 83%|████████▎ | 1335/1605 [00:04<00:00, 311.95it/s]\u001b[A\n",
            " 85%|████████▌ | 1367/1605 [00:04<00:00, 307.28it/s]\u001b[A\n",
            " 87%|████████▋ | 1399/1605 [00:04<00:00, 309.54it/s]\u001b[A\n",
            " 89%|████████▉ | 1431/1605 [00:04<00:00, 310.25it/s]\u001b[A\n",
            " 91%|█████████ | 1463/1605 [00:04<00:00, 303.13it/s]\u001b[A\n",
            " 93%|█████████▎| 1495/1605 [00:04<00:00, 307.30it/s]\u001b[A\n",
            " 95%|█████████▌| 1529/1605 [00:04<00:00, 314.53it/s]\u001b[A\n",
            " 97%|█████████▋| 1561/1605 [00:05<00:00, 313.55it/s]\u001b[A\n",
            "100%|██████████| 1605/1605 [00:05<00:00, 309.19it/s]\n",
            " 83%|████████▎ | 5/6 [13:42<03:07, 187.17s/it]"
          ]
        },
        {
          "output_type": "stream",
          "name": "stdout",
          "text": [
            "72035\n",
            "[4 5]\n"
          ]
        },
        {
          "output_type": "stream",
          "name": "stderr",
          "text": [
            "\n",
            "  0%|          | 0/1441 [00:00<?, ?it/s]\u001b[A\n",
            "  1%|▏         | 20/1441 [00:00<00:07, 198.47it/s]\u001b[A\n",
            "  3%|▎         | 40/1441 [00:00<00:13, 103.36it/s]\u001b[A\n",
            "  4%|▎         | 53/1441 [00:00<00:17, 81.32it/s] \u001b[A\n",
            "  6%|▌         | 86/1441 [00:00<00:09, 140.14it/s]\u001b[A\n",
            "  8%|▊         | 119/1441 [00:00<00:07, 187.94it/s]\u001b[A\n",
            " 10%|█         | 151/1441 [00:00<00:05, 222.03it/s]\u001b[A\n",
            " 13%|█▎        | 184/1441 [00:00<00:05, 249.99it/s]\u001b[A\n",
            " 15%|█▍        | 215/1441 [00:01<00:04, 265.63it/s]\u001b[A\n",
            " 17%|█▋        | 245/1441 [00:01<00:04, 274.61it/s]\u001b[A\n",
            " 19%|█▉        | 278/1441 [00:01<00:04, 288.57it/s]\u001b[A\n",
            " 22%|██▏       | 310/1441 [00:01<00:03, 295.71it/s]\u001b[A\n",
            " 24%|██▎       | 341/1441 [00:01<00:03, 297.05it/s]\u001b[A\n",
            " 26%|██▌       | 372/1441 [00:01<00:03, 298.32it/s]\u001b[A\n",
            " 28%|██▊       | 403/1441 [00:01<00:03, 301.55it/s]\u001b[A\n",
            " 30%|███       | 434/1441 [00:01<00:03, 301.32it/s]\u001b[A\n",
            " 32%|███▏      | 465/1441 [00:01<00:03, 303.37it/s]\u001b[A\n",
            " 34%|███▍      | 497/1441 [00:02<00:03, 306.55it/s]\u001b[A\n",
            " 37%|███▋      | 528/1441 [00:02<00:02, 304.94it/s]\u001b[A\n",
            " 39%|███▉      | 560/1441 [00:02<00:02, 307.84it/s]\u001b[A\n",
            " 41%|████      | 591/1441 [00:02<00:02, 302.11it/s]\u001b[A\n",
            " 43%|████▎     | 622/1441 [00:02<00:02, 302.77it/s]\u001b[A\n",
            " 45%|████▌     | 653/1441 [00:02<00:02, 301.86it/s]\u001b[A\n",
            " 47%|████▋     | 684/1441 [00:02<00:02, 297.19it/s]\u001b[A\n",
            " 50%|████▉     | 714/1441 [00:02<00:02, 294.60it/s]\u001b[A\n",
            " 52%|█████▏    | 744/1441 [00:02<00:02, 295.20it/s]\u001b[A\n",
            " 54%|█████▎    | 774/1441 [00:02<00:02, 293.41it/s]\u001b[A\n",
            " 56%|█████▌    | 804/1441 [00:03<00:02, 293.02it/s]\u001b[A\n",
            " 58%|█████▊    | 834/1441 [00:03<00:02, 294.79it/s]\u001b[A\n",
            " 60%|██████    | 865/1441 [00:03<00:01, 297.66it/s]\u001b[A\n",
            " 62%|██████▏   | 895/1441 [00:03<00:01, 294.82it/s]\u001b[A\n",
            " 64%|██████▍   | 925/1441 [00:03<00:01, 293.32it/s]\u001b[A\n",
            " 66%|██████▋   | 955/1441 [00:03<00:01, 294.15it/s]\u001b[A\n",
            " 68%|██████▊   | 985/1441 [00:03<00:01, 291.24it/s]\u001b[A\n",
            " 71%|███████   | 1017/1441 [00:03<00:01, 299.41it/s]\u001b[A\n",
            " 73%|███████▎  | 1048/1441 [00:03<00:01, 302.20it/s]\u001b[A\n",
            " 75%|███████▍  | 1079/1441 [00:03<00:01, 304.44it/s]\u001b[A\n",
            " 77%|███████▋  | 1112/1441 [00:04<00:01, 311.16it/s]\u001b[A\n",
            " 80%|███████▉  | 1146/1441 [00:04<00:00, 317.22it/s]\u001b[A\n",
            " 82%|████████▏ | 1179/1441 [00:04<00:00, 318.64it/s]\u001b[A\n",
            " 84%|████████▍ | 1212/1441 [00:04<00:00, 319.93it/s]\u001b[A\n",
            " 86%|████████▋ | 1245/1441 [00:04<00:00, 321.12it/s]\u001b[A\n",
            " 89%|████████▊ | 1278/1441 [00:04<00:00, 317.76it/s]\u001b[A\n",
            " 91%|█████████ | 1310/1441 [00:04<00:00, 315.68it/s]\u001b[A\n",
            " 93%|█████████▎| 1343/1441 [00:04<00:00, 319.07it/s]\u001b[A\n",
            " 95%|█████████▌| 1375/1441 [00:04<00:00, 311.41it/s]\u001b[A\n",
            " 98%|█████████▊| 1407/1441 [00:04<00:00, 308.81it/s]\u001b[A\n",
            "100%|██████████| 1441/1441 [00:05<00:00, 281.66it/s]\n",
            "\n",
            "  0%|          | 0/1441 [00:00<?, ?it/s]\u001b[A\n",
            "  2%|▏         | 30/1441 [00:00<00:04, 293.35it/s]\u001b[A\n",
            "  4%|▍         | 60/1441 [00:00<00:04, 288.61it/s]\u001b[A\n",
            "  6%|▌         | 89/1441 [00:00<00:04, 288.42it/s]\u001b[A\n",
            "  8%|▊         | 119/1441 [00:00<00:04, 289.60it/s]\u001b[A\n",
            " 10%|█         | 148/1441 [00:00<00:04, 286.86it/s]\u001b[A\n",
            " 13%|█▎        | 181/1441 [00:00<00:04, 298.28it/s]\u001b[A\n",
            " 15%|█▍        | 211/1441 [00:00<00:04, 298.45it/s]\u001b[A\n",
            " 17%|█▋        | 242/1441 [00:00<00:03, 300.65it/s]\u001b[A\n",
            " 19%|█▉        | 273/1441 [00:00<00:03, 299.93it/s]\u001b[A\n",
            " 21%|██        | 303/1441 [00:01<00:03, 298.13it/s]\u001b[A\n",
            " 23%|██▎       | 334/1441 [00:01<00:03, 300.19it/s]\u001b[A\n",
            " 25%|██▌       | 366/1441 [00:01<00:03, 303.42it/s]\u001b[A\n",
            " 28%|██▊       | 398/1441 [00:01<00:03, 307.10it/s]\u001b[A\n",
            " 30%|██▉       | 430/1441 [00:01<00:03, 309.02it/s]\u001b[A\n",
            " 32%|███▏      | 461/1441 [00:01<00:03, 307.28it/s]\u001b[A\n",
            " 34%|███▍      | 492/1441 [00:01<00:03, 305.55it/s]\u001b[A\n",
            " 36%|███▋      | 524/1441 [00:01<00:02, 307.65it/s]\u001b[A\n",
            " 39%|███▊      | 555/1441 [00:01<00:02, 306.48it/s]\u001b[A\n",
            " 41%|████      | 586/1441 [00:01<00:02, 301.41it/s]\u001b[A\n",
            " 43%|████▎     | 617/1441 [00:02<00:02, 295.90it/s]\u001b[A\n",
            " 45%|████▍     | 647/1441 [00:02<00:02, 292.47it/s]\u001b[A\n",
            " 47%|████▋     | 677/1441 [00:02<00:02, 294.61it/s]\u001b[A\n",
            " 49%|████▉     | 708/1441 [00:02<00:02, 296.77it/s]\u001b[A\n",
            " 51%|█████     | 738/1441 [00:02<00:02, 296.29it/s]\u001b[A\n",
            " 53%|█████▎    | 770/1441 [00:02<00:02, 301.64it/s]\u001b[A\n",
            " 56%|█████▌    | 801/1441 [00:02<00:02, 292.53it/s]\u001b[A\n",
            " 58%|█████▊    | 831/1441 [00:02<00:02, 293.81it/s]\u001b[A\n",
            " 60%|█████▉    | 861/1441 [00:02<00:01, 292.31it/s]\u001b[A\n",
            " 62%|██████▏   | 891/1441 [00:02<00:01, 290.16it/s]\u001b[A\n",
            " 64%|██████▍   | 921/1441 [00:03<00:01, 292.86it/s]\u001b[A\n",
            " 66%|██████▌   | 951/1441 [00:03<00:01, 289.93it/s]\u001b[A\n",
            " 68%|██████▊   | 982/1441 [00:03<00:01, 294.53it/s]\u001b[A\n",
            " 70%|███████   | 1012/1441 [00:03<00:01, 294.22it/s]\u001b[A\n",
            " 72%|███████▏  | 1042/1441 [00:03<00:01, 289.71it/s]\u001b[A\n",
            " 74%|███████▍  | 1072/1441 [00:03<00:01, 290.07it/s]\u001b[A\n",
            " 76%|███████▋  | 1102/1441 [00:03<00:01, 290.19it/s]\u001b[A\n",
            " 79%|███████▊  | 1132/1441 [00:03<00:01, 293.02it/s]\u001b[A\n",
            " 81%|████████  | 1163/1441 [00:03<00:00, 296.21it/s]\u001b[A\n",
            " 83%|████████▎ | 1195/1441 [00:04<00:00, 302.36it/s]\u001b[A\n",
            " 85%|████████▌ | 1227/1441 [00:04<00:00, 306.67it/s]\u001b[A\n",
            " 88%|████████▊ | 1261/1441 [00:04<00:00, 313.77it/s]\u001b[A\n",
            " 90%|████████▉ | 1294/1441 [00:04<00:00, 317.05it/s]\u001b[A\n",
            " 92%|█████████▏| 1326/1441 [00:04<00:00, 314.20it/s]\u001b[A\n",
            " 94%|█████████▍| 1358/1441 [00:04<00:00, 307.31it/s]\u001b[A\n",
            " 96%|█████████▋| 1389/1441 [00:04<00:00, 307.96it/s]\u001b[A\n",
            "100%|██████████| 1441/1441 [00:04<00:00, 298.99it/s]\n",
            "100%|██████████| 6/6 [17:28<00:00, 174.69s/it]\n"
          ]
        }
      ],
      "source": [
        "for i in tqdm(range(WEEK_NUM)):\n",
        "    if i == 0 and not TEST:\n",
        "        continue\n",
        "    candidate = pd.read_parquet(data_dir/\"interim\"/VERSION_NAME/f\"week{i}_candidate.pqt\")\n",
        "    if i == 0:\n",
        "        chunk_size = int(candidate.shape[0] * 0.5)\n",
        "        # tmpl = []\n",
        "        for chunk,batch in enumerate(range(0, candidate.shape[0], chunk_size)):\n",
        "            sub_candidate = candidate.iloc[batch:batch+chunk_size-1]\n",
        "            # * merge features\n",
        "            sub_candidate = merge_week_data(data, inter, i, sub_candidate)\n",
        "            sub_candidate['article_id'] = sub_candidate['article_id'].astype(int)\n",
        "            sub_candidate['customer_id'] = sub_candidate['customer_id'].astype(int)\n",
        "            # * merge DSSM user and item embeddings\n",
        "            sub_candidate[\"dssm_similarity\"] = calc_embd_similarity(sub_candidate, dssm_user_embd, dssm_item_embd)\n",
        "            # * merge YouTubeDNN user and item embeddings\n",
        "            sub_candidate[\"yt_similarity\"] = calc_embd_similarity(sub_candidate, yt_user_embd, yt_item_embd)\n",
        "            print(f\"Chunk {chunk} done...\")\n",
        "            # tmpl.append(sub_candidate)\n",
        "            sub_candidate.to_parquet(data_dir/\"processed\"/VERSION_NAME/f\"week{i}_candidate_{chunk}.pqt\")\n",
        "    else:\n",
        "        # * merge features\n",
        "        candidate = merge_week_data(data, inter, i, candidate)\n",
        "        print(candidate['week'].unique())\n",
        "        # * merge DSSM user and item embeddings\n",
        "        candidate[\"dssm_similarity\"] = calc_embd_similarity(candidate, dssm_user_embd, dssm_item_embd)\n",
        "        # * merge YouTubeDNN user and item embeddings\n",
        "        candidate[\"yt_similarity\"] = calc_embd_similarity(candidate, yt_user_embd, yt_item_embd)\n",
        "    candidate.to_parquet(data_dir/\"processed\"/VERSION_NAME/f\"week{i}_candidate.pqt\")"
      ]
    },
    {
      "cell_type": "code",
      "execution_count": null,
      "metadata": {
        "colab": {
          "base_uri": "https://localhost:8080/"
        },
        "id": "sWyKQBAt3x--",
        "outputId": "ac6e0c20-7ef4-400f-e1d5-0f13c12f4f3e"
      },
      "outputs": [
        {
          "output_type": "execute_result",
          "data": {
            "text/plain": [
              "65"
            ]
          },
          "metadata": {},
          "execution_count": 19
        }
      ],
      "source": [
        "del dssm_user_embd, dssm_item_embd, yt_user_embd, yt_item_embd\n",
        "gc.collect()"
      ]
    },
    {
      "cell_type": "code",
      "source": [
        "del candidate"
      ],
      "metadata": {
        "id": "R9RlA5qf8MaZ"
      },
      "execution_count": null,
      "outputs": []
    },
    {
      "cell_type": "markdown",
      "metadata": {
        "id": "7Zml-cxryoU_"
      },
      "source": [
        "## Ranking\n"
      ]
    },
    {
      "cell_type": "code",
      "execution_count": null,
      "metadata": {
        "id": "PsmE6rgjdtIr",
        "outputId": "ffae7c48-61ef-49e0-8025-e0f7ff4821c1",
        "colab": {
          "base_uri": "https://localhost:8080/"
        }
      },
      "outputs": [
        {
          "output_type": "stream",
          "name": "stderr",
          "text": [
            "100%|██████████| 5/5 [01:07<00:00, 13.46s/it]\n"
          ]
        }
      ],
      "source": [
        "candidates = {}\n",
        "labels = {}\n",
        "for i in tqdm(range(1, WEEK_NUM)):\n",
        "    candidates[i] = pd.read_parquet(data_dir/\"processed\"/VERSION_NAME/f\"week{i}_candidate.pqt\")\n",
        "    #***\n",
        "    candidates[i] = candidates[i][candidates[i]['rank']<=70]\n",
        "    #***\n",
        "    labels[i] = pd.read_parquet(data_dir/\"processed\"/VERSION_NAME/f\"week{i}_label.pqt\")"
      ]
    },
    {
      "cell_type": "code",
      "execution_count": null,
      "metadata": {
        "id": "xWqYwCbsdtIr"
      },
      "outputs": [],
      "source": [
        "feats = [\n",
        "    x\n",
        "    for x in candidates[1].columns\n",
        "    if x\n",
        "    not in [\n",
        "        \"label\",\n",
        "        \"sales_channel_id\",\n",
        "        \"t_dat\",\n",
        "        \"week\",\n",
        "\n",
        "        # 'i_w_full_sale_ratio',\n",
        "        # 'i_2w_full_sale_ratio',\n",
        "        'p_w_full_sale_ratio',\n",
        "        'p_2w_full_sale_ratio',\n",
        "        # 'i_week_above_daily_sale',\n",
        "        'p_week_above_full_sale',\n",
        "        # 'i_2w_week_above_daily_sale',\n",
        "        'p_2w_week_above_daily_sale',\n",
        "        'product_type_no_daily_sale',\n",
        "        # 'i_product_type_no_daily_sale_ratio',\n",
        "        'p_product_type_no_daily_sale_ratio',\n",
        "\n",
        "        # 'i_3w_sale',\n",
        "        # 'i_3w_sale_rank',\n",
        "        # 'i_3w_sale_norm',\n",
        "        'p_3w_sale',\n",
        "        'p_3w_sale_rank',\n",
        "        'p_3w_sale_norm',\n",
        "        # 'i_4w_sale',\n",
        "        # 'i_4w_sale_rank',\n",
        "        # 'i_4w_sale_norm',\n",
        "        'p_4w_sale',\n",
        "        'p_4w_sale_rank',\n",
        "        'p_4w_sale_norm',\n",
        "        # \"rank\",\n",
        "        # \"score\",\n",
        "        # \"prob\"\n",
        "    ]\n",
        "]\n",
        "cat_features = [\n",
        "    \"customer_id\",\n",
        "    \"article_id\",\n",
        "    \"product_code\",\n",
        "    \"FN\",\n",
        "    \"Active\",\n",
        "    \"club_member_status\",\n",
        "    \"fashion_news_frequency\",\n",
        "    \"age\",\n",
        "    \"product_type_no\",\n",
        "    \"product_group_name\",\n",
        "    \"graphical_appearance_no\",\n",
        "    \"colour_group_code\",\n",
        "    \"perceived_colour_value_id\",\n",
        "    \"perceived_colour_master_id\",\n",
        "\n",
        "    \"user_gender\",\n",
        "    \"article_gender\",\n",
        "    \"season_type\"\n",
        "]"
      ]
    },
    {
      "cell_type": "code",
      "execution_count": null,
      "metadata": {
        "id": "dg2eHvzEyFdA",
        "outputId": "af7228ea-d7c5-4976-c83b-efb75a30e7a6",
        "colab": {
          "base_uri": "https://localhost:8080/"
        }
      },
      "outputs": [
        {
          "output_type": "stream",
          "name": "stderr",
          "text": [
            "100%|██████████| 17/17 [00:01<00:00, 16.58it/s]\n"
          ]
        }
      ],
      "source": [
        "# * Convert categorical featues as `CategoricalDtype`\n",
        "cate_dict = {}        \n",
        "for feat in tqdm(cat_features):\n",
        "    if feat in data['user'].columns:\n",
        "        value_set = set(data['user'][feat].unique())\n",
        "    elif feat in data['item'].columns:\n",
        "        value_set = set(data['item'][feat].unique())\n",
        "    else:\n",
        "        value_set = set(data['inter'][feat].unique())\n",
        "    cate_dict[feat] = CategoricalDtype(categories=value_set)"
      ]
    },
    {
      "cell_type": "code",
      "execution_count": null,
      "metadata": {
        "id": "62Tdy8VkyFdB",
        "outputId": "1a5fd6a4-e9e3-4b1a-841e-90e9f8471de4",
        "colab": {
          "base_uri": "https://localhost:8080/"
        }
      },
      "outputs": [
        {
          "output_type": "stream",
          "name": "stderr",
          "text": [
            "100%|██████████| 5/5 [00:21<00:00,  4.22s/it]\n"
          ]
        }
      ],
      "source": [
        "for i in tqdm(range(1,WEEK_NUM)):\n",
        "    for feat in cat_features:\n",
        "        candidates[i][feat] = candidates[i][feat].astype(cate_dict[feat])"
      ]
    },
    {
      "cell_type": "markdown",
      "metadata": {
        "id": "3RojtbK9GGQU"
      },
      "source": [
        "### Train\n"
      ]
    },
    {
      "cell_type": "code",
      "execution_count": null,
      "metadata": {
        "id": "nTm9bz6vR6T4"
      },
      "outputs": [],
      "source": [
        "params = {\n",
        "    \"objective\": \"lambdarank\",#\"lambdarank\",\n",
        "    \"boosting_type\": \"gbdt\",\n",
        "    \"metric\": \"map\",#\"map\",\n",
        "    \"max_depth\":6,\n",
        "    \"num_leaves\": 128,\n",
        "    \"learning_rate\": 0.03,\n",
        "\n",
        "    \"verbose\": -1,\n",
        "    \"eval_at\": 12,\n",
        "    # 'device':'gpu'\n",
        "}"
      ]
    },
    {
      "cell_type": "code",
      "execution_count": null,
      "metadata": {
        "id": "ZGr5CTKTyFdB"
      },
      "outputs": [],
      "source": [
        "def train_model(train, valid, train_group, valid_group):\n",
        "\n",
        "    train_set = lgb.Dataset(\n",
        "        data=train[feats],\n",
        "        label=train[\"label\"],\n",
        "        group=train_group,\n",
        "        feature_name=feats,\n",
        "        categorical_feature=cat_features,\n",
        "        params=params,\n",
        "    )\n",
        "\n",
        "    valid_set = lgb.Dataset(\n",
        "        data=valid[feats],\n",
        "        label=valid[\"label\"],\n",
        "        group=valid_group,\n",
        "        feature_name=feats,\n",
        "        categorical_feature=cat_features,\n",
        "        params=params,\n",
        "    )\n",
        "\n",
        "    ranker = lgb.train(\n",
        "        params,\n",
        "        train_set,\n",
        "        num_boost_round=300,\n",
        "        valid_sets=[valid_set],\n",
        "        early_stopping_rounds=30,\n",
        "        verbose_eval=10,\n",
        "    )\n",
        "    ranker.save_model(\n",
        "        model_dir / f\"lgb_ranker_1.model\",\n",
        "        num_iteration=ranker.best_iteration,\n",
        "    )\n",
        "    return ranker"
      ]
    },
    {
      "cell_type": "code",
      "execution_count": null,
      "metadata": {
        "id": "i8Aae8ViyFdC"
      },
      "outputs": [],
      "source": [
        "def train_binary_model(full_data, valid_week_num, train_week_num=4):\n",
        "    print(\"Validating week:\", valid_week_num)\n",
        "    train = full_data[\n",
        "        (valid_week_num < full_data[\"week\"])\n",
        "        & (full_data[\"week\"] <= valid_week_num + train_week_num)\n",
        "    ]\n",
        "    valid = full_data[full_data[\"week\"] == valid_week_num]\n",
        "\n",
        "    print(\"Train positive rate:\", train.label.mean())  # 0.9946384702188372 4-week\n",
        "\n",
        "\n",
        "    train_set = lgb.Dataset(\n",
        "        data=train[feats],\n",
        "        label=train[\"label\"],\n",
        "        feature_name=feats,\n",
        "        categorical_feature=cat_features,\n",
        "        params=params,\n",
        "    )\n",
        "\n",
        "    valid_set = lgb.Dataset(\n",
        "        data=valid[feats],\n",
        "        label=valid[\"label\"],\n",
        "        feature_name=feats,\n",
        "        categorical_feature=cat_features,\n",
        "        params=params,\n",
        "    )\n",
        "\n",
        "    ranker = lgb.train(\n",
        "        params,\n",
        "        train_set,\n",
        "        num_boost_round=300,\n",
        "        valid_sets=[valid_set],\n",
        "        early_stopping_rounds=30,\n",
        "        verbose_eval=10,\n",
        "    )\n",
        "    ranker.save_model(\n",
        "        model_dir / f\"lgb_ranker_{valid_week_num}.model\",\n",
        "        num_iteration=ranker.best_iteration,\n",
        "    )\n",
        "    return ranker"
      ]
    },
    {
      "cell_type": "code",
      "source": [
        "for f in feats:\n",
        "    for i in range(2,WEEK_NUM):\n",
        "        if f not in candidates[i].columns:\n",
        "            candidates[i][f] = np.nan"
      ],
      "metadata": {
        "id": "QBI_ycDPw1tJ"
      },
      "execution_count": null,
      "outputs": []
    },
    {
      "cell_type": "code",
      "source": [
        "train = pd.concat([candidates[i] for i in range(2, WEEK_NUM)], ignore_index=True)\n",
        "valid = candidates[1]"
      ],
      "metadata": {
        "id": "wP5sOgw8xGaB"
      },
      "execution_count": null,
      "outputs": []
    },
    {
      "cell_type": "code",
      "source": [
        "del candidates\n",
        "gc.collect()"
      ],
      "metadata": {
        "colab": {
          "base_uri": "https://localhost:8080/"
        },
        "id": "eXCxHp4-5EZ1",
        "outputId": "83bd73e7-48a1-4813-e57d-11605d8db300"
      },
      "execution_count": null,
      "outputs": [
        {
          "output_type": "execute_result",
          "data": {
            "text/plain": [
              "65"
            ]
          },
          "metadata": {},
          "execution_count": 23
        }
      ]
    },
    {
      "cell_type": "code",
      "source": [
        "train = train.sort_values(by=[\"week\", \"customer_id\"], ascending=True).reset_index(drop=True)\n",
        "valid = valid.sort_values(by=[\"customer_id\"], ascending=True).reset_index(drop=True)\n",
        "print(\"Train positive rate:\", train.label.mean())  # 0.9946384702188372 4-week"
      ],
      "metadata": {
        "id": "AG636J4Ux7uK"
      },
      "execution_count": null,
      "outputs": []
    },
    {
      "cell_type": "code",
      "source": [
        "gc.collect()"
      ],
      "metadata": {
        "id": "TmliGXwAx_hf"
      },
      "execution_count": null,
      "outputs": []
    },
    {
      "cell_type": "code",
      "source": [
        "train_group = train[[\"customer_id\", \"article_id\", \"week\"]]\n",
        "train_group = train_group.astype(\"int32\")  # * convert to int to avoid `0` in groupby count result\n",
        "train_group = (train_group.groupby([\"week\", \"customer_id\"])[\"article_id\"].count().values)"
      ],
      "metadata": {
        "id": "tgEup34-yOWq"
      },
      "execution_count": null,
      "outputs": []
    },
    {
      "cell_type": "code",
      "source": [
        "valid_group = valid[[\"customer_id\", \"article_id\"]]\n",
        "valid_group = valid_group.astype(\"int32\")  # * convert to int to avoid `0` in groupby count result\n",
        "valid_group = valid_group.groupby([\"customer_id\"])[\"article_id\"].count().values"
      ],
      "metadata": {
        "id": "TU1-B8Dhxn3V"
      },
      "execution_count": null,
      "outputs": []
    },
    {
      "cell_type": "code",
      "source": [
        "train = train[feats+['label']]\n",
        "valid = valid[feats+['label']]"
      ],
      "metadata": {
        "id": "X_UTMT-448E0"
      },
      "execution_count": null,
      "outputs": []
    },
    {
      "cell_type": "code",
      "source": [
        "gc.collect()"
      ],
      "metadata": {
        "id": "nPttBNSByXRZ"
      },
      "execution_count": null,
      "outputs": []
    },
    {
      "cell_type": "code",
      "execution_count": null,
      "metadata": {
        "id": "-B4EpFjdyFdC"
      },
      "outputs": [],
      "source": [
        "ranker = train_model(train, valid, train_group, valid_group) # 0.82846 4-week\n",
        "# ranker = train_binary_model(train, valid, no=1)\n",
        "# 0.703171 \n",
        "\n",
        "# 0.591868\n",
        "# 0.758603"
      ]
    },
    {
      "cell_type": "markdown",
      "metadata": {
        "id": "KbFdGrYRdtIt"
      },
      "source": [
        "### Inference"
      ]
    },
    {
      "cell_type": "code",
      "execution_count": null,
      "metadata": {
        "id": "hl3DPTaBGGQV"
      },
      "outputs": [],
      "source": [
        "ranker = lgb.Booster(model_file=model_dir / \"lgb_ranker_1.model\")"
      ]
    },
    {
      "cell_type": "code",
      "execution_count": null,
      "metadata": {
        "id": "OG9AwSntGGQV",
        "outputId": "825afb85-5275-4baf-e87e-370505d452d7",
        "colab": {
          "base_uri": "https://localhost:8080/",
          "height": 1000
        }
      },
      "outputs": [
        {
          "output_type": "execute_result",
          "data": {
            "text/plain": [
              "<Figure size 576x1296 with 0 Axes>"
            ]
          },
          "metadata": {},
          "execution_count": 33
        },
        {
          "output_type": "execute_result",
          "data": {
            "text/plain": [
              "<matplotlib.axes._subplots.AxesSubplot at 0x7f88a1173310>"
            ]
          },
          "metadata": {},
          "execution_count": 33
        },
        {
          "output_type": "display_data",
          "data": {
            "text/plain": [
              "<Figure size 576x1296 with 1 Axes>"
            ],
            "image/png": "[encoded data removed]"
          },
          "metadata": {
            "needs_background": "light"
          }
        }
      ],
      "source": [
        "feat_importance = pd.DataFrame(\n",
        "    {\"feature\": feats, \"importance\": ranker.feature_importance()}\n",
        ").sort_values(by=\"importance\", ascending=False)\n",
        "plt.figure(figsize=(8, 18))\n",
        "sns.barplot(y=\"feature\", x=\"importance\", data=feat_importance)"
      ]
    },
    {
      "cell_type": "markdown",
      "metadata": {
        "id": "lLWs-Z5CGGQV"
      },
      "source": [
        "### Validate"
      ]
    },
    {
      "cell_type": "code",
      "execution_count": null,
      "metadata": {
        "id": "SSpgfI0mdtIv"
      },
      "outputs": [],
      "source": [
        "val_candidates = valid.reset_index(drop=True)"
      ]
    },
    {
      "cell_type": "code",
      "execution_count": null,
      "metadata": {
        "id": "w6ECeASwyFdE"
      },
      "outputs": [],
      "source": [
        "def predict(ranker, candidates, batch_size = 5_000_000):\n",
        "    probs = np.zeros(candidates.shape[0])\n",
        "    for batch in range(0, candidates.shape[0], batch_size):\n",
        "        outputs = ranker.predict(candidates.loc[batch : batch + batch_size - 1, feats])\n",
        "        probs[batch : batch + batch_size] = outputs\n",
        "    candidates[\"prob\"] = probs\n",
        "    pred_lgb = candidates[['customer_id','article_id','prob']]\n",
        "    pred_lgb = pred_lgb.sort_values(by=[\"customer_id\",\"prob\"], ascending=False).reset_index(drop=True)\n",
        "    pred_lgb.rename(columns={'article_id':'prediction'}, inplace=True)\n",
        "    pred_lgb = pred_lgb.drop_duplicates(['customer_id', 'prediction'], keep='first')\n",
        "    pred_lgb['customer_id'] = pred_lgb['customer_id'].astype(int)\n",
        "    pred_lgb = pred_lgb.groupby(\"customer_id\")[\"prediction\"].progress_apply(list).reset_index()\n",
        "    return pred_lgb"
      ]
    },
    {
      "cell_type": "code",
      "execution_count": null,
      "metadata": {
        "id": "YSazOwtJyFdE",
        "outputId": "aba8253c-0f9f-4c72-e294-c6e87b6a56dc",
        "colab": {
          "base_uri": "https://localhost:8080/"
        }
      },
      "outputs": [
        {
          "output_type": "stream",
          "name": "stderr",
          "text": [
            "100%|██████████| 68984/68984 [00:06<00:00, 10714.63it/s]\n"
          ]
        }
      ],
      "source": [
        "pred = predict(ranker, val_candidates)"
      ]
    },
    {
      "cell_type": "code",
      "execution_count": null,
      "metadata": {
        "id": "wt8UJLYtyFdE",
        "outputId": "466b40c8-e848-46bc-ccbf-fded35a79a37",
        "colab": {
          "base_uri": "https://localhost:8080/",
          "height": 206
        }
      },
      "outputs": [
        {
          "output_type": "execute_result",
          "data": {
            "text/plain": [
              "   customer_id                                         prediction\n",
              "0           81  [53894, 104073, 103109, 94697, 103181, 3092, 1...\n",
              "1           87  [100229, 98607, 33869, 27906, 27908, 102473, 3...\n",
              "2          108  [13043, 2220, 61304, 61305, 61306, 53893, 1794...\n",
              "3          118  [104073, 53894, 94697, 3092, 103109, 42627, 95...\n",
              "4          180  [95217, 104987, 3511, 105181, 104073, 81826, 1..."
            ],
            "text/html": [
              "\n",
              "  <div id=\"df-5f4e91ed-5898-4d9a-bc48-ce6fb1fc8ff7\">\n",
              "    <div class=\"colab-df-container\">\n",
              "      <div>\n",
              "<style scoped>\n",
              "    .dataframe tbody tr th:only-of-type {\n",
              "        vertical-align: middle;\n",
              "    }\n",
              "\n",
              "    .dataframe tbody tr th {\n",
              "        vertical-align: top;\n",
              "    }\n",
              "\n",
              "    .dataframe thead th {\n",
              "        text-align: right;\n",
              "    }\n",
              "</style>\n",
              "<table border=\"1\" class=\"dataframe\">\n",
              "  <thead>\n",
              "    <tr style=\"text-align: right;\">\n",
              "      <th></th>\n",
              "      <th>customer_id</th>\n",
              "      <th>prediction</th>\n",
              "    </tr>\n",
              "  </thead>\n",
              "  <tbody>\n",
              "    <tr>\n",
              "      <th>0</th>\n",
              "      <td>81</td>\n",
              "      <td>[53894, 104073, 103109, 94697, 103181, 3092, 1...</td>\n",
              "    </tr>\n",
              "    <tr>\n",
              "      <th>1</th>\n",
              "      <td>87</td>\n",
              "      <td>[100229, 98607, 33869, 27906, 27908, 102473, 3...</td>\n",
              "    </tr>\n",
              "    <tr>\n",
              "      <th>2</th>\n",
              "      <td>108</td>\n",
              "      <td>[13043, 2220, 61304, 61305, 61306, 53893, 1794...</td>\n",
              "    </tr>\n",
              "    <tr>\n",
              "      <th>3</th>\n",
              "      <td>118</td>\n",
              "      <td>[104073, 53894, 94697, 3092, 103109, 42627, 95...</td>\n",
              "    </tr>\n",
              "    <tr>\n",
              "      <th>4</th>\n",
              "      <td>180</td>\n",
              "      <td>[95217, 104987, 3511, 105181, 104073, 81826, 1...</td>\n",
              "    </tr>\n",
              "  </tbody>\n",
              "</table>\n",
              "</div>\n",
              "      <button class=\"colab-df-convert\" onclick=\"convertToInteractive('df-5f4e91ed-5898-4d9a-bc48-ce6fb1fc8ff7')\"\n",
              "              title=\"Convert this dataframe to an interactive table.\"\n",
              "              style=\"display:none;\">\n",
              "        \n",
              "  <svg xmlns=\"http://www.w3.org/2000/svg\" height=\"24px\"viewBox=\"0 0 24 24\"\n",
              "       width=\"24px\">\n",
              "    <path d=\"M0 0h24v24H0V0z\" fill=\"none\"/>\n",
              "    <path d=\"M18.56 5.44l.94 2.06.94-2.06 2.06-.94-2.06-.94-.94-2.06-.94 2.06-2.06.94zm-11 1L8.5 8.5l.94-2.06 2.06-.94-2.06-.94L8.5 2.5l-.94 2.06-2.06.94zm10 10l.94 2.06.94-2.06 2.06-.94-2.06-.94-.94-2.06-.94 2.06-2.06.94z\"/><path d=\"M17.41 7.96l-1.37-1.37c-.4-.4-.92-.59-1.43-.59-.52 0-1.04.2-1.43.59L10.3 9.45l-7.72 7.72c-.78.78-.78 2.05 0 2.83L4 21.41c.39.39.9.59 1.41.59.51 0 1.02-.2 1.41-.59l7.78-7.78 2.81-2.81c.8-.78.8-2.07 0-2.86zM5.41 20L4 18.59l7.72-7.72 1.47 1.35L5.41 20z\"/>\n",
              "  </svg>\n",
              "      </button>\n",
              "      \n",
              "  <style>\n",
              "    .colab-df-container {\n",
              "      display:flex;\n",
              "      flex-wrap:wrap;\n",
              "      gap: 12px;\n",
              "    }\n",
              "\n",
              "    .colab-df-convert {\n",
              "      background-color: #E8F0FE;\n",
              "      border: none;\n",
              "      border-radius: 50%;\n",
              "      cursor: pointer;\n",
              "      display: none;\n",
              "      fill: #1967D2;\n",
              "      height: 32px;\n",
              "      padding: 0 0 0 0;\n",
              "      width: 32px;\n",
              "    }\n",
              "\n",
              "    .colab-df-convert:hover {\n",
              "      background-color: #E2EBFA;\n",
              "      box-shadow: 0px 1px 2px rgba(60, 64, 67, 0.3), 0px 1px 3px 1px rgba(60, 64, 67, 0.15);\n",
              "      fill: #174EA6;\n",
              "    }\n",
              "\n",
              "    [theme=dark] .colab-df-convert {\n",
              "      background-color: #3B4455;\n",
              "      fill: #D2E3FC;\n",
              "    }\n",
              "\n",
              "    [theme=dark] .colab-df-convert:hover {\n",
              "      background-color: #434B5C;\n",
              "      box-shadow: 0px 1px 3px 1px rgba(0, 0, 0, 0.15);\n",
              "      filter: drop-shadow(0px 1px 2px rgba(0, 0, 0, 0.3));\n",
              "      fill: #FFFFFF;\n",
              "    }\n",
              "  </style>\n",
              "\n",
              "      <script>\n",
              "        const buttonEl =\n",
              "          document.querySelector('#df-5f4e91ed-5898-4d9a-bc48-ce6fb1fc8ff7 button.colab-df-convert');\n",
              "        buttonEl.style.display =\n",
              "          google.colab.kernel.accessAllowed ? 'block' : 'none';\n",
              "\n",
              "        async function convertToInteractive(key) {\n",
              "          const element = document.querySelector('#df-5f4e91ed-5898-4d9a-bc48-ce6fb1fc8ff7');\n",
              "          const dataTable =\n",
              "            await google.colab.kernel.invokeFunction('convertToInteractive',\n",
              "                                                     [key], {});\n",
              "          if (!dataTable) return;\n",
              "\n",
              "          const docLinkHtml = 'Like what you see? Visit the ' +\n",
              "            '<a target=\"_blank\" href=https://colab.research.google.com/notebooks/data_table.ipynb>data table notebook</a>'\n",
              "            + ' to learn more about interactive tables.';\n",
              "          element.innerHTML = '';\n",
              "          dataTable['output_type'] = 'display_data';\n",
              "          await google.colab.output.renderOutput(dataTable, element);\n",
              "          const docLink = document.createElement('div');\n",
              "          docLink.innerHTML = docLinkHtml;\n",
              "          element.appendChild(docLink);\n",
              "        }\n",
              "      </script>\n",
              "    </div>\n",
              "  </div>\n",
              "  "
            ]
          },
          "metadata": {},
          "execution_count": 37
        }
      ],
      "source": [
        "pred.head()"
      ]
    },
    {
      "cell_type": "code",
      "execution_count": null,
      "metadata": {
        "id": "G1Qh3k2aGGQW"
      },
      "outputs": [],
      "source": [
        "label = labels[1]\n",
        "label = pd.merge(label, pred, on=\"customer_id\", how=\"left\")"
      ]
    },
    {
      "cell_type": "code",
      "execution_count": null,
      "metadata": {
        "colab": {
          "base_uri": "https://localhost:8080/"
        },
        "id": "XrFnQ2evGGQW",
        "outputId": "081e9a82-8206-431a-8567-97d39711dba4"
      },
      "outputs": [
        {
          "output_type": "execute_result",
          "data": {
            "text/plain": [
              "0.029497050662508465"
            ]
          },
          "metadata": {},
          "execution_count": 39
        }
      ],
      "source": [
        "map_at_k(label[\"article_id\"], label[\"prediction\"], k=12)\n",
        "\n",
        "# 0.02820525160663368 1-week add normalization\n",
        "# 0.028936597823123886 4-week min_pos_rate 0.006 0.0274\n",
        "# 0.029111989281461418 4-week drop full-negative customer\n",
        "# 0.029165419468984943 3-week 0.0270\n",
        "# 0.028694388096248934 4-week min_pos_rate 0.005 lr=0.03\n",
        "# 0.028927037894290773 4-week min_pos_rate 0.005 lr=0.01\n",
        "# 0.028936597823123886 4-week min_pos_rate 0.005 lr=0.01 max_depth=9, num_leaves=256\n",
        "\n",
        "# 0.02184774486112968\n",
        "# 0.021299757514744458\n",
        "# 0.024265585916471977\n",
        "\n",
        "# 0.025168746198396853"
      ]
    },
    {
      "cell_type": "code",
      "execution_count": null,
      "metadata": {
        "id": "VZKJxncIyFdF",
        "outputId": "0b380aa8-2cf1-4c46-ab25-7e236e80eda1",
        "colab": {
          "base_uri": "https://localhost:8080/"
        }
      },
      "outputs": [
        {
          "output_type": "execute_result",
          "data": {
            "text/plain": [
              "0.1234544551816865"
            ]
          },
          "metadata": {},
          "execution_count": 40
        }
      ],
      "source": [
        "recall_at_k(label[\"article_id\"], label[\"prediction\"], k=44)#0.18282943194751883"
      ]
    },
    {
      "cell_type": "markdown",
      "metadata": {
        "id": "OPdhQ_0RyFdF"
      },
      "source": [
        "### Test"
      ]
    },
    {
      "cell_type": "code",
      "execution_count": null,
      "metadata": {
        "id": "KRnuTT-xyFdF",
        "outputId": "4746e677-215d-4a13-a34c-b33f95478cb0"
      },
      "outputs": [
        {
          "data": {
            "text/plain": [
              "44"
            ]
          },
          "execution_count": 26,
          "metadata": {},
          "output_type": "execute_result"
        }
      ],
      "source": [
        "del val_candidates, candidates\n",
        "gc.collect()"
      ]
    },
    {
      "cell_type": "code",
      "source": [
        "idx2uid = pickle.load(open(data_dir/\"index_id_map/user_index2id.pkl\", \"rb\"))\n",
        "idx2iid = pickle.load(open(data_dir/\"index_id_map/item_index2id.pkl\", \"rb\"))\n",
        "uid2idx = pickle.load(open(data_dir/\"index_id_map/user_id2index.pkl\", \"rb\"))"
      ],
      "metadata": {
        "id": "pYJAV-pVQTBw"
      },
      "execution_count": null,
      "outputs": []
    },
    {
      "cell_type": "code",
      "source": [
        "def parse(x):\n",
        "    l = ['0'+str(idx2iid[i]) for i in x]\n",
        "    l = ' '.join(l[:12])\n",
        "    return l"
      ],
      "metadata": {
        "id": "Xs_ZZMFgQUYT"
      },
      "execution_count": null,
      "outputs": []
    },
    {
      "cell_type": "code",
      "execution_count": null,
      "metadata": {
        "id": "U9n8mvEkyFdG"
      },
      "outputs": [],
      "source": [
        "for i in range(TEST_BATCH_NUM):\n",
        "    test_candidates = pd.read_parquet(data_dir/\"processed\"/VERSION_NAME/f\"week0_candidate_{i}.pqt\")\n",
        "    for feat in cat_features:\n",
        "        test_candidates[feat] = test_candidates[feat].astype(cate_dict[feat])\n",
        "    test_pred = predict(ranker, test_candidates)\n",
        "    test_pred['prediction'] = test_pred['prediction'].progress_apply(lambda x: parse(x))\n",
        "    submission = pd.read_csv(data_dir/\"raw\"/'sample_submission.csv')\n",
        "    submission['customer_id'] = submission['customer_id'].map(uid2idx)\n",
        "    del submission['prediction']\n",
        "    submission = submission.merge(test_pred, on='customer_id', how='right')\n",
        "    submission['customer_id'] = submission['customer_id'].map(idx2uid)\n",
        "    submission.to_csv(f'submission_{i}.csv', index=False)"
      ]
    },
    {
      "cell_type": "code",
      "execution_count": null,
      "metadata": {
        "id": "Gv6zGq3fyFdJ"
      },
      "outputs": [],
      "source": [
        "submit = []\n",
        "for i in range(TEST_BATCH_NUM):\n",
        "    submit.append(pd.read_csv(f'submission_{i}.csv'))"
      ]
    },
    {
      "cell_type": "code",
      "source": [
        "submit = pd.concat(submit, ignore_index=False)\n",
        "submit.to_csv('submitssion.csv', index=False)"
      ],
      "metadata": {
        "id": "iNQrlDhdQ1rX"
      },
      "execution_count": null,
      "outputs": []
    }
  ],
  "metadata": {
    "colab": {
      "collapsed_sections": [
        "TBIrKxhRGGQR",
        "jywhBCAGGGQS"
      ],
      "machine_shape": "hm",
      "name": "HM-RecLargeRecall-new.ipynb",
      "provenance": []
    },
    "interpreter": {
      "hash": "eee4fdb9ca52ce5d5f0a2a1c2a1d0a4896d6b735579ddf3d9c0ee93e21b97ca8"
    },
    "kernelspec": {
      "display_name": "Python 3.7.11 ('handyrec')",
      "language": "python",
      "name": "python3"
    },
    "language_info": {
      "codemirror_mode": {
        "name": "ipython",
        "version": 3
      },
      "file_extension": ".py",
      "mimetype": "text/x-python",
      "name": "python",
      "nbconvert_exporter": "python",
      "pygments_lexer": "ipython3",
      "version": "3.7.11"
    }
  },
  "nbformat": 4,
  "nbformat_minor": 0
}