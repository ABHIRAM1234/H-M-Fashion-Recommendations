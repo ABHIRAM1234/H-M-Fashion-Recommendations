{
 "cells": [
  {
   "cell_type": "code",
   "execution_count": 1,
   "metadata": {
    "colab": {
     "base_uri": "https://localhost:8080/"
    },
    "executionInfo": {
     "elapsed": 4410,
     "status": "ok",
     "timestamp": 1650813100148,
     "user": {
      "displayName": "WP Zhang",
      "userId": "08181056311681578219"
     },
     "user_tz": 240
    },
    "id": "Ej-kIjP5d_zw",
    "outputId": "c813fd95-9b13-4ac7-c6af-bd760d63a3c4"
   },
   "outputs": [],
   "source": [
    "# %pip install -U lightgbm==3.3.2"
   ]
  },
  {
   "cell_type": "code",
   "execution_count": 1,
   "metadata": {
    "executionInfo": {
     "elapsed": 2162,
     "status": "ok",
     "timestamp": 1650813104317,
     "user": {
      "displayName": "WP Zhang",
      "userId": "08181056311681578219"
     },
     "user_tz": 240
    },
    "id": "gboISq82XUN1"
   },
   "outputs": [],
   "source": [
    "import pandas as pd\n",
    "from pandas.api.types import CategoricalDtype\n",
    "import numpy as np\n",
    "import seaborn as sns\n",
    "import matplotlib.pyplot as plt\n",
    "import lightgbm as lgb\n",
    "\n",
    "import pickle\n",
    "from tqdm import tqdm\n",
    "import gc\n",
    "from pathlib import Path"
   ]
  },
  {
   "cell_type": "code",
   "execution_count": 2,
   "metadata": {
    "executionInfo": {
     "elapsed": 6,
     "status": "ok",
     "timestamp": 1650813104318,
     "user": {
      "displayName": "WP Zhang",
      "userId": "08181056311681578219"
     },
     "user_tz": 240
    },
    "id": "F6WO2VtEXefj"
   },
   "outputs": [],
   "source": [
    "import warnings\n",
    "import sys\n",
    "from IPython.core.interactiveshell import InteractiveShell\n",
    "\n",
    "warnings.filterwarnings(\"ignore\")\n",
    "sys.path.append(\"../\") # path to the `src`` folder\n",
    "InteractiveShell.ast_node_interactivity = \"all\"\n",
    "tqdm.pandas()"
   ]
  },
  {
   "cell_type": "code",
   "execution_count": 3,
   "metadata": {},
   "outputs": [],
   "source": [
    "from src.data import DataHelper\n",
    "from src.data.metrics import map_at_k, hr_at_k, recall_at_k\n",
    "\n",
    "from src.retrieval.rules import (\n",
    "    OrderHistory,\n",
    "    OrderHistoryDecay,\n",
    "    ItemPair,\n",
    "    UserGroupTimeHistory,\n",
    "    UserGroupSaleTrend,\n",
    "    TimeHistory,\n",
    "    TimeHistoryDecay,\n",
    "    SaleTrend,\n",
    "    OutOfStock,\n",
    ")\n",
    "from src.retrieval.collector import RuleCollector\n",
    "\n",
    "from src.features import cum_sale, week_sale, repurchase_ratio, purchased_before, popularity\n",
    "\n",
    "from src.utils import (\n",
    "    calc_valid_date,\n",
    "    merge_week_data,\n",
    "    reduce_mem_usage,\n",
    "    calc_embd_similarity,\n",
    ")"
   ]
  },
  {
   "cell_type": "code",
   "execution_count": 4,
   "metadata": {},
   "outputs": [],
   "source": [
    "data_dir = Path(\"../data/\")\n",
    "model_dir = Path(\"../models/\")"
   ]
  },
  {
   "cell_type": "code",
   "execution_count": 5,
   "metadata": {},
   "outputs": [],
   "source": [
    "TRAIN_WEEK_NUM = 4\n",
    "WEEK_NUM = TRAIN_WEEK_NUM + 2\n",
    "\n",
    "VERSION_NAME = \"pivot\"\n",
    "TEST = True # * Set as `False` when do local experiments to save time"
   ]
  },
  {
   "cell_type": "code",
   "execution_count": 6,
   "metadata": {},
   "outputs": [],
   "source": [
    "import os\n",
    "if not os.path.exists(data_dir/\"interim\"/VERSION_NAME):\n",
    "    os.mkdir(data_dir/\"interim\"/VERSION_NAME)\n",
    "if not os.path.exists(data_dir/\"processed\"/VERSION_NAME):\n",
    "    os.mkdir(data_dir/\"processed\"/VERSION_NAME)"
   ]
  },
  {
   "cell_type": "markdown",
   "metadata": {},
   "source": [
    "Pepare data: encoding ids and preprocessing"
   ]
  },
  {
   "cell_type": "code",
   "execution_count": 7,
   "metadata": {
    "executionInfo": {
     "elapsed": 5,
     "status": "ok",
     "timestamp": 1650813104318,
     "user": {
      "displayName": "WP Zhang",
      "userId": "08181056311681578219"
     },
     "user_tz": 240
    },
    "id": "2BPv2lcWGGQJ"
   },
   "outputs": [],
   "source": [
    "dh = DataHelper(data_dir)"
   ]
  },
  {
   "cell_type": "code",
   "execution_count": 8,
   "metadata": {},
   "outputs": [],
   "source": [
    "# data = dh.preprocess_data(save=True, name=\"encoded_full\") # * run only once, processed data will be saved"
   ]
  },
  {
   "cell_type": "code",
   "execution_count": 9,
   "metadata": {
    "executionInfo": {
     "elapsed": 7841,
     "status": "ok",
     "timestamp": 1650813112154,
     "user": {
      "displayName": "WP Zhang",
      "userId": "08181056311681578219"
     },
     "user_tz": 240
    },
    "id": "i3ngtb7NUGbH"
   },
   "outputs": [],
   "source": [
    "data = dh.load_data(name=\"encoded_full\")"
   ]
  },
  {
   "cell_type": "code",
   "execution_count": 10,
   "metadata": {},
   "outputs": [],
   "source": [
    "uid2idx = pickle.load(open(data_dir/\"index_id_map/user_id2index.pkl\", \"rb\"))\n",
    "submission = pd.read_csv(data_dir/\"raw\"/'sample_submission.csv')\n",
    "submission['customer_id'] = submission['customer_id'].map(uid2idx)"
   ]
  },
  {
   "cell_type": "markdown",
   "metadata": {
    "id": "LX4M190s4pxo"
   },
   "source": [
    "## Retrieval\n"
   ]
  },
  {
   "cell_type": "markdown",
   "metadata": {},
   "source": [
    "Generate candidates for each week"
   ]
  },
  {
   "cell_type": "code",
   "execution_count": 11,
   "metadata": {},
   "outputs": [],
   "source": [
    "listBin = [-1, 19, 29, 39, 49, 59, 69, 119]\n",
    "data['user']['age_bins'] = pd.cut(data['user']['age'], listBin)"
   ]
  },
  {
   "cell_type": "code",
   "execution_count": 13,
   "metadata": {},
   "outputs": [
    {
     "name": "stdout",
     "output_type": "stream",
     "text": [
      "Week 1: [2020-09-16, 2020-09-23)\n"
     ]
    },
    {
     "name": "stderr",
     "output_type": "stream",
     "text": [
      "Retrieve items by rules:   6%|▋         | 1/16 [00:22<05:44, 22.97s/it]"
     ]
    },
    {
     "name": "stdout",
     "output_type": "stream",
     "text": [
      "Positive rate: 0.03038\n"
     ]
    },
    {
     "name": "stderr",
     "output_type": "stream",
     "text": [
      "Retrieve items by rules:  12%|█▎        | 2/16 [00:47<05:35, 23.93s/it]"
     ]
    },
    {
     "name": "stdout",
     "output_type": "stream",
     "text": [
      "Positive rate: 0.02859\n"
     ]
    },
    {
     "name": "stderr",
     "output_type": "stream",
     "text": [
      "Retrieve items by rules:  19%|█▉        | 3/16 [01:54<09:26, 43.61s/it]"
     ]
    },
    {
     "name": "stdout",
     "output_type": "stream",
     "text": [
      "Positive rate: 0.01413\n"
     ]
    },
    {
     "name": "stderr",
     "output_type": "stream",
     "text": [
      "Retrieve items by rules:  25%|██▌       | 4/16 [03:03<10:42, 53.51s/it]"
     ]
    },
    {
     "name": "stdout",
     "output_type": "stream",
     "text": [
      "Positive rate: 0.01295\n",
      "Positive rate: 0.01519\n"
     ]
    },
    {
     "name": "stderr",
     "output_type": "stream",
     "text": [
      "Retrieve items by rules:  31%|███▏      | 5/16 [03:23<07:36, 41.50s/it]"
     ]
    },
    {
     "name": "stdout",
     "output_type": "stream",
     "text": [
      "Positive rate: 0.01472\n"
     ]
    },
    {
     "name": "stderr",
     "output_type": "stream",
     "text": [
      "Retrieve items by rules:  38%|███▊      | 6/16 [03:46<05:53, 35.35s/it]"
     ]
    },
    {
     "name": "stdout",
     "output_type": "stream",
     "text": [
      "Positive rate: 0.00908\n"
     ]
    },
    {
     "name": "stderr",
     "output_type": "stream",
     "text": [
      "Retrieve items by rules:  44%|████▍     | 7/16 [04:23<05:20, 35.62s/it]"
     ]
    },
    {
     "name": "stdout",
     "output_type": "stream",
     "text": [
      "Positive rate: 0.00853\n"
     ]
    },
    {
     "name": "stderr",
     "output_type": "stream",
     "text": [
      "Retrieve items by rules:  50%|█████     | 8/16 [05:10<05:15, 39.42s/it]"
     ]
    },
    {
     "name": "stdout",
     "output_type": "stream",
     "text": [
      "TOP15.0 Positive rate: 0.00602\n"
     ]
    },
    {
     "name": "stderr",
     "output_type": "stream",
     "text": [
      "Retrieve items by rules:  56%|█████▋    | 9/16 [05:18<03:26, 29.53s/it]"
     ]
    },
    {
     "name": "stdout",
     "output_type": "stream",
     "text": [
      "TOP20.5 Positive rate: 0.00608\n"
     ]
    },
    {
     "name": "stderr",
     "output_type": "stream",
     "text": [
      "Retrieve items by rules:  62%|██████▎   | 10/16 [05:25<02:16, 22.68s/it]"
     ]
    },
    {
     "name": "stdout",
     "output_type": "stream",
     "text": [
      "TOP2.0 Positive rate: 0.00652\n"
     ]
    },
    {
     "name": "stderr",
     "output_type": "stream",
     "text": [
      "Retrieve items by rules:  69%|██████▉   | 11/16 [05:41<01:42, 20.42s/it]"
     ]
    },
    {
     "name": "stdout",
     "output_type": "stream",
     "text": [
      "TOP9.0 Positive rate: 0.00631\n"
     ]
    },
    {
     "name": "stderr",
     "output_type": "stream",
     "text": [
      "Retrieve items by rules:  75%|███████▌  | 12/16 [05:47<01:05, 16.32s/it]"
     ]
    },
    {
     "name": "stdout",
     "output_type": "stream",
     "text": [
      "TOP16.0 Positive rate: 0.00601\n"
     ]
    },
    {
     "name": "stderr",
     "output_type": "stream",
     "text": [
      "Retrieve items by rules:  81%|████████▏ | 13/16 [05:55<00:40, 13.50s/it]"
     ]
    },
    {
     "name": "stdout",
     "output_type": "stream",
     "text": [
      "TOP12.0 Positive rate: 0.00607\n"
     ]
    },
    {
     "name": "stderr",
     "output_type": "stream",
     "text": [
      "Retrieve items by rules:  88%|████████▊ | 14/16 [06:29<00:39, 19.96s/it]"
     ]
    },
    {
     "name": "stdout",
     "output_type": "stream",
     "text": [
      "TOP8.0 Positive rate: 0.00616\n"
     ]
    },
    {
     "name": "stderr",
     "output_type": "stream",
     "text": [
      "Retrieve items by rules:  94%|█████████▍| 15/16 [07:02<00:23, 23.84s/it]"
     ]
    },
    {
     "name": "stdout",
     "output_type": "stream",
     "text": [
      "TOP2.0 Positive rate: 0.00758\n"
     ]
    },
    {
     "name": "stderr",
     "output_type": "stream",
     "text": [
      "Retrieve items by rules: 100%|██████████| 16/16 [07:15<00:00, 27.22s/it]\n"
     ]
    },
    {
     "name": "stdout",
     "output_type": "stream",
     "text": [
      "Week 2: [2020-09-09, 2020-09-16)\n"
     ]
    },
    {
     "name": "stderr",
     "output_type": "stream",
     "text": [
      "Retrieve items by rules:   6%|▋         | 1/16 [00:23<05:52, 23.47s/it]"
     ]
    },
    {
     "name": "stdout",
     "output_type": "stream",
     "text": [
      "Positive rate: 0.03008\n"
     ]
    },
    {
     "name": "stderr",
     "output_type": "stream",
     "text": [
      "Retrieve items by rules:  12%|█▎        | 2/16 [01:07<08:19, 35.65s/it]"
     ]
    },
    {
     "name": "stdout",
     "output_type": "stream",
     "text": [
      "Positive rate: 0.02825\n",
      "Positive rate: 0.01354\n"
     ]
    },
    {
     "name": "stderr",
     "output_type": "stream",
     "text": [
      "Retrieve items by rules:  19%|█▉        | 3/16 [03:17<17:02, 78.67s/it]"
     ]
    },
    {
     "name": "stdout",
     "output_type": "stream",
     "text": [
      "Positive rate: 0.01244\n"
     ]
    },
    {
     "name": "stderr",
     "output_type": "stream",
     "text": [
      "Retrieve items by rules:  25%|██▌       | 4/16 [05:40<20:47, 103.98s/it]"
     ]
    },
    {
     "name": "stdout",
     "output_type": "stream",
     "text": [
      "Positive rate: 0.01435\n"
     ]
    },
    {
     "name": "stderr",
     "output_type": "stream",
     "text": [
      "Retrieve items by rules:  31%|███▏      | 5/16 [06:25<15:09, 82.67s/it] "
     ]
    },
    {
     "name": "stdout",
     "output_type": "stream",
     "text": [
      "Positive rate: 0.01376\n"
     ]
    },
    {
     "name": "stderr",
     "output_type": "stream",
     "text": [
      "Retrieve items by rules:  38%|███▊      | 6/16 [07:16<11:59, 71.91s/it]"
     ]
    },
    {
     "name": "stdout",
     "output_type": "stream",
     "text": [
      "Positive rate: 0.00886\n"
     ]
    },
    {
     "name": "stderr",
     "output_type": "stream",
     "text": [
      "Retrieve items by rules:  44%|████▍     | 7/16 [08:34<11:06, 74.07s/it]"
     ]
    },
    {
     "name": "stdout",
     "output_type": "stream",
     "text": [
      "Positive rate: 0.00830\n"
     ]
    },
    {
     "name": "stderr",
     "output_type": "stream",
     "text": [
      "Retrieve items by rules:  50%|█████     | 8/16 [10:27<11:31, 86.48s/it]"
     ]
    },
    {
     "name": "stdout",
     "output_type": "stream",
     "text": [
      "TOP10.0 Positive rate: 0.00610\n"
     ]
    },
    {
     "name": "stderr",
     "output_type": "stream",
     "text": [
      "Retrieve items by rules:  56%|█████▋    | 9/16 [10:49<07:43, 66.17s/it]"
     ]
    },
    {
     "name": "stdout",
     "output_type": "stream",
     "text": [
      "TOP7.0 Positive rate: 0.00611\n"
     ]
    },
    {
     "name": "stderr",
     "output_type": "stream",
     "text": [
      "Retrieve items by rules:  69%|██████▉   | 11/16 [11:41<03:50, 46.02s/it]"
     ]
    },
    {
     "name": "stdout",
     "output_type": "stream",
     "text": [
      "skip\n"
     ]
    },
    {
     "name": "stderr",
     "output_type": "stream",
     "text": [
      "Retrieve items by rules:  75%|███████▌  | 12/16 [11:55<02:25, 36.35s/it]"
     ]
    },
    {
     "name": "stdout",
     "output_type": "stream",
     "text": [
      "skip\n"
     ]
    },
    {
     "name": "stderr",
     "output_type": "stream",
     "text": [
      "Retrieve items by rules:  81%|████████▏ | 13/16 [12:10<01:29, 29.93s/it]"
     ]
    },
    {
     "name": "stdout",
     "output_type": "stream",
     "text": [
      "skip\n",
      "TOP6.0 Positive rate: 0.00606\n"
     ]
    },
    {
     "name": "stderr",
     "output_type": "stream",
     "text": [
      "Retrieve items by rules:  88%|████████▊ | 14/16 [13:33<01:31, 45.99s/it]"
     ]
    },
    {
     "name": "stdout",
     "output_type": "stream",
     "text": [
      "TOP7.0 Positive rate: 0.00603\n"
     ]
    },
    {
     "name": "stderr",
     "output_type": "stream",
     "text": [
      "Retrieve items by rules: 100%|██████████| 16/16 [15:18<00:00, 57.39s/it]"
     ]
    },
    {
     "name": "stdout",
     "output_type": "stream",
     "text": [
      "skip\n"
     ]
    },
    {
     "name": "stderr",
     "output_type": "stream",
     "text": [
      "\n"
     ]
    },
    {
     "name": "stdout",
     "output_type": "stream",
     "text": [
      "Week 3: [2020-09-02, 2020-09-09)\n"
     ]
    },
    {
     "name": "stderr",
     "output_type": "stream",
     "text": [
      "Retrieve items by rules:   6%|▋         | 1/16 [00:22<05:41, 22.75s/it]"
     ]
    },
    {
     "name": "stdout",
     "output_type": "stream",
     "text": [
      "Positive rate: 0.02822\n"
     ]
    },
    {
     "name": "stderr",
     "output_type": "stream",
     "text": [
      "Retrieve items by rules:  12%|█▎        | 2/16 [00:46<05:25, 23.24s/it]"
     ]
    },
    {
     "name": "stdout",
     "output_type": "stream",
     "text": [
      "Positive rate: 0.02679\n"
     ]
    },
    {
     "name": "stderr",
     "output_type": "stream",
     "text": [
      "Retrieve items by rules:  19%|█▉        | 3/16 [01:52<09:15, 42.74s/it]"
     ]
    },
    {
     "name": "stdout",
     "output_type": "stream",
     "text": [
      "Positive rate: 0.01321\n",
      "Positive rate: 0.01237\n"
     ]
    },
    {
     "name": "stderr",
     "output_type": "stream",
     "text": [
      "Retrieve items by rules:  25%|██▌       | 4/16 [03:01<10:40, 53.35s/it]"
     ]
    },
    {
     "name": "stdout",
     "output_type": "stream",
     "text": [
      "Positive rate: 0.01490\n"
     ]
    },
    {
     "name": "stderr",
     "output_type": "stream",
     "text": [
      "Retrieve items by rules:  31%|███▏      | 5/16 [03:23<07:40, 41.90s/it]"
     ]
    },
    {
     "name": "stdout",
     "output_type": "stream",
     "text": [
      "Positive rate: 0.01435\n"
     ]
    },
    {
     "name": "stderr",
     "output_type": "stream",
     "text": [
      "Retrieve items by rules:  38%|███▊      | 6/16 [03:46<05:55, 35.56s/it]"
     ]
    },
    {
     "name": "stdout",
     "output_type": "stream",
     "text": [
      "Positive rate: 0.00910\n"
     ]
    },
    {
     "name": "stderr",
     "output_type": "stream",
     "text": [
      "Retrieve items by rules:  44%|████▍     | 7/16 [04:33<05:51, 39.08s/it]"
     ]
    },
    {
     "name": "stdout",
     "output_type": "stream",
     "text": [
      "Positive rate: 0.00873\n"
     ]
    },
    {
     "name": "stderr",
     "output_type": "stream",
     "text": [
      "Retrieve items by rules:  50%|█████     | 8/16 [05:29<05:57, 44.64s/it]"
     ]
    },
    {
     "name": "stdout",
     "output_type": "stream",
     "text": [
      "TOP16.0 Positive rate: 0.00601\n"
     ]
    },
    {
     "name": "stderr",
     "output_type": "stream",
     "text": [
      "Retrieve items by rules:  56%|█████▋    | 9/16 [05:38<03:54, 33.46s/it]"
     ]
    },
    {
     "name": "stdout",
     "output_type": "stream",
     "text": [
      "TOP10.5 Positive rate: 0.00612\n"
     ]
    },
    {
     "name": "stderr",
     "output_type": "stream",
     "text": [
      "Retrieve items by rules:  69%|██████▉   | 11/16 [06:01<01:51, 22.28s/it]"
     ]
    },
    {
     "name": "stdout",
     "output_type": "stream",
     "text": [
      "skip\n",
      "TOP11.0 Positive rate: 0.00619\n"
     ]
    },
    {
     "name": "stderr",
     "output_type": "stream",
     "text": [
      "Retrieve items by rules:  75%|███████▌  | 12/16 [06:08<01:10, 17.66s/it]"
     ]
    },
    {
     "name": "stdout",
     "output_type": "stream",
     "text": [
      "TOP9.0 Positive rate: 0.00619\n"
     ]
    },
    {
     "name": "stderr",
     "output_type": "stream",
     "text": [
      "Retrieve items by rules:  81%|████████▏ | 13/16 [06:15<00:43, 14.57s/it]"
     ]
    },
    {
     "name": "stdout",
     "output_type": "stream",
     "text": [
      "TOP10.0 Positive rate: 0.00601\n"
     ]
    },
    {
     "name": "stderr",
     "output_type": "stream",
     "text": [
      "Retrieve items by rules:  88%|████████▊ | 14/16 [06:51<00:41, 20.82s/it]"
     ]
    },
    {
     "name": "stdout",
     "output_type": "stream",
     "text": [
      "TOP9.0 Positive rate: 0.00622\n"
     ]
    },
    {
     "name": "stderr",
     "output_type": "stream",
     "text": [
      "Retrieve items by rules: 100%|██████████| 16/16 [07:37<00:00, 28.61s/it]"
     ]
    },
    {
     "name": "stdout",
     "output_type": "stream",
     "text": [
      "skip\n"
     ]
    },
    {
     "name": "stderr",
     "output_type": "stream",
     "text": [
      "\n"
     ]
    },
    {
     "name": "stdout",
     "output_type": "stream",
     "text": [
      "Week 4: [2020-08-26, 2020-09-02)\n"
     ]
    },
    {
     "name": "stderr",
     "output_type": "stream",
     "text": [
      "Retrieve items by rules:   6%|▋         | 1/16 [00:23<05:49, 23.32s/it]"
     ]
    },
    {
     "name": "stdout",
     "output_type": "stream",
     "text": [
      "Positive rate: 0.02406\n"
     ]
    },
    {
     "name": "stderr",
     "output_type": "stream",
     "text": [
      "Retrieve items by rules:  12%|█▎        | 2/16 [00:46<05:29, 23.51s/it]"
     ]
    },
    {
     "name": "stdout",
     "output_type": "stream",
     "text": [
      "Positive rate: 0.02268\n"
     ]
    },
    {
     "name": "stderr",
     "output_type": "stream",
     "text": [
      "Retrieve items by rules:  19%|█▉        | 3/16 [01:53<09:21, 43.16s/it]"
     ]
    },
    {
     "name": "stdout",
     "output_type": "stream",
     "text": [
      "Positive rate: 0.01182\n"
     ]
    },
    {
     "name": "stderr",
     "output_type": "stream",
     "text": [
      "Retrieve items by rules:  25%|██▌       | 4/16 [03:03<10:44, 53.74s/it]"
     ]
    },
    {
     "name": "stdout",
     "output_type": "stream",
     "text": [
      "Positive rate: 0.01123\n",
      "Positive rate: 0.01353\n"
     ]
    },
    {
     "name": "stderr",
     "output_type": "stream",
     "text": [
      "Retrieve items by rules:  31%|███▏      | 5/16 [03:25<07:44, 42.20s/it]"
     ]
    },
    {
     "name": "stdout",
     "output_type": "stream",
     "text": [
      "Positive rate: 0.01306\n"
     ]
    },
    {
     "name": "stderr",
     "output_type": "stream",
     "text": [
      "Retrieve items by rules:  38%|███▊      | 6/16 [03:49<06:01, 36.20s/it]"
     ]
    },
    {
     "name": "stdout",
     "output_type": "stream",
     "text": [
      "Positive rate: 0.00876\n"
     ]
    },
    {
     "name": "stderr",
     "output_type": "stream",
     "text": [
      "Retrieve items by rules:  44%|████▍     | 7/16 [04:39<06:04, 40.53s/it]"
     ]
    },
    {
     "name": "stdout",
     "output_type": "stream",
     "text": [
      "Positive rate: 0.00836\n"
     ]
    },
    {
     "name": "stderr",
     "output_type": "stream",
     "text": [
      "Retrieve items by rules:  50%|█████     | 8/16 [05:41<06:19, 47.39s/it]"
     ]
    },
    {
     "name": "stdout",
     "output_type": "stream",
     "text": [
      "TOP13.0 Positive rate: 0.00603\n"
     ]
    },
    {
     "name": "stderr",
     "output_type": "stream",
     "text": [
      "Retrieve items by rules:  56%|█████▋    | 9/16 [05:50<04:08, 35.45s/it]"
     ]
    },
    {
     "name": "stdout",
     "output_type": "stream",
     "text": [
      "TOP14.5 Positive rate: 0.00606\n"
     ]
    },
    {
     "name": "stderr",
     "output_type": "stream",
     "text": [
      "Retrieve items by rules:  69%|██████▉   | 11/16 [06:14<01:57, 23.54s/it]"
     ]
    },
    {
     "name": "stdout",
     "output_type": "stream",
     "text": [
      "skip\n",
      "TOP5.0 Positive rate: 0.00631\n"
     ]
    },
    {
     "name": "stderr",
     "output_type": "stream",
     "text": [
      "Retrieve items by rules:  75%|███████▌  | 12/16 [06:21<01:14, 18.71s/it]"
     ]
    },
    {
     "name": "stdout",
     "output_type": "stream",
     "text": [
      "TOP8.0 Positive rate: 0.00650\n"
     ]
    },
    {
     "name": "stderr",
     "output_type": "stream",
     "text": [
      "Retrieve items by rules:  81%|████████▏ | 13/16 [06:29<00:45, 15.25s/it]"
     ]
    },
    {
     "name": "stdout",
     "output_type": "stream",
     "text": [
      "TOP7.0 Positive rate: 0.00607\n"
     ]
    },
    {
     "name": "stderr",
     "output_type": "stream",
     "text": [
      "Retrieve items by rules:  88%|████████▊ | 14/16 [07:03<00:41, 20.96s/it]"
     ]
    },
    {
     "name": "stdout",
     "output_type": "stream",
     "text": [
      "TOP3.0 Positive rate: 0.00660\n"
     ]
    },
    {
     "name": "stderr",
     "output_type": "stream",
     "text": [
      "Retrieve items by rules: 100%|██████████| 16/16 [07:49<00:00, 29.35s/it]"
     ]
    },
    {
     "name": "stdout",
     "output_type": "stream",
     "text": [
      "skip\n"
     ]
    },
    {
     "name": "stderr",
     "output_type": "stream",
     "text": [
      "\n"
     ]
    },
    {
     "name": "stdout",
     "output_type": "stream",
     "text": [
      "Week 5: [2020-08-19, 2020-08-26)\n"
     ]
    },
    {
     "name": "stderr",
     "output_type": "stream",
     "text": [
      "Retrieve items by rules:   6%|▋         | 1/16 [00:23<05:55, 23.71s/it]"
     ]
    },
    {
     "name": "stdout",
     "output_type": "stream",
     "text": [
      "Positive rate: 0.02329\n"
     ]
    },
    {
     "name": "stderr",
     "output_type": "stream",
     "text": [
      "Retrieve items by rules:  12%|█▎        | 2/16 [00:48<05:37, 24.10s/it]"
     ]
    },
    {
     "name": "stdout",
     "output_type": "stream",
     "text": [
      "Positive rate: 0.02211\n",
      "Positive rate: 0.01187\n"
     ]
    },
    {
     "name": "stderr",
     "output_type": "stream",
     "text": [
      "Retrieve items by rules:  19%|█▉        | 3/16 [02:36<13:36, 62.77s/it]"
     ]
    },
    {
     "name": "stdout",
     "output_type": "stream",
     "text": [
      "Positive rate: 0.01101\n"
     ]
    },
    {
     "name": "stderr",
     "output_type": "stream",
     "text": [
      "Retrieve items by rules:  25%|██▌       | 4/16 [04:48<18:00, 90.03s/it]"
     ]
    },
    {
     "name": "stdout",
     "output_type": "stream",
     "text": [
      "Positive rate: 0.01325\n"
     ]
    },
    {
     "name": "stderr",
     "output_type": "stream",
     "text": [
      "Retrieve items by rules:  31%|███▏      | 5/16 [05:11<12:04, 65.89s/it]"
     ]
    },
    {
     "name": "stdout",
     "output_type": "stream",
     "text": [
      "Positive rate: 0.01269\n"
     ]
    },
    {
     "name": "stderr",
     "output_type": "stream",
     "text": [
      "Retrieve items by rules:  38%|███▊      | 6/16 [05:36<08:40, 52.00s/it]"
     ]
    },
    {
     "name": "stdout",
     "output_type": "stream",
     "text": [
      "Positive rate: 0.00869\n"
     ]
    },
    {
     "name": "stderr",
     "output_type": "stream",
     "text": [
      "Retrieve items by rules:  44%|████▍     | 7/16 [06:23<07:31, 50.13s/it]"
     ]
    },
    {
     "name": "stdout",
     "output_type": "stream",
     "text": [
      "Positive rate: 0.00826\n"
     ]
    },
    {
     "name": "stderr",
     "output_type": "stream",
     "text": [
      "Retrieve items by rules:  50%|█████     | 8/16 [07:22<07:05, 53.21s/it]"
     ]
    },
    {
     "name": "stdout",
     "output_type": "stream",
     "text": [
      "TOP2.5 Positive rate: 0.00600\n"
     ]
    },
    {
     "name": "stderr",
     "output_type": "stream",
     "text": [
      "Retrieve items by rules:  56%|█████▋    | 9/16 [07:29<04:30, 38.59s/it]"
     ]
    },
    {
     "name": "stdout",
     "output_type": "stream",
     "text": [
      "TOP8.0 Positive rate: 0.00605\n"
     ]
    },
    {
     "name": "stderr",
     "output_type": "stream",
     "text": [
      "Retrieve items by rules:  69%|██████▉   | 11/16 [07:49<02:00, 24.00s/it]"
     ]
    },
    {
     "name": "stdout",
     "output_type": "stream",
     "text": [
      "skip\n",
      "TOP2.0 Positive rate: 0.00657\n"
     ]
    },
    {
     "name": "stderr",
     "output_type": "stream",
     "text": [
      "Retrieve items by rules:  81%|████████▏ | 13/16 [07:59<00:42, 14.27s/it]"
     ]
    },
    {
     "name": "stdout",
     "output_type": "stream",
     "text": [
      "skip\n",
      "TOP1.0 Positive rate: 0.00644\n"
     ]
    },
    {
     "name": "stderr",
     "output_type": "stream",
     "text": [
      "Retrieve items by rules:  94%|█████████▍| 15/16 [09:01<00:22, 22.73s/it]"
     ]
    },
    {
     "name": "stdout",
     "output_type": "stream",
     "text": [
      "skip\n"
     ]
    },
    {
     "name": "stderr",
     "output_type": "stream",
     "text": [
      "Retrieve items by rules: 100%|██████████| 16/16 [09:13<00:00, 34.57s/it]"
     ]
    },
    {
     "name": "stdout",
     "output_type": "stream",
     "text": [
      "skip\n"
     ]
    },
    {
     "name": "stderr",
     "output_type": "stream",
     "text": [
      "\n"
     ]
    },
    {
     "name": "stdout",
     "output_type": "stream",
     "text": [
      "Week 6: [2020-08-12, 2020-08-19)\n"
     ]
    },
    {
     "name": "stderr",
     "output_type": "stream",
     "text": [
      "Retrieve items by rules:   6%|▋         | 1/16 [00:22<05:40, 22.67s/it]"
     ]
    },
    {
     "name": "stdout",
     "output_type": "stream",
     "text": [
      "Positive rate: 0.02325\n"
     ]
    },
    {
     "name": "stderr",
     "output_type": "stream",
     "text": [
      "Retrieve items by rules:  12%|█▎        | 2/16 [00:46<05:23, 23.14s/it]"
     ]
    },
    {
     "name": "stdout",
     "output_type": "stream",
     "text": [
      "Positive rate: 0.02198\n"
     ]
    },
    {
     "name": "stderr",
     "output_type": "stream",
     "text": [
      "Retrieve items by rules:  19%|█▉        | 3/16 [01:51<09:14, 42.64s/it]"
     ]
    },
    {
     "name": "stdout",
     "output_type": "stream",
     "text": [
      "Positive rate: 0.01166\n"
     ]
    },
    {
     "name": "stderr",
     "output_type": "stream",
     "text": [
      "Retrieve items by rules:  25%|██▌       | 4/16 [03:00<10:36, 53.05s/it]"
     ]
    },
    {
     "name": "stdout",
     "output_type": "stream",
     "text": [
      "Positive rate: 0.01050\n",
      "Positive rate: 0.01124\n"
     ]
    },
    {
     "name": "stderr",
     "output_type": "stream",
     "text": [
      "Retrieve items by rules:  31%|███▏      | 5/16 [03:22<07:37, 41.57s/it]"
     ]
    },
    {
     "name": "stdout",
     "output_type": "stream",
     "text": [
      "Positive rate: 0.01112\n"
     ]
    },
    {
     "name": "stderr",
     "output_type": "stream",
     "text": [
      "Retrieve items by rules:  38%|███▊      | 6/16 [03:46<05:57, 35.72s/it]"
     ]
    },
    {
     "name": "stdout",
     "output_type": "stream",
     "text": [
      "Positive rate: 0.00785\n"
     ]
    },
    {
     "name": "stderr",
     "output_type": "stream",
     "text": [
      "Retrieve items by rules:  44%|████▍     | 7/16 [04:35<06:00, 40.02s/it]"
     ]
    },
    {
     "name": "stdout",
     "output_type": "stream",
     "text": [
      "Positive rate: 0.00721\n"
     ]
    },
    {
     "name": "stderr",
     "output_type": "stream",
     "text": [
      "Retrieve items by rules:  50%|█████     | 8/16 [05:43<06:31, 48.96s/it]"
     ]
    },
    {
     "name": "stdout",
     "output_type": "stream",
     "text": [
      "TOP2.0 Positive rate: 0.00629\n"
     ]
    },
    {
     "name": "stderr",
     "output_type": "stream",
     "text": [
      "Retrieve items by rules:  62%|██████▎   | 10/16 [05:50<02:30, 25.07s/it]"
     ]
    },
    {
     "name": "stdout",
     "output_type": "stream",
     "text": [
      "skip\n"
     ]
    },
    {
     "name": "stderr",
     "output_type": "stream",
     "text": [
      "Retrieve items by rules:  69%|██████▉   | 11/16 [06:00<01:42, 20.41s/it]"
     ]
    },
    {
     "name": "stdout",
     "output_type": "stream",
     "text": [
      "skip\n"
     ]
    },
    {
     "name": "stderr",
     "output_type": "stream",
     "text": [
      "Retrieve items by rules:  75%|███████▌  | 12/16 [06:02<00:59, 14.81s/it]"
     ]
    },
    {
     "name": "stdout",
     "output_type": "stream",
     "text": [
      "skip\n"
     ]
    },
    {
     "name": "stderr",
     "output_type": "stream",
     "text": [
      "Retrieve items by rules:  81%|████████▏ | 13/16 [06:04<00:32, 10.90s/it]"
     ]
    },
    {
     "name": "stdout",
     "output_type": "stream",
     "text": [
      "skip\n"
     ]
    },
    {
     "name": "stderr",
     "output_type": "stream",
     "text": [
      "Retrieve items by rules:  88%|████████▊ | 14/16 [06:34<00:33, 16.79s/it]"
     ]
    },
    {
     "name": "stdout",
     "output_type": "stream",
     "text": [
      "skip\n"
     ]
    },
    {
     "name": "stderr",
     "output_type": "stream",
     "text": [
      "Retrieve items by rules:  94%|█████████▍| 15/16 [07:04<00:20, 20.75s/it]"
     ]
    },
    {
     "name": "stdout",
     "output_type": "stream",
     "text": [
      "skip\n"
     ]
    },
    {
     "name": "stderr",
     "output_type": "stream",
     "text": [
      "Retrieve items by rules: 100%|██████████| 16/16 [07:12<00:00, 27.04s/it]"
     ]
    },
    {
     "name": "stdout",
     "output_type": "stream",
     "text": [
      "skip\n"
     ]
    },
    {
     "name": "stderr",
     "output_type": "stream",
     "text": [
      "\n"
     ]
    },
    {
     "name": "stdout",
     "output_type": "stream",
     "text": [
      "Week 7: [2020-08-05, 2020-08-12)\n"
     ]
    },
    {
     "name": "stderr",
     "output_type": "stream",
     "text": [
      "Retrieve items by rules:   6%|▋         | 1/16 [00:23<05:48, 23.21s/it]"
     ]
    },
    {
     "name": "stdout",
     "output_type": "stream",
     "text": [
      "Positive rate: 0.01753\n"
     ]
    },
    {
     "name": "stderr",
     "output_type": "stream",
     "text": [
      "Retrieve items by rules:  12%|█▎        | 2/16 [00:47<05:32, 23.73s/it]"
     ]
    },
    {
     "name": "stdout",
     "output_type": "stream",
     "text": [
      "Positive rate: 0.01667\n"
     ]
    },
    {
     "name": "stderr",
     "output_type": "stream",
     "text": [
      "Retrieve items by rules:  19%|█▉        | 3/16 [01:54<09:24, 43.39s/it]"
     ]
    },
    {
     "name": "stdout",
     "output_type": "stream",
     "text": [
      "Positive rate: 0.00867\n",
      "Positive rate: 0.00809\n"
     ]
    },
    {
     "name": "stderr",
     "output_type": "stream",
     "text": [
      "Retrieve items by rules:  25%|██▌       | 4/16 [03:02<10:40, 53.34s/it]"
     ]
    },
    {
     "name": "stdout",
     "output_type": "stream",
     "text": [
      "Positive rate: 0.00971\n"
     ]
    },
    {
     "name": "stderr",
     "output_type": "stream",
     "text": [
      "Retrieve items by rules:  31%|███▏      | 5/16 [03:25<07:43, 42.16s/it]"
     ]
    },
    {
     "name": "stdout",
     "output_type": "stream",
     "text": [
      "Positive rate: 0.00959\n"
     ]
    },
    {
     "name": "stderr",
     "output_type": "stream",
     "text": [
      "Retrieve items by rules:  38%|███▊      | 6/16 [03:48<05:59, 35.95s/it]"
     ]
    },
    {
     "name": "stdout",
     "output_type": "stream",
     "text": [
      "Positive rate: 0.00631\n"
     ]
    },
    {
     "name": "stderr",
     "output_type": "stream",
     "text": [
      "Retrieve items by rules:  44%|████▍     | 7/16 [04:50<06:37, 44.17s/it]"
     ]
    },
    {
     "name": "stdout",
     "output_type": "stream",
     "text": [
      "TOP17.0 Positive rate: 0.00600\n"
     ]
    },
    {
     "name": "stderr",
     "output_type": "stream",
     "text": [
      "Retrieve items by rules:  56%|█████▋    | 9/16 [06:09<04:29, 38.50s/it]"
     ]
    },
    {
     "name": "stdout",
     "output_type": "stream",
     "text": [
      "skip\n"
     ]
    },
    {
     "name": "stderr",
     "output_type": "stream",
     "text": [
      "Retrieve items by rules:  62%|██████▎   | 10/16 [06:13<02:47, 27.88s/it]"
     ]
    },
    {
     "name": "stdout",
     "output_type": "stream",
     "text": [
      "skip\n"
     ]
    },
    {
     "name": "stderr",
     "output_type": "stream",
     "text": [
      "Retrieve items by rules:  69%|██████▉   | 11/16 [06:23<01:52, 22.43s/it]"
     ]
    },
    {
     "name": "stdout",
     "output_type": "stream",
     "text": [
      "skip\n"
     ]
    },
    {
     "name": "stderr",
     "output_type": "stream",
     "text": [
      "Retrieve items by rules:  75%|███████▌  | 12/16 [06:26<01:06, 16.66s/it]"
     ]
    },
    {
     "name": "stdout",
     "output_type": "stream",
     "text": [
      "skip\n"
     ]
    },
    {
     "name": "stderr",
     "output_type": "stream",
     "text": [
      "Retrieve items by rules:  81%|████████▏ | 13/16 [06:29<00:37, 12.40s/it]"
     ]
    },
    {
     "name": "stdout",
     "output_type": "stream",
     "text": [
      "skip\n"
     ]
    },
    {
     "name": "stderr",
     "output_type": "stream",
     "text": [
      "Retrieve items by rules:  88%|████████▊ | 14/16 [07:00<00:36, 18.04s/it]"
     ]
    },
    {
     "name": "stdout",
     "output_type": "stream",
     "text": [
      "skip\n"
     ]
    },
    {
     "name": "stderr",
     "output_type": "stream",
     "text": [
      "Retrieve items by rules:  94%|█████████▍| 15/16 [07:30<00:21, 21.65s/it]"
     ]
    },
    {
     "name": "stdout",
     "output_type": "stream",
     "text": [
      "skip\n"
     ]
    },
    {
     "name": "stderr",
     "output_type": "stream",
     "text": [
      "Retrieve items by rules: 100%|██████████| 16/16 [07:37<00:00, 28.62s/it]"
     ]
    },
    {
     "name": "stdout",
     "output_type": "stream",
     "text": [
      "skip\n"
     ]
    },
    {
     "name": "stderr",
     "output_type": "stream",
     "text": [
      "\n"
     ]
    }
   ],
   "source": [
    "# * WEEK_NUM = 0: test\n",
    "# * WEEK_NUM = 1: valid\n",
    "# * WEEK_NUM > 1: train\n",
    "for week in range(1,WEEK_NUM):\n",
    "    # * use sliding window to generate candidates\n",
    "    if week == 0 and not TEST:\n",
    "        continue\n",
    "    trans = data[\"inter\"]\n",
    "\n",
    "    start_date, end_date = calc_valid_date(week)\n",
    "    print(f\"Week {week}: [{start_date}, {end_date})\")\n",
    "    \n",
    "    train, valid = dh.split_data(trans, start_date, end_date)\n",
    "    train = train.merge(data['user'][['customer_id','age_bins']], on='customer_id', how='left')\n",
    "\n",
    "    last_week_start = pd.to_datetime(start_date) - pd.Timedelta(days=7)\n",
    "    last_week_start = last_week_start.strftime(\"%Y-%m-%d\")\n",
    "    last_week = train.loc[train.t_dat >= last_week_start]\n",
    "    \n",
    "    last_3day_start = pd.to_datetime(start_date) - pd.Timedelta(days=3)\n",
    "    last_3day_start = last_3day_start.strftime(\"%Y-%m-%d\")\n",
    "    last_3days = train.loc[train.t_dat >= last_3day_start]\n",
    "\n",
    "    if week != 0:\n",
    "        customer_list = valid[\"customer_id\"].values\n",
    "    else:\n",
    "        customer_list = submission['customer_id'].values\n",
    "\n",
    "    # * ========================== Retrieval Strategies ==========================\n",
    "\n",
    "    candidates = RuleCollector().collect(\n",
    "        week_num = week,\n",
    "        trans_df = trans,\n",
    "        customer_list=customer_list,\n",
    "        rules=[\n",
    "            OrderHistory(train, days=3, name='1'),\n",
    "            OrderHistory(train, days=7, name='2'),\n",
    "            OrderHistoryDecay(train, days=3, n=50, name='1'),\n",
    "            OrderHistoryDecay(train, days=7, n=50, name='2'),\n",
    "            ItemPair(OrderHistory(train, days=3).retrieve(), name='1'),\n",
    "            ItemPair(OrderHistory(train, days=7).retrieve(), name='2'),\n",
    "            ItemPair(OrderHistoryDecay(train, days=3, n=50).retrieve(), name='3'),\n",
    "            ItemPair(OrderHistoryDecay(train, days=7, n=50).retrieve(), name='4'),\n",
    "            UserGroupTimeHistory(data, customer_list, last_week, ['age_bins'], n=50, name='1'),\n",
    "            UserGroupTimeHistory(data, customer_list, last_3days, ['age_bins'], n=50, name='2'),\n",
    "            UserGroupSaleTrend(data, customer_list, train, ['age_bins'], days=7, n=50),\n",
    "            TimeHistory(customer_list, last_week, n=50, name='1'),\n",
    "            TimeHistory(customer_list, last_3days, n=50, name='2'),\n",
    "            TimeHistoryDecay(customer_list, train, days=3, n=50, name='1'),\n",
    "            TimeHistoryDecay(customer_list, train, days=7, n=50, name='2'),\n",
    "            SaleTrend(customer_list, train, days=7, n=50),\n",
    "        ],\n",
    "        filters=[OutOfStock(trans)],\n",
    "        min_pos_rate=0.006,\n",
    "        compress=False,\n",
    "    )\n",
    "\n",
    "    candidates = (\n",
    "        pd.pivot_table(\n",
    "            candidates,\n",
    "            values=\"score\",\n",
    "            index=[\"customer_id\", \"article_id\"],\n",
    "            columns=[\"method\"],\n",
    "            aggfunc=np.sum,\n",
    "        )\n",
    "        .reset_index()\n",
    "    )\n",
    "\n",
    "    candidates.to_parquet(data_dir/\"interim\"/VERSION_NAME/f\"week{week}_candidate.pqt\")\n",
    "    valid.to_parquet(data_dir/\"processed\"/VERSION_NAME/f\"week{week}_label.pqt\")"
   ]
  },
  {
   "cell_type": "code",
   "execution_count": 12,
   "metadata": {},
   "outputs": [
    {
     "name": "stdout",
     "output_type": "stream",
     "text": [
      "Week 0: [2020-09-23, 2020-09-30)\n"
     ]
    },
    {
     "name": "stderr",
     "output_type": "stream",
     "text": [
      "Retrieve items by rules: 100%|██████████| 16/16 [07:00<00:00, 26.27s/it]\n"
     ]
    }
   ],
   "source": [
    "# * use the threshold in week 1 to generate candidates for test data, see the log in the upper cell \n",
    "if TEST:\n",
    "    week = 0\n",
    "    trans = data[\"inter\"]\n",
    "    \n",
    "    start_date, end_date = calc_valid_date(week)\n",
    "    print(f\"Week {week}: [{start_date}, {end_date})\")\n",
    "    \n",
    "    train, valid = dh.split_data(trans, start_date, end_date)\n",
    "    train = train.merge(data['user'][['customer_id','age_bins']], on='customer_id', how='left')\n",
    "\n",
    "    last_week_start = pd.to_datetime(start_date) - pd.Timedelta(days=7)\n",
    "    last_week_start = last_week_start.strftime(\"%Y-%m-%d\")\n",
    "    last_week = train.loc[train.t_dat >= last_week_start]\n",
    "    \n",
    "    last_3day_start = pd.to_datetime(start_date) - pd.Timedelta(days=3)\n",
    "    last_3day_start = last_3day_start.strftime(\"%Y-%m-%d\")\n",
    "    last_3days = train.loc[train.t_dat >= last_3day_start]\n",
    "\n",
    "    customer_list = submission['customer_id'].values\n",
    "\n",
    "    # * ========================== Retrieval Strategies ==========================\n",
    "\n",
    "    candidates = RuleCollector().collect(\n",
    "        week_num = week,\n",
    "        trans_df = trans,\n",
    "        customer_list=customer_list,\n",
    "        rules=[\n",
    "            OrderHistory(train, days=3, name='1'),\n",
    "            OrderHistory(train, days=7, name='2'),\n",
    "            OrderHistoryDecay(train, days=3, n=50, name='1'),\n",
    "            OrderHistoryDecay(train, days=7, n=50, name='2'),\n",
    "            ItemPair(OrderHistory(train, days=3).retrieve(), name='1'),\n",
    "            ItemPair(OrderHistory(train, days=7).retrieve(), name='2'),\n",
    "            ItemPair(OrderHistoryDecay(train, 3, n=50).retrieve(), name='3'),\n",
    "            ItemPair(OrderHistoryDecay(train, 7, n=50).retrieve(), name='4'),\n",
    "            UserGroupTimeHistory(data, customer_list, last_week, ['age_bins'], n=15, name='1'),\n",
    "            UserGroupTimeHistory(data, customer_list, last_3days, ['age_bins'], n=20.5, name='2'),\n",
    "            UserGroupSaleTrend(data, customer_list, train, ['age_bins'], days=7, n=2),\n",
    "            TimeHistory(customer_list, last_week, n=9, name='1'),\n",
    "            TimeHistory(customer_list, last_3days, n=16, name='2'),\n",
    "            TimeHistoryDecay(customer_list, train, days=3, n=12, name='1'),\n",
    "            TimeHistoryDecay(customer_list, train, days=7, n=8, name='2'),\n",
    "            SaleTrend(customer_list, train, days=7, n=2),\n",
    "        ],\n",
    "        filters=[OutOfStock(trans)],\n",
    "        min_pos_rate=0.006,\n",
    "        compress=False,\n",
    "    )\n",
    "    \n",
    "    candidates, _ = reduce_mem_usage(candidates)\n",
    "    candidates = (\n",
    "        pd.pivot_table(\n",
    "            candidates,\n",
    "            values=\"score\",\n",
    "            index=[\"customer_id\", \"article_id\"],\n",
    "            columns=[\"method\"],\n",
    "            aggfunc=np.sum,\n",
    "        )\n",
    "        .reset_index()\n",
    "    )\n",
    "\n",
    "    candidates.to_parquet(data_dir/\"interim\"/VERSION_NAME/f\"week{week}_candidate.pqt\")\n",
    "    valid.to_parquet(data_dir/\"processed\"/VERSION_NAME/f\"week{week}_label.pqt\")"
   ]
  },
  {
   "cell_type": "code",
   "execution_count": 13,
   "metadata": {},
   "outputs": [
    {
     "data": {
      "text/plain": [
       "41"
      ]
     },
     "execution_count": 13,
     "metadata": {},
     "output_type": "execute_result"
    }
   ],
   "source": [
    "del train, valid, last_week, customer_list, candidates\n",
    "gc.collect()"
   ]
  },
  {
   "cell_type": "markdown",
   "metadata": {
    "id": "TBIrKxhRGGQR"
   },
   "source": [
    "## Feature engineering\n"
   ]
  },
  {
   "cell_type": "code",
   "execution_count": 13,
   "metadata": {
    "executionInfo": {
     "elapsed": 15,
     "status": "ok",
     "timestamp": 1650813116461,
     "user": {
      "displayName": "WP Zhang",
      "userId": "08181056311681578219"
     },
     "user_tz": 240
    },
    "id": "9pF-sOMSGGQP"
   },
   "outputs": [],
   "source": [
    "user = data[\"user\"]\n",
    "item = data[\"item\"]\n",
    "inter = data[\"inter\"]"
   ]
  },
  {
   "cell_type": "code",
   "execution_count": 14,
   "metadata": {
    "executionInfo": {
     "elapsed": 12313,
     "status": "ok",
     "timestamp": 1650811966923,
     "user": {
      "displayName": "WP Zhang",
      "userId": "08181056311681578219"
     },
     "user_tz": 240
    },
    "id": "heKIAtoRdtIk"
   },
   "outputs": [],
   "source": [
    "# merge `product_code`\n",
    "inter = inter.merge(item[[\"article_id\", \"product_code\"]], on=\"article_id\", how=\"left\")\n",
    "# calculate week number\n",
    "inter['week'] = (pd.to_datetime('2020-09-29') - pd.to_datetime(inter['t_dat'])).dt.days // 7"
   ]
  },
  {
   "cell_type": "code",
   "execution_count": 15,
   "metadata": {
    "executionInfo": {
     "elapsed": 12271,
     "status": "ok",
     "timestamp": 1650811979179,
     "user": {
      "displayName": "WP Zhang",
      "userId": "08181056311681578219"
     },
     "user_tz": 240
    },
    "id": "NgfZ9z69GGQR"
   },
   "outputs": [],
   "source": [
    "inter = inter.sort_values([\"t_dat\"]).reset_index(drop=True)"
   ]
  },
  {
   "cell_type": "code",
   "execution_count": 16,
   "metadata": {
    "colab": {
     "base_uri": "https://localhost:8080/"
    },
    "executionInfo": {
     "elapsed": 35,
     "status": "ok",
     "timestamp": 1650811979181,
     "user": {
      "displayName": "WP Zhang",
      "userId": "08181056311681578219"
     },
     "user_tz": 240
    },
    "id": "krS1OT4JGGQR",
    "outputId": "e4c0aefe-9eaf-4887-f330-9e7cd13cc9bb"
   },
   "outputs": [
    {
     "data": {
      "text/plain": [
       "(31788324, 7)"
      ]
     },
     "execution_count": 16,
     "metadata": {},
     "output_type": "execute_result"
    }
   ],
   "source": [
    "inter.shape"
   ]
  },
  {
   "cell_type": "markdown",
   "metadata": {},
   "source": [
    "Week Sale, Last Week Sale, Week Sale Trend"
   ]
  },
  {
   "cell_type": "code",
   "execution_count": 17,
   "metadata": {
    "executionInfo": {
     "elapsed": 82982,
     "status": "ok",
     "timestamp": 1650812194568,
     "user": {
      "displayName": "WP Zhang",
      "userId": "08181056311681578219"
     },
     "user_tz": 240
    },
    "id": "IXXxyMmndtIm"
   },
   "outputs": [
    {
     "name": "stderr",
     "output_type": "stream",
     "text": [
      "100%|██████████| 6/6 [02:29<00:00, 24.99s/it]\n"
     ]
    }
   ],
   "source": [
    "inter[\"i_sale\"] = week_sale(inter, [\"article_id\"])\n",
    "inter[\"p_sale\"] = week_sale(inter, [\"product_code\"])\n",
    "inter[\"i_sale_uni\"] = week_sale(inter, [\"article_id\"], True)\n",
    "inter[\"p_sale_uni\"] = week_sale(inter, [\"product_code\"], True)\n",
    "inter[\"lw_i_sale\"] = week_sale(inter, [\"article_id\"], step=1) # * last week sale\n",
    "inter[\"lw_p_sale\"] = week_sale(inter, [\"product_code\"], step=1)\n",
    "inter[\"lw_i_sale_uni\"] = week_sale(inter, [\"article_id\"], True, step=1)\n",
    "inter[\"lw_p_sale_uni\"] = week_sale(inter, [\"product_code\"], True, step=1)\n",
    "\n",
    "inter[\"i_sale_ratio\"] = inter[\"i_sale\"] / (inter[\"p_sale\"] + 1e-6)\n",
    "inter[\"i_sale_uni_ratio\"] = inter[\"i_sale_uni\"] / (inter[\"p_sale_uni\"] + 1e-6)\n",
    "inter[\"lw_i_sale_ratio\"] = inter[\"lw_i_sale\"] / (inter[\"lw_p_sale\"] + 1e-6)\n",
    "inter[\"lw_i_sale_uni_ratio\"] = inter[\"lw_i_sale_uni\"] / (inter[\"lw_p_sale_uni\"] + 1e-6)\n",
    "\n",
    "inter[\"i_uni_ratio\"] = inter[\"i_sale\"] / (inter[\"i_sale_uni\"] + 1e-6)\n",
    "inter[\"p_uni_ratio\"] = inter[\"p_sale\"] / (inter[\"p_sale_uni\"] + 1e-6)\n",
    "inter[\"lw_i_uni_ratio\"] = inter[\"lw_i_sale\"] / (inter[\"lw_i_sale_uni\"] + 1e-6)\n",
    "inter[\"lw_p_uni_ratio\"] = inter[\"lw_p_sale\"] / (inter[\"lw_p_sale_uni\"] + 1e-6)\n",
    "\n",
    "inter[\"i_sale_trend\"] = (inter[\"i_sale\"] - inter[\"lw_i_sale\"]) / (inter[\"lw_i_sale\"] + 1e-6)\n",
    "inter[\"p_sale_trend\"] = (inter[\"p_sale\"] - inter[\"lw_p_sale\"]) / (inter[\"lw_p_sale\"] + 1e-6)\n",
    "\n",
    "item_feats = [\n",
    "    \"product_type_no\",\n",
    "    \"product_group_name\",\n",
    "    \"graphical_appearance_no\",\n",
    "    \"colour_group_code\",\n",
    "    \"perceived_colour_value_id\",\n",
    "    \"perceived_colour_master_id\",\n",
    "]\n",
    "inter = inter.merge(item[[\"article_id\", *item_feats]], on=\"article_id\", how=\"left\")\n",
    "\n",
    "for f in tqdm(item_feats):\n",
    "    inter[f\"{f}_sale\"] = week_sale(inter, [f], f\"{f}_sale\")\n",
    "    inter[f\"lw_{f}_sale\"] = week_sale(inter, [f], f\"{f}_sale\", step=1)\n",
    "    inter[f\"{f}_sale_trend\"] = (inter[f\"{f}_sale\"] - inter[f\"lw_{f}_sale\"]) / (inter[f\"lw_{f}_sale\"] + 1e-6)\n",
    "\n",
    "inter = inter.drop(columns=item_feats)"
   ]
  },
  {
   "cell_type": "markdown",
   "metadata": {},
   "source": [
    "Repurchase Ratio"
   ]
  },
  {
   "cell_type": "code",
   "execution_count": 18,
   "metadata": {
    "id": "pnZzbv2JNUB1"
   },
   "outputs": [],
   "source": [
    "inter['i_repurchase_ratio'] = repurchase_ratio(inter, ['article_id'], week_num=WEEK_NUM)\n",
    "inter['p_repurchase_ratio'] = repurchase_ratio(inter, ['product_code'], week_num=WEEK_NUM)"
   ]
  },
  {
   "cell_type": "markdown",
   "metadata": {},
   "source": [
    "Popularity"
   ]
  },
  {
   "cell_type": "code",
   "execution_count": 20,
   "metadata": {},
   "outputs": [],
   "source": [
    "inter['i_pop'] = popularity(inter, 'article_id', week_num=WEEK_NUM)\n",
    "inter['p_pop'] = popularity(inter, 'product_code', week_num=WEEK_NUM)"
   ]
  },
  {
   "cell_type": "markdown",
   "metadata": {},
   "source": [
    "Already Bought Item"
   ]
  },
  {
   "cell_type": "code",
   "execution_count": 21,
   "metadata": {
    "colab": {
     "base_uri": "https://localhost:8080/"
    },
    "executionInfo": {
     "elapsed": 132613,
     "status": "ok",
     "timestamp": 1650812981266,
     "user": {
      "displayName": "WP Zhang",
      "userId": "08181056311681578219"
     },
     "user_tz": 240
    },
    "id": "VmBm3Ka3GGQS",
    "outputId": "01920093-44ae-4c4a-c105-2c55042b0ae1"
   },
   "outputs": [],
   "source": [
    "# inter[\"purchased_item\"] = purchased_before(inter, [\"article_id\"])\n",
    "# inter[\"purchased_pro\"] = purchased_before(inter, [\"product_code\"])"
   ]
  },
  {
   "cell_type": "markdown",
   "metadata": {},
   "source": [
    "Save data"
   ]
  },
  {
   "cell_type": "code",
   "execution_count": 22,
   "metadata": {
    "colab": {
     "base_uri": "https://localhost:8080/"
    },
    "executionInfo": {
     "elapsed": 12,
     "status": "ok",
     "timestamp": 1650812981267,
     "user": {
      "displayName": "WP Zhang",
      "userId": "08181056311681578219"
     },
     "user_tz": 240
    },
    "id": "uB53JEZoGGQS",
    "outputId": "1e178712-b0a2-4f90-fea1-2da452d2a297"
   },
   "outputs": [
    {
     "data": {
      "text/plain": [
       "(31788324, 47)"
      ]
     },
     "execution_count": 22,
     "metadata": {},
     "output_type": "execute_result"
    }
   ],
   "source": [
    "inter.shape"
   ]
  },
  {
   "cell_type": "code",
   "execution_count": 23,
   "metadata": {
    "executionInfo": {
     "elapsed": 45421,
     "status": "ok",
     "timestamp": 1650813026679,
     "user": {
      "displayName": "WP Zhang",
      "userId": "08181056311681578219"
     },
     "user_tz": 240
    },
    "id": "dv55insCdtIo"
   },
   "outputs": [],
   "source": [
    "inter.to_parquet(data_dir / \"processed/processed_inter.pqt\")"
   ]
  },
  {
   "cell_type": "markdown",
   "metadata": {
    "id": "jywhBCAGGGQS"
   },
   "source": [
    "## Merge Features\n"
   ]
  },
  {
   "cell_type": "code",
   "execution_count": 11,
   "metadata": {
    "executionInfo": {
     "elapsed": 11212,
     "status": "ok",
     "timestamp": 1650813141038,
     "user": {
      "displayName": "WP Zhang",
      "userId": "08181056311681578219"
     },
     "user_tz": 240
    },
    "id": "cxSNgWvVuv2A"
   },
   "outputs": [],
   "source": [
    "inter = pd.read_parquet(data_dir / \"processed/processed_inter.pqt\")\n",
    "data[\"inter\"] = inter"
   ]
  },
  {
   "cell_type": "code",
   "execution_count": 12,
   "metadata": {},
   "outputs": [],
   "source": [
    "#* embeddings from DSSM model\n",
    "dssm_user_embd = np.load(data_dir / \"external/dssm_user_embd.npy\", allow_pickle=True)\n",
    "dssm_item_embd = np.load(data_dir / \"external/dssm_item_embd.npy\", allow_pickle=True)\n",
    "# * embeddings from YouTubeDNN model\n",
    "yt_user_embd = np.load(data_dir / \"external/yt_user_embd.npy\", allow_pickle=True)\n",
    "yt_item_embd = np.load(data_dir / \"external/yt_item_embd.npy\", allow_pickle=True)"
   ]
  },
  {
   "cell_type": "code",
   "execution_count": 13,
   "metadata": {},
   "outputs": [
    {
     "name": "stderr",
     "output_type": "stream",
     "text": [
      "100%|██████████| 5532/5532 [00:37<00:00, 147.02it/s]\n",
      "100%|██████████| 5532/5532 [00:34<00:00, 160.03it/s]\n",
      "100%|██████████| 306/306 [00:01<00:00, 183.83it/s]\n",
      "100%|██████████| 306/306 [00:01<00:00, 180.93it/s]\n",
      "100%|██████████| 225/225 [00:01<00:00, 174.28it/s]\n",
      "100%|██████████| 225/225 [00:01<00:00, 181.39it/s]\n",
      "100%|██████████| 280/280 [00:01<00:00, 178.55it/s]\n",
      "100%|██████████| 280/280 [00:01<00:00, 187.86it/s]\n",
      "100%|██████████| 298/298 [00:01<00:00, 171.52it/s]\n",
      "100%|██████████| 298/298 [00:01<00:00, 173.69it/s]\n",
      "100%|██████████| 178/178 [00:01<00:00, 176.01it/s]\n",
      "100%|██████████| 178/178 [00:01<00:00, 171.28it/s]\n",
      "100%|██████████| 6/6 [25:02<00:00, 250.49s/it]\n"
     ]
    }
   ],
   "source": [
    "for i in tqdm(range(WEEK_NUM)):\n",
    "    if i == 0 and not TEST:\n",
    "        continue\n",
    "        \n",
    "    candidate = pd.read_parquet(data_dir/\"interim\"/VERSION_NAME/f\"week{i}_candidate.pqt\")\n",
    "    # * merge features\n",
    "    candidate = merge_week_data(data, i, candidate)\n",
    "    # * merge DSSM user and item embeddings\n",
    "    candidate[\"dssm_similarity\"] = calc_embd_similarity(candidate, dssm_user_embd, dssm_item_embd)\n",
    "    # * merge YouTubeDNN user and item embeddings\n",
    "    candidate[\"yt_similarity\"] = calc_embd_similarity(candidate, yt_user_embd, yt_item_embd)\n",
    "\n",
    "    candidate.to_parquet(data_dir/\"processed\"/VERSION_NAME/f\"week{i}_candidate.pqt\")"
   ]
  },
  {
   "cell_type": "code",
   "execution_count": 14,
   "metadata": {
    "colab": {
     "base_uri": "https://localhost:8080/"
    },
    "executionInfo": {
     "elapsed": 115102,
     "status": "ok",
     "timestamp": 1650813553563,
     "user": {
      "displayName": "WP Zhang",
      "userId": "08181056311681578219"
     },
     "user_tz": 240
    },
    "id": "sWyKQBAt3x--",
    "outputId": "f37b52b7-ee90-45f7-a24a-68ddaf23b95f"
   },
   "outputs": [
    {
     "data": {
      "text/plain": [
       "20"
      ]
     },
     "execution_count": 14,
     "metadata": {},
     "output_type": "execute_result"
    }
   ],
   "source": [
    "del dssm_user_embd, dssm_item_embd, yt_user_embd, yt_item_embd\n",
    "gc.collect()"
   ]
  },
  {
   "cell_type": "markdown",
   "metadata": {
    "id": "7Zml-cxryoU_"
   },
   "source": [
    "## Ranking\n"
   ]
  },
  {
   "cell_type": "code",
   "execution_count": 104,
   "metadata": {
    "executionInfo": {
     "elapsed": 630,
     "status": "ok",
     "timestamp": 1650813559155,
     "user": {
      "displayName": "WP Zhang",
      "userId": "08181056311681578219"
     },
     "user_tz": 240
    },
    "id": "PsmE6rgjdtIr"
   },
   "outputs": [
    {
     "name": "stderr",
     "output_type": "stream",
     "text": [
      "100%|██████████| 5/5 [00:10<00:00,  2.15s/it]\n"
     ]
    }
   ],
   "source": [
    "candidates = {}\n",
    "labels = {}\n",
    "for i in tqdm(range(1, WEEK_NUM)):\n",
    "    candidates[i] = pd.read_parquet(data_dir/\"processed\"/VERSION_NAME/f\"week{i}_candidate.pqt\")\n",
    "    labels[i] = pd.read_parquet(data_dir/\"processed\"/VERSION_NAME/f\"week{i}_label.pqt\")    "
   ]
  },
  {
   "cell_type": "code",
   "execution_count": 105,
   "metadata": {
    "executionInfo": {
     "elapsed": 368,
     "status": "ok",
     "timestamp": 1650814211010,
     "user": {
      "displayName": "WP Zhang",
      "userId": "08181056311681578219"
     },
     "user_tz": 240
    },
    "id": "xWqYwCbsdtIr"
   },
   "outputs": [],
   "source": [
    "feats = [\n",
    "    x\n",
    "    for x in candidates[1].columns\n",
    "    if x\n",
    "    not in [\n",
    "        \"label\",\n",
    "        \"sales_channel_id\",\n",
    "        \"t_dat\",\n",
    "        \"week\",\n",
    "        # \"WeekSaleTrend_item\",\n",
    "        # \"WeekSaleTrend_pro\",\n",
    "        # \"ThreeDaySaleTrend_item\",\n",
    "        # \"ThreeDaySaleTrend_pro\",\n",
    "        # \"Item_Popularity\",\n",
    "        # \"Pro_Popularity\",\n",
    "    ]\n",
    "]\n",
    "cat_features = [\n",
    "    \"customer_id\",\n",
    "    \"article_id\",\n",
    "    \"product_code\",\n",
    "    \"FN\",\n",
    "    \"Active\",\n",
    "    \"club_member_status\",\n",
    "    \"fashion_news_frequency\",\n",
    "    \"age\",\n",
    "    \"product_type_no\",\n",
    "    \"product_group_name\",\n",
    "    \"graphical_appearance_no\",\n",
    "    \"colour_group_code\",\n",
    "    \"perceived_colour_value_id\",\n",
    "    \"perceived_colour_master_id\",\n",
    "\n",
    "    \"user_gender\",\n",
    "    \"article_gender\",\n",
    "    \"season_type\"\n",
    "]\n"
   ]
  },
  {
   "cell_type": "code",
   "execution_count": 106,
   "metadata": {},
   "outputs": [
    {
     "name": "stderr",
     "output_type": "stream",
     "text": [
      "100%|██████████| 17/17 [00:00<00:00, 19.21it/s]\n"
     ]
    }
   ],
   "source": [
    "# * Convert categorical featues as `CategoricalDtype`\n",
    "cate_dict = {}        \n",
    "for feat in tqdm(cat_features):\n",
    "    if feat in data['user'].columns:\n",
    "        value_set = set(data['user'][feat].unique())\n",
    "    elif feat in data['item'].columns:\n",
    "        value_set = set(data['item'][feat].unique())\n",
    "    else:\n",
    "        value_set = set(data['inter'][feat].unique())\n",
    "    cate_dict[feat] = CategoricalDtype(categories=value_set)"
   ]
  },
  {
   "cell_type": "code",
   "execution_count": 107,
   "metadata": {},
   "outputs": [
    {
     "name": "stderr",
     "output_type": "stream",
     "text": [
      "100%|██████████| 5/5 [00:09<00:00,  1.80s/it]\n"
     ]
    }
   ],
   "source": [
    "for i in tqdm(range(1,WEEK_NUM)):\n",
    "    for feat in cat_features:\n",
    "        candidates[i][feat] = candidates[i][feat].astype(cate_dict[feat])"
   ]
  },
  {
   "cell_type": "markdown",
   "metadata": {
    "id": "3RojtbK9GGQU"
   },
   "source": [
    "### Train\n"
   ]
  },
  {
   "cell_type": "code",
   "execution_count": 108,
   "metadata": {
    "executionInfo": {
     "elapsed": 5,
     "status": "ok",
     "timestamp": 1650813561264,
     "user": {
      "displayName": "WP Zhang",
      "userId": "08181056311681578219"
     },
     "user_tz": 240
    },
    "id": "nTm9bz6vR6T4"
   },
   "outputs": [],
   "source": [
    "params = {\n",
    "    \"objective\": \"lambdarank\",#\"\",\n",
    "    \"boosting_type\": \"gbdt\",\n",
    "    \"metric\": \"map\",#\"map\",\n",
    "    \"max_depth\": 8,\n",
    "    \"num_leaves\": 128,\n",
    "    \"learning_rate\": 0.03,\n",
    "\n",
    "    \"verbose\": -1,\n",
    "    \"eval_at\": 12,\n",
    "    # 'device':'gpu'\n",
    "}"
   ]
  },
  {
   "cell_type": "code",
   "execution_count": 109,
   "metadata": {},
   "outputs": [],
   "source": [
    "# * some rules are skipped for some weeks, we need to concat them together\n",
    "# * to merge the columns\n",
    "full_data = pd.concat([candidates[i] for i in range(1, WEEK_NUM)], ignore_index=True)"
   ]
  },
  {
   "cell_type": "code",
   "execution_count": 110,
   "metadata": {},
   "outputs": [],
   "source": [
    "rule_feats = ['ItemPairRetrieve_1', 'ItemPairRetrieve_2',\n",
    "       'ItemPairRetrieve_3', 'ItemPairRetrieve_4', 'OrderHistoryDecay_1',\n",
    "       'OrderHistoryDecay_2', 'OrderHistory_1', 'OrderHistory_2',\n",
    "       'SaleTrend_1', 'TimeHistoryDecay_1', 'TimeHistoryDecay_2',\n",
    "       'TimeHistory_1', 'TimeHistory_2', 'UGSaleTrend_1', 'UGTimeHistory_1',\n",
    "       'UGTimeHistory_2']\n",
    "# for rule in tqdm(rule_feats):\n",
    "#     mask = full_data[rule].isna()\n",
    "#     full_data.loc[mask, rule] = 0\n",
    "#     full_data.loc[~mask, rule] = 1\n",
    "# full_data['full_score'] = full_data[rule_feats].mean(axis=1)\n",
    "# full_data['rank'] = full_data.groupby(['week','customer_id'])['full_score'].rank(ascending=False)\n",
    "# feats += ['full_score', 'rank']"
   ]
  },
  {
   "cell_type": "code",
   "execution_count": 111,
   "metadata": {},
   "outputs": [],
   "source": [
    "def train_model(full_data, valid_week_num, train_week_num=4):\n",
    "    print(\"Validating week:\", valid_week_num)\n",
    "    train = full_data[\n",
    "        (valid_week_num < full_data[\"week\"])\n",
    "        & (full_data[\"week\"] <= valid_week_num + train_week_num)\n",
    "    ]\n",
    "    valid = full_data[full_data[\"week\"] == valid_week_num]\n",
    "    train = train.sort_values(by=[\"week\", \"customer_id\"], ascending=True).reset_index(\n",
    "        drop=True\n",
    "    )\n",
    "    valid = valid.sort_values(by=[\"customer_id\"], ascending=True).reset_index(drop=True)\n",
    "    print(\"Train positive rate:\", train.label.mean())  # 0.9946384702188372 4-week\n",
    "\n",
    "    train_group = train[[\"customer_id\", \"article_id\", \"week\"]]\n",
    "    train_group = train_group.astype(\n",
    "        \"int\"\n",
    "    )  # * convert to int to avoid `0` in groupby count result\n",
    "    train_group = (\n",
    "        train_group.groupby([\"week\", \"customer_id\"])[\"article_id\"].count().values\n",
    "    )\n",
    "\n",
    "    valid_group = valid[[\"customer_id\", \"article_id\"]]\n",
    "    valid_group = valid_group.astype(\n",
    "        \"int\"\n",
    "    )  # * convert to int to avoid `0` in groupby count result\n",
    "    valid_group = valid_group.groupby([\"customer_id\"])[\"article_id\"].count().values\n",
    "\n",
    "    train_set = lgb.Dataset(\n",
    "        data=train[feats],\n",
    "        label=train[\"label\"],\n",
    "        group=train_group,\n",
    "        feature_name=feats,\n",
    "        categorical_feature=cat_features,\n",
    "        params=params,\n",
    "    )\n",
    "\n",
    "    valid_set = lgb.Dataset(\n",
    "        data=valid[feats],\n",
    "        label=valid[\"label\"],\n",
    "        group=valid_group,\n",
    "        feature_name=feats,\n",
    "        categorical_feature=cat_features,\n",
    "        params=params,\n",
    "    )\n",
    "\n",
    "    ranker = lgb.train(\n",
    "        params,\n",
    "        train_set,\n",
    "        num_boost_round=300,\n",
    "        valid_sets=[valid_set],\n",
    "        early_stopping_rounds=30,\n",
    "        verbose_eval=10,\n",
    "    )\n",
    "    ranker.save_model(\n",
    "        model_dir / f\"lgb_ranker_{valid_week_num}.model\",\n",
    "        num_iteration=ranker.best_iteration,\n",
    "    )\n",
    "    return ranker"
   ]
  },
  {
   "cell_type": "code",
   "execution_count": 112,
   "metadata": {},
   "outputs": [],
   "source": [
    "def train_binary_model(full_data, valid_week_num, train_week_num=4):\n",
    "    print(\"Validating week:\", valid_week_num)\n",
    "    train = full_data[\n",
    "        (valid_week_num < full_data[\"week\"])\n",
    "        & (full_data[\"week\"] <= valid_week_num + train_week_num)\n",
    "    ]\n",
    "    valid = full_data[full_data[\"week\"] == valid_week_num]\n",
    "\n",
    "    print(\"Train positive rate:\", train.label.mean())  # 0.9946384702188372 4-week\n",
    "\n",
    "\n",
    "    train_set = lgb.Dataset(\n",
    "        data=train[feats],\n",
    "        label=train[\"label\"],\n",
    "        feature_name=feats,\n",
    "        categorical_feature=cat_features,\n",
    "        params=params,\n",
    "    )\n",
    "\n",
    "    valid_set = lgb.Dataset(\n",
    "        data=valid[feats],\n",
    "        label=valid[\"label\"],\n",
    "        feature_name=feats,\n",
    "        categorical_feature=cat_features,\n",
    "        params=params,\n",
    "    )\n",
    "\n",
    "    ranker = lgb.train(\n",
    "        params,\n",
    "        train_set,\n",
    "        num_boost_round=300,\n",
    "        valid_sets=[valid_set],\n",
    "        early_stopping_rounds=30,\n",
    "        verbose_eval=10,\n",
    "    )\n",
    "    ranker.save_model(\n",
    "        model_dir / f\"lgb_ranker_{valid_week_num}.model\",\n",
    "        num_iteration=ranker.best_iteration,\n",
    "    )\n",
    "    return ranker"
   ]
  },
  {
   "cell_type": "code",
   "execution_count": null,
   "metadata": {},
   "outputs": [],
   "source": [
    "ranker = train_model(full_data, 1, 4) # 0.82846 4-week 0.853142\n",
    "# ranker = train_binary_model(full_data, 1, 4)\n",
    "# 0.703171 -> 0.709413"
   ]
  },
  {
   "cell_type": "markdown",
   "metadata": {
    "id": "KbFdGrYRdtIt"
   },
   "source": [
    "### Inference"
   ]
  },
  {
   "cell_type": "code",
   "execution_count": 114,
   "metadata": {
    "executionInfo": {
     "elapsed": 321,
     "status": "ok",
     "timestamp": 1650814242111,
     "user": {
      "displayName": "WP Zhang",
      "userId": "08181056311681578219"
     },
     "user_tz": 240
    },
    "id": "hl3DPTaBGGQV"
   },
   "outputs": [],
   "source": [
    "ranker = lgb.Booster(model_file=model_dir / \"lgb_ranker_1.model\")"
   ]
  },
  {
   "cell_type": "code",
   "execution_count": null,
   "metadata": {
    "executionInfo": {
     "elapsed": 3,
     "status": "ok",
     "timestamp": 1650814243364,
     "user": {
      "displayName": "WP Zhang",
      "userId": "08181056311681578219"
     },
     "user_tz": 240
    },
    "id": "OG9AwSntGGQV"
   },
   "outputs": [],
   "source": [
    "feat_importance = pd.DataFrame(\n",
    "    {\"feature\": feats, \"importance\": ranker.feature_importance()}\n",
    ").sort_values(by=\"importance\", ascending=False)\n",
    "plt.figure(figsize=(8, 18))\n",
    "sns.barplot(y=\"feature\", x=\"importance\", data=feat_importance)"
   ]
  },
  {
   "cell_type": "markdown",
   "metadata": {
    "id": "lLWs-Z5CGGQV"
   },
   "source": [
    "### Validate"
   ]
  },
  {
   "cell_type": "code",
   "execution_count": 116,
   "metadata": {
    "executionInfo": {
     "elapsed": 617,
     "status": "ok",
     "timestamp": 1650814266776,
     "user": {
      "displayName": "WP Zhang",
      "userId": "08181056311681578219"
     },
     "user_tz": 240
    },
    "id": "SSpgfI0mdtIv"
   },
   "outputs": [],
   "source": [
    "val_candidates = full_data[full_data[\"week\"] == 1].reset_index(drop=True)"
   ]
  },
  {
   "cell_type": "code",
   "execution_count": 117,
   "metadata": {},
   "outputs": [],
   "source": [
    "def predict(ranker, candidates, batch_size = 5_000_000):\n",
    "    probs = np.zeros(candidates.shape[0])\n",
    "    for batch in range(0, candidates.shape[0], batch_size):\n",
    "        outputs = ranker.predict(candidates.loc[batch : batch + batch_size - 1, feats])\n",
    "        probs[batch : batch + batch_size] = outputs\n",
    "    candidates[\"prob\"] = probs\n",
    "    pred_lgb = candidates[['customer_id','article_id','prob']]\n",
    "    pred_lgb = pred_lgb.sort_values(by=[\"customer_id\",\"prob\"], ascending=False).reset_index(drop=True)\n",
    "    pred_lgb.rename(columns={'article_id':'prediction'}, inplace=True)\n",
    "    pred_lgb = pred_lgb.drop_duplicates(['customer_id', 'prediction'], keep='first')\n",
    "    pred_lgb['customer_id'] = pred_lgb['customer_id'].astype(int)\n",
    "    pred_lgb = pred_lgb.groupby(\"customer_id\")[\"prediction\"].progress_apply(list).reset_index()\n",
    "    return pred_lgb"
   ]
  },
  {
   "cell_type": "code",
   "execution_count": 118,
   "metadata": {},
   "outputs": [
    {
     "name": "stderr",
     "output_type": "stream",
     "text": [
      "100%|██████████| 80093/80093 [00:05<00:00, 13625.84it/s]\n"
     ]
    }
   ],
   "source": [
    "pred = predict(ranker, val_candidates)"
   ]
  },
  {
   "cell_type": "code",
   "execution_count": 119,
   "metadata": {
    "executionInfo": {
     "elapsed": 4,
     "status": "ok",
     "timestamp": 1650814295757,
     "user": {
      "displayName": "WP Zhang",
      "userId": "08181056311681578219"
     },
     "user_tz": 240
    },
    "id": "G1Qh3k2aGGQW"
   },
   "outputs": [],
   "source": [
    "label = labels[1]\n",
    "label = pd.merge(label, pred, on=\"customer_id\", how=\"left\")"
   ]
  },
  {
   "cell_type": "code",
   "execution_count": null,
   "metadata": {
    "colab": {
     "base_uri": "https://localhost:8080/"
    },
    "executionInfo": {
     "elapsed": 3024,
     "status": "ok",
     "timestamp": 1650814298777,
     "user": {
      "displayName": "WP Zhang",
      "userId": "08181056311681578219"
     },
     "user_tz": 240
    },
    "id": "XrFnQ2evGGQW",
    "outputId": "d0109654-6060-47b5-d3fc-d60814d95243"
   },
   "outputs": [],
   "source": [
    "map_at_k(label[\"article_id\"], label[\"prediction\"], k=12)\n",
    "\n",
    "# 0.02820525160663368 1-week add normalization\n",
    "# 0.028936597823123886 4-week min_pos_rate 0.006 0.0274\n",
    "# 0.029111989281461418 4-week drop full-negative customer\n",
    "# 0.029165419468984943 3-week 0.0270\n",
    "# 0.028694388096248934 4-week min_pos_rate 0.005 lr=0.03\n",
    "# 0.028927037894290773 4-week min_pos_rate 0.005 lr=0.01\n",
    "# 0.028936597823123886 4-week min_pos_rate 0.005 lr=0.01 max_depth=9, num_leaves=256\n",
    "\n",
    "# 0.029035548891779315 LB:0.0267+\n",
    "# 0.02936299322497085 LB:0.0272"
   ]
  },
  {
   "cell_type": "markdown",
   "metadata": {},
   "source": [
    "### Test"
   ]
  },
  {
   "cell_type": "code",
   "execution_count": 41,
   "metadata": {},
   "outputs": [
    {
     "data": {
      "text/plain": [
       "64"
      ]
     },
     "execution_count": 41,
     "metadata": {},
     "output_type": "execute_result"
    }
   ],
   "source": [
    "del full_data, val_candidates, candidates\n",
    "gc.collect()"
   ]
  },
  {
   "cell_type": "code",
   "execution_count": 42,
   "metadata": {
    "executionInfo": {
     "elapsed": 617,
     "status": "ok",
     "timestamp": 1650814266776,
     "user": {
      "displayName": "WP Zhang",
      "userId": "08181056311681578219"
     },
     "user_tz": 240
    },
    "id": "SSpgfI0mdtIv"
   },
   "outputs": [],
   "source": [
    "test_candidates = pd.read_parquet(data_dir/\"processed\"/VERSION_NAME/\"week0_candidate.pqt\")\n",
    "for feat in cat_features:\n",
    "    test_candidates[feat] = test_candidates[feat].astype(cate_dict[feat])"
   ]
  },
  {
   "cell_type": "code",
   "execution_count": 71,
   "metadata": {},
   "outputs": [],
   "source": [
    "# test_candidates['full_score'] = test_candidates[rule_feats].sum(axis=1)\n",
    "# test_candidates['rank'] = full_data.groupby(['week','customer_id'])['full_score'].rank(ascending=False)"
   ]
  },
  {
   "cell_type": "code",
   "execution_count": 72,
   "metadata": {},
   "outputs": [
    {
     "name": "stderr",
     "output_type": "stream",
     "text": [
      "100%|██████████| 1371980/1371980 [01:36<00:00, 14239.74it/s]\n"
     ]
    }
   ],
   "source": [
    "test_pred = predict(ranker, test_candidates)"
   ]
  },
  {
   "cell_type": "code",
   "execution_count": 73,
   "metadata": {},
   "outputs": [],
   "source": [
    "idx2uid = pickle.load(open(data_dir/\"index_id_map/user_index2id.pkl\", \"rb\"))\n",
    "idx2iid = pickle.load(open(data_dir/\"index_id_map/item_index2id.pkl\", \"rb\"))"
   ]
  },
  {
   "cell_type": "code",
   "execution_count": 74,
   "metadata": {},
   "outputs": [],
   "source": [
    "def parse(x):\n",
    "    l = ['0'+str(idx2iid[i]) for i in x]\n",
    "    l = ' '.join(l[:12])\n",
    "    return l"
   ]
  },
  {
   "cell_type": "code",
   "execution_count": 75,
   "metadata": {},
   "outputs": [
    {
     "name": "stderr",
     "output_type": "stream",
     "text": [
      "100%|██████████| 1371980/1371980 [00:20<00:00, 68122.23it/s]\n"
     ]
    }
   ],
   "source": [
    "test_pred['prediction'] = test_pred['prediction'].progress_apply(lambda x: parse(x))"
   ]
  },
  {
   "cell_type": "code",
   "execution_count": 76,
   "metadata": {},
   "outputs": [],
   "source": [
    "uid2idx = pickle.load(open(data_dir/\"index_id_map/user_id2index.pkl\", \"rb\"))\n",
    "submission = pd.read_csv(data_dir/\"raw\"/'sample_submission.csv')\n",
    "submission['customer_id'] = submission['customer_id'].map(uid2idx)"
   ]
  },
  {
   "cell_type": "code",
   "execution_count": 77,
   "metadata": {},
   "outputs": [],
   "source": [
    "del submission['prediction']\n",
    "submission = submission.merge(test_pred, on='customer_id', how='left')\n",
    "submission['customer_id'] = submission['customer_id'].map(idx2uid)"
   ]
  },
  {
   "cell_type": "code",
   "execution_count": 78,
   "metadata": {},
   "outputs": [],
   "source": [
    "submission.to_csv('submission.csv', index=False)"
   ]
  },
  {
   "cell_type": "code",
   "execution_count": 80,
   "metadata": {},
   "outputs": [
    {
     "data": {
      "text/html": [
       "<div>\n",
       "<style scoped>\n",
       "    .dataframe tbody tr th:only-of-type {\n",
       "        vertical-align: middle;\n",
       "    }\n",
       "\n",
       "    .dataframe tbody tr th {\n",
       "        vertical-align: top;\n",
       "    }\n",
       "\n",
       "    .dataframe thead th {\n",
       "        text-align: right;\n",
       "    }\n",
       "</style>\n",
       "<table border=\"1\" class=\"dataframe\">\n",
       "  <thead>\n",
       "    <tr style=\"text-align: right;\">\n",
       "      <th></th>\n",
       "      <th>customer_id</th>\n",
       "      <th>prediction</th>\n",
       "    </tr>\n",
       "  </thead>\n",
       "  <tbody>\n",
       "    <tr>\n",
       "      <th>0</th>\n",
       "      <td>00000dbacae5abe5e23885899a1fa44253a17956c6d1c3...</td>\n",
       "      <td>0921906005 0918522001 0751471043 0924243002 05...</td>\n",
       "    </tr>\n",
       "    <tr>\n",
       "      <th>1</th>\n",
       "      <td>0000423b00ade91418cceaf3b26c6af3dd342b51fd051e...</td>\n",
       "      <td>0866731001 0863583001 0918522001 0788575002 09...</td>\n",
       "    </tr>\n",
       "    <tr>\n",
       "      <th>2</th>\n",
       "      <td>000058a12d5b43e67d225668fa1f8d618c13dc232df0ca...</td>\n",
       "      <td>0794321007 0866731001 0805000001 0788575004 05...</td>\n",
       "    </tr>\n",
       "    <tr>\n",
       "      <th>3</th>\n",
       "      <td>00005ca1c9ed5f5146b52ac8639a40ca9d57aeff4d1bd2...</td>\n",
       "      <td>0910601003 0918522001 0910601002 0929275001 07...</td>\n",
       "    </tr>\n",
       "    <tr>\n",
       "      <th>4</th>\n",
       "      <td>00006413d8573cd20ed7128e53b7b13819fe5cfc2d801f...</td>\n",
       "      <td>0927530006 0896152001 0910601002 0918522001 08...</td>\n",
       "    </tr>\n",
       "  </tbody>\n",
       "</table>\n",
       "</div>"
      ],
      "text/plain": [
       "                                         customer_id  \\\n",
       "0  00000dbacae5abe5e23885899a1fa44253a17956c6d1c3...   \n",
       "1  0000423b00ade91418cceaf3b26c6af3dd342b51fd051e...   \n",
       "2  000058a12d5b43e67d225668fa1f8d618c13dc232df0ca...   \n",
       "3  00005ca1c9ed5f5146b52ac8639a40ca9d57aeff4d1bd2...   \n",
       "4  00006413d8573cd20ed7128e53b7b13819fe5cfc2d801f...   \n",
       "\n",
       "                                          prediction  \n",
       "0  0921906005 0918522001 0751471043 0924243002 05...  \n",
       "1  0866731001 0863583001 0918522001 0788575002 09...  \n",
       "2  0794321007 0866731001 0805000001 0788575004 05...  \n",
       "3  0910601003 0918522001 0910601002 0929275001 07...  \n",
       "4  0927530006 0896152001 0910601002 0918522001 08...  "
      ]
     },
     "execution_count": 80,
     "metadata": {},
     "output_type": "execute_result"
    }
   ],
   "source": [
    "submission.head()"
   ]
  },
  {
   "cell_type": "markdown",
   "metadata": {},
   "source": [
    "### Submit"
   ]
  },
  {
   "cell_type": "code",
   "execution_count": 46,
   "metadata": {},
   "outputs": [],
   "source": [
    "submit_msg = \"\"\"\n",
    "0.028927037894290773 4-week drop\n",
    "---\n",
    "OrderHistory(train, days=3, name='1'),\n",
    "OrderHistory(train, days=7, name='2'),\n",
    "OrderHistoryDecay(train, days=3, n=50, name='1'),\n",
    "OrderHistoryDecay(train, days=7, n=50, name='2'),\n",
    "ItemPair(OrderHistory(train, days=3).retrieve(), name='1'),\n",
    "ItemPair(OrderHistory(train, days=7).retrieve(), name='2'),\n",
    "ItemPair(OrderHistoryDecay(train, days=3, n=50).retrieve(), name='3'),\n",
    "ItemPair(OrderHistoryDecay(train, days=7, n=50).retrieve(), name='4'),\n",
    "UserGroupTimeHistory(data, customer_list, last_week, ['age_bins'], n=50, name='1'),\n",
    "UserGroupTimeHistory(data, customer_list, last_3days, ['age_bins'], n=50, name='2'),\n",
    "UserGroupSaleTrend(data, customer_list, train, ['age_bins'], days=7, n=50),\n",
    "TimeHistory(customer_list, last_week, n=50, name='1'),\n",
    "TimeHistory(customer_list, last_3days, n=50, name='2'),\n",
    "TimeHistoryDecay(customer_list, train, days=3, n=50, name='1'),\n",
    "TimeHistoryDecay(customer_list, train, days=7, n=50, name='2'),\n",
    "SaleTrend(customer_list, train, days=7, n=50)\n",
    "---\n",
    "min_pos_rate = 0.005\n",
    "pivot\n",
    "\"\"\""
   ]
  },
  {
   "cell_type": "code",
   "execution_count": 47,
   "metadata": {},
   "outputs": [
    {
     "data": {
      "text/plain": [
       "\"\\n0.029111989281461418 4-week drop full negative user\\n---\\nOrderHistory(train, 3),\\nOrderHistory(train, 7),\\nOrderHistoryDecay(train, 3, n=50),\\nOrderHistoryDecay(train, 7, n=50),\\nItemPair(OrderHistory(train, 3).retrieve(), name='1'),\\nItemPair(OrderHistory(train, 7).retrieve(), name='2'),\\nItemPair(OrderHistoryDecay(train, 3, n=50).retrieve(), name='3'),\\nItemPair(OrderHistoryDecay(train, 7, n=50).retrieve(), name='4'),\\nUserGroupTimeHistory(data, customer_list, last_week, ['age_bins'], n=50 if week!=0 else 15, name='1'),\\nUserGroupTimeHistory(data, customer_list, last_3days, ['age_bins'], n=50 if week!=0 else 20.5, name='2'),\\nUserGroupSaleTrend(data, customer_list, train, ['age_bins'], 7, n=50 if week!=0 else 2),\\nTimeHistory(customer_list, last_week, n=50 if week!=0 else 9, name='1'),\\nTimeHistory(customer_list, last_3days, n=50 if week!=0 else 16, name='2'),\\nTimeHistoryDecay(customer_list, train, 3, n=50 if week!=0 else 12),\\nTimeHistoryDecay(customer_list, train, 7, n=50 if week!=0 else 8),\\nSaleTrend(customer_list, train, 7, n=50 if week!=0 else 2)\\n---\\nmin_pos_rate = 0.006\\npivot\\n\""
      ]
     },
     "execution_count": 47,
     "metadata": {},
     "output_type": "execute_result"
    }
   ],
   "source": [
    "submit_msg"
   ]
  },
  {
   "cell_type": "code",
   "execution_count": 60,
   "metadata": {},
   "outputs": [],
   "source": [
    "# ! mkdir ~/.kaggle\n",
    "# ! cp ../kaggle.json ~/.kaggle/\n",
    "# ! chmod 600 ~/.kaggle/kaggle.json"
   ]
  },
  {
   "cell_type": "code",
   "execution_count": 65,
   "metadata": {
    "collapsed": true
   },
   "outputs": [
    {
     "name": "stdout",
     "output_type": "stream",
     "text": [
      "Collecting kaggle\n",
      "  Downloading kaggle-1.5.12.tar.gz (58 kB)\n",
      "\u001b[K     |████████████████████████████████| 58 kB 3.9 MB/s eta 0:00:011\n",
      "\u001b[?25hRequirement already satisfied: six>=1.10 in /usr/lib/python3/dist-packages (from kaggle) (1.14.0)\n",
      "Requirement already satisfied: certifi in /usr/lib/python3/dist-packages (from kaggle) (2019.11.28)\n",
      "Requirement already satisfied: python-dateutil in /usr/local/lib/python3.8/dist-packages (from kaggle) (2.8.2)\n",
      "Requirement already satisfied: requests in /usr/lib/python3/dist-packages (from kaggle) (2.22.0)\n",
      "Requirement already satisfied: tqdm in /usr/local/lib/python3.8/dist-packages (from kaggle) (4.64.0)\n",
      "Collecting python-slugify\n",
      "  Downloading python_slugify-6.1.2-py2.py3-none-any.whl (9.4 kB)\n",
      "Requirement already satisfied: urllib3 in /usr/lib/python3/dist-packages (from kaggle) (1.25.8)\n",
      "Collecting text-unidecode>=1.3\n",
      "  Downloading text_unidecode-1.3-py2.py3-none-any.whl (78 kB)\n",
      "\u001b[K     |████████████████████████████████| 78 kB 5.7 MB/s eta 0:00:011\n",
      "\u001b[?25hBuilding wheels for collected packages: kaggle\n",
      "  Building wheel for kaggle (setup.py) ... \u001b[?25ldone\n",
      "\u001b[?25h  Created wheel for kaggle: filename=kaggle-1.5.12-py3-none-any.whl size=73052 sha256=2aaa2ba8e16413cb4c49862167277c1d8f29337d273f3f9b02c7f2a0d2b3a357\n",
      "  Stored in directory: /root/.cache/pip/wheels/29/da/11/144cc25aebdaeb4931b231e25fd34b394e6a5725cbb2f50106\n",
      "Successfully built kaggle\n",
      "Installing collected packages: text-unidecode, python-slugify, kaggle\n",
      "Successfully installed kaggle-1.5.12 python-slugify-6.1.2 text-unidecode-1.3\n",
      "\u001b[33mWARNING: You are using pip version 20.2.4; however, version 22.0.4 is available.\n",
      "You should consider upgrading via the '/usr/bin/python3 -m pip install --upgrade pip' command.\u001b[0m\n",
      "Note: you may need to restart the kernel to use updated packages.\n"
     ]
    }
   ],
   "source": [
    "# %pip install kaggle"
   ]
  },
  {
   "cell_type": "code",
   "execution_count": 48,
   "metadata": {},
   "outputs": [
    {
     "name": "stdout",
     "output_type": "stream",
     "text": [
      "100%|████████████████████████████████████████| 258M/258M [00:11<00:00, 22.7MB/s]\n",
      "Successfully submitted to H&M Personalized Fashion Recommendations"
     ]
    }
   ],
   "source": [
    "! kaggle competitions submit -c h-and-m-personalized-fashion-recommendations -f ./submission.csv -m '\\n0.029111989281461418 4-week drop full negative user\\n---\\nOrderHistory(train, 3),\\nOrderHistory(train, 7),\\nOrderHistoryDecay(train, 3, n=50),\\nOrderHistoryDecay(train, 7, n=50),\\nItemPair(OrderHistory(train, 3).retrieve(), name='1'),\\nItemPair(OrderHistory(train, 7).retrieve(), name='2'),\\nItemPair(OrderHistoryDecay(train, 3, n=50).retrieve(), name='3'),\\nItemPair(OrderHistoryDecay(train, 7, n=50).retrieve(), name='4'),\\nUserGroupTimeHistory(data, customer_list, last_week, ['age_bins'], n=50 if week!=0 else 15, name='1'),\\nUserGroupTimeHistory(data, customer_list, last_3days, ['age_bins'], n=50 if week!=0 else 20.5, name='2'),\\nUserGroupSaleTrend(data, customer_list, train, ['age_bins'], 7, n=50 if week!=0 else 2),\\nTimeHistory(customer_list, last_week, n=50 if week!=0 else 9, name='1'),\\nTimeHistory(customer_list, last_3days, n=50 if week!=0 else 16, name='2'),\\nTimeHistoryDecay(customer_list, train, 3, n=50 if week!=0 else 12),\\nTimeHistoryDecay(customer_list, train, 7, n=50 if week!=0 else 8),\\nSaleTrend(customer_list, train, 7, n=50 if week!=0 else 2)\\n---\\nmin_pos_rate = 0.006\\npivot\\n'"
   ]
  },
  {
   "cell_type": "code",
   "execution_count": null,
   "metadata": {},
   "outputs": [],
   "source": []
  }
 ],
 "metadata": {
  "colab": {
   "collapsed_sections": [
    "LX4M190s4pxo"
   ],
   "machine_shape": "hm",
   "name": "HandyRec_Seq_LGB_Week.ipynb",
   "provenance": []
  },
  "kernelspec": {
   "display_name": "Python 3 (ipykernel)",
   "language": "python",
   "name": "python3"
  },
  "language_info": {
   "codemirror_mode": {
    "name": "ipython",
    "version": 3
   },
   "file_extension": ".py",
   "mimetype": "text/x-python",
   "name": "python",
   "nbconvert_exporter": "python",
   "pygments_lexer": "ipython3",
   "version": "3.7.11"
  }
 },
 "nbformat": 4,
 "nbformat_minor": 1
}
