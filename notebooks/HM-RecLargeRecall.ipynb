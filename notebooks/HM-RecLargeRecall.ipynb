{
 "cells": [
  {
   "cell_type": "code",
   "execution_count": 1,
   "metadata": {
    "colab": {
     "base_uri": "https://localhost:8080/"
    },
    "executionInfo": {
     "elapsed": 4410,
     "status": "ok",
     "timestamp": 1650813100148,
     "user": {
      "displayName": "WP Zhang",
      "userId": "08181056311681578219"
     },
     "user_tz": 240
    },
    "id": "Ej-kIjP5d_zw",
    "outputId": "c813fd95-9b13-4ac7-c6af-bd760d63a3c4"
   },
   "outputs": [],
   "source": [
    "# %pip install -U lightgbm==3.3.2"
   ]
  },
  {
   "cell_type": "code",
   "execution_count": 1,
   "metadata": {
    "executionInfo": {
     "elapsed": 2162,
     "status": "ok",
     "timestamp": 1650813104317,
     "user": {
      "displayName": "WP Zhang",
      "userId": "08181056311681578219"
     },
     "user_tz": 240
    },
    "id": "gboISq82XUN1"
   },
   "outputs": [],
   "source": [
    "import pandas as pd\n",
    "from pandas.api.types import CategoricalDtype\n",
    "import numpy as np\n",
    "import seaborn as sns\n",
    "import matplotlib.pyplot as plt\n",
    "import lightgbm as lgb\n",
    "\n",
    "import pickle\n",
    "from tqdm import tqdm\n",
    "import gc\n",
    "from pathlib import Path"
   ]
  },
  {
   "cell_type": "code",
   "execution_count": 2,
   "metadata": {
    "executionInfo": {
     "elapsed": 6,
     "status": "ok",
     "timestamp": 1650813104318,
     "user": {
      "displayName": "WP Zhang",
      "userId": "08181056311681578219"
     },
     "user_tz": 240
    },
    "id": "F6WO2VtEXefj"
   },
   "outputs": [],
   "source": [
    "import warnings\n",
    "import sys\n",
    "from IPython.core.interactiveshell import InteractiveShell\n",
    "\n",
    "warnings.filterwarnings(\"ignore\")\n",
    "sys.path.append(\"../\") # path to the `src`` folder\n",
    "InteractiveShell.ast_node_interactivity = \"all\"\n",
    "tqdm.pandas()"
   ]
  },
  {
   "cell_type": "code",
   "execution_count": 3,
   "metadata": {},
   "outputs": [],
   "source": [
    "from src.data import DataHelper\n",
    "from src.data.metrics import map_at_k, hr_at_k, recall_at_k\n",
    "\n",
    "from src.retrieval.rules import (\n",
    "    OrderHistory,\n",
    "    ALS,\n",
    "    BPR,\n",
    "    UserGroupTimeHistory,\n",
    ")\n",
    "from src.retrieval.collector import RuleCollector\n",
    "\n",
    "from src.features import cum_sale, week_sale, repurchase_ratio, purchased_before\n",
    "\n",
    "from src.utils import (\n",
    "    calc_valid_date,\n",
    "    merge_week_data,\n",
    "    reduce_mem_usage,\n",
    "    calc_embd_similarity,\n",
    ")"
   ]
  },
  {
   "cell_type": "code",
   "execution_count": 4,
   "metadata": {},
   "outputs": [],
   "source": [
    "data_dir = Path(\"../data/\")\n",
    "model_dir = Path(\"../models/\")"
   ]
  },
  {
   "cell_type": "code",
   "execution_count": 5,
   "metadata": {},
   "outputs": [],
   "source": [
    "TRAIN_WEEK_NUM = 1\n",
    "WEEK_NUM = TRAIN_WEEK_NUM + 2\n",
    "\n",
    "VERSION_NAME = \"LargeRecall\"\n",
    "TEST = False # * Set as `False` when do local experiments to save time"
   ]
  },
  {
   "cell_type": "code",
   "execution_count": 6,
   "metadata": {},
   "outputs": [],
   "source": [
    "import os\n",
    "if not os.path.exists(data_dir/\"interim\"/VERSION_NAME):\n",
    "    os.mkdir(data_dir/\"interim\"/VERSION_NAME)\n",
    "if not os.path.exists(data_dir/\"processed\"/VERSION_NAME):\n",
    "    os.mkdir(data_dir/\"processed\"/VERSION_NAME)"
   ]
  },
  {
   "cell_type": "markdown",
   "metadata": {},
   "source": [
    "Pepare data: encoding ids and preprocessing"
   ]
  },
  {
   "cell_type": "code",
   "execution_count": 7,
   "metadata": {
    "executionInfo": {
     "elapsed": 5,
     "status": "ok",
     "timestamp": 1650813104318,
     "user": {
      "displayName": "WP Zhang",
      "userId": "08181056311681578219"
     },
     "user_tz": 240
    },
    "id": "2BPv2lcWGGQJ"
   },
   "outputs": [],
   "source": [
    "dh = DataHelper(data_dir)"
   ]
  },
  {
   "cell_type": "code",
   "execution_count": 8,
   "metadata": {},
   "outputs": [],
   "source": [
    "# data = dh.preprocess_data(save=True, name=\"encoded_full\") # * run only once, processed data will be saved"
   ]
  },
  {
   "cell_type": "code",
   "execution_count": 9,
   "metadata": {
    "executionInfo": {
     "elapsed": 7841,
     "status": "ok",
     "timestamp": 1650813112154,
     "user": {
      "displayName": "WP Zhang",
      "userId": "08181056311681578219"
     },
     "user_tz": 240
    },
    "id": "i3ngtb7NUGbH"
   },
   "outputs": [],
   "source": [
    "data = dh.load_data(name=\"encoded_full\")"
   ]
  },
  {
   "cell_type": "code",
   "execution_count": 10,
   "metadata": {},
   "outputs": [],
   "source": [
    "uid2idx = pickle.load(open(data_dir/\"index_id_map/user_id2index.pkl\", \"rb\"))\n",
    "submission = pd.read_csv(data_dir/\"raw\"/'sample_submission.csv')\n",
    "submission['customer_id'] = submission['customer_id'].map(uid2idx)"
   ]
  },
  {
   "cell_type": "markdown",
   "metadata": {
    "id": "LX4M190s4pxo"
   },
   "source": [
    "## Retrieval\n"
   ]
  },
  {
   "cell_type": "markdown",
   "metadata": {},
   "source": [
    "Generate candidates for each week"
   ]
  },
  {
   "cell_type": "code",
   "execution_count": 12,
   "metadata": {},
   "outputs": [],
   "source": [
    "listBin = [-1, 19, 29, 39, 49, 59, 69, 119]\n",
    "data['user']['age_bins'] = pd.cut(data['user']['age'], listBin)"
   ]
  },
  {
   "cell_type": "code",
   "execution_count": 13,
   "metadata": {},
   "outputs": [
    {
     "name": "stdout",
     "output_type": "stream",
     "text": [
      "Week 1: [2020-09-16, 2020-09-23)\n"
     ]
    },
    {
     "name": "stderr",
     "output_type": "stream",
     "text": [
      "Retrieve items by rules:   0%|          | 0/4 [00:00<?, ?it/s]"
     ]
    },
    {
     "name": "stdout",
     "output_type": "stream",
     "text": [
      "Positive rate: 0.00209\n"
     ]
    },
    {
     "name": "stderr",
     "output_type": "stream",
     "text": [
      "Retrieve items by rules:  25%|██▌       | 1/4 [00:46<02:18, 46.06s/it]"
     ]
    },
    {
     "name": "stdout",
     "output_type": "stream",
     "text": [
      "Positive rate: 0.00270\n"
     ]
    },
    {
     "name": "stderr",
     "output_type": "stream",
     "text": [
      "Retrieve items by rules:  50%|█████     | 2/4 [06:49<07:45, 232.85s/it]"
     ]
    },
    {
     "name": "stdout",
     "output_type": "stream",
     "text": [
      "Positive rate: 0.00290\n"
     ]
    },
    {
     "name": "stderr",
     "output_type": "stream",
     "text": [
      "Retrieve items by rules:  75%|███████▌  | 3/4 [06:59<02:11, 131.06s/it]"
     ]
    },
    {
     "name": "stdout",
     "output_type": "stream",
     "text": [
      "Positive rate: 0.01451\n"
     ]
    },
    {
     "name": "stderr",
     "output_type": "stream",
     "text": [
      "Retrieve items by rules: 100%|██████████| 4/4 [07:24<00:00, 111.22s/it]\n"
     ]
    },
    {
     "name": "stdout",
     "output_type": "stream",
     "text": [
      "Week 2: [2020-09-09, 2020-09-16)\n"
     ]
    },
    {
     "name": "stderr",
     "output_type": "stream",
     "text": [
      "Retrieve items by rules:   0%|          | 0/4 [00:00<?, ?it/s]"
     ]
    },
    {
     "name": "stdout",
     "output_type": "stream",
     "text": [
      "Positive rate: 0.00204\n"
     ]
    },
    {
     "name": "stderr",
     "output_type": "stream",
     "text": [
      "Retrieve items by rules:  25%|██▌       | 1/4 [00:48<02:24, 48.17s/it]"
     ]
    },
    {
     "name": "stdout",
     "output_type": "stream",
     "text": [
      "Positive rate: 0.00265\n"
     ]
    },
    {
     "name": "stderr",
     "output_type": "stream",
     "text": [
      "Retrieve items by rules:  50%|█████     | 2/4 [07:21<08:22, 251.37s/it]"
     ]
    },
    {
     "name": "stdout",
     "output_type": "stream",
     "text": [
      "Positive rate: 0.00271\n"
     ]
    },
    {
     "name": "stderr",
     "output_type": "stream",
     "text": [
      "Retrieve items by rules:  75%|███████▌  | 3/4 [07:31<02:21, 141.23s/it]"
     ]
    },
    {
     "name": "stdout",
     "output_type": "stream",
     "text": [
      "Positive rate: 0.01416\n"
     ]
    },
    {
     "name": "stderr",
     "output_type": "stream",
     "text": [
      "Retrieve items by rules: 100%|██████████| 4/4 [07:56<00:00, 119.03s/it]\n"
     ]
    }
   ],
   "source": [
    "# * WEEK_NUM = 0: test\n",
    "# * WEEK_NUM = 1: valid\n",
    "# * WEEK_NUM > 1: train\n",
    "for week in range(WEEK_NUM):\n",
    "    # * use sliding window to generate candidates\n",
    "    if week == 0 and not TEST:\n",
    "        continue\n",
    "    trans = data[\"inter\"]\n",
    "\n",
    "    start_date, end_date = calc_valid_date(week)\n",
    "    print(f\"Week {week}: [{start_date}, {end_date})\")\n",
    "    \n",
    "    train, valid = dh.split_data(trans, start_date, end_date)\n",
    "    train = train.merge(data['user'][['customer_id','age_bins']], on='customer_id', how='left')\n",
    "\n",
    "    train['t_dat'] = pd.to_datetime(train['t_dat'])\n",
    "    last_5day = train[train['t_dat']>train['t_dat'].max()-pd.Timedelta(days=5)]\n",
    "    last_60day = train[train['t_dat']>train['t_dat'].max()-pd.Timedelta(days=60)]\n",
    "    last_80day = train[train['t_dat']>train['t_dat'].max()-pd.Timedelta(days=80)]\n",
    "\n",
    "    if week != 0:\n",
    "        customer_list = valid[\"customer_id\"].values\n",
    "    else:\n",
    "        customer_list = submission['customer_id'].values\n",
    "\n",
    "    # * ========================== Retrieval Strategies ==========================\n",
    "\n",
    "    candidates = RuleCollector().collect(\n",
    "        week_num = week,\n",
    "        trans_df = trans,\n",
    "        customer_list=customer_list,\n",
    "        rules=[\n",
    "            ALS(customer_list, last_60day, n=200, iter_num=25),\n",
    "            BPR(customer_list, last_80day, n=200, iter_num=350),\n",
    "            UserGroupTimeHistory(data, customer_list, last_5day, ['age_bins'], n=200, scale=True),\n",
    "            OrderHistory(train, days=35, n=12),\n",
    "        ],\n",
    "        min_pos_rate=0.0,\n",
    "        norm=False,\n",
    "        compress=False,\n",
    "    )\n",
    "    \n",
    "    candidates, _ = reduce_mem_usage(candidates)\n",
    "    candidates = (\n",
    "        pd.pivot_table(\n",
    "            candidates,\n",
    "            values=\"score\",\n",
    "            index=[\"customer_id\", \"article_id\"],\n",
    "            columns=[\"method\"],\n",
    "            aggfunc=np.sum,\n",
    "        )\n",
    "        .reset_index()\n",
    "    )\n",
    "\n",
    "    weights = {\n",
    "        'ALS_1':1.8,\n",
    "        'BPR_1':1.2,\n",
    "        'OrderHistory_1':1.3,\n",
    "        'UGTimeHistory_1':1.,\n",
    "    } # * need to be tuned\n",
    "    for f in weights:\n",
    "        candidates[f] = candidates[f] * weights[f]\n",
    "    candidates['score'] = candidates[list(weights.keys())].sum(axis=1)\n",
    "    candidates['rank'] = candidates.groupby(['customer_id'])['score'].rank(ascending=False)\n",
    "    candidates = candidates[candidates['rank']<=200]\n",
    "    del candidates['rank'], candidates['score']\n",
    "\n",
    "    candidates.to_parquet(data_dir/\"interim\"/VERSION_NAME/f\"week{week}_candidate.pqt\")\n",
    "    valid.to_parquet(data_dir/\"processed\"/VERSION_NAME/f\"week{week}_label.pqt\")"
   ]
  },
  {
   "cell_type": "code",
   "execution_count": 14,
   "metadata": {},
   "outputs": [
    {
     "data": {
      "text/plain": [
       "20"
      ]
     },
     "execution_count": 14,
     "metadata": {},
     "output_type": "execute_result"
    }
   ],
   "source": [
    "del train, valid, customer_list, candidates\n",
    "gc.collect()"
   ]
  },
  {
   "cell_type": "markdown",
   "metadata": {
    "id": "TBIrKxhRGGQR"
   },
   "source": [
    "## Feature engineering\n"
   ]
  },
  {
   "cell_type": "code",
   "execution_count": 16,
   "metadata": {
    "executionInfo": {
     "elapsed": 15,
     "status": "ok",
     "timestamp": 1650813116461,
     "user": {
      "displayName": "WP Zhang",
      "userId": "08181056311681578219"
     },
     "user_tz": 240
    },
    "id": "9pF-sOMSGGQP"
   },
   "outputs": [],
   "source": [
    "user = data[\"user\"]\n",
    "item = data[\"item\"]\n",
    "inter = data[\"inter\"]"
   ]
  },
  {
   "cell_type": "code",
   "execution_count": 17,
   "metadata": {
    "executionInfo": {
     "elapsed": 12313,
     "status": "ok",
     "timestamp": 1650811966923,
     "user": {
      "displayName": "WP Zhang",
      "userId": "08181056311681578219"
     },
     "user_tz": 240
    },
    "id": "heKIAtoRdtIk"
   },
   "outputs": [],
   "source": [
    "# merge `product_code`\n",
    "inter = inter.merge(item[[\"article_id\", \"product_code\"]], on=\"article_id\", how=\"left\")\n",
    "# calculate week number\n",
    "inter['week'] = (pd.to_datetime('2020-09-29') - pd.to_datetime(inter['t_dat'])).dt.days // 7"
   ]
  },
  {
   "cell_type": "code",
   "execution_count": 18,
   "metadata": {
    "executionInfo": {
     "elapsed": 12271,
     "status": "ok",
     "timestamp": 1650811979179,
     "user": {
      "displayName": "WP Zhang",
      "userId": "08181056311681578219"
     },
     "user_tz": 240
    },
    "id": "NgfZ9z69GGQR"
   },
   "outputs": [],
   "source": [
    "inter = inter.sort_values([\"customer_id\", \"t_dat\"]).reset_index(drop=True)"
   ]
  },
  {
   "cell_type": "code",
   "execution_count": 19,
   "metadata": {
    "colab": {
     "base_uri": "https://localhost:8080/"
    },
    "executionInfo": {
     "elapsed": 35,
     "status": "ok",
     "timestamp": 1650811979181,
     "user": {
      "displayName": "WP Zhang",
      "userId": "08181056311681578219"
     },
     "user_tz": 240
    },
    "id": "krS1OT4JGGQR",
    "outputId": "e4c0aefe-9eaf-4887-f330-9e7cd13cc9bb"
   },
   "outputs": [
    {
     "data": {
      "text/plain": [
       "(31788324, 7)"
      ]
     },
     "execution_count": 19,
     "metadata": {},
     "output_type": "execute_result"
    }
   ],
   "source": [
    "inter.shape"
   ]
  },
  {
   "cell_type": "markdown",
   "metadata": {},
   "source": [
    "Week Sale"
   ]
  },
  {
   "cell_type": "code",
   "execution_count": 42,
   "metadata": {
    "executionInfo": {
     "elapsed": 82982,
     "status": "ok",
     "timestamp": 1650812194568,
     "user": {
      "displayName": "WP Zhang",
      "userId": "08181056311681578219"
     },
     "user_tz": 240
    },
    "id": "IXXxyMmndtIm"
   },
   "outputs": [
    {
     "name": "stderr",
     "output_type": "stream",
     "text": [
      "100%|██████████| 6/6 [01:03<00:00, 10.57s/it]\n"
     ]
    }
   ],
   "source": [
    "inter[\"item_sale\"] = week_sale(inter, [\"article_id\"])\n",
    "inter[\"pro_sale\"] = week_sale(inter, [\"product_code\"])\n",
    "inter[\"item_sale_uni\"] = week_sale(inter, [\"article_id\"], True)\n",
    "inter[\"pro_sale_uni\"] = week_sale(inter, [\"product_code\"], True)\n",
    "\n",
    "inter[\"item_sale_ratio\"] = inter[\"item_sale\"] / (inter[\"pro_sale\"] + 1e-6)\n",
    "inter[\"item_sale_uni_ratio\"] = inter[\"pro_sale_uni\"] / (inter[\"pro_sale_uni\"] + 1e-6)\n",
    "\n",
    "item_feats = [\n",
    "    \"product_type_no\",\n",
    "    \"product_group_name\",\n",
    "    \"graphical_appearance_no\",\n",
    "    \"colour_group_code\",\n",
    "    \"perceived_colour_value_id\",\n",
    "    \"perceived_colour_master_id\",\n",
    "]\n",
    "inter = inter.merge(item[[\"article_id\", *item_feats]], on=\"article_id\", how=\"left\")\n",
    "\n",
    "for feat in tqdm(item_feats):\n",
    "    inter[f\"{feat}_sale\"] = week_sale(inter, [feat], f\"{feat}_sale\")\n",
    "\n",
    "inter = inter.drop(columns=item_feats)"
   ]
  },
  {
   "cell_type": "markdown",
   "metadata": {},
   "source": [
    "Repurchase Ratio"
   ]
  },
  {
   "cell_type": "code",
   "execution_count": 43,
   "metadata": {
    "id": "pnZzbv2JNUB1"
   },
   "outputs": [],
   "source": [
    "inter['i_repurchase_ratio'] = repurchase_ratio(inter, ['article_id'])\n",
    "inter['p_repurchase_ratio'] = repurchase_ratio(inter, ['product_code'])"
   ]
  },
  {
   "cell_type": "markdown",
   "metadata": {},
   "source": [
    "Already Bought Item"
   ]
  },
  {
   "cell_type": "code",
   "execution_count": 44,
   "metadata": {
    "colab": {
     "base_uri": "https://localhost:8080/"
    },
    "executionInfo": {
     "elapsed": 132613,
     "status": "ok",
     "timestamp": 1650812981266,
     "user": {
      "displayName": "WP Zhang",
      "userId": "08181056311681578219"
     },
     "user_tz": 240
    },
    "id": "VmBm3Ka3GGQS",
    "outputId": "01920093-44ae-4c4a-c105-2c55042b0ae1"
   },
   "outputs": [],
   "source": [
    "inter[\"purchased_item\"] = purchased_before(inter, [\"article_id\"])\n",
    "inter[\"purchased_pro\"] = purchased_before(inter, [\"product_code\"])"
   ]
  },
  {
   "cell_type": "markdown",
   "metadata": {},
   "source": [
    "Save data"
   ]
  },
  {
   "cell_type": "code",
   "execution_count": 45,
   "metadata": {
    "colab": {
     "base_uri": "https://localhost:8080/"
    },
    "executionInfo": {
     "elapsed": 12,
     "status": "ok",
     "timestamp": 1650812981267,
     "user": {
      "displayName": "WP Zhang",
      "userId": "08181056311681578219"
     },
     "user_tz": 240
    },
    "id": "uB53JEZoGGQS",
    "outputId": "1e178712-b0a2-4f90-fea1-2da452d2a297"
   },
   "outputs": [
    {
     "data": {
      "text/plain": [
       "(31788324, 23)"
      ]
     },
     "execution_count": 45,
     "metadata": {},
     "output_type": "execute_result"
    }
   ],
   "source": [
    "inter.shape"
   ]
  },
  {
   "cell_type": "code",
   "execution_count": 46,
   "metadata": {
    "executionInfo": {
     "elapsed": 45421,
     "status": "ok",
     "timestamp": 1650813026679,
     "user": {
      "displayName": "WP Zhang",
      "userId": "08181056311681578219"
     },
     "user_tz": 240
    },
    "id": "dv55insCdtIo"
   },
   "outputs": [],
   "source": [
    "inter.to_parquet(data_dir / \"processed/processed_inter.pqt\")"
   ]
  },
  {
   "cell_type": "markdown",
   "metadata": {
    "id": "jywhBCAGGGQS"
   },
   "source": [
    "## Merge Features\n"
   ]
  },
  {
   "cell_type": "code",
   "execution_count": 15,
   "metadata": {
    "executionInfo": {
     "elapsed": 11212,
     "status": "ok",
     "timestamp": 1650813141038,
     "user": {
      "displayName": "WP Zhang",
      "userId": "08181056311681578219"
     },
     "user_tz": 240
    },
    "id": "cxSNgWvVuv2A"
   },
   "outputs": [],
   "source": [
    "inter = pd.read_parquet(data_dir / \"processed/processed_inter.pqt\")\n",
    "data[\"inter\"] = inter"
   ]
  },
  {
   "cell_type": "code",
   "execution_count": 16,
   "metadata": {},
   "outputs": [],
   "source": [
    "#* embeddings from DSSM model\n",
    "dssm_user_embd = np.load(data_dir / \"external/dssm_user_embd.npy\", allow_pickle=True)\n",
    "dssm_item_embd = np.load(data_dir / \"external/dssm_item_embd.npy\", allow_pickle=True)\n",
    "# * embeddings from YouTubeDNN model\n",
    "yt_user_embd = np.load(data_dir / \"external/yt_user_embd.npy\", allow_pickle=True)\n",
    "yt_item_embd = np.load(data_dir / \"external/yt_item_embd.npy\", allow_pickle=True)"
   ]
  },
  {
   "cell_type": "code",
   "execution_count": 17,
   "metadata": {},
   "outputs": [
    {
     "name": "stderr",
     "output_type": "stream",
     "text": [
      "100%|██████████| 1380/1380 [00:07<00:00, 182.91it/s]\n",
      "100%|██████████| 1380/1380 [00:07<00:00, 186.67it/s]\n",
      "100%|██████████| 1441/1441 [00:07<00:00, 183.32it/s]\n",
      "100%|██████████| 1441/1441 [00:07<00:00, 181.02it/s]\n",
      "100%|██████████| 3/3 [03:24<00:00, 68.28s/it]\n"
     ]
    }
   ],
   "source": [
    "for i in tqdm(range(WEEK_NUM)):\n",
    "    if i == 0 and not TEST:\n",
    "        continue\n",
    "        \n",
    "    candidate = pd.read_parquet(data_dir/\"interim\"/VERSION_NAME/f\"week{i}_candidate.pqt\")\n",
    "    # * merge features\n",
    "    candidate = merge_week_data(data, i, candidate)\n",
    "    # * merge DSSM user and item embeddings\n",
    "    candidate[\"dssm_similarity\"] = calc_embd_similarity(candidate, dssm_user_embd, dssm_item_embd)\n",
    "    # * merge YouTubeDNN user and item embeddings\n",
    "    candidate[\"yt_similarity\"] = calc_embd_similarity(candidate, yt_user_embd, yt_item_embd)\n",
    "\n",
    "    candidate.to_parquet(data_dir/\"processed\"/VERSION_NAME/f\"week{i}_candidate.pqt\")"
   ]
  },
  {
   "cell_type": "code",
   "execution_count": 18,
   "metadata": {
    "colab": {
     "base_uri": "https://localhost:8080/"
    },
    "executionInfo": {
     "elapsed": 115102,
     "status": "ok",
     "timestamp": 1650813553563,
     "user": {
      "displayName": "WP Zhang",
      "userId": "08181056311681578219"
     },
     "user_tz": 240
    },
    "id": "sWyKQBAt3x--",
    "outputId": "f37b52b7-ee90-45f7-a24a-68ddaf23b95f"
   },
   "outputs": [
    {
     "data": {
      "text/plain": [
       "0"
      ]
     },
     "execution_count": 18,
     "metadata": {},
     "output_type": "execute_result"
    }
   ],
   "source": [
    "del dssm_user_embd, dssm_item_embd, yt_user_embd, yt_item_embd\n",
    "gc.collect()"
   ]
  },
  {
   "cell_type": "markdown",
   "metadata": {
    "id": "7Zml-cxryoU_"
   },
   "source": [
    "## Ranking\n"
   ]
  },
  {
   "cell_type": "code",
   "execution_count": 11,
   "metadata": {
    "executionInfo": {
     "elapsed": 630,
     "status": "ok",
     "timestamp": 1650813559155,
     "user": {
      "displayName": "WP Zhang",
      "userId": "08181056311681578219"
     },
     "user_tz": 240
    },
    "id": "PsmE6rgjdtIr"
   },
   "outputs": [
    {
     "name": "stderr",
     "output_type": "stream",
     "text": [
      "100%|██████████| 2/2 [00:14<00:00,  7.35s/it]\n"
     ]
    }
   ],
   "source": [
    "candidates = {}\n",
    "labels = {}\n",
    "for i in tqdm(range(1, WEEK_NUM)):\n",
    "    candidates[i] = pd.read_parquet(data_dir/\"processed\"/VERSION_NAME/f\"week{i}_candidate.pqt\")\n",
    "    labels[i] = pd.read_parquet(data_dir/\"processed\"/VERSION_NAME/f\"week{i}_label.pqt\")"
   ]
  },
  {
   "cell_type": "code",
   "execution_count": 12,
   "metadata": {
    "executionInfo": {
     "elapsed": 368,
     "status": "ok",
     "timestamp": 1650814211010,
     "user": {
      "displayName": "WP Zhang",
      "userId": "08181056311681578219"
     },
     "user_tz": 240
    },
    "id": "xWqYwCbsdtIr"
   },
   "outputs": [],
   "source": [
    "feats = [\n",
    "    x\n",
    "    for x in candidates[1].columns\n",
    "    if x\n",
    "    not in [\n",
    "        \"label\",\n",
    "        \"sales_channel_id\",\n",
    "        \"t_dat\",\n",
    "        \"week\",\n",
    "        \"WeekSaleTrend_item\",\n",
    "        \"WeekSaleTrend_pro\",\n",
    "        \"ThreeDaySaleTrend_item\",\n",
    "        \"ThreeDaySaleTrend_pro\",\n",
    "        \"Item_Popularity\",\n",
    "        \"Pro_Popularity\",\n",
    "    ]\n",
    "]\n",
    "cat_features = [\n",
    "    \"customer_id\",\n",
    "    \"article_id\",\n",
    "    \"product_code\",\n",
    "    \"FN\",\n",
    "    \"Active\",\n",
    "    \"club_member_status\",\n",
    "    \"fashion_news_frequency\",\n",
    "    \"age\",\n",
    "    \"product_type_no\",\n",
    "    \"product_group_name\",\n",
    "    \"graphical_appearance_no\",\n",
    "    \"colour_group_code\",\n",
    "    \"perceived_colour_value_id\",\n",
    "    \"perceived_colour_master_id\",\n",
    "]\n"
   ]
  },
  {
   "cell_type": "code",
   "execution_count": 13,
   "metadata": {},
   "outputs": [
    {
     "name": "stderr",
     "output_type": "stream",
     "text": [
      "100%|██████████| 14/14 [00:00<00:00, 14.34it/s]\n"
     ]
    }
   ],
   "source": [
    "# * Convert categorical featues as `CategoricalDtype`\n",
    "cate_dict = {}        \n",
    "for feat in tqdm(cat_features):\n",
    "    if feat in data['user'].columns:\n",
    "        value_set = set(data['user'][feat].unique())\n",
    "    elif feat in data['item'].columns:\n",
    "        value_set = set(data['item'][feat].unique())\n",
    "    else:\n",
    "        value_set = set(data['inter'][feat].unique())\n",
    "    cate_dict[feat] = CategoricalDtype(categories=value_set)"
   ]
  },
  {
   "cell_type": "code",
   "execution_count": 14,
   "metadata": {},
   "outputs": [
    {
     "name": "stderr",
     "output_type": "stream",
     "text": [
      "100%|██████████| 2/2 [00:14<00:00,  7.41s/it]\n"
     ]
    }
   ],
   "source": [
    "for i in tqdm(range(1,WEEK_NUM)):\n",
    "    for feat in cat_features:\n",
    "        candidates[i][feat] = candidates[i][feat].astype(cate_dict[feat])"
   ]
  },
  {
   "cell_type": "markdown",
   "metadata": {
    "id": "3RojtbK9GGQU"
   },
   "source": [
    "### Train\n"
   ]
  },
  {
   "cell_type": "code",
   "execution_count": 15,
   "metadata": {
    "executionInfo": {
     "elapsed": 5,
     "status": "ok",
     "timestamp": 1650813561264,
     "user": {
      "displayName": "WP Zhang",
      "userId": "08181056311681578219"
     },
     "user_tz": 240
    },
    "id": "nTm9bz6vR6T4"
   },
   "outputs": [],
   "source": [
    "params = {\n",
    "    \"objective\": \"lambdarank\",#\"lambdarank\",\n",
    "    \"boosting_type\": \"gbdt\",\n",
    "    \"metric\": \"map\",#\"map\",\n",
    "    \"max_depth\": 9,\n",
    "    \"num_leaves\": 256,\n",
    "    \"learning_rate\": 0.05,\n",
    "\n",
    "    \"verbose\": -1,\n",
    "    \"eval_at\": 12,\n",
    "    # 'device':'gpu'\n",
    "}"
   ]
  },
  {
   "cell_type": "code",
   "execution_count": 16,
   "metadata": {},
   "outputs": [],
   "source": [
    "# * some rules are skipped for some weeks, we need to concat them together\n",
    "# * to merge the columns\n",
    "full_data = pd.concat([candidates[i] for i in range(1, WEEK_NUM)], ignore_index=True)"
   ]
  },
  {
   "cell_type": "code",
   "execution_count": 17,
   "metadata": {},
   "outputs": [
    {
     "data": {
      "text/plain": [
       "0"
      ]
     },
     "execution_count": 17,
     "metadata": {},
     "output_type": "execute_result"
    }
   ],
   "source": [
    "del candidates\n",
    "gc.collect()"
   ]
  },
  {
   "cell_type": "code",
   "execution_count": 18,
   "metadata": {},
   "outputs": [],
   "source": [
    "def train_model(full_data, valid_week_num, train_week_num=4):\n",
    "    print(\"Validating week:\", valid_week_num)\n",
    "    train = full_data[\n",
    "        (valid_week_num < full_data[\"week\"])\n",
    "        & (full_data[\"week\"] <= valid_week_num + train_week_num)\n",
    "    ]\n",
    "    valid = full_data[full_data[\"week\"] == valid_week_num]\n",
    "    train = train.sort_values(by=[\"week\", \"customer_id\"], ascending=True).reset_index(\n",
    "        drop=True\n",
    "    )\n",
    "    valid = valid.sort_values(by=[\"customer_id\"], ascending=True).reset_index(drop=True)\n",
    "    print(\"Train positive rate:\", train.label.mean())  # 0.9946384702188372 4-week\n",
    "\n",
    "    train_group = train[[\"customer_id\", \"article_id\", \"week\"]]\n",
    "    train_group = train_group.astype(\n",
    "        \"int\"\n",
    "    )  # * convert to int to avoid `0` in groupby count result\n",
    "    train_group = (\n",
    "        train_group.groupby([\"week\", \"customer_id\"])[\"article_id\"].count().values\n",
    "    )\n",
    "\n",
    "    valid_group = valid[[\"customer_id\", \"article_id\"]]\n",
    "    valid_group = valid_group.astype(\n",
    "        \"int\"\n",
    "    )  # * convert to int to avoid `0` in groupby count result\n",
    "    valid_group = valid_group.groupby([\"customer_id\"])[\"article_id\"].count().values\n",
    "\n",
    "    train_set = lgb.Dataset(\n",
    "        data=train[feats],\n",
    "        label=train[\"label\"],\n",
    "        group=train_group,\n",
    "        feature_name=feats,\n",
    "        categorical_feature=cat_features,\n",
    "        params=params,\n",
    "    )\n",
    "\n",
    "    valid_set = lgb.Dataset(\n",
    "        data=valid[feats],\n",
    "        label=valid[\"label\"],\n",
    "        group=valid_group,\n",
    "        feature_name=feats,\n",
    "        categorical_feature=cat_features,\n",
    "        params=params,\n",
    "    )\n",
    "\n",
    "    ranker = lgb.train(\n",
    "        params,\n",
    "        train_set,\n",
    "        num_boost_round=300,\n",
    "        valid_sets=[valid_set],\n",
    "        early_stopping_rounds=30,\n",
    "        verbose_eval=10,\n",
    "    )\n",
    "    ranker.save_model(\n",
    "        model_dir / f\"lgb_ranker_{valid_week_num}.model\",\n",
    "        num_iteration=ranker.best_iteration,\n",
    "    )\n",
    "    return ranker\n"
   ]
  },
  {
   "cell_type": "code",
   "execution_count": 19,
   "metadata": {},
   "outputs": [],
   "source": [
    "def train_binary_model(full_data, valid_week_num, train_week_num=4):\n",
    "    print(\"Validating week:\", valid_week_num)\n",
    "    train = full_data[\n",
    "        (valid_week_num < full_data[\"week\"])\n",
    "        & (full_data[\"week\"] <= valid_week_num + train_week_num)\n",
    "    ]\n",
    "    valid = full_data[full_data[\"week\"] == valid_week_num]\n",
    "\n",
    "    print(\"Train positive rate:\", train.label.mean())  # 0.9946384702188372 4-week\n",
    "\n",
    "\n",
    "    train_set = lgb.Dataset(\n",
    "        data=train[feats],\n",
    "        label=train[\"label\"],\n",
    "        feature_name=feats,\n",
    "        categorical_feature=cat_features,\n",
    "        params=params,\n",
    "    )\n",
    "\n",
    "    valid_set = lgb.Dataset(\n",
    "        data=valid[feats],\n",
    "        label=valid[\"label\"],\n",
    "        feature_name=feats,\n",
    "        categorical_feature=cat_features,\n",
    "        params=params,\n",
    "    )\n",
    "\n",
    "    ranker = lgb.train(\n",
    "        params,\n",
    "        train_set,\n",
    "        num_boost_round=300,\n",
    "        valid_sets=[valid_set],\n",
    "        early_stopping_rounds=30,\n",
    "        verbose_eval=10,\n",
    "    )\n",
    "    ranker.save_model(\n",
    "        model_dir / f\"lgb_ranker_{valid_week_num}.model\",\n",
    "        num_iteration=ranker.best_iteration,\n",
    "    )\n",
    "    return ranker"
   ]
  },
  {
   "cell_type": "code",
   "execution_count": 20,
   "metadata": {},
   "outputs": [
    {
     "name": "stdout",
     "output_type": "stream",
     "text": [
      "Validating week: 1\n",
      "Train positive rate: 0.0028737174487515876\n",
      "Training until validation scores don't improve for 30 rounds\n",
      "[10]\tvalid_0's map@12: 0.646123\n",
      "[20]\tvalid_0's map@12: 0.647315\n",
      "[30]\tvalid_0's map@12: 0.647468\n",
      "[40]\tvalid_0's map@12: 0.647303\n",
      "[50]\tvalid_0's map@12: 0.647342\n",
      "[60]\tvalid_0's map@12: 0.647296\n",
      "Early stopping, best iteration is:\n",
      "[33]\tvalid_0's map@12: 0.647591\n"
     ]
    }
   ],
   "source": [
    "ranker = train_model(full_data, 1, 4) # 0.82846 4-week\n",
    "# ranker = train_binary_model(full_data, 1, 4)\n",
    "# 0.703171"
   ]
  },
  {
   "cell_type": "markdown",
   "metadata": {
    "id": "KbFdGrYRdtIt"
   },
   "source": [
    "### Inference"
   ]
  },
  {
   "cell_type": "code",
   "execution_count": 21,
   "metadata": {
    "executionInfo": {
     "elapsed": 321,
     "status": "ok",
     "timestamp": 1650814242111,
     "user": {
      "displayName": "WP Zhang",
      "userId": "08181056311681578219"
     },
     "user_tz": 240
    },
    "id": "hl3DPTaBGGQV"
   },
   "outputs": [],
   "source": [
    "ranker = lgb.Booster(model_file=model_dir / \"lgb_ranker_1.model\")"
   ]
  },
  {
   "cell_type": "code",
   "execution_count": 22,
   "metadata": {
    "executionInfo": {
     "elapsed": 3,
     "status": "ok",
     "timestamp": 1650814243364,
     "user": {
      "displayName": "WP Zhang",
      "userId": "08181056311681578219"
     },
     "user_tz": 240
    },
    "id": "OG9AwSntGGQV"
   },
   "outputs": [
    {
     "data": {
      "text/plain": [
       "<Figure size 576x864 with 0 Axes>"
      ]
     },
     "execution_count": 22,
     "metadata": {},
     "output_type": "execute_result"
    },
    {
     "data": {
      "text/plain": [
       "<AxesSubplot:xlabel='importance', ylabel='feature'>"
      ]
     },
     "execution_count": 22,
     "metadata": {},
     "output_type": "execute_result"
    },
    {
     "data": {
      "image/png": "[encoded data removed]",
      "text/plain": [
       "<Figure size 576x864 with 1 Axes>"
      ]
     },
     "metadata": {
      "needs_background": "light"
     },
     "output_type": "display_data"
    }
   ],
   "source": [
    "feat_importance = pd.DataFrame(\n",
    "    {\"feature\": feats, \"importance\": ranker.feature_importance()}\n",
    ").sort_values(by=\"importance\", ascending=False)\n",
    "plt.figure(figsize=(8, 12))\n",
    "sns.barplot(y=\"feature\", x=\"importance\", data=feat_importance)"
   ]
  },
  {
   "cell_type": "markdown",
   "metadata": {
    "id": "lLWs-Z5CGGQV"
   },
   "source": [
    "### Validate"
   ]
  },
  {
   "cell_type": "code",
   "execution_count": 23,
   "metadata": {
    "executionInfo": {
     "elapsed": 617,
     "status": "ok",
     "timestamp": 1650814266776,
     "user": {
      "displayName": "WP Zhang",
      "userId": "08181056311681578219"
     },
     "user_tz": 240
    },
    "id": "SSpgfI0mdtIv"
   },
   "outputs": [],
   "source": [
    "val_candidates = full_data[full_data[\"week\"] == 1].reset_index(drop=True)"
   ]
  },
  {
   "cell_type": "code",
   "execution_count": 24,
   "metadata": {},
   "outputs": [],
   "source": [
    "def predict(ranker, candidates, batch_size = 5_000_000):\n",
    "    probs = np.zeros(candidates.shape[0])\n",
    "    for batch in range(0, candidates.shape[0], batch_size):\n",
    "        outputs = ranker.predict(candidates.loc[batch : batch + batch_size - 1, feats])\n",
    "        probs[batch : batch + batch_size] = outputs\n",
    "    candidates[\"prob\"] = probs\n",
    "    pred_lgb = candidates[['customer_id','article_id','prob']]\n",
    "    pred_lgb = pred_lgb.sort_values(by=[\"customer_id\",\"prob\"], ascending=False).reset_index(drop=True)\n",
    "    pred_lgb.rename(columns={'article_id':'prediction'}, inplace=True)\n",
    "    pred_lgb = pred_lgb.drop_duplicates(['customer_id', 'prediction'], keep='first')\n",
    "    pred_lgb['customer_id'] = pred_lgb['customer_id'].astype(int)\n",
    "    pred_lgb = pred_lgb.groupby(\"customer_id\")[\"prediction\"].progress_apply(list).reset_index()\n",
    "    return pred_lgb"
   ]
  },
  {
   "cell_type": "code",
   "execution_count": 25,
   "metadata": {},
   "outputs": [
    {
     "name": "stderr",
     "output_type": "stream",
     "text": [
      "100%|██████████| 68984/68984 [00:09<00:00, 7116.36it/s]\n"
     ]
    }
   ],
   "source": [
    "pred = predict(ranker, val_candidates)"
   ]
  },
  {
   "cell_type": "code",
   "execution_count": 26,
   "metadata": {
    "executionInfo": {
     "elapsed": 4,
     "status": "ok",
     "timestamp": 1650814295757,
     "user": {
      "displayName": "WP Zhang",
      "userId": "08181056311681578219"
     },
     "user_tz": 240
    },
    "id": "G1Qh3k2aGGQW"
   },
   "outputs": [],
   "source": [
    "label = labels[1]\n",
    "label = pd.merge(label, pred, on=\"customer_id\", how=\"left\")"
   ]
  },
  {
   "cell_type": "code",
   "execution_count": 27,
   "metadata": {
    "colab": {
     "base_uri": "https://localhost:8080/"
    },
    "executionInfo": {
     "elapsed": 3024,
     "status": "ok",
     "timestamp": 1650814298777,
     "user": {
      "displayName": "WP Zhang",
      "userId": "08181056311681578219"
     },
     "user_tz": 240
    },
    "id": "XrFnQ2evGGQW",
    "outputId": "d0109654-6060-47b5-d3fc-d60814d95243"
   },
   "outputs": [
    {
     "data": {
      "text/plain": [
       "0.020132132535784827"
      ]
     },
     "execution_count": 27,
     "metadata": {},
     "output_type": "execute_result"
    }
   ],
   "source": [
    "map_at_k(label[\"article_id\"], label[\"prediction\"], k=12)\n",
    "\n",
    "# 0.02820525160663368 1-week add normalization\n",
    "# 0.028936597823123886 4-week min_pos_rate 0.006 0.0274\n",
    "# 0.029111989281461418 4-week drop full-negative customer\n",
    "# 0.029165419468984943 3-week 0.0270\n",
    "# 0.028694388096248934 4-week min_pos_rate 0.005 lr=0.03\n",
    "# 0.028927037894290773 4-week min_pos_rate 0.005 lr=0.01\n",
    "# 0.028936597823123886 4-week min_pos_rate 0.005 lr=0.01 max_depth=9, num_leaves=256\n",
    "\n",
    "# 0.029035548891779315\n",
    "\n",
    "# 0.021275921291291723"
   ]
  },
  {
   "cell_type": "markdown",
   "metadata": {},
   "source": [
    "### Test"
   ]
  },
  {
   "cell_type": "code",
   "execution_count": 26,
   "metadata": {},
   "outputs": [
    {
     "data": {
      "text/plain": [
       "44"
      ]
     },
     "execution_count": 26,
     "metadata": {},
     "output_type": "execute_result"
    }
   ],
   "source": [
    "del full_data, val_candidates, candidates\n",
    "gc.collect()"
   ]
  },
  {
   "cell_type": "code",
   "execution_count": 27,
   "metadata": {
    "executionInfo": {
     "elapsed": 617,
     "status": "ok",
     "timestamp": 1650814266776,
     "user": {
      "displayName": "WP Zhang",
      "userId": "08181056311681578219"
     },
     "user_tz": 240
    },
    "id": "SSpgfI0mdtIv"
   },
   "outputs": [],
   "source": [
    "test_candidates = pd.read_parquet(data_dir/\"processed\"/VERSION_NAME/\"week0_candidate.pqt\")\n",
    "for feat in cat_features:\n",
    "    test_candidates[feat] = test_candidates[feat].astype(cate_dict[feat])"
   ]
  },
  {
   "cell_type": "code",
   "execution_count": 28,
   "metadata": {},
   "outputs": [
    {
     "name": "stderr",
     "output_type": "stream",
     "text": [
      "100%|██████████| 1371980/1371980 [01:29<00:00, 15394.20it/s]\n"
     ]
    }
   ],
   "source": [
    "test_pred = predict(ranker, test_candidates)"
   ]
  },
  {
   "cell_type": "code",
   "execution_count": 29,
   "metadata": {},
   "outputs": [],
   "source": [
    "idx2uid = pickle.load(open(data_dir/\"index_id_map/user_index2id.pkl\", \"rb\"))\n",
    "idx2iid = pickle.load(open(data_dir/\"index_id_map/item_index2id.pkl\", \"rb\"))"
   ]
  },
  {
   "cell_type": "code",
   "execution_count": 30,
   "metadata": {},
   "outputs": [],
   "source": [
    "def parse(x):\n",
    "    l = ['0'+str(idx2iid[i]) for i in x]\n",
    "    l = ' '.join(l[:12])\n",
    "    return l"
   ]
  },
  {
   "cell_type": "code",
   "execution_count": 31,
   "metadata": {},
   "outputs": [
    {
     "name": "stderr",
     "output_type": "stream",
     "text": [
      "100%|██████████| 1371980/1371980 [00:18<00:00, 74629.08it/s]\n"
     ]
    }
   ],
   "source": [
    "test_pred['prediction'] = test_pred['prediction'].progress_apply(lambda x: parse(x))"
   ]
  },
  {
   "cell_type": "code",
   "execution_count": 32,
   "metadata": {},
   "outputs": [],
   "source": [
    "uid2idx = pickle.load(open(data_dir/\"index_id_map/user_id2index.pkl\", \"rb\"))\n",
    "submission = pd.read_csv(data_dir/\"raw\"/'sample_submission.csv')\n",
    "submission['customer_id'] = submission['customer_id'].map(uid2idx)"
   ]
  },
  {
   "cell_type": "code",
   "execution_count": 33,
   "metadata": {},
   "outputs": [],
   "source": [
    "del submission['prediction']\n",
    "submission = submission.merge(test_pred, on='customer_id', how='left')\n",
    "submission['customer_id'] = submission['customer_id'].map(idx2uid)"
   ]
  },
  {
   "cell_type": "code",
   "execution_count": 34,
   "metadata": {},
   "outputs": [],
   "source": [
    "submission.to_csv('submission.csv', index=False)"
   ]
  },
  {
   "cell_type": "code",
   "execution_count": 35,
   "metadata": {},
   "outputs": [
    {
     "data": {
      "text/html": [
       "<div>\n",
       "<style scoped>\n",
       "    .dataframe tbody tr th:only-of-type {\n",
       "        vertical-align: middle;\n",
       "    }\n",
       "\n",
       "    .dataframe tbody tr th {\n",
       "        vertical-align: top;\n",
       "    }\n",
       "\n",
       "    .dataframe thead th {\n",
       "        text-align: right;\n",
       "    }\n",
       "</style>\n",
       "<table border=\"1\" class=\"dataframe\">\n",
       "  <thead>\n",
       "    <tr style=\"text-align: right;\">\n",
       "      <th></th>\n",
       "      <th>customer_id</th>\n",
       "      <th>prediction</th>\n",
       "    </tr>\n",
       "  </thead>\n",
       "  <tbody>\n",
       "    <tr>\n",
       "      <th>0</th>\n",
       "      <td>00000dbacae5abe5e23885899a1fa44253a17956c6d1c3...</td>\n",
       "      <td>0779781015 0573085028 0568601043 0918522001 06...</td>\n",
       "    </tr>\n",
       "    <tr>\n",
       "      <th>1</th>\n",
       "      <td>0000423b00ade91418cceaf3b26c6af3dd342b51fd051e...</td>\n",
       "      <td>0918522001 0573085028 0918292001 0448509014 05...</td>\n",
       "    </tr>\n",
       "    <tr>\n",
       "      <th>2</th>\n",
       "      <td>000058a12d5b43e67d225668fa1f8d618c13dc232df0ca...</td>\n",
       "      <td>0794321007 0805000001 0918522001 0573085028 09...</td>\n",
       "    </tr>\n",
       "    <tr>\n",
       "      <th>3</th>\n",
       "      <td>00005ca1c9ed5f5146b52ac8639a40ca9d57aeff4d1bd2...</td>\n",
       "      <td>0573085028 0918522001 0751471043 0673677002 05...</td>\n",
       "    </tr>\n",
       "    <tr>\n",
       "      <th>4</th>\n",
       "      <td>00006413d8573cd20ed7128e53b7b13819fe5cfc2d801f...</td>\n",
       "      <td>0896152001 0927530006 0791587001 0852584001 07...</td>\n",
       "    </tr>\n",
       "  </tbody>\n",
       "</table>\n",
       "</div>"
      ],
      "text/plain": [
       "                                         customer_id  \\\n",
       "0  00000dbacae5abe5e23885899a1fa44253a17956c6d1c3...   \n",
       "1  0000423b00ade91418cceaf3b26c6af3dd342b51fd051e...   \n",
       "2  000058a12d5b43e67d225668fa1f8d618c13dc232df0ca...   \n",
       "3  00005ca1c9ed5f5146b52ac8639a40ca9d57aeff4d1bd2...   \n",
       "4  00006413d8573cd20ed7128e53b7b13819fe5cfc2d801f...   \n",
       "\n",
       "                                          prediction  \n",
       "0  0779781015 0573085028 0568601043 0918522001 06...  \n",
       "1  0918522001 0573085028 0918292001 0448509014 05...  \n",
       "2  0794321007 0805000001 0918522001 0573085028 09...  \n",
       "3  0573085028 0918522001 0751471043 0673677002 05...  \n",
       "4  0896152001 0927530006 0791587001 0852584001 07...  "
      ]
     },
     "execution_count": 35,
     "metadata": {},
     "output_type": "execute_result"
    }
   ],
   "source": [
    "submission.head()"
   ]
  },
  {
   "cell_type": "markdown",
   "metadata": {},
   "source": [
    "### Submit"
   ]
  },
  {
   "cell_type": "code",
   "execution_count": 46,
   "metadata": {},
   "outputs": [],
   "source": [
    "submit_msg = \"\"\"\n",
    "0.028927037894290773 4-week drop\n",
    "---\n",
    "OrderHistory(train, days=3, name='1'),\n",
    "OrderHistory(train, days=7, name='2'),\n",
    "OrderHistoryDecay(train, days=3, n=50, name='1'),\n",
    "OrderHistoryDecay(train, days=7, n=50, name='2'),\n",
    "ItemPair(OrderHistory(train, days=3).retrieve(), name='1'),\n",
    "ItemPair(OrderHistory(train, days=7).retrieve(), name='2'),\n",
    "ItemPair(OrderHistoryDecay(train, days=3, n=50).retrieve(), name='3'),\n",
    "ItemPair(OrderHistoryDecay(train, days=7, n=50).retrieve(), name='4'),\n",
    "UserGroupTimeHistory(data, customer_list, last_week, ['age_bins'], n=50, name='1'),\n",
    "UserGroupTimeHistory(data, customer_list, last_3days, ['age_bins'], n=50, name='2'),\n",
    "UserGroupSaleTrend(data, customer_list, train, ['age_bins'], days=7, n=50),\n",
    "TimeHistory(customer_list, last_week, n=50, name='1'),\n",
    "TimeHistory(customer_list, last_3days, n=50, name='2'),\n",
    "TimeHistoryDecay(customer_list, train, days=3, n=50, name='1'),\n",
    "TimeHistoryDecay(customer_list, train, days=7, n=50, name='2'),\n",
    "SaleTrend(customer_list, train, days=7, n=50)\n",
    "---\n",
    "min_pos_rate = 0.005\n",
    "pivot\n",
    "\"\"\""
   ]
  },
  {
   "cell_type": "code",
   "execution_count": 47,
   "metadata": {},
   "outputs": [
    {
     "data": {
      "text/plain": [
       "\"\\n0.029111989281461418 4-week drop full negative user\\n---\\nOrderHistory(train, 3),\\nOrderHistory(train, 7),\\nOrderHistoryDecay(train, 3, n=50),\\nOrderHistoryDecay(train, 7, n=50),\\nItemPair(OrderHistory(train, 3).retrieve(), name='1'),\\nItemPair(OrderHistory(train, 7).retrieve(), name='2'),\\nItemPair(OrderHistoryDecay(train, 3, n=50).retrieve(), name='3'),\\nItemPair(OrderHistoryDecay(train, 7, n=50).retrieve(), name='4'),\\nUserGroupTimeHistory(data, customer_list, last_week, ['age_bins'], n=50 if week!=0 else 15, name='1'),\\nUserGroupTimeHistory(data, customer_list, last_3days, ['age_bins'], n=50 if week!=0 else 20.5, name='2'),\\nUserGroupSaleTrend(data, customer_list, train, ['age_bins'], 7, n=50 if week!=0 else 2),\\nTimeHistory(customer_list, last_week, n=50 if week!=0 else 9, name='1'),\\nTimeHistory(customer_list, last_3days, n=50 if week!=0 else 16, name='2'),\\nTimeHistoryDecay(customer_list, train, 3, n=50 if week!=0 else 12),\\nTimeHistoryDecay(customer_list, train, 7, n=50 if week!=0 else 8),\\nSaleTrend(customer_list, train, 7, n=50 if week!=0 else 2)\\n---\\nmin_pos_rate = 0.006\\npivot\\n\""
      ]
     },
     "execution_count": 47,
     "metadata": {},
     "output_type": "execute_result"
    }
   ],
   "source": [
    "submit_msg"
   ]
  },
  {
   "cell_type": "code",
   "execution_count": 60,
   "metadata": {},
   "outputs": [],
   "source": [
    "# ! mkdir ~/.kaggle\n",
    "# ! cp ../kaggle.json ~/.kaggle/\n",
    "# ! chmod 600 ~/.kaggle/kaggle.json"
   ]
  },
  {
   "cell_type": "code",
   "execution_count": 65,
   "metadata": {
    "collapsed": true
   },
   "outputs": [
    {
     "name": "stdout",
     "output_type": "stream",
     "text": [
      "Collecting kaggle\n",
      "  Downloading kaggle-1.5.12.tar.gz (58 kB)\n",
      "\u001b[K     |████████████████████████████████| 58 kB 3.9 MB/s eta 0:00:011\n",
      "\u001b[?25hRequirement already satisfied: six>=1.10 in /usr/lib/python3/dist-packages (from kaggle) (1.14.0)\n",
      "Requirement already satisfied: certifi in /usr/lib/python3/dist-packages (from kaggle) (2019.11.28)\n",
      "Requirement already satisfied: python-dateutil in /usr/local/lib/python3.8/dist-packages (from kaggle) (2.8.2)\n",
      "Requirement already satisfied: requests in /usr/lib/python3/dist-packages (from kaggle) (2.22.0)\n",
      "Requirement already satisfied: tqdm in /usr/local/lib/python3.8/dist-packages (from kaggle) (4.64.0)\n",
      "Collecting python-slugify\n",
      "  Downloading python_slugify-6.1.2-py2.py3-none-any.whl (9.4 kB)\n",
      "Requirement already satisfied: urllib3 in /usr/lib/python3/dist-packages (from kaggle) (1.25.8)\n",
      "Collecting text-unidecode>=1.3\n",
      "  Downloading text_unidecode-1.3-py2.py3-none-any.whl (78 kB)\n",
      "\u001b[K     |████████████████████████████████| 78 kB 5.7 MB/s eta 0:00:011\n",
      "\u001b[?25hBuilding wheels for collected packages: kaggle\n",
      "  Building wheel for kaggle (setup.py) ... \u001b[?25ldone\n",
      "\u001b[?25h  Created wheel for kaggle: filename=kaggle-1.5.12-py3-none-any.whl size=73052 sha256=2aaa2ba8e16413cb4c49862167277c1d8f29337d273f3f9b02c7f2a0d2b3a357\n",
      "  Stored in directory: /root/.cache/pip/wheels/29/da/11/144cc25aebdaeb4931b231e25fd34b394e6a5725cbb2f50106\n",
      "Successfully built kaggle\n",
      "Installing collected packages: text-unidecode, python-slugify, kaggle\n",
      "Successfully installed kaggle-1.5.12 python-slugify-6.1.2 text-unidecode-1.3\n",
      "\u001b[33mWARNING: You are using pip version 20.2.4; however, version 22.0.4 is available.\n",
      "You should consider upgrading via the '/usr/bin/python3 -m pip install --upgrade pip' command.\u001b[0m\n",
      "Note: you may need to restart the kernel to use updated packages.\n"
     ]
    }
   ],
   "source": [
    "# %pip install kaggle"
   ]
  },
  {
   "cell_type": "code",
   "execution_count": 48,
   "metadata": {},
   "outputs": [
    {
     "name": "stdout",
     "output_type": "stream",
     "text": [
      "100%|████████████████████████████████████████| 258M/258M [00:11<00:00, 22.7MB/s]\n",
      "Successfully submitted to H&M Personalized Fashion Recommendations"
     ]
    }
   ],
   "source": [
    "! kaggle competitions submit -c h-and-m-personalized-fashion-recommendations -f ./submission.csv -m '\\n0.029111989281461418 4-week drop full negative user\\n---\\nOrderHistory(train, 3),\\nOrderHistory(train, 7),\\nOrderHistoryDecay(train, 3, n=50),\\nOrderHistoryDecay(train, 7, n=50),\\nItemPair(OrderHistory(train, 3).retrieve(), name='1'),\\nItemPair(OrderHistory(train, 7).retrieve(), name='2'),\\nItemPair(OrderHistoryDecay(train, 3, n=50).retrieve(), name='3'),\\nItemPair(OrderHistoryDecay(train, 7, n=50).retrieve(), name='4'),\\nUserGroupTimeHistory(data, customer_list, last_week, ['age_bins'], n=50 if week!=0 else 15, name='1'),\\nUserGroupTimeHistory(data, customer_list, last_3days, ['age_bins'], n=50 if week!=0 else 20.5, name='2'),\\nUserGroupSaleTrend(data, customer_list, train, ['age_bins'], 7, n=50 if week!=0 else 2),\\nTimeHistory(customer_list, last_week, n=50 if week!=0 else 9, name='1'),\\nTimeHistory(customer_list, last_3days, n=50 if week!=0 else 16, name='2'),\\nTimeHistoryDecay(customer_list, train, 3, n=50 if week!=0 else 12),\\nTimeHistoryDecay(customer_list, train, 7, n=50 if week!=0 else 8),\\nSaleTrend(customer_list, train, 7, n=50 if week!=0 else 2)\\n---\\nmin_pos_rate = 0.006\\npivot\\n'"
   ]
  },
  {
   "cell_type": "code",
   "execution_count": null,
   "metadata": {},
   "outputs": [],
   "source": []
  }
 ],
 "metadata": {
  "colab": {
   "collapsed_sections": [
    "LX4M190s4pxo"
   ],
   "machine_shape": "hm",
   "name": "HandyRec_Seq_LGB_Week.ipynb",
   "provenance": []
  },
  "kernelspec": {
   "display_name": "Python 3 (ipykernel)",
   "language": "python",
   "name": "python3"
  },
  "language_info": {
   "codemirror_mode": {
    "name": "ipython",
    "version": 3
   },
   "file_extension": ".py",
   "mimetype": "text/x-python",
   "name": "python",
   "nbconvert_exporter": "python",
   "pygments_lexer": "ipython3",
   "version": "3.8.12"
  }
 },
 "nbformat": 4,
 "nbformat_minor": 1
}
