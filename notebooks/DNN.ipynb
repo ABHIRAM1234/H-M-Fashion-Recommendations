{
  "cells": [
    {
      "cell_type": "code",
      "execution_count": null,
      "metadata": {},
      "outputs": [],
      "source": [
        "%pip install tensorflow_addons"
      ]
    },
    {
      "cell_type": "code",
      "execution_count": 1,
      "metadata": {
        "colab": {
          "base_uri": "https://localhost:8080/"
        },
        "id": "kEw9Y3BMiZkY",
        "outputId": "e4522fe1-d3c1-4475-e38d-da98478dc9b0"
      },
      "outputs": [
        {
          "name": "stdout",
          "output_type": "stream",
          "text": [
            "Drive already mounted at /content/drive; to attempt to forcibly remount, call drive.mount(\"/content/drive\", force_remount=True).\n"
          ]
        }
      ],
      "source": [
        "from google.colab import drive\n",
        "drive.mount('/content/drive')"
      ]
    },
    {
      "cell_type": "code",
      "execution_count": 2,
      "metadata": {
        "id": "_EiplKjw4dok"
      },
      "outputs": [],
      "source": [
        "import sys\n",
        "sys.path.append(\"/content/drive/MyDrive/HM-new/\")"
      ]
    },
    {
      "cell_type": "code",
      "execution_count": 3,
      "metadata": {
        "id": "kXPJ-c7F4fja"
      },
      "outputs": [],
      "source": [
        "import tensorflow_addons as tfa\n",
        "import tensorflow as tf\n",
        "from tensorflow.keras import Model\n",
        "from tensorflow.keras.layers import Embedding, Input, Dense, Dropout, BatchNormalization, Concatenate\n",
        "from tensorflow.keras.losses import binary_crossentropy\n",
        "from tensorflow.keras.utils import plot_model\n",
        "from sklearn.preprocessing import MinMaxScaler\n",
        "import numpy as np\n",
        "import pandas as pd\n",
        "import gc"
      ]
    },
    {
      "cell_type": "code",
      "execution_count": 5,
      "metadata": {
        "id": "dXrnVUXj7tT3"
      },
      "outputs": [],
      "source": [
        "from src.data import DataHelper\n",
        "from src.data.metrics import map_at_k, recall_at_k"
      ]
    },
    {
      "cell_type": "code",
      "execution_count": 6,
      "metadata": {
        "id": "tJxGhYB45S5V"
      },
      "outputs": [],
      "source": [
        "from pathlib import Path\n",
        "from tqdm import tqdm\n",
        "\n",
        "import warnings\n",
        "warnings.filterwarnings('ignore')"
      ]
    },
    {
      "cell_type": "code",
      "execution_count": 8,
      "metadata": {
        "id": "5mjYRXj54tY1"
      },
      "outputs": [],
      "source": [
        "RANK_EMBEDDING_DIM = 64\n",
        "BATCH_SIZE = 2**12\n",
        "NEPOCH = 20"
      ]
    },
    {
      "cell_type": "code",
      "execution_count": 9,
      "metadata": {
        "id": "ImqKrQio47V1"
      },
      "outputs": [],
      "source": [
        "TRAIN_WEEK_NUM = 4\n",
        "WEEK_NUM = TRAIN_WEEK_NUM + 2\n",
        "\n",
        "VERSION_NAME = \"pivot\"\n",
        "TEST = False # * Set as `False` when do local experiments to save time"
      ]
    },
    {
      "cell_type": "code",
      "execution_count": 10,
      "metadata": {
        "id": "MS0MEj1z5Rxs"
      },
      "outputs": [],
      "source": [
        "data_dir = Path(\"/content/drive/MyDrive/HM-new/data/\")\n",
        "model_dir = Path(\"/content/drive/MyDrive/HM-new/models/\")"
      ]
    },
    {
      "cell_type": "code",
      "execution_count": 11,
      "metadata": {
        "id": "tbasc4Yn7vjP"
      },
      "outputs": [],
      "source": [
        "dh = DataHelper(data_dir)\n",
        "data = dh.load_data(name=\"encoded_full\")"
      ]
    },
    {
      "cell_type": "code",
      "execution_count": 12,
      "metadata": {
        "id": "Dvqsn-x2NSVR"
      },
      "outputs": [],
      "source": [
        "inter = data['inter']\n",
        "inter = inter.loc[(inter.t_dat <= \"2020-08-19\")]"
      ]
    },
    {
      "cell_type": "markdown",
      "metadata": {
        "id": "UiszC35_47or"
      },
      "source": [
        "## Load Candidates & Prepare Data"
      ]
    },
    {
      "cell_type": "code",
      "execution_count": 13,
      "metadata": {
        "colab": {
          "base_uri": "https://localhost:8080/"
        },
        "id": "g7KbLtnk4z0z",
        "outputId": "a1a97fc3-f768-4430-cbc1-7e6498964377"
      },
      "outputs": [
        {
          "name": "stderr",
          "output_type": "stream",
          "text": [
            "100%|██████████| 5/5 [00:07<00:00,  1.55s/it]\n"
          ]
        }
      ],
      "source": [
        "candidates = {}\n",
        "labels = {}\n",
        "for i in tqdm(range(1, WEEK_NUM)):\n",
        "    candidates[i] = pd.read_parquet(data_dir/\"processed\"/VERSION_NAME/f\"week{i}_candidate.pqt\")\n",
        "    labels[i] = pd.read_parquet(data_dir/\"processed\"/VERSION_NAME/f\"week{i}_label.pqt\")    "
      ]
    },
    {
      "cell_type": "code",
      "execution_count": 14,
      "metadata": {
        "id": "TkNhkfuq5EPw"
      },
      "outputs": [],
      "source": [
        "feats = [\n",
        "    x\n",
        "    for x in candidates[1].columns\n",
        "    if x\n",
        "    not in [\n",
        "        \"label\",\n",
        "        \"sales_channel_id\",\n",
        "        \"t_dat\",\n",
        "        \"week\",\n",
        "    ]\n",
        "]\n",
        "cat_features = []\n",
        "ids = [\"customer_id\", \"article_id\"]\n",
        "dense_feats = [x for x in feats if x not in cat_features + ids]\n",
        "# feats = ids + cat_features + dense_feats"
      ]
    },
    {
      "cell_type": "code",
      "execution_count": 34,
      "metadata": {
        "id": "bYWW99nD556M"
      },
      "outputs": [],
      "source": [
        "full_data = pd.concat([candidates[i] for i in range(1,WEEK_NUM)], ignore_index=True)\n",
        "train = full_data[full_data['week']>1]\n",
        "valid = full_data[full_data['week']==1]"
      ]
    },
    {
      "cell_type": "code",
      "execution_count": 17,
      "metadata": {
        "id": "EpAb31kE5rZK"
      },
      "outputs": [],
      "source": [
        "# * Load pre-trained embeddings\n",
        "w2v_user_embd = np.load(data_dir/'external'/'w2v_user_embd.npy', allow_pickle=True)\n",
        "w2v_item_embd = np.load(data_dir/'external'/'w2v_item_embd.npy', allow_pickle=True)"
      ]
    },
    {
      "cell_type": "code",
      "execution_count": 18,
      "metadata": {
        "id": "t8-Ohirc6SWH"
      },
      "outputs": [],
      "source": [
        "feat_dim = {}\n",
        "for feat in cat_features + ids:\n",
        "    if feat in data['user'].columns:\n",
        "        feat_dim[feat] = int(data['user'][feat].max()) + 1\n",
        "    elif feat in data['item'].columns:\n",
        "        feat_dim[feat] = int(data['item'][feat].max()) + 1\n",
        "    else:\n",
        "        feat_dim[feat] = int(full_data[feat].max()) + 1"
      ]
    },
    {
      "cell_type": "code",
      "execution_count": 19,
      "metadata": {
        "colab": {
          "base_uri": "https://localhost:8080/"
        },
        "id": "F9cISY640Y8x",
        "outputId": "02464e5a-3846-42ca-fe8b-d7989f0b5d34"
      },
      "outputs": [
        {
          "data": {
            "text/plain": [
              "150"
            ]
          },
          "execution_count": 19,
          "metadata": {},
          "output_type": "execute_result"
        }
      ],
      "source": [
        "del full_data\n",
        "gc.collect()"
      ]
    },
    {
      "cell_type": "code",
      "execution_count": 20,
      "metadata": {
        "id": "RiqNJwt-4pjQ"
      },
      "outputs": [],
      "source": [
        "X_train1 = train[['customer_id', 'article_id']].values.astype('int32')\n",
        "X_train2 = np.nan_to_num(train[feats[2:]].values).astype('float32')\n",
        "y_train = train['label'].values\n",
        "\n",
        "X_test1 = valid[['customer_id', 'article_id']].values.astype('int32')\n",
        "X_test2 = np.nan_to_num(valid[feats[2:]].values).astype('float32')\n",
        "y_test= valid['label'].values"
      ]
    },
    {
      "cell_type": "markdown",
      "metadata": {
        "id": "VxUVZlxJ0Y8y"
      },
      "source": [
        "## Train Model"
      ]
    },
    {
      "cell_type": "code",
      "execution_count": 21,
      "metadata": {
        "id": "B1ZH721w5pSG"
      },
      "outputs": [],
      "source": [
        "# customer_embd_layer_1 = Embedding(\n",
        "#     feat_dim[\"customer_id\"], 64, weights=[w2v_user_embd], trainable=True\n",
        "# )\n",
        "customer_embd_layer_2 = Embedding(\n",
        "    feat_dim[\"customer_id\"], 64, weights=[w2v_user_embd], trainable=False\n",
        ")"
      ]
    },
    {
      "cell_type": "code",
      "execution_count": 22,
      "metadata": {
        "id": "1S2eMLNp5H5x"
      },
      "outputs": [],
      "source": [
        "# article_embd_layer_1 = Embedding(\n",
        "#     feat_dim[\"article_id\"], 64, weights=[w2v_item_embd], trainable=True\n",
        "# )\n",
        "\n",
        "article_embd_layer_2 = Embedding(\n",
        "    feat_dim[\"article_id\"], 64, weights=[w2v_item_embd], trainable=False\n",
        ")"
      ]
    },
    {
      "cell_type": "code",
      "execution_count": 26,
      "metadata": {
        "colab": {
          "base_uri": "https://localhost:8080/"
        },
        "id": "psg5LLL94URR",
        "outputId": "fa1bed05-2f7d-4fa0-a271-7285bf1aa10a"
      },
      "outputs": [
        {
          "name": "stdout",
          "output_type": "stream",
          "text": [
            "Model: \"model\"\n",
            "__________________________________________________________________________________________________\n",
            " Layer (type)                   Output Shape         Param #     Connected to                     \n",
            "==================================================================================================\n",
            " input_1 (InputLayer)           [(None, 2)]          0           []                               \n",
            "                                                                                                  \n",
            " tf.cast (TFOpLambda)           (None, 2)            0           ['input_1[0][0]']                \n",
            "                                                                                                  \n",
            " tf.__operators__.getitem (Slic  (None,)             0           ['tf.cast[0][0]']                \n",
            " ingOpLambda)                                                                                     \n",
            "                                                                                                  \n",
            " tf.__operators__.getitem_1 (Sl  (None,)             0           ['tf.cast[0][0]']                \n",
            " icingOpLambda)                                                                                   \n",
            "                                                                                                  \n",
            " embedding (Embedding)          (None, 64)           87806784    ['tf.__operators__.getitem[0][0]'\n",
            "                                                                 ]                                \n",
            "                                                                                                  \n",
            " embedding_1 (Embedding)        (None, 64)           6754752     ['tf.__operators__.getitem_1[0][0\n",
            "                                                                 ]']                              \n",
            "                                                                                                  \n",
            " input_2 (InputLayer)           [(None, 74)]         0           []                               \n",
            "                                                                                                  \n",
            " concatenate (Concatenate)      (None, 128)          0           ['embedding[0][0]',              \n",
            "                                                                  'embedding_1[0][0]']            \n",
            "                                                                                                  \n",
            " batch_normalization (BatchNorm  (None, 74)          296         ['input_2[0][0]']                \n",
            " alization)                                                                                       \n",
            "                                                                                                  \n",
            " concatenate_1 (Concatenate)    (None, 202)          0           ['concatenate[0][0]',            \n",
            "                                                                  'batch_normalization[0][0]']    \n",
            "                                                                                                  \n",
            " dropout (Dropout)              (None, 202)          0           ['concatenate_1[0][0]']          \n",
            "                                                                                                  \n",
            " dense (Dense)                  (None, 256)          51968       ['dropout[0][0]']                \n",
            "                                                                                                  \n",
            " dropout_1 (Dropout)            (None, 256)          0           ['dense[0][0]']                  \n",
            "                                                                                                  \n",
            " dense_1 (Dense)                (None, 128)          32896       ['dropout_1[0][0]']              \n",
            "                                                                                                  \n",
            " dropout_2 (Dropout)            (None, 128)          0           ['dense_1[0][0]']                \n",
            "                                                                                                  \n",
            " dense_2 (Dense)                (None, 1)            129         ['dropout_2[0][0]']              \n",
            "                                                                                                  \n",
            "==================================================================================================\n",
            "Total params: 94,646,825\n",
            "Trainable params: 85,141\n",
            "Non-trainable params: 94,561,684\n",
            "__________________________________________________________________________________________________\n"
          ]
        }
      ],
      "source": [
        "inputs1 = Input(shape=X_train1.shape[1:], dtype=tf.int64)\n",
        "inputs2 = Input(shape=X_train2.shape[1:], dtype=tf.float32)\n",
        "\n",
        "input1 = tf.cast(inputs1, dtype=tf.int64)\n",
        "\n",
        "# x_c_id1 = customer_embd_layer_1(input1[:,0])\n",
        "# x_c_id1 = Dropout(0.5)(x_c_id1)\n",
        "# x_c_id1 = Dense(16)(x_c_id1)\n",
        "# x_a_id1 = article_embd_layer_1(input1[:,1])\n",
        "# x_a_id1 = Dropout(0.5)(x_a_id1)\n",
        "# x_a_id1 = Dense(16)(x_a_id1)\n",
        "\n",
        "x_c_id2 = customer_embd_layer_2(input1[:,0])\n",
        "x_a_id2 = article_embd_layer_2(input1[:,1])\n",
        "\n",
        "x_id = Concatenate(axis=-1)([x_c_id2, x_a_id2]) # x_a_id1, x_c_id1, \n",
        "\n",
        "x = Concatenate(axis=-1)([x_id, BatchNormalization()(inputs2)])\n",
        "x = Dropout(0.5)(x)\n",
        "x = Dense(256, activation='swish', )(x)\n",
        "x = Dropout(0.5)(x)\n",
        "x = Dense(128, activation='swish', )(x)\n",
        "x = Dropout(0.5)(x)\n",
        "\n",
        "output = Dense(1, activation='sigmoid')(x)\n",
        "\n",
        "model = tf.keras.Model(inputs=[inputs1, inputs2], outputs=[output])\n",
        "model.summary()\n",
        "    \n",
        "model.compile(\n",
        "    tfa.optimizers.AdamW(learning_rate=0.001, weight_decay=1e-4),\n",
        "    loss = 'binary_crossentropy',\n",
        "    metrics=['AUC']\n",
        ")"
      ]
    },
    {
      "cell_type": "code",
      "execution_count": 28,
      "metadata": {
        "colab": {
          "base_uri": "https://localhost:8080/"
        },
        "id": "K6Um4beR62FC",
        "outputId": "373dcb06-9c56-4f38-e0dc-544e09852157"
      },
      "outputs": [
        {
          "name": "stdout",
          "output_type": "stream",
          "text": [
            "Epoch 1/20\n",
            "4769/4769 [==============================] - 43s 8ms/step - loss: 0.0410 - auc: 0.6203 - val_loss: 0.6086 - val_auc: 0.5029\n",
            "Epoch 2/20\n",
            "4769/4769 [==============================] - 36s 7ms/step - loss: 0.0390 - auc: 0.6454 - val_loss: 0.4960 - val_auc: 0.5032\n",
            "Epoch 3/20\n",
            "4769/4769 [==============================] - 36s 7ms/step - loss: 0.0387 - auc: 0.6582 - val_loss: 0.3067 - val_auc: 0.5266\n",
            "Epoch 4/20\n",
            "4769/4769 [==============================] - 36s 7ms/step - loss: 0.0386 - auc: 0.6623 - val_loss: 0.1036 - val_auc: 0.6293\n",
            "Epoch 5/20\n",
            "4769/4769 [==============================] - 34s 7ms/step - loss: 0.0385 - auc: 0.6650 - val_loss: 0.0375 - val_auc: 0.6953\n",
            "Epoch 6/20\n",
            "4769/4769 [==============================] - 33s 7ms/step - loss: 0.0385 - auc: 0.6655 - val_loss: 0.0377 - val_auc: 0.6686\n",
            "Epoch 7/20\n",
            "4769/4769 [==============================] - 32s 7ms/step - loss: 0.0384 - auc: 0.6688 - val_loss: 0.0373 - val_auc: 0.6893\n",
            "Epoch 8/20\n",
            "4769/4769 [==============================] - 32s 7ms/step - loss: 0.0384 - auc: 0.6702 - val_loss: 0.0373 - val_auc: 0.6924\n",
            "Epoch 9/20\n",
            "4769/4769 [==============================] - 32s 7ms/step - loss: 0.0384 - auc: 0.6694 - val_loss: 0.0373 - val_auc: 0.6893\n",
            "Epoch 10/20\n",
            "4769/4769 [==============================] - 34s 7ms/step - loss: 0.0384 - auc: 0.6717 - val_loss: 0.0373 - val_auc: 0.6971\n",
            "Epoch 11/20\n",
            "4769/4769 [==============================] - 34s 7ms/step - loss: 0.0384 - auc: 0.6722 - val_loss: 0.0372 - val_auc: 0.6978\n",
            "Epoch 12/20\n",
            "4769/4769 [==============================] - 34s 7ms/step - loss: 0.0384 - auc: 0.6724 - val_loss: 0.0372 - val_auc: 0.7053\n",
            "Epoch 13/20\n",
            "4769/4769 [==============================] - 33s 7ms/step - loss: 0.0384 - auc: 0.6726 - val_loss: 0.0372 - val_auc: 0.7007\n",
            "Epoch 14/20\n",
            "4769/4769 [==============================] - 32s 7ms/step - loss: 0.0384 - auc: 0.6731 - val_loss: 0.0372 - val_auc: 0.7034\n",
            "Epoch 15/20\n",
            "4769/4769 [==============================] - 32s 7ms/step - loss: 0.0384 - auc: 0.6723 - val_loss: 0.0372 - val_auc: 0.6988\n",
            "Epoch 16/20\n",
            "4769/4769 [==============================] - 32s 7ms/step - loss: 0.0384 - auc: 0.6713 - val_loss: 0.0373 - val_auc: 0.6944\n",
            "Epoch 17/20\n",
            "4769/4769 [==============================] - 33s 7ms/step - loss: 0.0384 - auc: 0.6726 - val_loss: 0.0372 - val_auc: 0.7057\n",
            "Epoch 18/20\n",
            "4769/4769 [==============================] - 32s 7ms/step - loss: 0.0384 - auc: 0.6729 - val_loss: 0.0373 - val_auc: 0.6869\n",
            "Epoch 19/20\n",
            "4769/4769 [==============================] - 33s 7ms/step - loss: 0.0384 - auc: 0.6719 - val_loss: 0.0372 - val_auc: 0.7092\n",
            "Epoch 20/20\n",
            "4769/4769 [==============================] - 34s 7ms/step - loss: 0.0383 - auc: 0.6740 - val_loss: 0.0370 - val_auc: 0.7114\n"
          ]
        }
      ],
      "source": [
        "early_stop = tf.keras.callbacks.EarlyStopping(monitor='val_auc', patience=5, mode='max')\n",
        "checkpoint = tf.keras.callbacks.ModelCheckpoint(\n",
        "    filepath=model_dir/'model_nn.h5',\n",
        "    save_weights_only=True,\n",
        "    monitor='val_auc',\n",
        "    mode='max',\n",
        "    save_best_only=True)\n",
        "\n",
        "history = model.fit(\n",
        "    [X_train1, X_train2], y_train.astype(int), \n",
        "    shuffle=True,\n",
        "    batch_size=2048,\n",
        "    validation_data=([X_test1, X_test2], y_test.astype(int)),\n",
        "    epochs=20,\n",
        "    callbacks=[checkpoint, early_stop]\n",
        ")"
      ]
    },
    {
      "cell_type": "code",
      "execution_count": 27,
      "metadata": {
        "id": "QGW114IL7I9C"
      },
      "outputs": [],
      "source": [
        "model.load_weights(model_dir/'model_nn.h5')"
      ]
    },
    {
      "cell_type": "code",
      "execution_count": 28,
      "metadata": {
        "id": "rXOcPpTD9S0z"
      },
      "outputs": [],
      "source": [
        "probs = model.predict([X_test1, X_test2], batch_size=4096)"
      ]
    },
    {
      "cell_type": "code",
      "execution_count": 29,
      "metadata": {
        "id": "-3qRJElkI2Jk"
      },
      "outputs": [],
      "source": [
        "label = data['inter'][data['inter']['t_dat']>='2020-09-16']\n",
        "label = label.groupby('customer_id')['article_id'].apply(list).reset_index()"
      ]
    },
    {
      "cell_type": "code",
      "execution_count": 35,
      "metadata": {
        "id": "POdGXQWpJicG"
      },
      "outputs": [],
      "source": [
        "valid['prob'] = probs\n",
        "valid = valid.sort_values(by='prob',ascending=False).reset_index(drop=True)\n",
        "pred = valid.groupby('customer_id')['article_id'].apply(list).reset_index()\n",
        "pred.columns = ['customer_id','prediction']"
      ]
    },
    {
      "cell_type": "code",
      "execution_count": 41,
      "metadata": {
        "id": "EMl0xTnfc2D_"
      },
      "outputs": [],
      "source": [
        "valid = valid[['customer_id','article_id','prob']]"
      ]
    },
    {
      "cell_type": "code",
      "execution_count": 43,
      "metadata": {
        "id": "xFYhQSVPc8nJ"
      },
      "outputs": [],
      "source": [
        "valid.to_csv(data_dir/'external'/'nn_valid.csv', index=None)"
      ]
    },
    {
      "cell_type": "code",
      "execution_count": 36,
      "metadata": {
        "id": "uWxE9Yp7JvRa"
      },
      "outputs": [],
      "source": [
        "label = label.merge(pred, on='customer_id', how='left')"
      ]
    },
    {
      "cell_type": "code",
      "execution_count": 37,
      "metadata": {
        "colab": {
          "base_uri": "https://localhost:8080/",
          "height": 206
        },
        "id": "1FuELXvMadA_",
        "outputId": "b6283723-4bfe-45b6-fc32-5018f28c3dde"
      },
      "outputs": [
        {
          "data": {
            "text/html": [
              "\n",
              "  <div id=\"df-58b10ce6-8e5a-4e63-8cff-73cd862ba862\">\n",
              "    <div class=\"colab-df-container\">\n",
              "      <div>\n",
              "<style scoped>\n",
              "    .dataframe tbody tr th:only-of-type {\n",
              "        vertical-align: middle;\n",
              "    }\n",
              "\n",
              "    .dataframe tbody tr th {\n",
              "        vertical-align: top;\n",
              "    }\n",
              "\n",
              "    .dataframe thead th {\n",
              "        text-align: right;\n",
              "    }\n",
              "</style>\n",
              "<table border=\"1\" class=\"dataframe\">\n",
              "  <thead>\n",
              "    <tr style=\"text-align: right;\">\n",
              "      <th></th>\n",
              "      <th>customer_id</th>\n",
              "      <th>article_id</th>\n",
              "      <th>prediction_x</th>\n",
              "      <th>prediction_y</th>\n",
              "    </tr>\n",
              "  </thead>\n",
              "  <tbody>\n",
              "    <tr>\n",
              "      <th>0</th>\n",
              "      <td>81</td>\n",
              "      <td>[28968]</td>\n",
              "      <td>[73340, 42130, 74, 44033, 82629, 67523, 104046...</td>\n",
              "      <td>[73340, 42130, 74, 44033, 82629, 67523, 104046...</td>\n",
              "    </tr>\n",
              "    <tr>\n",
              "      <th>1</th>\n",
              "      <td>87</td>\n",
              "      <td>[87372]</td>\n",
              "      <td>[100229, 98607, 27906, 33869, 104074, 53893, 7...</td>\n",
              "      <td>[100229, 98607, 27906, 33869, 104074, 53893, 7...</td>\n",
              "    </tr>\n",
              "    <tr>\n",
              "      <th>2</th>\n",
              "      <td>108</td>\n",
              "      <td>[69712, 77257, 33873]</td>\n",
              "      <td>[13043, 2220, 61304, 61305, 61306, 53893, 5389...</td>\n",
              "      <td>[13043, 2220, 61304, 61305, 61306, 53893, 5389...</td>\n",
              "    </tr>\n",
              "    <tr>\n",
              "      <th>3</th>\n",
              "      <td>118</td>\n",
              "      <td>[97392]</td>\n",
              "      <td>[82629, 67523, 103797, 94657, 104046, 104073, ...</td>\n",
              "      <td>[82629, 67523, 103797, 94657, 104046, 104073, ...</td>\n",
              "    </tr>\n",
              "    <tr>\n",
              "      <th>4</th>\n",
              "      <td>180</td>\n",
              "      <td>[102398, 98410, 74, 95785, 103797, 105104, 103...</td>\n",
              "      <td>[104987, 95217, 105181, 3511, 95218, 103794, 1...</td>\n",
              "      <td>[104987, 95217, 105181, 3511, 95218, 103794, 1...</td>\n",
              "    </tr>\n",
              "  </tbody>\n",
              "</table>\n",
              "</div>\n",
              "      <button class=\"colab-df-convert\" onclick=\"convertToInteractive('df-58b10ce6-8e5a-4e63-8cff-73cd862ba862')\"\n",
              "              title=\"Convert this dataframe to an interactive table.\"\n",
              "              style=\"display:none;\">\n",
              "        \n",
              "  <svg xmlns=\"http://www.w3.org/2000/svg\" height=\"24px\"viewBox=\"0 0 24 24\"\n",
              "       width=\"24px\">\n",
              "    <path d=\"M0 0h24v24H0V0z\" fill=\"none\"/>\n",
              "    <path d=\"M18.56 5.44l.94 2.06.94-2.06 2.06-.94-2.06-.94-.94-2.06-.94 2.06-2.06.94zm-11 1L8.5 8.5l.94-2.06 2.06-.94-2.06-.94L8.5 2.5l-.94 2.06-2.06.94zm10 10l.94 2.06.94-2.06 2.06-.94-2.06-.94-.94-2.06-.94 2.06-2.06.94z\"/><path d=\"M17.41 7.96l-1.37-1.37c-.4-.4-.92-.59-1.43-.59-.52 0-1.04.2-1.43.59L10.3 9.45l-7.72 7.72c-.78.78-.78 2.05 0 2.83L4 21.41c.39.39.9.59 1.41.59.51 0 1.02-.2 1.41-.59l7.78-7.78 2.81-2.81c.8-.78.8-2.07 0-2.86zM5.41 20L4 18.59l7.72-7.72 1.47 1.35L5.41 20z\"/>\n",
              "  </svg>\n",
              "      </button>\n",
              "      \n",
              "  <style>\n",
              "    .colab-df-container {\n",
              "      display:flex;\n",
              "      flex-wrap:wrap;\n",
              "      gap: 12px;\n",
              "    }\n",
              "\n",
              "    .colab-df-convert {\n",
              "      background-color: #E8F0FE;\n",
              "      border: none;\n",
              "      border-radius: 50%;\n",
              "      cursor: pointer;\n",
              "      display: none;\n",
              "      fill: #1967D2;\n",
              "      height: 32px;\n",
              "      padding: 0 0 0 0;\n",
              "      width: 32px;\n",
              "    }\n",
              "\n",
              "    .colab-df-convert:hover {\n",
              "      background-color: #E2EBFA;\n",
              "      box-shadow: 0px 1px 2px rgba(60, 64, 67, 0.3), 0px 1px 3px 1px rgba(60, 64, 67, 0.15);\n",
              "      fill: #174EA6;\n",
              "    }\n",
              "\n",
              "    [theme=dark] .colab-df-convert {\n",
              "      background-color: #3B4455;\n",
              "      fill: #D2E3FC;\n",
              "    }\n",
              "\n",
              "    [theme=dark] .colab-df-convert:hover {\n",
              "      background-color: #434B5C;\n",
              "      box-shadow: 0px 1px 3px 1px rgba(0, 0, 0, 0.15);\n",
              "      filter: drop-shadow(0px 1px 2px rgba(0, 0, 0, 0.3));\n",
              "      fill: #FFFFFF;\n",
              "    }\n",
              "  </style>\n",
              "\n",
              "      <script>\n",
              "        const buttonEl =\n",
              "          document.querySelector('#df-58b10ce6-8e5a-4e63-8cff-73cd862ba862 button.colab-df-convert');\n",
              "        buttonEl.style.display =\n",
              "          google.colab.kernel.accessAllowed ? 'block' : 'none';\n",
              "\n",
              "        async function convertToInteractive(key) {\n",
              "          const element = document.querySelector('#df-58b10ce6-8e5a-4e63-8cff-73cd862ba862');\n",
              "          const dataTable =\n",
              "            await google.colab.kernel.invokeFunction('convertToInteractive',\n",
              "                                                     [key], {});\n",
              "          if (!dataTable) return;\n",
              "\n",
              "          const docLinkHtml = 'Like what you see? Visit the ' +\n",
              "            '<a target=\"_blank\" href=https://colab.research.google.com/notebooks/data_table.ipynb>data table notebook</a>'\n",
              "            + ' to learn more about interactive tables.';\n",
              "          element.innerHTML = '';\n",
              "          dataTable['output_type'] = 'display_data';\n",
              "          await google.colab.output.renderOutput(dataTable, element);\n",
              "          const docLink = document.createElement('div');\n",
              "          docLink.innerHTML = docLinkHtml;\n",
              "          element.appendChild(docLink);\n",
              "        }\n",
              "      </script>\n",
              "    </div>\n",
              "  </div>\n",
              "  "
            ],
            "text/plain": [
              "   customer_id                                         article_id  \\\n",
              "0           81                                            [28968]   \n",
              "1           87                                            [87372]   \n",
              "2          108                              [69712, 77257, 33873]   \n",
              "3          118                                            [97392]   \n",
              "4          180  [102398, 98410, 74, 95785, 103797, 105104, 103...   \n",
              "\n",
              "                                        prediction_x  \\\n",
              "0  [73340, 42130, 74, 44033, 82629, 67523, 104046...   \n",
              "1  [100229, 98607, 27906, 33869, 104074, 53893, 7...   \n",
              "2  [13043, 2220, 61304, 61305, 61306, 53893, 5389...   \n",
              "3  [82629, 67523, 103797, 94657, 104046, 104073, ...   \n",
              "4  [104987, 95217, 105181, 3511, 95218, 103794, 1...   \n",
              "\n",
              "                                        prediction_y  \n",
              "0  [73340, 42130, 74, 44033, 82629, 67523, 104046...  \n",
              "1  [100229, 98607, 27906, 33869, 104074, 53893, 7...  \n",
              "2  [13043, 2220, 61304, 61305, 61306, 53893, 5389...  \n",
              "3  [82629, 67523, 103797, 94657, 104046, 104073, ...  \n",
              "4  [104987, 95217, 105181, 3511, 95218, 103794, 1...  "
            ]
          },
          "execution_count": 37,
          "metadata": {},
          "output_type": "execute_result"
        }
      ],
      "source": [
        "label.head()"
      ]
    },
    {
      "cell_type": "code",
      "execution_count": 39,
      "metadata": {
        "colab": {
          "base_uri": "https://localhost:8080/"
        },
        "id": "kfQX9y5iJy6x",
        "outputId": "9bce91ed-53c6-4136-9730-a006e349da5d"
      },
      "outputs": [
        {
          "data": {
            "text/plain": [
              "0.029260257132958767"
            ]
          },
          "execution_count": 39,
          "metadata": {},
          "output_type": "execute_result"
        }
      ],
      "source": [
        "map_at_k(label['article_id'], label['prediction_y'], k=12)"
      ]
    },
    {
      "cell_type": "code",
      "execution_count": null,
      "metadata": {
        "id": "R5gGsQPTabT7"
      },
      "outputs": [],
      "source": []
    }
  ],
  "metadata": {
    "accelerator": "GPU",
    "colab": {
      "collapsed_sections": [],
      "machine_shape": "hm",
      "name": "DNN.ipynb",
      "provenance": []
    },
    "kernelspec": {
      "display_name": "Python 3",
      "language": "python",
      "name": "python3"
    },
    "language_info": {
      "codemirror_mode": {
        "name": "ipython",
        "version": 3
      },
      "file_extension": ".py",
      "mimetype": "text/x-python",
      "name": "python",
      "nbconvert_exporter": "python",
      "pygments_lexer": "ipython3",
      "version": "3.7.11"
    }
  },
  "nbformat": 4,
  "nbformat_minor": 0
}
